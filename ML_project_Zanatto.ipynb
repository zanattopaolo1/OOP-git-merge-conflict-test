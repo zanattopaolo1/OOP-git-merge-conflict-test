{
  "nbformat": 4,
  "nbformat_minor": 0,
  "metadata": {
    "colab": {
      "provenance": [],
      "authorship_tag": "ABX9TyP9WR3yC8GMtm7yEEKxySHr",
      "include_colab_link": true
    },
    "kernelspec": {
      "name": "python3",
      "display_name": "Python 3"
    },
    "language_info": {
      "name": "python"
    }
  },
  "cells": [
    {
      "cell_type": "markdown",
      "metadata": {
        "id": "view-in-github",
        "colab_type": "text"
      },
      "source": [
        "<a href=\"https://colab.research.google.com/github/zanattopaolo1/OOP-git-merge-conflict-test/blob/master/ML_project_Zanatto.ipynb\" target=\"_parent\"><img src=\"https://colab.research.google.com/assets/colab-badge.svg\" alt=\"Open In Colab\"/></a>"
      ]
    },
    {
      "cell_type": "markdown",
      "source": [
        "# Introduction\n",
        "\n",
        "This is the project that aims to predict the response in a defined period of time of a patient with a specific condition in front of a drug administration in therapy cycles. The analysis is focused on the response in 2 time period: 1 day and 3 days before the scheduled drug administration"
      ],
      "metadata": {
        "id": "EM5Rhf1W63H4"
      }
    },
    {
      "cell_type": "code",
      "execution_count": 1,
      "metadata": {
        "id": "YooMTdkd1Pw0"
      },
      "outputs": [],
      "source": [
        "import numpy as np\n",
        "from sklearn import svm\n",
        "from sklearn.metrics import accuracy_score, confusion_matrix\n",
        "import matplotlib.pyplot as plt\n",
        "import pandas as pd\n",
        "from tabulate import tabulate\n",
        "import csv\n",
        "from sklearn.preprocessing import LabelEncoder\n",
        "from sklearn.tree import DecisionTreeClassifier\n",
        "from sklearn.ensemble import RandomForestClassifier, AdaBoostClassifier\n",
        "from sklearn.metrics import ConfusionMatrixDisplay"
      ]
    },
    {
      "cell_type": "markdown",
      "source": [
        "# Functions\n",
        "List of functions that will be used inside the code"
      ],
      "metadata": {
        "id": "O3CtcCNJ1glj"
      }
    },
    {
      "cell_type": "code",
      "source": [
        "def duplicate_check(df, cols):\n",
        "    # Check for duplicates based on the specified columns\n",
        "    duplicate_rows = df[df.duplicated(subset=cols, keep=False)]\n",
        "\n",
        "    return duplicate_rows\n",
        "\n",
        "\"\"\"def filling_UltimoPrelievo(df):\n",
        "    #Having GiornoDaTerapiaPrecedente equal to GiorniTeoriciDaTerapiaPrecedente means that the schedule has been respected. Considering that the cases with we are assuming\n",
        "    df['UltimoPrelievo'] = df['UltimoPrelievo'].where(df['UltimoPrelievo'] == '' & df['GiornoDaTerapiaPrecedente']==df['GiorniTeoriciDaTerapiaPrecedente'], df['DataSomministrazione'] - pd.DateOffset(days=1))\n",
        "\n",
        "    #Removing data where GiornoDaTerapiaPrecedente is NOT equal to GiorniTeoriciDaTerapiaPrecedente\n",
        "    (...)\"\"\"\n",
        "\n",
        "\n",
        "def not_ready_therapies(df):\n",
        "    condition1 = df['GiornoDaTerapiaPrecedente'] > df['GiorniTeoriciDaTerapiaPrecedente']  # Define your condition here\n",
        "    condition2 = df['NumeroPrelievi'] > 1\n",
        "    filtered_df = df[condition1 | condition2]\n",
        "    return filtered_df;\n",
        "\n",
        "def del_rows_missing_val (df):\n",
        "    condition = df['UltimoPrelievo'] == ''\n",
        "\n",
        "    rows_to_drop = df[condition].index\n",
        "    return df.drop(rows_to_drop)\n",
        "\n",
        "def data_cleaning(df):\n",
        "    condition1 = df['UltimoPrelievo'] < df['PrimoPrelievo'] #this information would be caused by a collection error\n",
        "    #condition2 = df['classeeta'] ==   & condition2\"\"\n",
        "\n",
        "    rows_to_drop = df[condition1].index\n",
        "    return df.drop(rows_to_drop)\n",
        "\n",
        "def attrib_removal(df, attrib_list):\n",
        "    for x in attrib_list:\n",
        "        df = df.drop(x, axis=1)\n",
        "\n",
        "    return df\n",
        "\n",
        "def encoding_attrib(df, cols):\n",
        "  label_mappings = {}\n",
        "\n",
        "  for x in cols:\n",
        "      label_encoder = LabelEncoder()\n",
        "      df[x] = label_encoder.fit_transform(df[x])\n",
        "\n",
        "      # Store the label mapping of the current column in the main dictionary\n",
        "      label_mappings[x] = dict(zip(label_encoder.classes_, label_encoder.transform(label_encoder.classes_)))\n",
        "\n",
        "  return df, label_mappings\n",
        "\n",
        "def get_unique(df, col, condit):\n",
        "  unique_values_set = set()\n",
        "  anomal_values = set()\n",
        "  indices = set()\n",
        "\n",
        "  for idx, row in df.iterrows():\n",
        "    arr = row.loc[col]\n",
        "    for x in arr:\n",
        "        if (x not in unique_values_set):\n",
        "          if eval(condit):\n",
        "            unique_values_set.add(x)\n",
        "          else:\n",
        "            anomal_values.add(x)\n",
        "            indices.add(idx)\n",
        "  return unique_values_set, anomal_values, indices\n",
        "\n",
        "def check_value_presence(row):\n",
        "    return {f'{value}': value in row['PrincipiAttivi'] for value in unique_values_set}"
      ],
      "metadata": {
        "id": "vS6vMrqz1c9v"
      },
      "execution_count": 2,
      "outputs": []
    },
    {
      "cell_type": "markdown",
      "source": [
        "# Which data are you interested about?\n",
        "\n",
        "Before starting it is relevant to understand which data wants to be analyzed:\n",
        "1.  therapies with blood test executed 1 days before\n",
        "2.   therapies with blood test executed 3 days before\n",
        "3.   both"
      ],
      "metadata": {
        "id": "_nSYEdsZgMCi"
      }
    },
    {
      "cell_type": "code",
      "source": [
        "#choice = input(\"Enter your choice (1, 2 or any other character for the 3rd option): \")\n",
        "choice = 3"
      ],
      "metadata": {
        "id": "h2wOND0LgVkz"
      },
      "execution_count": 3,
      "outputs": []
    },
    {
      "cell_type": "markdown",
      "source": [
        "# Data loading\n",
        "\n",
        "Data import from the csv file into a dictionary, to structure the information in a logical way, and then used to create the Dataframe"
      ],
      "metadata": {
        "id": "LzSgXX301yQ9"
      }
    },
    {
      "cell_type": "code",
      "source": [
        "dataset_file_path = 'dataset_farmacia_anonimo(3).csv'\n",
        "\n",
        "keys = ['IDPaziente',\t'genere',\t'classeeta',\t'IDTerapia',\t'CodiceSedeTumore',\t'PrincipiAttivi',\t'PrincipiAttiviDescrizione',\t'NumeroSomministrazione',\t'DataSomministrazioneProgrammata',\t'DataSomministrazione',\t'DataSomministrazioneProgrammataPrecedente',\t'DataSomministrazionePrecedente',\t'GiornoDaTerapiaPrecedente',\t'GiorniTeoriciDaTerapiaPrecedente',\t'PrimoPrelievo',\t'UltimoPrelievo', 'NumeroPrelievi']\n",
        "b_tests = {x: [] for x in keys}\n",
        "\n",
        "with open(dataset_file_path, 'r') as file:\n",
        "    reader = csv.reader(file, delimiter=\";\")\n",
        "    for row_index, row in enumerate(reader):\n",
        "        if row_index > 0:\n",
        "            for idx, cell in enumerate(row):\n",
        "                if \",\" in cell:             #to save the list of active ingredients as array\n",
        "                    b_tests[keys[idx]].append(cell.split(\",\"))\n",
        "                else:\n",
        "                    b_tests[keys[idx]].append(cell)\n",
        "\n",
        "df = pd.DataFrame(b_tests)"
      ],
      "metadata": {
        "id": "w5eWAnjV1xa4"
      },
      "execution_count": 4,
      "outputs": []
    },
    {
      "cell_type": "markdown",
      "source": [
        "Data visualization"
      ],
      "metadata": {
        "id": "8zzlsevY4LmZ"
      }
    },
    {
      "cell_type": "code",
      "source": [
        "print(df[:10].to_string(index=False))\n",
        "\n",
        "#another way to visualize data\n",
        "#print(tabulate(df, df.columns.tolist(), tablefmt='grid'))"
      ],
      "metadata": {
        "id": "qQ7bx_YR4O_a",
        "colab": {
          "base_uri": "https://localhost:8080/"
        },
        "outputId": "e10a764c-1dad-42f4-f410-52a6eb3683e4"
      },
      "execution_count": 5,
      "outputs": [
        {
          "output_type": "stream",
          "name": "stdout",
          "text": [
            "                      IDPaziente genere classeeta IDTerapia CodiceSedeTumore     PrincipiAttivi       PrincipiAttiviDescrizione NumeroSomministrazione DataSomministrazioneProgrammata DataSomministrazione DataSomministrazioneProgrammataPrecedente DataSomministrazionePrecedente GiornoDaTerapiaPrecedente GiorniTeoriciDaTerapiaPrecedente PrimoPrelievo UltimoPrelievo NumeroPrelievi\n",
            "660f6a81899cf623712934e2b1fb7da0      F     51-70    136427               20 [L01DB03, L01AA01]   [epirubicina, ciclofosfamide]                      2                      17/03/2023           17/03/2023                                24/02/2023                     24/02/2023                        21                               21    16/03/2023     16/03/2023              1\n",
            "9f779da0518825145e638e0c8f0b0b37      M     71-90    135572               33 [L01XA03, L01BC02] [oxaliplatino, 5-fluorouracile]                      2                      15/02/2023           15/02/2023                                31/01/2023                     31/01/2023                        15                               14    06/02/2023     13/02/2023              2\n",
            "9f779da0518825145e638e0c8f0b0b37      M     71-90    135572               33 [L01XA03, L01BC02] [oxaliplatino, 5-fluorouracile]                      3                      01/03/2023           01/03/2023                                15/02/2023                     15/02/2023                        14                               14    20/02/2023     28/02/2023              2\n",
            "9f779da0518825145e638e0c8f0b0b37      M     71-90    135572               33 [L01XA03, L01BC02] [oxaliplatino, 5-fluorouracile]                      4                      20/03/2023           20/03/2023                                01/03/2023                     01/03/2023                        19                               14    07/03/2023     17/03/2023              3\n",
            "ccbd90fdb779564e1e1c1f14d35fa017      F     51-70    134798               20            L01FD01                     trastuzumab                      2                      11/01/2023           10/01/2023                                21/12/2022                     21/12/2022                        21                               21                                           0\n",
            "ccbd90fdb779564e1e1c1f14d35fa017      F     51-70    134798               20            L01FD01                     trastuzumab                      3                      01/02/2023           01/02/2023                                11/01/2023                     10/01/2023                        21                               21    31/01/2023     31/01/2023              1\n",
            "ccbd90fdb779564e1e1c1f14d35fa017      F     51-70    134798               20            L01FD01                     trastuzumab                      4                      22/02/2023           22/02/2023                                01/02/2023                     01/02/2023                        21                               21                                           0\n",
            "ccbd90fdb779564e1e1c1f14d35fa017      F     51-70    134798               20            L01FD01                     trastuzumab                      5                      15/03/2023           15/03/2023                                22/02/2023                     22/02/2023                        21                               21    14/03/2023     14/03/2023              1\n",
            "ce3520ee2376df6c31ab8637d4ddd378      M     71-90    134835               64 [L01XA03, L01BC02] [oxaliplatino, 5-fluorouracile]                      2                      02/01/2023           02/01/2023                                19/12/2022                     19/12/2022                        14                               14    30/12/2022     30/12/2022              1\n",
            "7a9ec3945df4df079486454a9e784a3b      M     51-70    128315               64 [L01FG01, L01BC06]     [capecitabina, bevacizumab]                     13                      12/01/2023           12/01/2023                                22/12/2022                     22/12/2022                        21                               21    11/01/2023     11/01/2023              1\n"
          ]
        }
      ]
    },
    {
      "cell_type": "markdown",
      "source": [
        "# Data pre processing\n",
        "The data presents many issues that requires to be fixed\n",
        "\n",
        "1. Duplicated data: Having duplicated data would mean considering multiple times the same information and it will bring a distorsion to reality, so a check is relavant (even if in this case the errors don't occur)"
      ],
      "metadata": {
        "id": "37b2TF7P4fQQ"
      }
    },
    {
      "cell_type": "code",
      "source": [
        "dup_rows = duplicate_check(df, ['IDPaziente', 'IDTerapia', 'NumeroSomministrazione'])\n",
        "print(\"\\n\\nDuplicated rows:\\n\", dup_rows)"
      ],
      "metadata": {
        "id": "UiO1zjKx4e_3",
        "colab": {
          "base_uri": "https://localhost:8080/"
        },
        "outputId": "c81a2470-e187-4021-f60d-16972ea1b16b"
      },
      "execution_count": 6,
      "outputs": [
        {
          "output_type": "stream",
          "name": "stdout",
          "text": [
            "\n",
            "\n",
            "Duplicated rows:\n",
            " Empty DataFrame\n",
            "Columns: [IDPaziente, genere, classeeta, IDTerapia, CodiceSedeTumore, PrincipiAttivi, PrincipiAttiviDescrizione, NumeroSomministrazione, DataSomministrazioneProgrammata, DataSomministrazione, DataSomministrazioneProgrammataPrecedente, DataSomministrazionePrecedente, GiornoDaTerapiaPrecedente, GiorniTeoriciDaTerapiaPrecedente, PrimoPrelievo, UltimoPrelievo, NumeroPrelievi]\n",
            "Index: []\n"
          ]
        }
      ]
    },
    {
      "cell_type": "markdown",
      "source": [
        "2.  Missing values: There are many missing values in the fields \"PrimoPrelievo\" and \"UltimoPrelievo\" and I considered the option to fill \"UltimoPrelievo\". The plan was to fill that field with \"DataSomministrazione\"-1 for each case where the \"GiornoDaTerapiaPrecedente\" is equal to \"GiorniTeoriciDaTerapiaPrecedente\" (so the schedule has been respected) but this option was assuming that all these therapy executions were scheduled on the last 4 days of the week. This is not a feasible assumption when you are interested to compare the results in percentage of blood tests done 1 day beforeand the ones done 3 days before, as this project aims to do. So below the rows where the \"UltimoPrelievo\" (and jointly \"PrimoPrelievo\") are missing will be deleted."
      ],
      "metadata": {
        "id": "enYRRzpM48Vs"
      }
    },
    {
      "cell_type": "code",
      "source": [
        "df = del_rows_missing_val(df)"
      ],
      "metadata": {
        "id": "ClnurVAP46tC"
      },
      "execution_count": 7,
      "outputs": []
    },
    {
      "cell_type": "markdown",
      "source": [
        "3.  Casting of data: the import functions extract the data as strings. It makes a problem when the data has to be computed for what they really are."
      ],
      "metadata": {
        "id": "uNueJ6u55mLS"
      }
    },
    {
      "cell_type": "code",
      "source": [
        "df['NumeroPrelievi'] = df['NumeroPrelievi'].astype(int)\n",
        "df['DataSomministrazione'] = pd.to_datetime(df['DataSomministrazione'], format='%d/%m/%Y')\n",
        "df['UltimoPrelievo'] = pd.to_datetime(df['UltimoPrelievo'], format='%d/%m/%Y')\n",
        "df['PrimoPrelievo'] = pd.to_datetime(df['PrimoPrelievo'], format='%d/%m/%Y')\n",
        "df['DataSomministrazioneProgrammata'] = pd.to_datetime(df['DataSomministrazioneProgrammata'], format='%d/%m/%Y')\n",
        "df['DataSomministrazione'] = pd.to_datetime(df['DataSomministrazione'], format='%d/%m/%Y')\n",
        "df['DataSomministrazioneProgrammataPrecedente'] = pd.to_datetime(df['DataSomministrazioneProgrammataPrecedente'], format='%d/%m/%Y')\n",
        "df['DataSomministrazionePrecedente'] = pd.to_datetime(df['DataSomministrazionePrecedente'], format='%d/%m/%Y')\n",
        "\n",
        "df['GiorniTeoriciDaTerapiaPrecedente'] = df['GiorniTeoriciDaTerapiaPrecedente'].astype(int)\n",
        "df['GiornoDaTerapiaPrecedente'] = df['GiornoDaTerapiaPrecedente'].astype(int)"
      ],
      "metadata": {
        "id": "M6ENMp6s5l7r"
      },
      "execution_count": 8,
      "outputs": []
    },
    {
      "cell_type": "markdown",
      "source": [
        "4.  Noise: There may occur some error in collection phase of data, so it is important to verify the correctness by means of conditions based on logic of data. These are reported and used in the function \"data_cleaning\"."
      ],
      "metadata": {
        "id": "jK4pLYmK55Sf"
      }
    },
    {
      "cell_type": "code",
      "source": [
        "df = data_cleaning(df)"
      ],
      "metadata": {
        "id": "_vKxl_a055xk"
      },
      "execution_count": 9,
      "outputs": []
    },
    {
      "cell_type": "markdown",
      "source": [
        "5.  Creation of attribute for the class\n",
        "\n",
        "The goal of this phase is to create a classifier that allow to reach the goal of the algorithm.\n",
        "\n",
        "In order to make it, the first step is to define the classes.\n",
        "In this problem the classes are:\n",
        "\n",
        "\n",
        "*   Ready for the therapy\n",
        "*   Not ready for the therapy\n",
        "\n",
        "To distringuish them it has been used 2 conditions:\n",
        "\n",
        "\n",
        "*   Day of previous therapy is bigger than the scheduled day of previous therapy\n",
        "*   The number of blood test is bigger than 1\n",
        "\n",
        "The rows that reflect at least one of these 2 conditions are considered as \"not ready for the therapy\". Theoretically both of conditions should be valid in the same moment and using only one of them would be sufficient, but in this way it helps to consider the undetected noise of the dataset.\n",
        "\n"
      ],
      "metadata": {
        "id": "CZkHXQI46MgL"
      }
    },
    {
      "cell_type": "code",
      "source": [
        "th_not_ready = not_ready_therapies(df)\n",
        "\n",
        "print(\"There are {} failed blood tests: \\n{}\\n\".format(len(th_not_ready), tabulate(th_not_ready[:10], df.columns.tolist(), tablefmt='grid')))\n",
        "print(\"\\n\\nThere are {} failed blood tests ({} % of the total)\\n\".format(len(th_not_ready), len(th_not_ready)/len(df)*100))"
      ],
      "metadata": {
        "id": "2jDZr0KS6NCQ",
        "colab": {
          "base_uri": "https://localhost:8080/"
        },
        "outputId": "7d44055e-88c2-4b7b-8220-6f9e087f9134"
      },
      "execution_count": 10,
      "outputs": [
        {
          "output_type": "stream",
          "name": "stdout",
          "text": [
            "There are 14275 failed blood tests: \n",
            "+----+----------------------------------+----------+-------------+-------------+--------------------+-----------------------------------+--------------------------------------------------+--------------------------+-----------------------------------+------------------------+---------------------------------------------+----------------------------------+-----------------------------+------------------------------------+---------------------+---------------------+------------------+\n",
            "|    | IDPaziente                       | genere   | classeeta   |   IDTerapia |   CodiceSedeTumore | PrincipiAttivi                    | PrincipiAttiviDescrizione                        |   NumeroSomministrazione | DataSomministrazioneProgrammata   | DataSomministrazione   | DataSomministrazioneProgrammataPrecedente   | DataSomministrazionePrecedente   |   GiornoDaTerapiaPrecedente |   GiorniTeoriciDaTerapiaPrecedente | PrimoPrelievo       | UltimoPrelievo      |   NumeroPrelievi |\n",
            "+====+==================================+==========+=============+=============+====================+===================================+==================================================+==========================+===================================+========================+=============================================+==================================+=============================+====================================+=====================+=====================+==================+\n",
            "|  1 | 9f779da0518825145e638e0c8f0b0b37 | M        | 71-90       |      135572 |                 33 | ['L01XA03', 'L01BC02']            | ['oxaliplatino', '5-fluorouracile']              |                        2 | 2023-02-15 00:00:00               | 2023-02-15 00:00:00    | 2023-01-31 00:00:00                         | 2023-01-31 00:00:00              |                          15 |                                 14 | 2023-02-06 00:00:00 | 2023-02-13 00:00:00 |                2 |\n",
            "+----+----------------------------------+----------+-------------+-------------+--------------------+-----------------------------------+--------------------------------------------------+--------------------------+-----------------------------------+------------------------+---------------------------------------------+----------------------------------+-----------------------------+------------------------------------+---------------------+---------------------+------------------+\n",
            "|  2 | 9f779da0518825145e638e0c8f0b0b37 | M        | 71-90       |      135572 |                 33 | ['L01XA03', 'L01BC02']            | ['oxaliplatino', '5-fluorouracile']              |                        3 | 2023-03-01 00:00:00               | 2023-03-01 00:00:00    | 2023-02-15 00:00:00                         | 2023-02-15 00:00:00              |                          14 |                                 14 | 2023-02-20 00:00:00 | 2023-02-28 00:00:00 |                2 |\n",
            "+----+----------------------------------+----------+-------------+-------------+--------------------+-----------------------------------+--------------------------------------------------+--------------------------+-----------------------------------+------------------------+---------------------------------------------+----------------------------------+-----------------------------+------------------------------------+---------------------+---------------------+------------------+\n",
            "|  3 | 9f779da0518825145e638e0c8f0b0b37 | M        | 71-90       |      135572 |                 33 | ['L01XA03', 'L01BC02']            | ['oxaliplatino', '5-fluorouracile']              |                        4 | 2023-03-20 00:00:00               | 2023-03-20 00:00:00    | 2023-03-01 00:00:00                         | 2023-03-01 00:00:00              |                          19 |                                 14 | 2023-03-07 00:00:00 | 2023-03-17 00:00:00 |                3 |\n",
            "+----+----------------------------------+----------+-------------+-------------+--------------------+-----------------------------------+--------------------------------------------------+--------------------------+-----------------------------------+------------------------+---------------------------------------------+----------------------------------+-----------------------------+------------------------------------+---------------------+---------------------+------------------+\n",
            "| 10 | 7a9ec3945df4df079486454a9e784a3b | M        | 51-70       |      128315 |                 64 | ['L01FG01', 'L01BC06']            | ['capecitabina', 'bevacizumab']                  |                       14 | 2023-03-02 00:00:00               | 2023-03-02 00:00:00    | 2023-01-12 00:00:00                         | 2023-01-12 00:00:00              |                          49 |                                 21 | 2023-02-01 00:00:00 | 2023-03-01 00:00:00 |                6 |\n",
            "+----+----------------------------------+----------+-------------+-------------+--------------------+-----------------------------------+--------------------------------------------------+--------------------------+-----------------------------------+------------------------+---------------------------------------------+----------------------------------+-----------------------------+------------------------------------+---------------------+---------------------+------------------+\n",
            "| 17 | dca5cd94d6e25fb991845b653fb9f37c | F        | 51-70       |      135353 |                  4 | L01XA02                           | carboplatino                                     |                        2 | 2023-03-23 00:00:00               | 2023-03-23 00:00:00    | 2023-01-10 00:00:00                         | 2023-01-10 00:00:00              |                          72 |                                 21 | 2023-01-11 00:00:00 | 2023-03-22 00:00:00 |               41 |\n",
            "+----+----------------------------------+----------+-------------+-------------+--------------------+-----------------------------------+--------------------------------------------------+--------------------------+-----------------------------------+------------------------+---------------------------------------------+----------------------------------+-----------------------------+------------------------------------+---------------------+---------------------+------------------+\n",
            "| 18 | 242e4dc4632908cdee50ef46f7421c00 | M        | 51-70       |      133375 |                 64 | ['L01FG01', 'L01CE02', 'L01BC02'] | ['irinotecan', 'bevacizumab', '5-fluorouracile'] |                        4 | 2023-01-02 00:00:00               | 2023-01-02 00:00:00    | 2022-12-05 00:00:00                         | 2022-12-05 00:00:00              |                          28 |                                 14 | 2022-12-30 00:00:00 | 2022-12-30 00:00:00 |                1 |\n",
            "+----+----------------------------------+----------+-------------+-------------+--------------------+-----------------------------------+--------------------------------------------------+--------------------------+-----------------------------------+------------------------+---------------------------------------------+----------------------------------+-----------------------------+------------------------------------+---------------------+---------------------+------------------+\n",
            "| 25 | ce7707f2f7c9b93a397426e7c00e6df7 | M        | 71-90       |      130065 |                 30 | ['L01FF02', 'L01EK01']            | ['pembrolizumab', 'axitinib']                    |                       12 | 2023-01-30 00:00:00               | 2023-01-30 00:00:00    | 2023-01-02 00:00:00                         | 2023-01-02 00:00:00              |                          28 |                                 21 | 2023-01-27 00:00:00 | 2023-01-27 00:00:00 |                1 |\n",
            "+----+----------------------------------+----------+-------------+-------------+--------------------+-----------------------------------+--------------------------------------------------+--------------------------+-----------------------------------+------------------------+---------------------------------------------+----------------------------------+-----------------------------+------------------------------------+---------------------+---------------------+------------------+\n",
            "| 39 | 084d363ee59532c165ff21ca1e12c2e9 | M        | 51-70       |      133869 |                 26 | L01BC05                           | gemcitabina                                      |                        4 | 2023-01-12 00:00:00               | 2023-01-12 00:00:00    | 2022-12-29 00:00:00                         | 2022-12-29 00:00:00              |                          14 |                                 14 | 2023-01-04 00:00:00 | 2023-01-11 00:00:00 |                3 |\n",
            "+----+----------------------------------+----------+-------------+-------------+--------------------+-----------------------------------+--------------------------------------------------+--------------------------+-----------------------------------+------------------------+---------------------------------------------+----------------------------------+-----------------------------+------------------------------------+---------------------+---------------------+------------------+\n",
            "| 52 | 827cb6445fc5fc3f584f56b7e155d6b9 | F        | 71-90       |      123822 |                 28 | L01BA04                           | pemetrexed sperimentale                          |                       18 | 2023-01-13 00:00:00               | 2023-01-13 00:00:00    | 2022-10-14 00:00:00                         | 2022-10-14 00:00:00              |                          91 |                                 84 | 2022-10-20 00:00:00 | 2023-01-12 00:00:00 |                5 |\n",
            "+----+----------------------------------+----------+-------------+-------------+--------------------+-----------------------------------+--------------------------------------------------+--------------------------+-----------------------------------+------------------------+---------------------------------------------+----------------------------------+-----------------------------+------------------------------------+---------------------+---------------------+------------------+\n",
            "| 53 | 827cb6445fc5fc3f584f56b7e155d6b9 | F        | 71-90       |      123822 |                 28 | L01BA04                           | pemetrexed sperimentale                          |                       19 | 2023-02-03 00:00:00               | 2023-02-03 00:00:00    | 2022-11-04 00:00:00                         | 2022-11-04 00:00:00              |                          91 |                                 84 | 2022-11-24 00:00:00 | 2023-02-02 00:00:00 |                5 |\n",
            "+----+----------------------------------+----------+-------------+-------------+--------------------+-----------------------------------+--------------------------------------------------+--------------------------+-----------------------------------+------------------------+---------------------------------------------+----------------------------------+-----------------------------+------------------------------------+---------------------+---------------------+------------------+\n",
            "\n",
            "\n",
            "\n",
            "There are 14275 failed blood tests (59.090156469906454 % of the total)\n",
            "\n"
          ]
        }
      ]
    },
    {
      "cell_type": "markdown",
      "source": [
        "There is a strong incidence of failed blood tests and it is important to keep in mind it in front of the solution.\n",
        "\n",
        "Given the rows belonging to the classes, it is created a new column to assign the class.\n",
        "\n",
        "\n",
        "*   0: therapies execution where the patient has done more blood tests\n",
        "*   1: therapies execution where the patient has done 1 blood test\n",
        "\n"
      ],
      "metadata": {
        "id": "FZ7_DJWP-Dr9"
      }
    },
    {
      "cell_type": "code",
      "source": [
        "new_column_values = np.where(df.isin(th_not_ready).all(axis=1), 0, 1)\n",
        "df['Single_btest'] = new_column_values\n",
        "\n",
        "print(df.columns.tolist())"
      ],
      "metadata": {
        "id": "yq75t-HY-DjK",
        "colab": {
          "base_uri": "https://localhost:8080/"
        },
        "outputId": "5a094f2b-5556-4db6-d2ee-34330a412dab"
      },
      "execution_count": 11,
      "outputs": [
        {
          "output_type": "stream",
          "name": "stdout",
          "text": [
            "['IDPaziente', 'genere', 'classeeta', 'IDTerapia', 'CodiceSedeTumore', 'PrincipiAttivi', 'PrincipiAttiviDescrizione', 'NumeroSomministrazione', 'DataSomministrazioneProgrammata', 'DataSomministrazione', 'DataSomministrazioneProgrammataPrecedente', 'DataSomministrazionePrecedente', 'GiornoDaTerapiaPrecedente', 'GiorniTeoriciDaTerapiaPrecedente', 'PrimoPrelievo', 'UltimoPrelievo', 'NumeroPrelievi', 'Single_btest']\n"
          ]
        }
      ]
    },
    {
      "cell_type": "markdown",
      "source": [
        "To confirm that the creation has done correctly:"
      ],
      "metadata": {
        "id": "UNJRWzAtOwjh"
      }
    },
    {
      "cell_type": "code",
      "source": [
        "#print(tabulate(df, df.columns.tolist(), tablefmt='grid'))\n",
        "#print(\"\\nPercentage of failures of the first blood test: {} %\".format((df['Single_btest']==False).sum() / len(df) * 100))"
      ],
      "metadata": {
        "id": "Bc8oRW0OAKII"
      },
      "execution_count": 12,
      "outputs": []
    },
    {
      "cell_type": "markdown",
      "source": [
        "For the purpose of the project has been fundamental to create also another column to count the day passed between blood test and therapy execution.  "
      ],
      "metadata": {
        "id": "wFXaOwyg_ZZt"
      }
    },
    {
      "cell_type": "code",
      "source": [
        "diff_days = (df['DataSomministrazione'] - df['UltimoPrelievo']).dt.total_seconds().fillna(-1).astype(int)\n",
        "df['Dist_bt_th'] = round(diff_days / (3600 * 24))\n",
        "\n",
        "print(tabulate(df[:10], df.columns.tolist(), tablefmt='grid'))\n",
        "\n",
        "print(\"\\nPercentage of blood tests executed 1 day before therapy execution: {} % ({})\".format((df['Dist_bt_th']==1).sum() / len(df) * 100, (df['Dist_bt_th']==1).sum()))\n",
        "print(\"\\nPercentage of blood tests executed 3 days before therapy execution: {} % ({})\".format((df['Dist_bt_th']==3).sum() / len(df) * 100, (df['Dist_bt_th']==3).sum()))\n",
        "print(\"\\nPercentage of blood tests executed with more than 3 days before therapy execution: {} % ({})\".format((df['Dist_bt_th']>3).sum() / len(df) * 100, (df['Dist_bt_th']>3).sum()))"
      ],
      "metadata": {
        "id": "SJPAAXFj_ZO1",
        "colab": {
          "base_uri": "https://localhost:8080/"
        },
        "outputId": "1a1d9900-511e-4442-9330-fe48fca9f9b6"
      },
      "execution_count": 13,
      "outputs": [
        {
          "output_type": "stream",
          "name": "stdout",
          "text": [
            "+----+----------------------------------+----------+-------------+-------------+--------------------+------------------------+-------------------------------------+--------------------------+-----------------------------------+------------------------+---------------------------------------------+----------------------------------+-----------------------------+------------------------------------+---------------------+---------------------+------------------+----------------+--------------+\n",
            "|    | IDPaziente                       | genere   | classeeta   |   IDTerapia |   CodiceSedeTumore | PrincipiAttivi         | PrincipiAttiviDescrizione           |   NumeroSomministrazione | DataSomministrazioneProgrammata   | DataSomministrazione   | DataSomministrazioneProgrammataPrecedente   | DataSomministrazionePrecedente   |   GiornoDaTerapiaPrecedente |   GiorniTeoriciDaTerapiaPrecedente | PrimoPrelievo       | UltimoPrelievo      |   NumeroPrelievi |   Single_btest |   Dist_bt_th |\n",
            "+====+==================================+==========+=============+=============+====================+========================+=====================================+==========================+===================================+========================+=============================================+==================================+=============================+====================================+=====================+=====================+==================+================+==============+\n",
            "|  0 | 660f6a81899cf623712934e2b1fb7da0 | F        | 51-70       |      136427 |                 20 | ['L01DB03', 'L01AA01'] | ['epirubicina', 'ciclofosfamide']   |                        2 | 2023-03-17 00:00:00               | 2023-03-17 00:00:00    | 2023-02-24 00:00:00                         | 2023-02-24 00:00:00              |                          21 |                                 21 | 2023-03-16 00:00:00 | 2023-03-16 00:00:00 |                1 |              1 |            1 |\n",
            "+----+----------------------------------+----------+-------------+-------------+--------------------+------------------------+-------------------------------------+--------------------------+-----------------------------------+------------------------+---------------------------------------------+----------------------------------+-----------------------------+------------------------------------+---------------------+---------------------+------------------+----------------+--------------+\n",
            "|  1 | 9f779da0518825145e638e0c8f0b0b37 | M        | 71-90       |      135572 |                 33 | ['L01XA03', 'L01BC02'] | ['oxaliplatino', '5-fluorouracile'] |                        2 | 2023-02-15 00:00:00               | 2023-02-15 00:00:00    | 2023-01-31 00:00:00                         | 2023-01-31 00:00:00              |                          15 |                                 14 | 2023-02-06 00:00:00 | 2023-02-13 00:00:00 |                2 |              0 |            2 |\n",
            "+----+----------------------------------+----------+-------------+-------------+--------------------+------------------------+-------------------------------------+--------------------------+-----------------------------------+------------------------+---------------------------------------------+----------------------------------+-----------------------------+------------------------------------+---------------------+---------------------+------------------+----------------+--------------+\n",
            "|  2 | 9f779da0518825145e638e0c8f0b0b37 | M        | 71-90       |      135572 |                 33 | ['L01XA03', 'L01BC02'] | ['oxaliplatino', '5-fluorouracile'] |                        3 | 2023-03-01 00:00:00               | 2023-03-01 00:00:00    | 2023-02-15 00:00:00                         | 2023-02-15 00:00:00              |                          14 |                                 14 | 2023-02-20 00:00:00 | 2023-02-28 00:00:00 |                2 |              0 |            1 |\n",
            "+----+----------------------------------+----------+-------------+-------------+--------------------+------------------------+-------------------------------------+--------------------------+-----------------------------------+------------------------+---------------------------------------------+----------------------------------+-----------------------------+------------------------------------+---------------------+---------------------+------------------+----------------+--------------+\n",
            "|  3 | 9f779da0518825145e638e0c8f0b0b37 | M        | 71-90       |      135572 |                 33 | ['L01XA03', 'L01BC02'] | ['oxaliplatino', '5-fluorouracile'] |                        4 | 2023-03-20 00:00:00               | 2023-03-20 00:00:00    | 2023-03-01 00:00:00                         | 2023-03-01 00:00:00              |                          19 |                                 14 | 2023-03-07 00:00:00 | 2023-03-17 00:00:00 |                3 |              0 |            3 |\n",
            "+----+----------------------------------+----------+-------------+-------------+--------------------+------------------------+-------------------------------------+--------------------------+-----------------------------------+------------------------+---------------------------------------------+----------------------------------+-----------------------------+------------------------------------+---------------------+---------------------+------------------+----------------+--------------+\n",
            "|  5 | ccbd90fdb779564e1e1c1f14d35fa017 | F        | 51-70       |      134798 |                 20 | L01FD01                | trastuzumab                         |                        3 | 2023-02-01 00:00:00               | 2023-02-01 00:00:00    | 2023-01-11 00:00:00                         | 2023-01-10 00:00:00              |                          21 |                                 21 | 2023-01-31 00:00:00 | 2023-01-31 00:00:00 |                1 |              1 |            1 |\n",
            "+----+----------------------------------+----------+-------------+-------------+--------------------+------------------------+-------------------------------------+--------------------------+-----------------------------------+------------------------+---------------------------------------------+----------------------------------+-----------------------------+------------------------------------+---------------------+---------------------+------------------+----------------+--------------+\n",
            "|  7 | ccbd90fdb779564e1e1c1f14d35fa017 | F        | 51-70       |      134798 |                 20 | L01FD01                | trastuzumab                         |                        5 | 2023-03-15 00:00:00               | 2023-03-15 00:00:00    | 2023-02-22 00:00:00                         | 2023-02-22 00:00:00              |                          21 |                                 21 | 2023-03-14 00:00:00 | 2023-03-14 00:00:00 |                1 |              1 |            1 |\n",
            "+----+----------------------------------+----------+-------------+-------------+--------------------+------------------------+-------------------------------------+--------------------------+-----------------------------------+------------------------+---------------------------------------------+----------------------------------+-----------------------------+------------------------------------+---------------------+---------------------+------------------+----------------+--------------+\n",
            "|  8 | ce3520ee2376df6c31ab8637d4ddd378 | M        | 71-90       |      134835 |                 64 | ['L01XA03', 'L01BC02'] | ['oxaliplatino', '5-fluorouracile'] |                        2 | 2023-01-02 00:00:00               | 2023-01-02 00:00:00    | 2022-12-19 00:00:00                         | 2022-12-19 00:00:00              |                          14 |                                 14 | 2022-12-30 00:00:00 | 2022-12-30 00:00:00 |                1 |              1 |            3 |\n",
            "+----+----------------------------------+----------+-------------+-------------+--------------------+------------------------+-------------------------------------+--------------------------+-----------------------------------+------------------------+---------------------------------------------+----------------------------------+-----------------------------+------------------------------------+---------------------+---------------------+------------------+----------------+--------------+\n",
            "|  9 | 7a9ec3945df4df079486454a9e784a3b | M        | 51-70       |      128315 |                 64 | ['L01FG01', 'L01BC06'] | ['capecitabina', 'bevacizumab']     |                       13 | 2023-01-12 00:00:00               | 2023-01-12 00:00:00    | 2022-12-22 00:00:00                         | 2022-12-22 00:00:00              |                          21 |                                 21 | 2023-01-11 00:00:00 | 2023-01-11 00:00:00 |                1 |              1 |            1 |\n",
            "+----+----------------------------------+----------+-------------+-------------+--------------------+------------------------+-------------------------------------+--------------------------+-----------------------------------+------------------------+---------------------------------------------+----------------------------------+-----------------------------+------------------------------------+---------------------+---------------------+------------------+----------------+--------------+\n",
            "| 10 | 7a9ec3945df4df079486454a9e784a3b | M        | 51-70       |      128315 |                 64 | ['L01FG01', 'L01BC06'] | ['capecitabina', 'bevacizumab']     |                       14 | 2023-03-02 00:00:00               | 2023-03-02 00:00:00    | 2023-01-12 00:00:00                         | 2023-01-12 00:00:00              |                          49 |                                 21 | 2023-02-01 00:00:00 | 2023-03-01 00:00:00 |                6 |              0 |            1 |\n",
            "+----+----------------------------------+----------+-------------+-------------+--------------------+------------------------+-------------------------------------+--------------------------+-----------------------------------+------------------------+---------------------------------------------+----------------------------------+-----------------------------+------------------------------------+---------------------+---------------------+------------------+----------------+--------------+\n",
            "| 11 | 9785bd7d8543cec95d4b1ff5832890f2 | M        | 71-90       |      131240 |                 29 | L02BB04                | Enzalutamide                        |                        7 | 2023-01-10 00:00:00               | 2023-01-10 00:00:00    | 2022-12-13 00:00:00                         | 2022-12-13 00:00:00              |                          28 |                                 28 | 2023-01-09 00:00:00 | 2023-01-09 00:00:00 |                1 |              1 |            1 |\n",
            "+----+----------------------------------+----------+-------------+-------------+--------------------+------------------------+-------------------------------------+--------------------------+-----------------------------------+------------------------+---------------------------------------------+----------------------------------+-----------------------------+------------------------------------+---------------------+---------------------+------------------+----------------+--------------+\n",
            "\n",
            "Percentage of blood tests executed 1 day before therapy execution: 62.939812898418744 % (15205)\n",
            "\n",
            "Percentage of blood tests executed 3 days before therapy execution: 13.97466677705108 % (3376)\n",
            "\n",
            "Percentage of blood tests executed with more than 3 days before therapy execution: 17.402102823081382 % (4204)\n"
          ]
        }
      ]
    },
    {
      "cell_type": "markdown",
      "source": [
        "Looking at data, the days with a quantity of time passed between last blood test and therapy execution higher than 3 we can distiguish 2 cases:\n",
        "\n",
        "1.   Dist_bt_th near to 3 (4 or 5): the blood test was probably done on friday (for monday) and the therapy execution has been postponed for other reasons (not important)\n",
        "2.   Dist_bt_th far from 3 (>>3): data has been wrongly collected. Eg. the update of the date for the last blood test has not been done\n",
        "\n",
        "For these reasons, the data with Dist_bt_th different to 1 and 3 will be deleted since they require to include additional considerations and assumptions."
      ],
      "metadata": {
        "id": "Arklmb6f-yiY"
      }
    },
    {
      "cell_type": "markdown",
      "source": [
        "[PART ADDEDD LATER]"
      ],
      "metadata": {
        "id": "Ewi-iRH_-GyV"
      }
    },
    {
      "cell_type": "code",
      "source": [
        "df['Days'] = df['GiorniTeoriciDaTerapiaPrecedente'] - df['Dist_bt_th']"
      ],
      "metadata": {
        "id": "5CF0KXMI-GlQ"
      },
      "execution_count": 14,
      "outputs": []
    },
    {
      "cell_type": "code",
      "source": [
        "#CODE FOR ADDITIONAL CONSIDERATIONS (NOT TO BE CONSIDERED FOR THIS PROJECT)\n",
        "\n",
        "\"\"\"for index, row in df[:100].iterrows():\n",
        "  if row['Dist_bt_th']>3:\n",
        "    print(row)\"\"\""
      ],
      "metadata": {
        "colab": {
          "base_uri": "https://localhost:8080/",
          "height": 35
        },
        "id": "KWtIqb1_-yTx",
        "outputId": "a5ad1b5f-abbf-4ce4-94a6-361a8679743e"
      },
      "execution_count": 15,
      "outputs": [
        {
          "output_type": "execute_result",
          "data": {
            "text/plain": [
              "\"for index, row in df[:100].iterrows():\\n  if row['Dist_bt_th']>3:\\n    print(row)\""
            ],
            "application/vnd.google.colaboratory.intrinsic+json": {
              "type": "string"
            }
          },
          "metadata": {},
          "execution_count": 15
        }
      ]
    },
    {
      "cell_type": "code",
      "source": [
        "if choice == '1':\n",
        "  df = df[df['Dist_bt_th'] == 1]\n",
        "  print(\"1 day considered\")\n",
        "elif choice == '2':\n",
        "  df = df[df['Dist_bt_th'] == 3]\n",
        "  print(\"Only 3 days considered\")\n",
        "else:\n",
        "  df = df[df['Dist_bt_th'] <= 3]\n",
        "  print(\"1-3 days considered\")\n",
        "\n",
        "original_df = df.copy(deep=True)"
      ],
      "metadata": {
        "id": "DFyUduUcC5hO",
        "colab": {
          "base_uri": "https://localhost:8080/"
        },
        "outputId": "3ce65c8d-b9c3-44d3-fe01-6f79f5ab793d"
      },
      "execution_count": 16,
      "outputs": [
        {
          "output_type": "stream",
          "name": "stdout",
          "text": [
            "1-3 days considered\n"
          ]
        }
      ]
    },
    {
      "cell_type": "markdown",
      "source": [
        "6.  Management of the attribute \"PrincipiAttivi\" that contains array: this attribute contains an array of active ingredients, but in this format it does not suit with the algorithm operations.\n",
        "\n",
        "\n",
        "> So, to make it usable, it can be created an attribute for each possible value and then setting as True for the rows where that value is present.\n",
        "\n"
      ],
      "metadata": {
        "id": "yi2G9MF94Xet"
      }
    },
    {
      "cell_type": "code",
      "source": [
        "#How many active ingredients are?\n",
        "cond = 'len(str(x)) > 5'\n",
        "unique_val, anomal_val, indices = get_unique(df, 'PrincipiAttivi', cond)\n",
        "\n",
        "print(\"There are {} active ingredients:\\n{} \".format(len(unique_val), unique_val))\n",
        "print(\"\\nThere are {} anomalous values:\\n{} \".format(len(anomal_val), anomal_val))\n",
        "#print(df.index)\n",
        "print(indices)\n",
        "#print(\"Indices are all inside: \", (all(index in df.index for index in indices)))\n",
        "wrong_rows = df.loc[list(indices)]\n",
        "print(\"\\nSome rows of anomalous values are:\\n{} \".format(wrong_rows[:10].to_string(index=False)))"
      ],
      "metadata": {
        "id": "KlHlVCa7cvax",
        "outputId": "31fce4eb-36d2-41b2-eb42-fdbbe16de5ca",
        "colab": {
          "base_uri": "https://localhost:8080/"
        }
      },
      "execution_count": 29,
      "outputs": [
        {
          "output_type": "stream",
          "name": "stdout",
          "text": [
            "There are 86 active ingredients:\n",
            "{'L01FD01', 'L02AE02', 'L01EA05', 'L01FX15', 'L01BC08', 'L01XA02', 'L01AA03', 'L01FG02', 'L01FX04', 'L01EC03', 'L01FX12', 'L01FC02', 'L01FE02', 'L01CX01', 'L01XX27', 'L01BA03', 'L01FD02', 'L01XC24', 'L01FD03', 'L01FC01', 'L01FF01', 'L01XX50', 'L01BC06', 'L01CD01', 'L01XG01', 'L01EH01', 'L01CE02', 'L01AA01', 'L01EE01', 'L01AA09', 'L01EX07', 'L01DA01', 'L01BA01', 'L01AX03', 'L01XA03', 'L04AX04', 'L01FF03', 'L01FF04', 'L01FA03', 'L01FF07', 'L01CA01', 'L01CA02', 'L01XX45', 'L04AX06', 'L01EF02', 'L01XA01', 'L01EF01', 'L02BA03', 'L01BC05', 'L01XX44 ', 'L01XE31', 'L01XK01', 'L02BG04', 'L01DB07', 'L01FF05', 'L01FX08', 'L01FG01', 'L01DC03', 'L01EF03', 'L03AA13', 'L01BC07', 'L01EE03', 'L01FF02', 'L01CD02', 'L01AX04', 'L01BC01', 'L01AA06', 'L01EX08', 'L01CB01', 'L01EC02', 'L01FE01', 'L01DB01', 'L01XX54', 'L01XX52', 'L01FA01', 'L01FX05', 'L01DC01', 'L01EK01', 'L01BC02', 'L01DB03', 'L02BB03', 'L01CA04', 'L01EG02', 'L01BA04', 'L04AX02', 'L01XX14'} \n",
            "\n",
            "There are 24 anomalous values:\n",
            "{'D', '2', ' ', 'Y', '3', 'J', 'M', '1', '9', '4', 'X', '6', 'K', 'C', '5', 'L', 'A', '8', '0', 'B', 'G', '7', 'F', 'E'} \n",
            "{5, 7, 11, 12, 13, 14, 15, 17, 21, 23, 27, 31, 32, 33, 36, 39, 41, 48, 50, 52, 53, 54, 55, 56, 57, 58, 59, 60, 61, 62, 63, 64, 65, 66, 67, 80, 82, 92, 98, 99, 100, 101, 105, 107, 115, 116, 117, 120, 123, 133, 134, 135, 136, 137, 138, 139, 153, 154, 155, 156, 157, 158, 159, 160, 161, 173, 181, 182, 183, 184, 185, 186, 187, 188, 189, 190, 192, 193, 194, 195, 197, 203, 209, 220, 221, 222, 223, 224, 228, 229, 230, 231, 232, 233, 234, 235, 236, 237, 238, 239, 240, 246, 251, 252, 253, 254, 259, 260, 261, 262, 265, 286, 287, 288, 311, 314, 315, 316, 318, 319, 320, 321, 322, 323, 324, 325, 326, 327, 328, 329, 336, 339, 344, 345, 346, 348, 353, 357, 358, 359, 360, 370, 371, 372, 373, 374, 375, 385, 386, 387, 391, 392, 393, 407, 409, 410, 411, 412, 414, 415, 416, 417, 418, 419, 420, 422, 424, 425, 426, 432, 433, 434, 435, 436, 437, 438, 440, 441, 446, 449, 451, 468, 471, 473, 475, 483, 523, 524, 525, 532, 533, 534, 551, 552, 560, 561, 562, 563, 564, 573, 574, 575, 581, 582, 584, 585, 586, 587, 590, 591, 592, 594, 596, 597, 598, 599, 603, 604, 605, 606, 613, 614, 616, 617, 618, 619, 620, 621, 622, 623, 625, 627, 628, 636, 638, 653, 654, 655, 658, 676, 678, 679, 680, 682, 684, 685, 686, 687, 688, 689, 690, 691, 692, 693, 694, 696, 697, 698, 716, 720, 721, 722, 726, 727, 734, 735, 736, 737, 738, 739, 740, 743, 744, 745, 746, 747, 748, 749, 750, 752, 753, 754, 755, 756, 757, 760, 776, 788, 790, 791, 792, 793, 794, 796, 798, 810, 811, 812, 815, 817, 824, 828, 829, 831, 832, 834, 835, 837, 845, 846, 847, 848, 849, 850, 867, 868, 869, 870, 871, 872, 873, 874, 875, 876, 877, 886, 892, 893, 894, 901, 902, 903, 904, 905, 906, 907, 910, 913, 932, 944, 945, 946, 956, 957, 958, 959, 968, 970, 972, 974, 975, 976, 977, 978, 979, 989, 990, 991, 992, 995, 998, 1000, 1001, 1002, 1003, 1004, 1008, 1009, 1010, 1015, 1016, 1023, 1024, 1025, 1026, 1027, 1028, 1029, 1030, 1031, 1032, 1037, 1038, 1039, 1043, 1044, 1046, 1053, 1054, 1055, 1060, 1061, 1062, 1063, 1064, 1065, 1066, 1067, 1068, 1069, 1070, 1071, 1072, 1077, 1079, 1082, 1083, 1115, 1116, 1117, 1118, 1119, 1124, 1125, 1126, 1127, 1128, 1129, 1130, 1131, 1132, 1133, 1134, 1135, 1136, 1137, 1138, 1145, 1147, 1148, 1149, 1150, 1153, 1155, 1158, 1159, 1160, 1165, 1166, 1167, 1168, 1169, 1170, 1171, 1172, 1173, 1174, 1175, 1176, 1177, 1179, 1181, 1183, 1184, 1185, 1195, 1196, 1197, 1198, 1199, 1200, 1207, 1208, 1209, 1210, 1213, 1214, 1216, 1219, 1220, 1221, 1223, 1225, 1226, 1227, 1229, 1231, 1232, 1233, 1234, 1239, 1240, 1241, 1242, 1247, 1248, 1259, 1260, 1261, 1265, 1266, 1267, 1269, 1271, 1285, 1287, 1288, 1289, 1290, 1291, 1292, 1293, 1300, 1306, 1308, 1310, 1314, 1315, 1316, 1343, 1350, 1355, 1356, 1357, 1358, 1377, 1378, 1379, 1380, 1381, 1386, 1391, 1392, 1393, 1394, 1395, 1396, 1401, 1402, 1403, 1404, 1405, 1406, 1407, 1408, 1418, 1419, 1421, 1422, 1429, 1430, 1452, 1453, 1454, 1455, 1457, 1458, 1459, 1462, 1463, 1464, 1465, 1466, 1467, 1468, 1470, 1472, 1483, 1490, 1491, 1492, 1493, 1494, 1495, 1498, 1499, 1500, 1523, 1524, 1525, 1528, 1529, 1530, 1535, 1536, 1537, 1538, 1539, 1540, 1541, 1542, 1543, 1544, 1545, 1546, 1547, 1557, 1558, 1559, 1575, 1576, 1577, 1580, 1581, 1582, 1583, 1584, 1585, 1586, 1594, 1596, 1598, 1599, 1600, 1601, 1602, 1611, 1612, 1613, 1614, 1615, 1617, 1620, 1626, 1634, 1635, 1636, 1637, 1638, 1644, 1645, 1646, 1647, 1648, 1649, 1651, 1652, 1654, 1655, 1656, 1657, 1662, 1665, 1672, 1676, 1680, 1684, 1685, 1686, 1687, 1688, 1689, 1690, 1691, 1693, 1694, 1695, 1696, 1700, 1701, 1708, 1709, 1710, 1711, 1712, 1723, 1724, 1725, 1726, 1727, 1728, 1729, 1730, 1732, 1734, 1736, 1741, 1743, 1744, 1745, 1746, 1747, 1748, 1749, 1753, 1754, 1755, 1756, 1759, 1760, 1761, 1762, 1763, 1764, 1765, 1766, 1767, 1773, 1778, 1789, 1790, 1791, 1792, 1793, 1795, 1796, 1797, 1798, 1799, 1800, 1801, 1802, 1803, 1804, 1805, 1806, 1807, 1808, 1816, 1818, 1819, 1822, 1825, 1826, 1828, 1830, 1831, 1832, 1833, 1834, 1841, 1842, 1843, 1844, 1845, 1846, 1847, 1848, 1849, 1850, 1865, 1866, 1867, 1869, 1870, 1876, 1879, 1882, 1885, 1888, 1892, 1893, 1894, 1895, 1897, 1898, 1899, 1908, 1909, 1910, 1911, 1913, 1914, 1915, 1916, 1918, 1923, 1924, 1927, 1940, 1942, 1943, 1944, 1950, 1951, 1953, 1954, 1955, 1957, 1958, 1959, 1960, 1961, 1962, 1963, 1964, 1965, 1966, 1972, 1973, 1974, 1975, 1976, 1977, 1978, 1979, 1980, 1981, 1982, 1983, 1985, 1987, 1990, 1991, 1992, 1993, 1994, 1995, 2000, 2002, 2007, 2008, 2009, 2010, 2011, 2012, 2018, 2019, 2020, 2030, 2031, 2032, 2033, 2034, 2035, 2036, 2037, 2038, 2040, 2045, 2046, 2052, 2054, 2060, 2061, 2062, 2065, 2066, 2071, 2072, 2073, 2074, 2075, 2076, 2079, 2080, 2081, 2082, 2083, 2088, 2090, 2091, 2092, 2093, 2094, 2096, 2097, 2098, 2099, 2106, 2110, 2112, 2113, 2114, 2115, 2122, 2123, 2124, 2125, 2126, 2127, 2128, 2129, 2145, 2146, 2147, 2148, 2150, 2151, 2152, 2158, 2159, 2160, 2161, 2162, 2189, 2190, 2191, 2192, 2193, 2194, 2195, 2196, 2202, 2203, 2204, 2205, 2208, 2209, 2210, 2212, 2215, 2216, 2218, 2221, 2224, 2232, 2235, 2238, 2241, 2244, 2252, 2253, 2254, 2255, 2256, 2257, 2259, 2263, 2272, 2273, 2278, 2280, 2281, 2282, 2283, 2284, 2285, 2286, 2290, 2305, 2306, 2307, 2308, 2309, 2310, 2314, 2315, 2316, 2317, 2330, 2331, 2332, 2336, 2337, 2338, 2340, 2341, 2349, 2350, 2351, 2356, 2358, 2359, 2360, 2373, 2374, 2375, 2376, 2395, 2405, 2406, 2407, 2408, 2409, 2412, 2417, 2420, 2424, 2431, 2434, 2436, 2437, 2438, 2439, 2440, 2441, 2442, 2443, 2444, 2445, 2446, 2447, 2448, 2455, 2456, 2457, 2458, 2459, 2460, 2462, 2464, 2465, 2470, 2472, 2473, 2475, 2479, 2480, 2481, 2487, 2488, 2490, 2495, 2496, 2497, 2498, 2499, 2500, 2509, 2510, 2522, 2523, 2524, 2530, 2531, 2532, 2535, 2538, 2539, 2540, 2541, 2542, 2555, 2556, 2558, 2559, 2560, 2569, 2570, 2571, 2576, 2577, 2578, 2579, 2580, 2581, 2582, 2583, 2584, 2585, 2586, 2587, 2594, 2599, 2609, 2610, 2611, 2615, 2617, 2618, 2622, 2623, 2625, 2634, 2639, 2640, 2642, 2643, 2645, 2646, 2647, 2648, 2663, 2669, 2676, 2677, 2678, 2679, 2680, 2681, 2682, 2683, 2684, 2685, 2686, 2687, 2688, 2689, 2690, 2691, 2692, 2693, 2694, 2695, 2696, 2697, 2698, 2708, 2709, 2711, 2712, 2713, 2714, 2715, 2716, 2717, 2718, 2719, 2720, 2738, 2746, 2747, 2748, 2749, 2750, 2751, 2752, 2753, 2754, 2755, 2760, 2761, 2765, 2766, 2768, 2770, 2781, 2786, 2794, 2800, 2801, 2802, 2803, 2805, 2806, 2807, 2808, 2809, 2810, 2824, 2829, 2842, 2847, 2851, 2852, 2853, 2854, 2855, 2856, 2857, 2858, 2859, 2860, 2867, 2868, 2869, 2870, 2871, 2872, 2873, 2874, 2875, 2876, 2877, 2878, 2879, 2880, 2903, 2906, 2909, 2910, 2911, 2912, 2913, 2914, 2918, 2920, 2921, 2924, 2926, 2927, 2929, 2930, 2931, 2932, 2933, 2934, 2935, 2936, 2937, 2938, 2939, 2940, 2951, 2954, 2959, 2960, 2961, 2962, 2965, 2967, 2969, 2973, 2974, 2975, 2982, 2984, 2991, 2997, 3002, 3005, 3012, 3014, 3017, 3018, 3019, 3020, 3021, 3022, 3023, 3024, 3026, 3028, 3030, 3034, 3035, 3036, 3037, 3038, 3039, 3055, 3056, 3057, 3065, 3066, 3088, 3090, 3091, 3092, 3093, 3095, 3096, 3107, 3108, 3109, 3110, 3113, 3119, 3120, 3121, 3122, 3123, 3124, 3125, 3126, 3127, 3128, 3132, 3133, 3136, 3137, 3139, 3141, 3143, 3145, 3154, 3155, 3161, 3162, 3168, 3181, 3182, 3185, 3186, 3188, 3189, 3190, 3191, 3192, 3194, 3195, 3196, 3197, 3198, 3199, 3210, 3211, 3212, 3213, 3220, 3221, 3222, 3237, 3238, 3278, 3280, 3281, 3282, 3292, 3293, 3294, 3296, 3297, 3298, 3299, 3300, 3301, 3302, 3303, 3304, 3305, 3306, 3307, 3308, 3310, 3312, 3314, 3317, 3318, 3319, 3320, 3324, 3325, 3326, 3329, 3336, 3337, 3338, 3342, 3343, 3344, 3345, 3350, 3351, 3353, 3361, 3362, 3363, 3364, 3374, 3375, 3376, 3377, 3385, 3394, 3395, 3396, 3425, 3444, 3445, 3446, 3447, 3448, 3449, 3456, 3457, 3458, 3459, 3460, 3467, 3491, 3518, 3525, 3526, 3527, 3528, 3529, 3530, 3531, 3532, 3533, 3534, 3544, 3546, 3555, 3556, 3557, 3559, 3560, 3561, 3564, 3565, 3566, 3567, 3568, 3569, 3573, 3574, 3575, 3587, 3588, 3589, 3590, 3592, 3594, 3595, 3596, 3597, 3598, 3599, 3600, 3601, 3612, 3613, 3614, 3615, 3616, 3617, 3618, 3619, 3620, 3621, 3622, 3623, 3624, 3625, 3626, 3627, 3629, 3630, 3631, 3632, 3634, 3635, 3646, 3647, 3651, 3652, 3653, 3654, 3656, 3660, 3661, 3662, 3663, 3670, 3671, 3672, 3673, 3674, 3679, 3682, 3684, 3686, 3687, 3692, 3693, 3694, 3696, 3697, 3700, 3701, 3702, 3703, 3704, 3717, 3718, 3719, 3723, 3725, 3728, 3729, 3730, 3732, 3733, 3734, 3737, 3738, 3740, 3763, 3766, 3769, 3770, 3771, 3772, 3773, 3774, 3775, 3776, 3777, 3778, 3779, 3780, 3781, 3785, 3786, 3787, 3788, 3789, 3790, 3791, 3792, 3793, 3795, 3796, 3807, 3808, 3813, 3820, 3821, 3822, 3823, 3832, 3833, 3845, 3846, 3847, 3848, 3849, 3850, 3851, 3864, 3865, 3866, 3867, 3883, 3887, 3888, 3889, 3890, 3891, 3892, 3893, 3894, 3895, 3896, 3897, 3898, 3899, 3909, 3914, 3918, 3919, 3920, 3921, 3944, 3945, 3946, 3947, 3948, 3949, 3950, 3951, 3953, 3954, 3955, 3990, 3991, 3992, 3993, 4000, 4001, 4005, 4006, 4007, 4008, 4036, 4101, 4142, 4149, 4157, 4158, 4159, 4162, 4163, 4164, 4165, 4166, 4167, 4177, 4178, 4179, 4180, 4181, 4182, 4183, 4184, 4185, 4186, 4187, 4190, 4191, 4192, 4198, 4199, 4200, 4201, 4204, 4217, 4218, 4219, 4220, 4227, 4228, 4229, 4230, 4231, 4252, 4253, 4254, 4255, 4256, 4258, 4259, 4260, 4261, 4262, 4263, 4264, 4265, 4266, 4270, 4271, 4276, 4278, 4308, 4310, 4311, 4312, 4313, 4314, 4315, 4317, 4318, 4321, 4322, 4323, 4325, 4345, 4346, 4347, 4348, 4353, 4354, 4355, 4362, 4363, 4364, 4365, 4366, 4372, 4374, 4376, 4378, 4382, 4383, 4384, 4385, 4386, 4387, 4388, 4395, 4396, 4398, 4399, 4415, 4416, 4417, 4418, 4422, 4423, 4424, 4433, 4434, 4435, 4436, 4445, 4446, 4447, 4448, 4449, 4450, 4451, 4452, 4453, 4456, 4457, 4458, 4459, 4460, 4461, 4462, 4487, 4489, 4492, 4497, 4498, 4499, 4501, 4502, 4503, 4504, 4505, 4506, 4509, 4511, 4512, 4513, 4514, 4527, 4528, 4533, 4547, 4548, 4549, 4550, 4551, 4552, 4558, 4560, 4564, 4565, 4566, 4574, 4575, 4576, 4577, 4578, 4579, 4582, 4583, 4584, 4585, 4586, 4592, 4593, 4594, 4595, 4596, 4607, 4608, 4609, 4610, 4611, 4612, 4613, 4614, 4615, 4616, 4617, 4621, 4622, 4624, 4625, 4626, 4627, 4628, 4629, 4630, 4631, 4632, 4633, 4634, 4635, 4636, 4637, 4647, 4648, 4650, 4652, 4653, 4654, 4659, 4683, 4684, 4685, 4686, 4687, 4688, 4689, 4690, 4691, 4694, 4695, 4696, 4698, 4699, 4704, 4709, 4716, 4717, 4725, 4726, 4727, 4728, 4729, 4733, 4734, 4740, 4741, 4742, 4745, 4747, 4748, 4749, 4753, 4757, 4758, 4759, 4760, 4761, 4762, 4763, 4764, 4765, 4766, 4767, 4768, 4769, 4770, 4771, 4772, 4773, 4774, 4775, 4776, 4777, 4786, 4787, 4788, 4795, 4796, 4797, 4807, 4809, 4810, 4814, 4815, 4821, 4823, 4828, 4829, 4830, 4831, 4832, 4857, 4859, 4862, 4863, 4864, 4869, 4875, 4876, 4880, 4884, 4886, 4888, 4889, 4890, 4911, 4912, 4913, 4914, 4919, 4920, 4921, 4927, 4928, 4929, 4930, 4933, 4936, 4939, 4943, 4944, 4945, 4946, 4947, 4948, 4949, 4950, 4951, 4953, 4954, 4958, 4959, 4961, 4962, 4965, 4966, 4967, 4968, 4974, 4976, 4977, 4979, 4980, 4982, 4983, 4993, 4995, 4996, 4997, 4998, 4999, 5000, 5001, 5002, 5003, 5011, 5013, 5020, 5021, 5033, 5039, 5040, 5041, 5042, 5044, 5045, 5051, 5052, 5057, 5060, 5063, 5065, 5067, 5070, 5084, 5085, 5086, 5087, 5088, 5089, 5090, 5092, 5094, 5095, 5096, 5097, 5098, 5099, 5100, 5101, 5102, 5103, 5104, 5105, 5106, 5107, 5108, 5109, 5116, 5119, 5122, 5123, 5125, 5132, 5157, 5172, 5173, 5174, 5176, 5177, 5178, 5179, 5180, 5181, 5182, 5183, 5184, 5188, 5191, 5192, 5193, 5194, 5195, 5196, 5197, 5198, 5199, 5200, 5201, 5202, 5203, 5204, 5205, 5206, 5208, 5209, 5210, 5211, 5212, 5218, 5219, 5220, 5221, 5247, 5248, 5249, 5250, 5251, 5252, 5253, 5256, 5261, 5262, 5263, 5264, 5265, 5266, 5267, 5276, 5277, 5280, 5281, 5282, 5283, 5284, 5285, 5286, 5287, 5288, 5289, 5290, 5292, 5294, 5296, 5298, 5303, 5304, 5310, 5311, 5312, 5313, 5324, 5325, 5331, 5332, 5333, 5334, 5335, 5337, 5338, 5339, 5340, 5341, 5342, 5343, 5344, 5352, 5353, 5355, 5356, 5357, 5376, 5377, 5378, 5379, 5380, 5381, 5382, 5383, 5384, 5385, 5386, 5388, 5389, 5391, 5392, 5393, 5394, 5395, 5396, 5397, 5398, 5399, 5400, 5401, 5402, 5403, 5404, 5405, 5406, 5414, 5417, 5420, 5422, 5427, 5428, 5430, 5431, 5432, 5433, 5434, 5435, 5436, 5437, 5438, 5440, 5448, 5488, 5489, 5490, 5491, 5492, 5493, 5494, 5495, 5498, 5510, 5511, 5512, 5513, 5514, 5515, 5516, 5518, 5519, 5521, 5523, 5524, 5533, 5534, 5537, 5548, 5549, 5556, 5557, 5566, 5567, 5568, 5569, 5570, 5571, 5589, 5590, 5591, 5596, 5597, 5598, 5599, 5600, 5603, 5604, 5605, 5606, 5607, 5608, 5609, 5610, 5611, 5630, 5631, 5644, 5645, 5646, 5647, 5648, 5650, 5651, 5653, 5654, 5655, 5656, 5657, 5662, 5663, 5664, 5665, 5666, 5667, 5668, 5669, 5683, 5685, 5686, 5687, 5688, 5689, 5693, 5696, 5702, 5703, 5704, 5705, 5712, 5713, 5716, 5720, 5721, 5724, 5727, 5731, 5743, 5744, 5745, 5746, 5747, 5748, 5754, 5760, 5761, 5792, 5793, 5794, 5806, 5807, 5808, 5809, 5811, 5816, 5819, 5820, 5824, 5826, 5829, 5830, 5831, 5832, 5833, 5834, 5835, 5836, 5838, 5840, 5842, 5848, 5849, 5850, 5855, 5857, 5868, 5869, 5870, 5871, 5872, 5873, 5885, 5886, 5887, 5888, 5889, 5890, 5891, 5893, 5894, 5901, 5902, 5903, 5904, 5905, 5906, 5907, 5908, 5909, 5910, 5911, 5912, 5913, 5914, 5915, 5922, 5923, 5924, 5925, 5955, 5956, 5957, 5958, 5959, 5961, 5964, 5967, 5968, 5969, 5970, 5971, 5972, 5998, 5999, 6000, 6001, 6002, 6003, 6004, 6005, 6006, 6009, 6010, 6011, 6012, 6013, 6016, 6018, 6019, 6020, 6023, 6025, 6027, 6028, 6029, 6034, 6035, 6039, 6040, 6041, 6042, 6056, 6057, 6059, 6060, 6064, 6082, 6090, 6091, 6092, 6094, 6096, 6097, 6098, 6103, 6108, 6112, 6113, 6114, 6115, 6126, 6127, 6128, 6129, 6130, 6131, 6133, 6134, 6135, 6136, 6137, 6138, 6140, 6141, 6145, 6148, 6151, 6156, 6157, 6161, 6164, 6165, 6166, 6167, 6168, 6169, 6170, 6171, 6174, 6175, 6176, 6182, 6188, 6189, 6190, 6191, 6194, 6195, 6196, 6198, 6199, 6200, 6201, 6202, 6207, 6208, 6209, 6210, 6217, 6218, 6219, 6220, 6221, 6222, 6223, 6224, 6225, 6226, 6227, 6235, 6236, 6237, 6238, 6248, 6255, 6256, 6272, 6273, 6274, 6275, 6283, 6285, 6287, 6288, 6289, 6290, 6291, 6292, 6293, 6294, 6295, 6302, 6303, 6304, 6305, 6317, 6318, 6319, 6323, 6324, 6325, 6326, 6327, 6328, 6329, 6330, 6331, 6332, 6341, 6343, 6344, 6355, 6384, 6385, 6386, 6408, 6409, 6418, 6419, 6420, 6421, 6422, 6423, 6424, 6427, 6432, 6433, 6437, 6438, 6439, 6463, 6464, 6465, 6466, 6468, 6492, 6493, 6494, 6495, 6496, 6497, 6498, 6499, 6500, 6501, 6502, 6503, 6504, 6505, 6506, 6507, 6508, 6509, 6510, 6511, 6514, 6515, 6516, 6517, 6518, 6519, 6520, 6521, 6524, 6525, 6528, 6536, 6537, 6538, 6539, 6540, 6541, 6542, 6543, 6551, 6552, 6558, 6559, 6560, 6561, 6562, 6563, 6564, 6565, 6568, 6569, 6571, 6572, 6573, 6574, 6575, 6576, 6585, 6591, 6592, 6593, 6594, 6600, 6601, 6603, 6604, 6606, 6607, 6609, 6617, 6618, 6619, 6624, 6625, 6629, 6631, 6633, 6634, 6635, 6638, 6639, 6640, 6651, 6652, 6653, 6654, 6661, 6662, 6663, 6664, 6665, 6666, 6667, 6668, 6669, 6670, 6671, 6678, 6679, 6680, 6681, 6682, 6685, 6686, 6687, 6689, 6695, 6696, 6697, 6702, 6703, 6715, 6717, 6718, 6719, 6720, 6721, 6722, 6723, 6724, 6725, 6726, 6746, 6747, 6748, 6749, 6750, 6751, 6752, 6753, 6755, 6756, 6767, 6768, 6783, 6784, 6785, 6786, 6787, 6788, 6789, 6791, 6793, 6804, 6806, 6807, 6813, 6814, 6815, 6818, 6819, 6820, 6821, 6823, 6824, 6825, 6827, 6829, 6830, 6833, 6834, 6835, 6836, 6837, 6838, 6839, 6842, 6843, 6844, 6845, 6847, 6848, 6849, 6850, 6851, 6852, 6861, 6862, 6863, 6864, 6870, 6874, 6877, 6894, 6895, 6899, 6900, 6901, 6902, 6903, 6904, 6919, 6920, 6921, 6922, 6956, 6957, 6958, 6959, 6960, 6964, 6970, 6971, 6972, 6973, 6974, 6975, 6976, 6977, 6978, 6979, 7020, 7021, 7028, 7029, 7031, 7032, 7034, 7036, 7040, 7041, 7042, 7043, 7044, 7045, 7046, 7047, 7048, 7049, 7050, 7051, 7052, 7053, 7054, 7055, 7056, 7057, 7058, 7059, 7060, 7061, 7062, 7063, 7064, 7065, 7066, 7067, 7068, 7069, 7070, 7071, 7073, 7074, 7075, 7076, 7077, 7078, 7079, 7080, 7081, 7082, 7083, 7084, 7085, 7086, 7087, 7088, 7089, 7090, 7091, 7092, 7093, 7094, 7095, 7096, 7111, 7120, 7125, 7127, 7129, 7131, 7133, 7135, 7143, 7144, 7145, 7148, 7152, 7156, 7157, 7158, 7164, 7171, 7173, 7174, 7175, 7176, 7177, 7178, 7179, 7196, 7197, 7198, 7199, 7200, 7201, 7202, 7203, 7204, 7205, 7206, 7207, 7208, 7209, 7210, 7211, 7212, 7216, 7217, 7218, 7219, 7220, 7221, 7222, 7223, 7224, 7237, 7238, 7239, 7240, 7241, 7242, 7243, 7273, 7274, 7275, 7276, 7277, 7278, 7279, 7280, 7284, 7285, 7286, 7287, 7288, 7289, 7290, 7291, 7292, 7293, 7294, 7295, 7316, 7317, 7318, 7319, 7320, 7321, 7322, 7323, 7324, 7325, 7326, 7327, 7328, 7329, 7330, 7331, 7332, 7333, 7334, 7335, 7336, 7337, 7338, 7345, 7378, 7379, 7380, 7381, 7382, 7383, 7384, 7385, 7386, 7387, 7388, 7389, 7390, 7401, 7402, 7403, 7404, 7406, 7407, 7409, 7410, 7432, 7434, 7436, 7439, 7440, 7441, 7442, 7443, 7444, 7445, 7446, 7447, 7448, 7449, 7458, 7459, 7460, 7463, 7464, 7465, 7466, 7467, 7468, 7469, 7470, 7473, 7474, 7475, 7476, 7477, 7478, 7479, 7480, 7481, 7482, 7483, 7484, 7485, 7486, 7487, 7489, 7491, 7493, 7510, 7511, 7513, 7514, 7515, 7517, 7525, 7526, 7527, 7528, 7529, 7531, 7549, 7550, 7551, 7552, 7553, 7554, 7555, 7556, 7581, 7592, 7593, 7594, 7595, 7598, 7599, 7600, 7601, 7602, 7603, 7604, 7605, 7606, 7607, 7608, 7609, 7610, 7611, 7612, 7613, 7615, 7617, 7618, 7620, 7621, 7622, 7623, 7624, 7625, 7640, 7641, 7642, 7643, 7644, 7648, 7649, 7650, 7651, 7652, 7653, 7654, 7655, 7656, 7657, 7658, 7660, 7661, 7662, 7663, 7664, 7665, 7666, 7667, 7668, 7669, 7678, 7683, 7684, 7685, 7686, 7687, 7688, 7689, 7690, 7691, 7692, 7693, 7709, 7717, 7718, 7719, 7720, 7721, 7722, 7723, 7724, 7726, 7728, 7730, 7743, 7752, 7768, 7772, 7775, 7777, 7780, 7781, 7783, 7784, 7785, 7787, 7788, 7789, 7793, 7795, 7798, 7823, 7824, 7825, 7826, 7827, 7828, 7829, 7830, 7860, 7863, 7865, 7866, 7867, 7894, 7895, 7896, 7897, 7898, 7899, 7900, 7901, 7902, 7903, 7904, 7905, 7906, 7909, 7910, 7911, 7912, 7913, 7914, 7919, 7920, 7921, 7922, 7923, 7924, 7925, 7926, 7927, 7928, 7930, 7931, 7932, 7933, 7934, 7935, 7936, 7937, 7938, 7939, 7940, 7942, 7943, 7944, 7945, 7946, 7947, 7948, 7949, 7950, 7951, 7952, 7953, 7954, 7956, 7957, 7958, 7960, 7961, 7962, 7963, 7971, 7989, 7990, 7992, 8007, 8008, 8010, 8013, 8017, 8021, 8022, 8024, 8025, 8027, 8028, 8032, 8034, 8035, 8036, 8037, 8038, 8040, 8044, 8045, 8062, 8063, 8064, 8065, 8066, 8073, 8074, 8077, 8078, 8079, 8080, 8081, 8094, 8124, 8125, 8126, 8139, 8141, 8142, 8193, 8194, 8195, 8196, 8197, 8198, 8199, 8200, 8201, 8202, 8203, 8204, 8222, 8224, 8227, 8228, 8229, 8230, 8233, 8235, 8237, 8239, 8241, 8243, 8245, 8247, 8249, 8257, 8259, 8261, 8263, 8267, 8269, 8272, 8274, 8275, 8276, 8277, 8280, 8281, 8282, 8283, 8284, 8297, 8299, 8300, 8302, 8305, 8306, 8307, 8308, 8309, 8310, 8311, 8312, 8313, 8314, 8315, 8316, 8317, 8318, 8319, 8321, 8322, 8323, 8324, 8325, 8327, 8328, 8329, 8331, 8334, 8335, 8341, 8343, 8344, 8345, 8346, 8347, 8348, 8350, 8351, 8352, 8356, 8390, 8391, 8393, 8394, 8395, 8396, 8397, 8398, 8402, 8404, 8406, 8408, 8410, 8412, 8414, 8416, 8470, 8472, 8474, 8476, 8478, 8479, 8480, 8481, 8484, 8551, 8553, 8555, 8557, 8559, 8561, 8563, 8571, 8572, 8579, 8580, 8593, 8597, 8606, 8613, 8648, 8695, 8701, 8713, 8714, 8716, 8717, 8719, 8720, 8722, 8727, 8728, 8729, 8737, 8739, 8741, 8742, 8770, 8771, 8772, 8773, 8774, 8775, 8776, 8777, 8778, 8807, 8808, 8809, 8810, 8812, 8813, 8818, 8827, 8829, 8830, 8831, 8841, 8851, 8852, 8853, 8854, 8855, 8865, 8866, 8867, 8868, 8869, 8870, 8871, 8872, 8873, 8876, 8877, 8878, 8879, 8880, 8881, 8882, 8883, 8884, 8885, 8886, 8904, 8907, 8908, 8909, 8910, 8911, 8913, 8914, 8915, 8916, 8917, 8918, 8933, 8972, 8973, 8974, 8975, 8976, 8977, 8978, 8979, 8980, 8981, 8982, 8983, 8984, 8985, 8986, 8987, 8988, 8989, 8990, 8991, 8997, 8998, 8999, 9000, 9001, 9002, 9003, 9004, 9010, 9012, 9019, 9020, 9021, 9022, 9023, 9024, 9025, 9040, 9041, 9042, 9044, 9046, 9047, 9060, 9061, 9062, 9063, 9064, 9066, 9068, 9070, 9077, 9079, 9080, 9081, 9082, 9099, 9100, 9101, 9102, 9103, 9104, 9109, 9110, 9111, 9112, 9113, 9114, 9115, 9116, 9117, 9118, 9119, 9153, 9189, 9190, 9191, 9192, 9193, 9194, 9195, 9196, 9197, 9198, 9199, 9206, 9207, 9208, 9209, 9210, 9211, 9233, 9238, 9239, 9244, 9245, 9246, 9247, 9248, 9249, 9250, 9259, 9260, 9261, 9262, 9263, 9264, 9265, 9266, 9267, 9268, 9269, 9270, 9271, 9272, 9273, 9274, 9275, 9276, 9277, 9278, 9279, 9280, 9281, 9284, 9285, 9287, 9288, 9290, 9291, 9339, 9341, 9343, 9344, 9345, 9346, 9347, 9348, 9349, 9350, 9353, 9354, 9355, 9356, 9357, 9358, 9359, 9360, 9361, 9362, 9363, 9364, 9365, 9366, 9371, 9388, 9389, 9390, 9391, 9392, 9393, 9394, 9395, 9397, 9398, 9399, 9400, 9406, 9409, 9410, 9411, 9412, 9413, 9414, 9415, 9416, 9417, 9418, 9419, 9420, 9427, 9428, 9429, 9430, 9431, 9432, 9433, 9434, 9435, 9444, 9448, 9449, 9450, 9451, 9452, 9453, 9454, 9455, 9456, 9457, 9458, 9459, 9542, 9543, 9544, 9545, 9546, 9547, 9553, 9564, 9565, 9570, 9597, 9609, 9610, 9611, 9612, 9613, 9614, 9615, 9621, 9623, 9625, 9626, 9627, 9628, 9629, 9630, 9631, 9632, 9633, 9634, 9635, 9636, 9637, 9638, 9639, 9640, 9641, 9642, 9643, 9644, 9645, 9646, 9647, 9648, 9649, 9662, 9664, 9666, 9668, 9670, 9672, 9684, 9685, 9686, 9687, 9688, 9689, 9690, 9691, 9692, 9693, 9694, 9695, 9699, 9700, 9701, 9702, 9703, 9704, 9705, 9720, 9721, 9726, 9735, 9738, 9739, 9740, 9741, 9742, 9743, 9744, 9745, 9749, 9790, 9792, 9794, 9796, 9798, 9802, 9811, 9812, 9813, 9814, 9815, 9816, 9817, 9818, 9819, 9820, 9821, 9822, 9823, 9824, 9825, 9826, 9827, 9828, 9829, 9830, 9831, 9832, 9833, 9834, 9844, 9845, 9846, 9847, 9848, 9849, 9850, 9851, 9852, 9853, 9858, 9859, 9860, 9861, 9862, 9863, 9864, 9865, 9866, 9867, 9868, 9869, 9870, 9871, 9875, 9893, 9911, 9925, 9926, 9927, 9928, 9929, 9935, 9947, 9954, 9955, 9956, 9957, 9958, 9959, 9960, 9973, 9974, 9975, 9976, 9977, 9979, 9980, 9981, 9982, 9984, 9986, 9988, 9990, 9992, 9994, 9996, 9997, 9999, 10001, 10014, 10015, 10016, 10034, 10035, 10036, 10037, 10038, 10039, 10040, 10041, 10042, 10043, 10044, 10046, 10050, 10053, 10054, 10057, 10058, 10059, 10060, 10061, 10063, 10064, 10067, 10068, 10069, 10070, 10071, 10073, 10074, 10075, 10076, 10077, 10078, 10079, 10080, 10081, 10082, 10083, 10084, 10085, 10086, 10087, 10088, 10089, 10090, 10092, 10093, 10094, 10096, 10098, 10099, 10100, 10101, 10102, 10103, 10104, 10106, 10107, 10108, 10109, 10137, 10141, 10152, 10173, 10174, 10175, 10176, 10177, 10178, 10179, 10180, 10181, 10182, 10199, 10211, 10213, 10217, 10218, 10219, 10220, 10221, 10222, 10223, 10225, 10226, 10227, 10228, 10229, 10230, 10231, 10232, 10233, 10234, 10235, 10236, 10237, 10238, 10239, 10240, 10241, 10242, 10243, 10244, 10245, 10246, 10247, 10248, 10249, 10250, 10251, 10252, 10253, 10258, 10259, 10260, 10262, 10263, 10265, 10266, 10274, 10276, 10283, 10285, 10289, 10291, 10293, 10295, 10298, 10302, 10303, 10304, 10305, 10306, 10307, 10308, 10309, 10310, 10311, 10312, 10313, 10314, 10318, 10319, 10320, 10321, 10322, 10323, 10324, 10325, 10326, 10327, 10328, 10329, 10330, 10331, 10332, 10333, 10334, 10335, 10336, 10337, 10338, 10339, 10340, 10341, 10342, 10343, 10344, 10345, 10346, 10347, 10348, 10349, 10351, 10353, 10355, 10356, 10361, 10362, 10363, 10364, 10365, 10369, 10393, 10396, 10397, 10398, 10399, 10402, 10403, 10404, 10405, 10407, 10408, 10409, 10410, 10411, 10412, 10413, 10414, 10415, 10416, 10419, 10420, 10421, 10422, 10423, 10426, 10430, 10431, 10433, 10434, 10435, 10436, 10437, 10438, 10439, 10440, 10441, 10442, 10443, 10444, 10445, 10447, 10448, 10449, 10450, 10451, 10452, 10453, 10454, 10455, 10456, 10457, 10458, 10459, 10460, 10463, 10464, 10465, 10467, 10469, 10470, 10471, 10472, 10473, 10474, 10479, 10491, 10492, 10493, 10494, 10495, 10496, 10497, 10498, 10499, 10500, 10501, 10502, 10506, 10509, 10510, 10511, 10515, 10516, 10517, 10518, 10520, 10521, 10522, 10536, 10546, 10547, 10548, 10549, 10550, 10551, 10552, 10553, 10554, 10555, 10556, 10557, 10558, 10559, 10560, 10561, 10562, 10563, 10564, 10565, 10566, 10567, 10568, 10569, 10570, 10571, 10572, 10573, 10574, 10577, 10578, 10579, 10580, 10581, 10582, 10583, 10586, 10587, 10588, 10589, 10590, 10591, 10592, 10593, 10594, 10595, 10596, 10597, 10598, 10599, 10600, 10601, 10602, 10603, 10604, 10605, 10606, 10607, 10608, 10609, 10613, 10614, 10615, 10616, 10617, 10618, 10619, 10620, 10621, 10622, 10623, 10624, 10625, 10626, 10627, 10635, 10636, 10637, 10638, 10651, 10652, 10653, 10655, 10656, 10657, 10658, 10659, 10660, 10661, 10662, 10663, 10664, 10668, 10669, 10670, 10673, 10674, 10675, 10676, 10679, 10682, 10683, 10684, 10685, 10686, 10687, 10688, 10689, 10690, 10694, 10699, 10700, 10701, 10702, 10703, 10704, 10705, 10706, 10707, 10708, 10709, 10710, 10714, 10715, 10716, 10717, 10718, 10719, 10720, 10721, 10722, 10723, 10724, 10746, 10747, 10748, 10749, 10750, 10751, 10752, 10753, 10754, 10756, 10757, 10758, 10922, 10927, 10928, 10929, 10931, 10932, 10933, 10934, 10935, 10936, 10937, 10938, 10939, 10940, 10941, 10942, 10979, 10980, 10981, 10982, 10983, 10984, 10985, 10986, 10987, 10988, 10989, 10990, 10991, 10992, 10993, 10994, 10996, 10999, 11001, 11003, 11004, 11005, 11011, 11012, 11013, 11014, 11015, 11016, 11017, 11018, 11019, 11020, 11021, 11022, 11024, 11025, 11026, 11028, 11030, 11033, 11034, 11039, 11045, 11052, 11053, 11054, 11055, 11056, 11057, 11058, 11059, 11060, 11061, 11065, 11066, 11067, 11068, 11069, 11070, 11071, 11072, 11073, 11085, 11089, 11090, 11091, 11092, 11094, 11095, 11097, 11098, 11102, 11103, 11104, 11105, 11106, 11107, 11108, 11110, 11111, 11113, 11114, 11115, 11116, 11117, 11118, 11119, 11123, 11124, 11125, 11126, 11131, 11133, 11135, 11136, 11137, 11139, 11140, 11141, 11142, 11155, 11156, 11157, 11158, 11159, 11160, 11161, 11162, 11163, 11164, 11165, 11166, 11167, 11168, 11169, 11186, 11187, 11188, 11189, 11190, 11191, 11192, 11193, 11194, 11195, 11196, 11197, 11198, 11199, 11200, 11202, 11203, 11204, 11205, 11206, 11207, 11208, 11209, 11210, 11211, 11212, 11213, 11215, 11217, 11219, 11221, 11223, 11225, 11226, 11228, 11230, 11231, 11235, 11236, 11252, 11253, 11254, 11255, 11256, 11257, 11259, 11280, 11281, 11282, 11283, 11284, 11285, 11310, 11311, 11312, 11313, 11314, 11315, 11316, 11317, 11327, 11328, 11329, 11330, 11331, 11332, 11333, 11334, 11336, 11337, 11338, 11339, 11340, 11342, 11343, 11346, 11347, 11354, 11363, 11364, 11365, 11366, 11367, 11368, 11369, 11370, 11371, 11372, 11373, 11374, 11375, 11376, 11377, 11378, 11379, 11380, 11385, 11386, 11387, 11388, 11390, 11392, 11394, 11396, 11398, 11400, 11402, 11403, 11405, 11406, 11407, 11408, 11409, 11410, 11411, 11412, 11413, 11414, 11415, 11416, 11417, 11418, 11419, 11420, 11421, 11422, 11423, 11424, 11425, 11426, 11427, 11428, 11430, 11431, 11432, 11433, 11434, 11435, 11436, 11438, 11439, 11440, 11441, 11443, 11444, 11445, 11446, 11447, 11448, 11450, 11451, 11452, 11453, 11454, 11455, 11470, 11471, 11491, 11492, 11493, 11494, 11495, 11496, 11499, 11500, 11501, 11502, 11503, 11504, 11505, 11506, 11507, 11508, 11509, 11521, 11522, 11523, 11524, 11525, 11526, 11527, 11528, 11529, 11530, 11531, 11574, 11576, 11578, 11579, 11580, 11582, 11583, 11585, 11587, 11588, 11589, 11590, 11591, 11593, 11594, 11595, 11598, 11600, 11602, 11628, 11629, 11630, 11632, 11633, 11634, 11635, 11636, 11637, 11638, 11639, 11640, 11641, 11642, 11643, 11644, 11645, 11646, 11647, 11648, 11649, 11663, 11664, 11665, 11666, 11667, 11668, 11669, 11670, 11671, 11672, 11673, 11674, 11675, 11676, 11677, 11678, 11679, 11680, 11685, 11686, 11687, 11688, 11689, 11692, 11693, 11696, 11697, 11698, 11699, 11701, 11703, 11704, 11705, 11707, 11708, 11709, 11710, 11711, 11714, 11715, 11716, 11717, 11725, 11727, 11729, 11731, 11733, 11735, 11745, 11747, 11749, 11751, 11752, 11753, 11755, 11756, 11757, 11758, 11759, 11760, 11761, 11762, 11763, 11764, 11766, 11767, 11768, 11769, 11789, 11790, 11791, 11792, 11796, 11797, 11817, 11818, 11819, 11828, 11829, 11831, 11833, 11835, 11836, 11837, 11839, 11840, 11842, 11843, 11844, 11845, 11847, 11848, 11851, 11854, 11855, 11857, 11859, 11867, 11876, 11877, 11878, 11879, 11880, 11881, 11882, 11883, 11884, 11907, 11911, 11928, 11930, 11931, 11935, 11936, 11937, 11938, 11957, 11966, 11994, 11997, 12008, 12059, 12060, 12061, 12062, 12063, 12064, 12065, 12066, 12067, 12068, 12069, 12070, 12071, 12078, 12079, 12098, 12099, 12100, 12101, 12102, 12103, 12104, 12105, 12106, 12107, 12108, 12109, 12110, 12111, 12113, 12114, 12115, 12116, 12117, 12118, 12119, 12120, 12148, 12149, 12150, 12151, 12152, 12153, 12154, 12155, 12156, 12157, 12158, 12159, 12161, 12162, 12163, 12164, 12165, 12166, 12167, 12178, 12179, 12180, 12181, 12182, 12183, 12185, 12186, 12188, 12189, 12190, 12192, 12194, 12195, 12197, 12198, 12199, 12212, 12213, 12214, 12215, 12216, 12217, 12218, 12219, 12220, 12221, 12222, 12223, 12224, 12225, 12226, 12227, 12228, 12230, 12231, 12232, 12233, 12255, 12257, 12266, 12267, 12268, 12269, 12270, 12271, 12272, 12273, 12274, 12275, 12296, 12297, 12298, 12299, 12300, 12301, 12302, 12314, 12315, 12316, 12317, 12318, 12319, 12320, 12321, 12322, 12323, 12324, 12325, 12326, 12327, 12328, 12329, 12330, 12331, 12332, 12333, 12334, 12335, 12336, 12337, 12338, 12342, 12343, 12345, 12346, 12347, 12348, 12349, 12350, 12351, 12352, 12357, 12359, 12361, 12363, 12365, 12367, 12369, 12371, 12373, 12375, 12377, 12379, 12381, 12383, 12385, 12397, 12398, 12399, 12400, 12401, 12402, 12403, 12404, 12405, 12406, 12407, 12408, 12409, 12410, 12412, 12413, 12414, 12415, 12416, 12417, 12418, 12419, 12420, 12423, 12425, 12439, 12460, 12464, 12465, 12466, 12467, 12468, 12469, 12501, 12502, 12503, 12507, 12512, 12517, 12521, 12526, 12531, 12536, 12546, 12570, 12571, 12572, 12575, 12576, 12577, 12578, 12582, 12583, 12603, 12604, 12605, 12606, 12607, 12608, 12609, 12610, 12611, 12612, 12613, 12614, 12615, 12616, 12617, 12618, 12619, 12621, 12623, 12625, 12628, 12629, 12630, 12631, 12632, 12633, 12635, 12636, 12637, 12638, 12640, 12643, 12652, 12653, 12654, 12655, 12656, 12657, 12658, 12659, 12703, 12704, 12705, 12706, 12707, 12709, 12711, 12713, 12714, 12715, 12716, 12717, 12718, 12719, 12720, 12721, 12722, 12723, 12724, 12725, 12726, 12727, 12728, 12729, 12730, 12735, 12738, 12741, 12744, 12760, 12761, 12762, 12763, 12764, 12766, 12767, 12768, 12769, 12770, 12774, 12776, 12777, 12778, 12782, 12785, 12791, 12804, 12805, 12806, 12807, 12808, 12809, 12810, 12811, 12812, 12813, 12814, 12821, 12822, 12824, 12825, 12826, 12829, 12834, 12835, 12836, 12837, 12838, 12840, 12841, 12842, 12846, 12848, 12855, 12856, 12861, 12862, 12863, 12874, 12875, 12876, 12877, 12879, 12881, 12882, 12883, 12884, 12885, 12886, 12887, 12888, 12889, 12890, 12891, 12892, 12893, 12895, 12896, 12897, 12898, 12899, 12900, 12901, 12902, 12903, 12907, 12910, 12912, 12913, 12914, 12915, 12916, 12917, 12918, 12931, 12933, 12939, 12971, 12975, 12979, 12983, 12987, 12991, 12995, 12999, 13003, 13007, 13010, 13014, 13016, 13017, 13018, 13020, 13021, 13022, 13024, 13025, 13026, 13028, 13029, 13030, 13032, 13033, 13034, 13036, 13037, 13038, 13041, 13042, 13044, 13045, 13046, 13049, 13055, 13056, 13057, 13058, 13064, 13065, 13066, 13067, 13068, 13069, 13070, 13071, 13072, 13073, 13074, 13075, 13081, 13083, 13085, 13086, 13087, 13088, 13089, 13090, 13091, 13092, 13122, 13123, 13126, 13130, 13131, 13140, 13141, 13142, 13143, 13144, 13149, 13150, 13151, 13152, 13153, 13154, 13155, 13156, 13157, 13158, 13159, 13160, 13162, 13163, 13164, 13165, 13166, 13167, 13168, 13169, 13170, 13171, 13172, 13173, 13174, 13175, 13176, 13177, 13178, 13179, 13180, 13181, 13182, 13183, 13184, 13185, 13186, 13193, 13194, 13195, 13196, 13197, 13198, 13199, 13200, 13203, 13204, 13205, 13207, 13208, 13209, 13210, 13213, 13214, 13235, 13236, 13238, 13239, 13240, 13241, 13242, 13243, 13244, 13245, 13247, 13248, 13249, 13250, 13251, 13252, 13253, 13254, 13255, 13259, 13260, 13261, 13262, 13277, 13278, 13280, 13281, 13283, 13284, 13286, 13287, 13289, 13291, 13293, 13299, 13300, 13301, 13302, 13311, 13312, 13313, 13314, 13315, 13316, 13317, 13318, 13319, 13320, 13321, 13322, 13323, 13324, 13328, 13332, 13337, 13339, 13340, 13342, 13343, 13344, 13345, 13346, 13348, 13349, 13350, 13351, 13352, 13354, 13355, 13356, 13357, 13358, 13359, 13360, 13361, 13362, 13368, 13375, 13382, 13400, 13411, 13412, 13417, 13418, 13419, 13420, 13421, 13422, 13423, 13424, 13425, 13426, 13427, 13428, 13429, 13430, 13431, 13432, 13433, 13434, 13435, 13436, 13437, 13438, 13440, 13441, 13442, 13443, 13444, 13445, 13446, 13449, 13450, 13451, 13452, 13453, 13454, 13456, 13457, 13458, 13459, 13460, 13461, 13462, 13463, 13464, 13465, 13466, 13467, 13468, 13469, 13470, 13471, 13472, 13473, 13474, 13475, 13476, 13478, 13479, 13480, 13481, 13482, 13483, 13484, 13485, 13486, 13487, 13488, 13489, 13491, 13492, 13523, 13525, 13526, 13527, 13528, 13529, 13530, 13534, 13535, 13536, 13537, 13538, 13540, 13541, 13542, 13543, 13544, 13545, 13546, 13547, 13548, 13549, 13550, 13551, 13552, 13553, 13554, 13555, 13565, 13567, 13569, 13582, 13583, 13584, 13585, 13586, 13587, 13588, 13596, 13622, 13623, 13624, 13625, 13626, 13627, 13628, 13629, 13630, 13632, 13633, 13634, 13635, 13636, 13655, 13656, 13657, 13658, 13659, 13660, 13661, 13663, 13664, 13665, 13666, 13667, 13668, 13669, 13670, 13671, 13672, 13673, 13674, 13713, 13715, 13732, 13733, 13734, 13735, 13736, 13737, 13738, 13739, 13740, 13741, 13742, 13747, 13752, 13765, 13766, 13767, 13768, 13769, 13771, 13772, 13773, 13774, 13775, 13776, 13777, 13778, 13779, 13780, 13781, 13782, 13783, 13784, 13785, 13786, 13850, 13851, 13852, 13853, 13854, 13855, 13856, 13858, 13859, 13860, 13862, 13863, 13864, 13865, 13866, 13867, 13868, 13869, 13870, 13871, 13872, 13873, 13874, 13875, 13876, 13877, 13878, 13879, 13880, 13881, 13882, 13883, 13884, 13885, 13886, 13887, 13888, 13889, 13890, 13891, 13892, 13893, 13894, 13909, 13913, 13914, 13915, 13916, 13917, 13918, 13919, 13920, 13921, 13922, 13930, 13936, 13937, 13938, 13939, 13940, 13941, 13942, 13943, 13944, 13945, 13946, 13947, 13948, 13949, 13950, 13951, 13953, 13954, 13955, 13956, 13957, 13958, 13959, 13960, 13961, 13962, 13963, 13964, 13965, 13970, 13976, 13979, 13982, 13983, 13984, 13985, 13991, 13993, 13999, 14015, 14040, 14044, 14045, 14056, 14057, 14061, 14063, 14064, 14065, 14066, 14081, 14082, 14083, 14084, 14085, 14086, 14087, 14088, 14089, 14091, 14092, 14093, 14094, 14101, 14103, 14106, 14132, 14133, 14134, 14135, 14137, 14138, 14139, 14140, 14142, 14143, 14144, 14145, 14146, 14147, 14152, 14153, 14154, 14155, 14156, 14157, 14158, 14159, 14160, 14161, 14169, 14170, 14171, 14172, 14173, 14175, 14181, 14188, 14189, 14190, 14191, 14192, 14193, 14194, 14195, 14196, 14197, 14198, 14202, 14203, 14204, 14205, 14227, 14261, 14262, 14263, 14264, 14265, 14266, 14267, 14268, 14270, 14271, 14272, 14273, 14274, 14275, 14286, 14289, 14290, 14291, 14292, 14293, 14294, 14296, 14297, 14298, 14299, 14300, 14301, 14302, 14303, 14312, 14313, 14314, 14315, 14316, 14317, 14318, 14319, 14320, 14321, 14322, 14323, 14327, 14328, 14329, 14330, 14331, 14332, 14333, 14334, 14335, 14336, 14337, 14338, 14339, 14340, 14341, 14342, 14344, 14345, 14347, 14348, 14349, 14350, 14351, 14352, 14353, 14355, 14356, 14357, 14358, 14368, 14378, 14379, 14385, 14386, 14392, 14393, 14398, 14399, 14400, 14414, 14415, 14416, 14417, 14418, 14419, 14420, 14438, 14439, 14474, 14479, 14504, 14506, 14508, 14509, 14511, 14513, 14516, 14518, 14520, 14521, 14523, 14526, 14527, 14540, 14545, 14546, 14547, 14549, 14550, 14551, 14552, 14553, 14554, 14555, 14556, 14557, 14558, 14559, 14560, 14567, 14568, 14569, 14570, 14571, 14572, 14573, 14574, 14575, 14576, 14577, 14585, 14587, 14589, 14590, 14591, 14592, 14593, 14594, 14595, 14597, 14598, 14602, 14603, 14606, 14610, 14668, 14670, 14671, 14672, 14673, 14674, 14675, 14679, 14681, 14683, 14684, 14685, 14686, 14687, 14690, 14691, 14692, 14693, 14694, 14715, 14716, 14717, 14719, 14720, 14721, 14722, 14723, 14724, 14725, 14738, 14739, 14740, 14741, 14742, 14746, 14747, 14748, 14749, 14750, 14751, 14752, 14753, 14754, 14755, 14756, 14758, 14760, 14761, 14762, 14763, 14764, 14765, 14766, 14767, 14768, 14778, 14779, 14780, 14781, 14782, 14783, 14784, 14785, 14806, 14809, 14818, 14819, 14820, 14822, 14823, 14824, 14825, 14826, 14827, 14828, 14830, 14831, 14832, 14833, 14834, 14835, 14836, 14840, 14842, 14843, 14844, 14846, 14847, 14849, 14851, 14852, 14853, 14855, 14857, 14858, 14861, 14862, 14863, 14865, 14866, 14867, 14869, 14870, 14871, 14877, 14878, 14879, 14881, 14882, 14883, 14891, 14892, 14893, 14894, 14896, 14898, 14899, 14900, 14901, 14902, 14903, 14904, 14905, 14906, 14907, 14908, 14909, 14911, 14913, 14914, 14915, 14916, 14917, 14918, 14920, 14921, 14922, 14924, 14926, 14927, 14928, 14929, 14930, 14931, 14932, 14934, 14935, 14936, 14937, 14938, 14939, 14940, 14941, 14943, 14945, 14946, 14947, 14948, 14949, 14950, 14952, 14953, 14954, 14955, 14957, 14958, 14959, 14960, 14961, 14962, 14983, 14984, 14985, 14986, 14987, 14989, 14991, 14992, 15005, 15006, 15007, 15008, 15009, 15010, 15011, 15012, 15013, 15027, 15028, 15029, 15030, 15031, 15032, 15033, 15034, 15036, 15046, 15047, 15048, 15071, 15072, 15073, 15074, 15076, 15078, 15079, 15080, 15081, 15082, 15083, 15084, 15086, 15087, 15088, 15089, 15090, 15091, 15092, 15093, 15095, 15096, 15097, 15098, 15104, 15105, 15106, 15107, 15108, 15109, 15110, 15111, 15112, 15113, 15114, 15115, 15116, 15117, 15118, 15119, 15122, 15123, 15126, 15127, 15128, 15129, 15130, 15131, 15132, 15133, 15134, 15136, 15137, 15138, 15139, 15141, 15142, 15143, 15144, 15145, 15146, 15147, 15148, 15149, 15150, 15152, 15154, 15174, 15175, 15195, 15196, 15225, 15227, 15228, 15229, 15230, 15236, 15237, 15238, 15239, 15240, 15241, 15242, 15243, 15244, 15245, 15247, 15248, 15249, 15250, 15251, 15276, 15277, 15278, 15279, 15280, 15281, 15282, 15287, 15292, 15297, 15302, 15307, 15309, 15313, 15314, 15316, 15317, 15318, 15319, 15320, 15321, 15322, 15323, 15324, 15325, 15327, 15328, 15329, 15330, 15331, 15332, 15333, 15334, 15335, 15336, 15337, 15338, 15339, 15340, 15341, 15342, 15343, 15344, 15345, 15346, 15347, 15348, 15349, 15350, 15351, 15352, 15354, 15355, 15356, 15364, 15365, 15395, 15411, 15412, 15469, 15471, 15473, 15474, 15475, 15476, 15477, 15478, 15479, 15480, 15481, 15503, 15504, 15505, 15506, 15507, 15508, 15509, 15510, 15511, 15512, 15513, 15514, 15515, 15516, 15517, 15518, 15519, 15520, 15521, 15522, 15523, 15524, 15525, 15526, 15527, 15528, 15529, 15530, 15531, 15532, 15533, 15534, 15535, 15536, 15537, 15538, 15539, 15540, 15541, 15542, 15543, 15544, 15548, 15550, 15555, 15557, 15558, 15559, 15560, 15562, 15563, 15564, 15565, 15566, 15567, 15569, 15571, 15573, 15589, 15592, 15614, 15617, 15618, 15619, 15620, 15632, 15633, 15634, 15635, 15636, 15637, 15646, 15647, 15648, 15649, 15653, 15661, 15668, 15670, 15672, 15674, 15676, 15679, 15680, 15681, 15682, 15683, 15684, 15685, 15686, 15687, 15688, 15692, 15693, 15694, 15695, 15696, 15697, 15698, 15699, 15700, 15701, 15702, 15719, 15720, 15721, 15722, 15723, 15724, 15772, 15773, 15774, 15775, 15780, 15782, 15783, 15784, 15785, 15791, 15797, 15798, 15804, 15805, 15811, 15812, 15813, 15825, 15826, 15827, 15868, 15869, 15870, 15871, 15872, 15873, 15874, 15875, 15876, 15878, 15881, 15882, 15898, 15899, 15900, 15901, 15902, 15903, 15904, 15905, 15906, 15907, 15908, 15910, 15911, 15912, 15913, 15914, 15915, 15916, 15917, 15918, 15919, 15920, 15921, 15922, 15923, 15924, 15925, 15926, 15927, 15928, 15929, 15930, 15931, 15932, 15933, 15960, 15975, 15976, 15977, 15978, 15979, 15980, 15981, 15982, 15983, 15984, 15985, 15986, 15987, 15988, 15989, 15992, 15993, 16007, 16022, 16023, 16025, 16027, 16028, 16030, 16031, 16033, 16034, 16036, 16037, 16039, 16040, 16084, 16087, 16090, 16093, 16096, 16099, 16100, 16101, 16102, 16103, 16104, 16105, 16106, 16107, 16108, 16109, 16116, 16117, 16118, 16119, 16120, 16121, 16122, 16123, 16124, 16125, 16126, 16127, 16128, 16129, 16130, 16131, 16133, 16134, 16135, 16136, 16140, 16141, 16156, 16157, 16158, 16159, 16160, 16168, 16169, 16170, 16171, 16173, 16174, 16175, 16176, 16177, 16178, 16179, 16180, 16181, 16182, 16203, 16204, 16206, 16207, 16209, 16210, 16214, 16215, 16218, 16219, 16220, 16221, 16222, 16223, 16224, 16225, 16226, 16227, 16228, 16237, 16238, 16239, 16240, 16241, 16242, 16243, 16244, 16245, 16246, 16247, 16263, 16274, 16282, 16283, 16284, 16285, 16286, 16288, 16289, 16290, 16291, 16292, 16293, 16294, 16299, 16300, 16301, 16302, 16303, 16304, 16305, 16306, 16307, 16309, 16311, 16312, 16313, 16315, 16316, 16317, 16318, 16319, 16320, 16321, 16322, 16323, 16324, 16325, 16330, 16331, 16346, 16347, 16348, 16349, 16350, 16351, 16352, 16353, 16354, 16359, 16360, 16363, 16364, 16365, 16366, 16367, 16369, 16370, 16371, 16372, 16373, 16374, 16375, 16376, 16377, 16378, 16379, 16380, 16381, 16382, 16383, 16384, 16389, 16393, 16394, 16395, 16396, 16397, 16398, 16400, 16401, 16402, 16403, 16404, 16408, 16409, 16410, 16411, 16413, 16414, 16416, 16417, 16419, 16421, 16423, 16425, 16426, 16427, 16428, 16429, 16430, 16431, 16432, 16433, 16434, 16435, 16436, 16437, 16438, 16439, 16440, 16441, 16442, 16444, 16445, 16446, 16447, 16448, 16449, 16450, 16451, 16452, 16453, 16454, 16455, 16456, 16457, 16458, 16459, 16460, 16461, 16462, 16463, 16465, 16466, 16467, 16469, 16470, 16471, 16473, 16474, 16475, 16476, 16477, 16478, 16479, 16480, 16482, 16483, 16484, 16485, 16490, 16495, 16500, 16505, 16510, 16520, 16528, 16531, 16532, 16534, 16539, 16540, 16541, 16543, 16544, 16545, 16546, 16548, 16549, 16550, 16551, 16553, 16554, 16556, 16557, 16558, 16559, 16560, 16561, 16562, 16563, 16576, 16577, 16578, 16579, 16580, 16581, 16582, 16583, 16584, 16585, 16586, 16587, 16594, 16595, 16596, 16597, 16602, 16609, 16620, 16621, 16622, 16623, 16624, 16625, 16637, 16638, 16639, 16640, 16641, 16642, 16644, 16645, 16646, 16647, 16648, 16661, 16663, 16666, 16677, 16678, 16680, 16681, 16682, 16683, 16685, 16686, 16687, 16688, 16689, 16690, 16691, 16692, 16693, 16694, 16695, 16696, 16697, 16698, 16699, 16700, 16701, 16702, 16703, 16704, 16705, 16706, 16707, 16708, 16709, 16710, 16711, 16712, 16713, 16715, 16718, 16719, 16720, 16726, 16727, 16728, 16739, 16747, 16749, 16751, 16755, 16756, 16761, 16762, 16763, 16766, 16771, 16776, 16778, 16781, 16782, 16783, 16784, 16786, 16787, 16789, 16790, 16791, 16792, 16793, 16794, 16795, 16796, 16797, 16798, 16799, 16805, 16806, 16807, 16818, 16819, 16826, 16827, 16828, 16829, 16830, 16831, 16832, 16833, 16834, 16835, 16836, 16837, 16838, 16839, 16840, 16841, 16842, 16843, 16844, 16845, 16881, 16882, 16883, 16884, 16885, 16886, 16887, 16888, 16907, 16912, 16913, 16914, 16915, 16917, 16919, 16920, 16922, 16923, 16925, 16927, 16928, 16929, 16930, 16935, 16936, 16937, 16938, 16939, 16940, 16941, 16942, 16943, 16944, 16945, 16946, 16948, 16949, 16950, 16951, 16952, 16953, 16954, 16955, 16956, 16957, 17012, 17022, 17027, 17029, 17049, 17050, 17051, 17052, 17053, 17054, 17055, 17056, 17057, 17058, 17059, 17060, 17061, 17062, 17063, 17064, 17065, 17066, 17067, 17068, 17069, 17070, 17071, 17072, 17073, 17074, 17075, 17076, 17077, 17106, 17108, 17109, 17110, 17114, 17115, 17116, 17117, 17118, 17119, 17122, 17123, 17125, 17126, 17127, 17128, 17130, 17131, 17132, 17133, 17180, 17181, 17182, 17183, 17196, 17197, 17204, 17205, 17206, 17207, 17208, 17209, 17212, 17225, 17230, 17231, 17233, 17234, 17235, 17236, 17237, 17238, 17239, 17240, 17241, 17242, 17244, 17245, 17247, 17257, 17258, 17259, 17280, 17281, 17282, 17283, 17284, 17285, 17286, 17287, 17288, 17303, 17304, 17305, 17306, 17308, 17309, 17311, 17312, 17324, 17325, 17326, 17327, 17328, 17329, 17330, 17331, 17332, 17333, 17334, 17335, 17337, 17338, 17339, 17340, 17341, 17342, 17346, 17347, 17356, 17357, 17358, 17363, 17364, 17365, 17366, 17367, 17368, 17369, 17370, 17371, 17372, 17373, 17374, 17375, 17376, 17377, 17378, 17382, 17383, 17385, 17386, 17392, 17393, 17394, 17395, 17397, 17398, 17399, 17400, 17401, 17402, 17403, 17404, 17405, 17406, 17407, 17408, 17409, 17410, 17411, 17412, 17413, 17426, 17427, 17429, 17430, 17431, 17432, 17433, 17434, 17435, 17436, 17437, 17438, 17439, 17440, 17441, 17442, 17443, 17444, 17445, 17446, 17475, 17476, 17477, 17478, 17485, 17486, 17487, 17488, 17489, 17490, 17491, 17492, 17510, 17511, 17512, 17514, 17515, 17516, 17517, 17518, 17519, 17522, 17528, 17534, 17540, 17546, 17547, 17568, 17579, 17580, 17581, 17590, 17591, 17592, 17593, 17594, 17595, 17596, 17597, 17598, 17599, 17600, 17601, 17602, 17603, 17604, 17605, 17607, 17609, 17610, 17611, 17622, 17623, 17624, 17625, 17626, 17627, 17634, 17635, 17636, 17637, 17638, 17640, 17644, 17647, 17648, 17649, 17650, 17651, 17652, 17653, 17654, 17655, 17656, 17657, 17658, 17659, 17660, 17661, 17662, 17663, 17664, 17665, 17675, 17676, 17677, 17678, 17693, 17696, 17711, 17712, 17713, 17714, 17715, 17716, 17717, 17723, 17725, 17726, 17727, 17729, 17736, 17738, 17740, 17741, 17742, 17743, 17744, 17745, 17746, 17747, 17750, 17778, 17779, 17780, 17781, 17782, 17783, 17787, 17788, 17792, 17793, 17794, 17795, 17796, 17797, 17798, 17799, 17800, 17801, 17802, 17803, 17804, 17805, 17806, 17807, 17808, 17809, 17811, 17813, 17814, 17815, 17816, 17817, 17818, 17819, 17820, 17821, 17822, 17823, 17860, 17866, 17875, 17876, 17877, 17878, 17901, 17902, 17903, 17904, 17905, 17906, 17907, 17908, 17920, 17921, 17922, 17923, 17924, 17926, 17927, 17928, 17930, 17932, 17943, 17946, 17952, 17955, 17957, 17958, 17960, 17991, 17996, 17997, 17998, 17999, 18000, 18001, 18005, 18008, 18009, 18010, 18011, 18012, 18013, 18014, 18015, 18016, 18017, 18018, 18019, 18020, 18021, 18022, 18023, 18024, 18025, 18026, 18027, 18028, 18037, 18038, 18039, 18041, 18079, 18080, 18081, 18082, 18083, 18084, 18085, 18086, 18087, 18090, 18093, 18094, 18095, 18096, 18098, 18099, 18100, 18105, 18109, 18114, 18115, 18117, 18118, 18119, 18120, 18121, 18122, 18123, 18124, 18125, 18126, 18127, 18128, 18129, 18130, 18131, 18132, 18133, 18143, 18144, 18145, 18146, 18147, 18148, 18149, 18150, 18151, 18152, 18153, 18154, 18155, 18156, 18157, 18158, 18159, 18161, 18163, 18164, 18165, 18195, 18196, 18202, 18204, 18206, 18220, 18221, 18222, 18223, 18225, 18228, 18230, 18232, 18233, 18235, 18236, 18237, 18258, 18259, 18260, 18261, 18262, 18263, 18264, 18265, 18266, 18267, 18268, 18269, 18270, 18271, 18272, 18273, 18274, 18275, 18276, 18277, 18278, 18279, 18280, 18281, 18287, 18308, 18310, 18311, 18312, 18313, 18314, 18315, 18316, 18326, 18329, 18330, 18331, 18332, 18333, 18337, 18347, 18351, 18352, 18353, 18354, 18355, 18356, 18357, 18358, 18359, 18360, 18361, 18362, 18381, 18382, 18383, 18384, 18385, 18386, 18387, 18388, 18389, 18390, 18392, 18393, 18394, 18396, 18398, 18400, 18402, 18405, 18406, 18407, 18408, 18409, 18410, 18411, 18412, 18413, 18414, 18415, 18416, 18417, 18418, 18419, 18420, 18421, 18422, 18423, 18424, 18425, 18426, 18427, 18428, 18429, 18430, 18431, 18432, 18433, 18434, 18435, 18436, 18437, 18438, 18439, 18440, 18441, 18442, 18443, 18444, 18445, 18446, 18447, 18448, 18449, 18450, 18451, 18452, 18453, 18454, 18455, 18456, 18457, 18458, 18459, 18460, 18461, 18462, 18463, 18464, 18469, 18470, 18471, 18472, 18473, 18474, 18475, 18476, 18504, 18505, 18506, 18507, 18508, 18509, 18510, 18511, 18512, 18513, 18514, 18515, 18516, 18517, 18518, 18519, 18520, 18521, 18522, 18526, 18534, 18560, 18568, 18583, 18584, 18585, 18588, 18589, 18602, 18603, 18616, 18617, 18618, 18619, 18620, 18621, 18622, 18623, 18625, 18626, 18627, 18628, 18632, 18634, 18638, 18640, 18641, 18642, 18643, 18644, 18646, 18647, 18649, 18650, 18652, 18655, 18656, 18659, 18660, 18661, 18662, 18663, 18664, 18665, 18666, 18667, 18669, 18670, 18671, 18672, 18673, 18704, 18724, 18725, 18726, 18731, 18744, 18746, 18747, 18749, 18751, 18752, 18753, 18755, 18757, 18768, 18770, 18771, 18772, 18773, 18774, 18779, 18780, 18785, 18787, 18788, 18789, 18790, 18791, 18792, 18793, 18794, 18795, 18796, 18797, 18798, 18800, 18801, 18802, 18803, 18804, 18805, 18806, 18807, 18809, 18810, 18820, 18821, 18823, 18824, 18826, 18828, 18830, 18832, 18833, 18834, 18835, 18855, 18856, 18857, 18858, 18859, 18860, 18861, 18862, 18863, 18864, 18865, 18867, 18868, 18882, 18883, 18884, 18885, 18886, 18887, 18888, 18890, 18892, 18894, 18896, 18897, 18899, 18901, 18902, 18903, 18904, 18906, 18910, 18913, 18938, 18939, 18940, 18941, 18943, 18948, 18949, 18952, 18954, 18955, 18956, 18957, 18958, 18959, 18960, 18961, 18962, 18964, 18976, 18982, 18983, 18984, 18985, 18986, 18987, 18988, 18997, 18999, 19006, 19007, 19010, 19011, 19012, 19013, 19016, 19018, 19019, 19020, 19021, 19022, 19023, 19024, 19025, 19026, 19027, 19039, 19041, 19062, 19069, 19073, 19076, 19080, 19082, 19083, 19084, 19085, 19086, 19087, 19088, 19090, 19091, 19099, 19100, 19101, 19104, 19105, 19106, 19107, 19108, 19109, 19110, 19111, 19112, 19113, 19114, 19115, 19116, 19117, 19118, 19121, 19122, 19123, 19124, 19131, 19132, 19133, 19134, 19135, 19136, 19139, 19140, 19141, 19142, 19143, 19144, 19145, 19146, 19147, 19148, 19149, 19150, 19151, 19152, 19153, 19154, 19155, 19156, 19157, 19180, 19181, 19182, 19183, 19184, 19185, 19186, 19187, 19188, 19189, 19190, 19191, 19198, 19213, 19214, 19215, 19216, 19217, 19218, 19219, 19220, 19221, 19222, 19223, 19225, 19229, 19235, 19236, 19237, 19238, 19239, 19240, 19241, 19242, 19243, 19244, 19251, 19267, 19268, 19291, 19311, 19312, 19313, 19314, 19315, 19316, 19317, 19318, 19319, 19320, 19321, 19322, 19323, 19324, 19329, 19330, 19331, 19332, 19333, 19334, 19335, 19336, 19337, 19338, 19339, 19340, 19344, 19346, 19357, 19358, 19369, 19370, 19371, 19374, 19375, 19376, 19377, 19378, 19408, 19418, 19437, 19467, 19468, 19469, 19470, 19471, 19486, 19488, 19490, 19492, 19494, 19496, 19516, 19517, 19518, 19519, 19520, 19521, 19522, 19523, 19524, 19525, 19526, 19527, 19528, 19529, 19533, 19535, 19537, 19539, 19540, 19541, 19542, 19543, 19544, 19545, 19546, 19547, 19548, 19549, 19550, 19551, 19552, 19554, 19555, 19556, 19558, 19559, 19560, 19561, 19562, 19563, 19564, 19565, 19567, 19569, 19571, 19577, 19578, 19579, 19580, 19581, 19582, 19583, 19584, 19585, 19586, 19587, 19604, 19605, 19606, 19613, 19615, 19616, 19617, 19619, 19620, 19621, 19622, 19635, 19636, 19637, 19638, 19639, 19640, 19641, 19642, 19643, 19644, 19645, 19646, 19647, 19648, 19649, 19650, 19660, 19661, 19662, 19663, 19664, 19665, 19666, 19667, 19678, 19679, 19680, 19681, 19682, 19683, 19684, 19685, 19701, 19702, 19703, 19704, 19705, 19706, 19707, 19708, 19709, 19714, 19715, 19716, 19717, 19718, 19719, 19720, 19721, 19722, 19746, 19747, 19765, 19767, 19769, 19770, 19776, 19777, 19778, 19779, 19780, 19786, 19787, 19788, 19789, 19790, 19791, 19792, 19794, 19795, 19815, 19816, 19817, 19818, 19819, 19820, 19821, 19822, 19850, 19860, 19877, 19878, 19879, 19880, 19881, 19882, 19883, 19884, 19885, 19895, 19902, 19916, 19937, 19944, 19955, 19957, 19959, 19961, 19963, 19965, 19967, 19969, 19971, 19996, 20000, 20025, 20026, 20031, 20032, 20033, 20034, 20035, 20052, 20054, 20055, 20056, 20057, 20058, 20059, 20060, 20061, 20062, 20063, 20093, 20094, 20095, 20096, 20108, 20109, 20110, 20111, 20112, 20113, 20114, 20115, 20116, 20117, 20118, 20119, 20120, 20121, 20122, 20123, 20124, 20125, 20126, 20127, 20128, 20130, 20131, 20133, 20142, 20143, 20144, 20145, 20154, 20167, 20174, 20175, 20176, 20177, 20178, 20180, 20182, 20183, 20184, 20186, 20187, 20188, 20190, 20191, 20198, 20199, 20200, 20201, 20202, 20203, 20204, 20205, 20209, 20212, 20213, 20215, 20216, 20217, 20218, 20219, 20220, 20221, 20222, 20223, 20224, 20226, 20227, 20228, 20229, 20230, 20231, 20232, 20233, 20234, 20235, 20236, 20237, 20238, 20239, 20240, 20241, 20242, 20243, 20244, 20245, 20246, 20247, 20248, 20249, 20257, 20259, 20260, 20265, 20266, 20267, 20268, 20269, 20270, 20273, 20274, 20276, 20277, 20278, 20279, 20281, 20282, 20283, 20284, 20285, 20286, 20287, 20288, 20289, 20290, 20291, 20292, 20293, 20294, 20295, 20296, 20297, 20298, 20299, 20300, 20305, 20308, 20324, 20325, 20326, 20327, 20328, 20329, 20356, 20357, 20358, 20359, 20360, 20361, 20365, 20366, 20367, 20368, 20369, 20370, 20371, 20372, 20373, 20374, 20375, 20376, 20377, 20378, 20379, 20380, 20394, 20397, 20398, 20399, 20400, 20401, 20403, 20404, 20405, 20408, 20410, 20411, 20414, 20415, 20416, 20417, 20418, 20419, 20420, 20421, 20422, 20423, 20424, 20425, 20426, 20427, 20428, 20442, 20449, 20450, 20455, 20456, 20457, 20458, 20459, 20460, 20461, 20462, 20463, 20464, 20465, 20466, 20467, 20468, 20469, 20470, 20471, 20472, 20473, 20474, 20475, 20476, 20477, 20478, 20479, 20480, 20481, 20482, 20483, 20484, 20485, 20486, 20487, 20488, 20489, 20491, 20492, 20493, 20494, 20495, 20496, 20497, 20498, 20499, 20500, 20501, 20505, 20506, 20507, 20508, 20509, 20510, 20511, 20512, 20513, 20514, 20515, 20516, 20517, 20518, 20519, 20520, 20521, 20522, 20523, 20524, 20528, 20529, 20530, 20531, 20532, 20533, 20534, 20535, 20536, 20537, 20539, 20540, 20550, 20564, 20599, 20601, 20603, 20611, 20612, 20613, 20614, 20615, 20618, 20633, 20635, 20638, 20653, 20657, 20675, 20676, 20677, 20681, 20682, 20683, 20684, 20702, 20703, 20704, 20706, 20707, 20709, 20710, 20711, 20713, 20714, 20715, 20716, 20718, 20720, 20722, 20730, 20734, 20735, 20736, 20737, 20738, 20739, 20740, 20745, 20746, 20747, 20748, 20749, 20750, 20751, 20752, 20756, 20757, 20758, 20759, 20760, 20761, 20762, 20763, 20765, 20775, 20783, 20789, 20790, 20791, 20792, 20807, 20808, 20809, 20810, 20811, 20812, 20814, 20815, 20816, 20817, 20818, 20819, 20820, 20821, 20822, 20823, 20824, 20829, 20838, 20841, 20844, 20847, 20877, 20878, 20880, 20882, 20883, 20884, 20886, 20887, 20888, 20889, 20891, 20893, 20894, 20895, 20896, 20925, 20926, 20928, 20937, 20938, 20940, 20941, 20947, 20948, 20949, 20950, 20951, 20952, 20953, 20954, 20955, 20956, 20957, 20958, 20959, 20960, 20961, 20962, 20963, 20964, 20965, 20966, 20967, 20968, 20969, 20970, 20974, 20975, 20976, 20977, 20981, 20993, 20996, 20999, 21002, 21005, 21006, 21007, 21009, 21010, 21011, 21012, 21013, 21014, 21015, 21016, 21017, 21018, 21019, 21020, 21021, 21022, 21023, 21024, 21025, 21028, 21029, 21030, 21031, 21032, 21034, 21035, 21036, 21037, 21038, 21039, 21041, 21043, 21045, 21047, 21050, 21052, 21053, 21054, 21055, 21074, 21075, 21076, 21077, 21080, 21094, 21095, 21102, 21103, 21104, 21105, 21106, 21107, 21108, 21109, 21110, 21111, 21132, 21133, 21134, 21135, 21136, 21137, 21138, 21142, 21143, 21144, 21146, 21147, 21148, 21163, 21171, 21172, 21173, 21174, 21175, 21176, 21177, 21178, 21180, 21181, 21186, 21187, 21188, 21189, 21190, 21191, 21193, 21194, 21195, 21196, 21197, 21198, 21199, 21200, 21201, 21202, 21203, 21204, 21205, 21213, 21214, 21215, 21216, 21217, 21218, 21219, 21220, 21222, 21238, 21242, 21244, 21245, 21246, 21247, 21253, 21254, 21255, 21256, 21264, 21265, 21266, 21268, 21269, 21270, 21271, 21272, 21273, 21274, 21275, 21289, 21290, 21298, 21312, 21313, 21315, 21316, 21317, 21318, 21321, 21322, 21339, 21340, 21341, 21342, 21343, 21344, 21345, 21346, 21347, 21348, 21349, 21350, 21351, 21352, 21353, 21356, 21357, 21358, 21360, 21361, 21362, 21363, 21364, 21365, 21367, 21368, 21369, 21370, 21371, 21372, 21373, 21374, 21375, 21379, 21380, 21381, 21382, 21383, 21384, 21385, 21386, 21413, 21414, 21416, 21419, 21423, 21424, 21428, 21457, 21458, 21459, 21476, 21481, 21482, 21483, 21484, 21485, 21486, 21487, 21488, 21489, 21490, 21530, 21531, 21532, 21533, 21534, 21535, 21536, 21537, 21538, 21539, 21540, 21541, 21542, 21544, 21545, 21546, 21547, 21548, 21549, 21550, 21551, 21559, 21560, 21564, 21567, 21570, 21577, 21578, 21580, 21582, 21584, 21589, 21590, 21591, 21592, 21595, 21596, 21597, 21598, 21599, 21600, 21601, 21602, 21612, 21618, 21626, 21627, 21628, 21629, 21631, 21632, 21633, 21635, 21636, 21637, 21638, 21640, 21641, 21643, 21645, 21647, 21651, 21652, 21653, 21654, 21655, 21656, 21657, 21658, 21659, 21660, 21661, 21680, 21686, 21687, 21688, 21689, 21702, 21715, 21716, 21752, 21753, 21754, 21756, 21757, 21758, 21759, 21787, 21788, 21789, 21790, 21797, 21800, 21804, 21805, 21806, 21824, 21825, 21828, 21829, 21830, 21831, 21833, 21835, 21837, 21853, 21876, 21877, 21878, 21884, 21903, 21904, 21905, 21909, 21912, 21915, 21916, 21917, 21918, 21919, 21920, 21921, 21922, 21923, 21924, 21925, 21926, 21927, 21928, 21929, 21960, 21961, 21962, 21963, 21966, 22061, 22075, 22076, 22077, 22079, 22081, 22083, 22085, 22087, 22088, 22089, 22090, 22091, 22092, 22093, 22107, 22110, 22111, 22114, 22160, 22161, 22162, 22163, 22164, 22165, 22166, 22167, 22168, 22169, 22170, 22171, 22172, 22173, 22174, 22175, 22176, 22177, 22179, 22180, 22187, 22201, 22215, 22227, 22241, 22242, 22243, 22244, 22245, 22246, 22247, 22248, 22249, 22250, 22251, 22252, 22253, 22254, 22255, 22256, 22257, 22258, 22259, 22260, 22283, 22284, 22285, 22297, 22298, 22299, 22304, 22311, 22313, 22315, 22318, 22326, 22327, 22328, 22329, 22330, 22332, 22348, 22350, 22369, 22370, 22371, 22372, 22373, 22374, 22380, 22381, 22382, 22383, 22384, 22385, 22386, 22387, 22388, 22389, 22390, 22391, 22409, 22410, 22411, 22412, 22414, 22415, 22417, 22418, 22423, 22424, 22430, 22431, 22437, 22438, 22440, 22441, 22447, 22448, 22450, 22451, 22453, 22454, 22456, 22457, 22458, 22459, 22460, 22461, 22462, 22463, 22464, 22465, 22466, 22467, 22472, 22479, 22492, 22495, 22499, 22500, 22501, 22502, 22503, 22504, 22505, 22506, 22507, 22508, 22509, 22511, 22512, 22513, 22514, 22515, 22516, 22517, 22518, 22519, 22520, 22521, 22523, 22526, 22549, 22559, 22561, 22562, 22563, 22564, 22565, 22566, 22567, 22568, 22569, 22570, 22585, 22586, 22587, 22588, 22589, 22590, 22591, 22592, 22593, 22594, 22595, 22597, 22598, 22599, 22600, 22601, 22602, 22603, 22604, 22605, 22606, 22607, 22608, 22609, 22610, 22611, 22612, 22613, 22614, 22615, 22616, 22623, 22639, 22734, 22739, 22766, 22767, 22768, 22769, 22770, 22771, 22772, 22773, 22774, 22775, 22776, 22777, 22778, 22779, 22780, 22781, 22782, 22783, 22784, 22792, 22793, 22794, 22795, 22796, 22797, 22798, 22799, 22800, 22813, 22814, 22815, 22816, 22818, 22820, 22823, 22824, 22825, 22826, 22828, 22848, 22850, 22862, 22863, 22864, 22865, 22866, 22867, 22868, 22869, 22870, 22878, 22879, 22880, 22881, 22882, 22884, 22885, 22886, 22887, 22888, 22889, 22916, 22917, 22919, 22920, 22931, 22941, 22942, 22944, 22945, 22950, 22951, 22952, 22953, 22954, 22955, 22956, 22957, 22958, 22966, 22989, 22990, 22994, 22995, 22996, 22997, 23015, 23016, 23017, 23018, 23020, 23021, 23023, 23024, 23025, 23026, 23031, 23032, 23038, 23039, 23045, 23057, 23061, 23063, 23066, 23067, 23070, 23071, 23074, 23075, 23077, 23079, 23081, 23083, 23085, 23087, 23089, 23091, 23092, 23093, 23094, 23095, 23096, 23097, 23098, 23099, 23100, 23101, 23102, 23103, 23107, 23111, 23121, 23122, 23124, 23126, 23128, 23129, 23130, 23131, 23144, 23145, 23146, 23147, 23148, 23149, 23179, 23183, 23209, 23219, 23232, 23233, 23234, 23235, 23236, 23237, 23238, 23239, 23240, 23241, 23245, 23246, 23250, 23262, 23263, 23265, 23266, 23267, 23268, 23269, 23270, 23271, 23290, 23300, 23305, 23306, 23307, 23308, 23309, 23310, 23311, 23312, 23313, 23314, 23315, 23340, 23342, 23344, 23345, 23346, 23347, 23348, 23349, 23350, 23354, 23355, 23356, 23357, 23358, 23359, 23360, 23361, 23362, 23363, 23364, 23365, 23366, 23378, 23379, 23380, 23381, 23382, 23383, 23384, 23385, 23386, 23387, 23388, 23402, 23404, 23412, 23413, 23414, 23415, 23416, 23417, 23418, 23427, 23428, 23458, 23463, 23495, 23497, 23498, 23500, 23503, 23504, 23505, 23506, 23508, 23510, 23511, 23512, 23513, 23514, 23515, 23517, 23519, 23520, 23522, 23523, 23524, 23525, 23526, 23527, 23528, 23529, 23530, 23531, 23532, 23533, 23534, 23535, 23536, 23537, 23538, 23539, 23540, 23541, 23542, 23543, 23544, 23545, 23546, 23547, 23548, 23549, 23550, 23569, 23570, 23578, 23579, 23580, 23581, 23582, 23583, 23584, 23585, 23586, 23603, 23604, 23605, 23606, 23611, 23616, 23621, 23657, 23658, 23659, 23660, 23661, 23662, 23663, 23664, 23665, 23666, 23679, 23680, 23683, 23685, 23687, 23689, 23691, 23693, 23695, 23697, 23699, 23709, 23710, 23711, 23712, 23713, 23714, 23715, 23716, 23717, 23718, 23719, 23720, 23726, 23727, 23728, 23729, 23730, 23731, 23732, 23733, 23734, 23735, 23736, 23737, 23738, 23739, 23740, 23741, 23742, 23743, 23746, 23747, 23748, 23749, 23750, 23751, 23752, 23753, 23754, 23755, 23756, 23759, 23760, 23761, 23762, 23763, 23764, 23790, 23791, 23792, 23793, 23794, 23795, 23796, 23797, 23798, 23799, 23800, 23802, 23803, 23804, 23805, 23806, 23807, 23808, 23809, 23810, 23811, 23836, 23842, 23843, 23850, 23852, 23854, 23856, 23861, 23864, 23869, 23870, 23871, 23872, 23873, 23874, 23875, 23881, 23882, 23883, 23884, 23885, 23889, 23890, 23891, 23892, 23908, 23909, 23910, 23911, 23912, 23917, 23918, 23919, 23920, 23921, 23922, 23923, 23924, 23925, 23926, 23927, 23928, 23929, 23930, 23931, 23932, 23933, 23934, 23935, 23936, 23937, 23938, 23939, 23940, 23941, 23942, 23943, 23944, 23963, 23964, 23965, 23966, 23968, 23969, 23971, 23972, 23973, 23974, 23975, 23976, 23977, 23978, 23979, 23982, 23983, 23984, 23985, 23986, 23987, 23988, 23989, 23990, 23991, 23992, 23993, 23994, 23995, 23996, 23997, 23998, 23999, 24000, 24001, 24002, 24003, 24004, 24005, 24006, 24007, 24008, 24009, 24010, 24011, 24012, 24013, 24014, 24015, 24016, 24017, 24018, 24033, 24034, 24035, 24036, 24038, 24041, 24043, 24054, 24056, 24058, 24059, 24060, 24062, 24063, 24066, 24067, 24068, 24069, 24071, 24075, 24076, 24077, 24078, 24079, 24080, 24081, 24082, 24083, 24084, 24085, 24086, 24088, 24096, 24097, 24098, 24100, 24117, 24118, 24119, 24120, 24121, 24122, 24123, 24131, 24133, 24135, 24139, 24140, 24141, 24142, 24143, 24144, 24145, 24146, 24147, 24148, 24149, 24150, 24151, 24152, 24153, 24154, 24156, 24158, 24174, 24175, 24176, 24177, 24178, 24179, 24180, 24181, 24182, 24183, 24184, 24185, 24186, 24187, 24188, 24200, 24201, 24202, 24203, 24204, 24205, 24206, 24207, 24208, 24209, 24210, 24211, 24212, 24213, 24215, 24216, 24217, 24218, 24219, 24220, 24221, 24222, 24223, 24224, 24225, 24232, 24242, 24261, 24280, 24287, 24288, 24289, 24291, 24292, 24305, 24306, 24307, 24319, 24321, 24322, 24330, 24331, 24332, 24333, 24334, 24335, 24336, 24337, 24338, 24339, 24341, 24343, 24344, 24345, 24361, 24376, 24377, 24378, 24379, 24380, 24381, 24383, 24391, 24392, 24393, 24394, 24395, 24396, 24405, 24416, 24417, 24418, 24419, 24420, 24421, 24424, 24426, 24434, 24435, 24436, 24437, 24438, 24439, 24460, 24461, 24462, 24463, 24464, 24465, 24467, 24468, 24469, 24481, 24482, 24483, 24484, 24485, 24486, 24487, 24488, 24489, 24490, 24491, 24498, 24499, 24501, 24503, 24505, 24507, 24513, 24515, 24517, 24518, 24538, 24541, 24542, 24543, 24544, 24545, 24546, 24547, 24548, 24549, 24550, 24551, 24552, 24553, 24554, 24555, 24556, 24557, 24558, 24559, 24560, 24561, 24562, 24563, 24564, 24565, 24566, 24567, 24569, 24571, 24578, 24579, 24580, 24581, 24582, 24583, 24584, 24585, 24586, 24587, 24588, 24589, 24591, 24592, 24605, 24606, 24607, 24608, 24609, 24610, 24611, 24613, 24614, 24616, 24622, 24623, 24624, 24625, 24626, 24627, 24628, 24629, 24630, 24631, 24632, 24633, 24654, 24655, 24656, 24657, 24658, 24659, 24660, 24661, 24665, 24666, 24667, 24671, 24672, 24673, 24707, 24709, 24710, 24711, 24713, 24714, 24715, 24716, 24718, 24719, 24724, 24727, 24728, 24731, 24754, 24756, 24757, 24758, 24760, 24761, 24763, 24765, 24766, 24767, 24768, 24769, 24770, 24771, 24779, 24786, 24793, 24806, 24813, 24823, 24824, 24838, 24839, 24859, 24860, 24861, 24862, 24863, 24864, 24865, 24866, 24867, 24868, 24869, 24870, 24871, 24872, 24873, 24874, 24875, 24876, 24877, 24878, 24879, 24880, 24881, 24900, 24901, 24902, 24903, 24904, 24905, 24906, 24907, 24911, 24912, 24913, 24915, 24917, 24919, 24920, 24921, 24922, 24961, 24975, 24987, 25001, 25002, 25003, 25004, 25005, 25006, 25007, 25008, 25010, 25011, 25012, 25048, 25049, 25050, 25051, 25052, 25053, 25055, 25056, 25057, 25058, 25059, 25060, 25061, 25063, 25065, 25066, 25067, 25068, 25069, 25070, 25074, 25075, 25076, 25077, 25101, 25102, 25103, 25104, 25105, 25106, 25120, 25127, 25128, 25129, 25130, 25131, 25133, 25135, 25137, 25139, 25141, 25143, 25145, 25146, 25147, 25148, 25149, 25150, 25151, 25152, 25153, 25154, 25155, 25157, 25158, 25159, 25160, 25161, 25162, 25163, 25164, 25165, 25166, 25167, 25168, 25169, 25170, 25171, 25172, 25173, 25175, 25176, 25181, 25182, 25184, 25185, 25186, 25218, 25219, 25220, 25221, 25223, 25224, 25225, 25226, 25227, 25230, 25231, 25232, 25233, 25234, 25235, 25236, 25237, 25239, 25241, 25244, 25247, 25249, 25251, 25252, 25253, 25254, 25255, 25256, 25257, 25258, 25259, 25260, 25261, 25262, 25263, 25284, 25285, 25286, 25287, 25288, 25289, 25290, 25291, 25304, 25306, 25307, 25329, 25334, 25336, 25338, 25339, 25340, 25341, 25351, 25352, 25353, 25357, 25371, 25372, 25376, 25377, 25378, 25394, 25395, 25396, 25397, 25398, 25399, 25400, 25401, 25402, 25403, 25404, 25405, 25406, 25415, 25416, 25417, 25420, 25421, 25422, 25423, 25424, 25439, 25441, 25442, 25443, 25444, 25445, 25446, 25447, 25448, 25449, 25450, 25451, 25452, 25453, 25454, 25455, 25456, 25457, 25458, 25459, 25460, 25461, 25462, 25463, 25465, 25467, 25469, 25470, 25478, 25479, 25480, 25481, 25483, 25485, 25487, 25488, 25489, 25491, 25492, 25494, 25495, 25496, 25497, 25498, 25499, 25500, 25501, 25502, 25505, 25527, 25528, 25529, 25530, 25531, 25532, 25533, 25534, 25535, 25536, 25537, 25538, 25572, 25573, 25579, 25580, 25586, 25587, 25588, 25589, 25590, 25591, 25593, 25594, 25595, 25596, 25597, 25599, 25600, 25601, 25602, 25603, 25604, 25605, 25606, 25607, 25608, 25609, 25610, 25611, 25612, 25613, 25614, 25615, 25616, 25623, 25624, 25626, 25629, 25658, 25659, 25661, 25663, 25664, 25666, 25668, 25670, 25691, 25692, 25693, 25694, 25695, 25700, 25701, 25702, 25703, 25712, 25713, 25721, 25724, 25727, 25728, 25732, 25741, 25752, 25754, 25755, 25756, 25757, 25758, 25759, 25760, 25761, 25762, 25764, 25765, 25766, 25767, 25768, 25770, 25772, 25774, 25775, 25787, 25788, 25789, 25790, 25791, 25792, 25793, 25794, 25795, 25796, 25797, 25798, 25799, 25800, 25801, 25802, 25803, 25804, 25805, 25806, 25807, 25808, 25809, 25818, 25821, 25831, 25834, 25836, 25839, 25840, 25841, 25842, 25843, 25845, 25847, 25849, 25850, 25852, 25853, 25854, 25855, 25856, 25857, 25858, 25859, 25861, 25863, 25864, 25865, 25868, 25869, 25870, 25871, 25876, 25882, 25889, 25926, 25928, 25930, 25932, 25933, 25934, 25935, 25936, 25937, 25938, 25939, 25940, 25941, 25942, 25943, 25945, 25947, 25948, 25950, 25952, 25954, 25956, 25958, 25959, 25960, 25961, 25962, 25963, 25964, 25965, 25966, 25967, 25968, 25969, 25970, 25972, 25974, 25976, 25978, 25980, 25981, 25982, 25983, 25984, 25985, 25986, 25987, 25988, 25989, 25990, 25991, 25992, 25993, 25994, 25995, 25996, 25997, 25998, 25999, 26001, 26004, 26005, 26006, 26007, 26008, 26023, 26025, 26026, 26029, 26032, 26034, 26041, 26042, 26045, 26047, 26048, 26063, 26064, 26065, 26066, 26068, 26069, 26070, 26071, 26072, 26073, 26074, 26075, 26076, 26079, 26080, 26082, 26085, 26123, 26125, 26126, 26127, 26129, 26131, 26132, 26133, 26135, 26136, 26137, 26141, 26142, 26143, 26144, 26145, 26146, 26147, 26148, 26149, 26150, 26151, 26192, 26193, 26194, 26195, 26196, 26197, 26198, 26199, 26200, 26201, 26202, 26203, 26204, 26205, 26206, 26207, 26208, 26210, 26213, 26215, 26217, 26230, 26232, 26234, 26236, 26253, 26254, 26255, 26256, 26257, 26258, 26259, 26260, 26261, 26262, 26263, 26264, 26265, 26266, 26267, 26268, 26269, 26270, 26271, 26272, 26273, 26274, 26275, 26276, 26277, 26278, 26279, 26280, 26281, 26282, 26283, 26284, 26285, 26311, 26312, 26313, 26314, 26315, 26316, 26317, 26318, 26319, 26320, 26321, 26322, 26323, 26324, 26325, 26344, 26393, 26405, 26434, 26435, 26440, 26441, 26442, 26443, 26444, 26445, 26446, 26447, 26448, 26462, 26463, 26464, 26465, 26466, 26468, 26469, 26538, 26567, 26568, 26569, 26570, 26571, 26572, 26573, 26574, 26575, 26576, 26577, 26578, 26579, 26580, 26581, 26582, 26583, 26584, 26585, 26586, 26587, 26588, 26589, 26590, 26591, 26592, 26607, 26609, 26618, 26619, 26620, 26621, 26622, 26624, 26626, 26628, 26630, 26632, 26633, 26634, 26635, 26636, 26637, 26638, 26639, 26640, 26641, 26643, 26644, 26645, 26646, 26647, 26648, 26650, 26651, 26652, 26656, 26657, 26665, 26666, 26667, 26668, 26672, 26673, 26706, 26756, 26891, 26892, 26894, 26896, 26898, 26900, 26919, 26920, 26921, 26922, 26923, 26924, 26925, 26926, 26927, 26928, 26929, 26930, 26955, 26956, 26957, 26958, 26959, 26960, 26961, 26963, 26964, 26965, 26966, 26967, 26968, 26969, 26970, 26971, 26972, 26973, 26974, 26975, 26976, 26977, 26978, 26979, 26980, 26981, 26982, 26983, 26984, 26985, 26986, 26987, 26991, 27002, 27003, 27004, 27005, 27006, 27007, 27008, 27009, 27010, 27011, 27012, 27013, 27014, 27026, 27027, 27028, 27030, 27032, 27033, 27034, 27035, 27036, 27037, 27038, 27039, 27040, 27041, 27042, 27043, 27044, 27047, 27050, 27054, 27061, 27062, 27091, 27092, 27093, 27094, 27096, 27099, 27106, 27108, 27109, 27110, 27112, 27113, 27114, 27115, 27123, 27124, 27125, 27126, 27127, 27128, 27129, 27130, 27131, 27132, 27133, 27134, 27135, 27136, 27137, 27138, 27139, 27140, 27141, 27142, 27143, 27144, 27145, 27146, 27147, 27148, 27149, 27150, 27151, 27152, 27153, 27155, 27156, 27157, 27158, 27159, 27160, 27161, 27162, 27163, 27164, 27165, 27166, 27167, 27168, 27169, 27170, 27171, 27172, 27173, 27174, 27175, 27177, 27179, 27181, 27184, 27193, 27194, 27195, 27198, 27199, 27200, 27201, 27202, 27203, 27205, 27206, 27227, 27228, 27229, 27230, 27231, 27232, 27235, 27238, 27239, 27248, 27249, 27250, 27251, 27252, 27253, 27254, 27255, 27256, 27264, 27265, 27266, 27267, 27268, 27269, 27270, 27271, 27272, 27273, 27274, 27275, 27276, 27277, 27278, 27279, 27285, 27286, 27287, 27290, 27293, 27296, 27300, 27303, 27306, 27309, 27328, 27329, 27330, 27332, 27333, 27334, 27336, 27337, 27338, 27339, 27340, 27341, 27342, 27343, 27344, 27345, 27347, 27349, 27350, 27364, 27365, 27366, 27367, 27368, 27369, 27370, 27371, 27372, 27373, 27374, 27375, 27376, 27377, 27378, 27379, 27380, 27381, 27382, 27383, 27385, 27391, 27392, 27394, 27402, 27404, 27405, 27407, 27408, 27409, 27410, 27411, 27439, 27441, 27443, 27445, 27447, 27449, 27451, 27464, 27465, 27466, 27467, 27468, 27469, 27470, 27471, 27472, 27473, 27475, 27476, 27477, 27478, 27480, 27482, 27484, 27486, 27487, 27489, 27490, 27496, 27497, 27513, 27514, 27515, 27516, 27517, 27518, 27519, 27520, 27521, 27522, 27523, 27524, 27525, 27526, 27527, 27534, 27536, 27537, 27539, 27541, 27542, 27544, 27554, 27560, 27561, 27567, 27568, 27595, 27613, 27614, 27615, 27616, 27617, 27618, 27619, 27620, 27622, 27623, 27624, 27625, 27626, 27627, 27628, 27629, 27631, 27632, 27633, 27634, 27635, 27636, 27637, 27638, 27639, 27640, 27642, 27649, 27650, 27651, 27652, 27653, 27654, 27655, 27656, 27657, 27658, 27659, 27660, 27705, 27706, 27707, 27708, 27709, 27710, 27711, 27712, 27713, 27714, 27716, 27718, 27720, 27748, 27754, 27755, 27756, 27773, 27778, 27790, 27791, 27794, 27796, 27798, 27805, 27806, 27807, 27808, 27809, 27810, 27811, 27812, 27813, 27814, 27816, 27817, 27818, 27819, 27839, 27840, 27841, 27847, 27852, 27853, 27854, 27855, 27857, 27858, 27859, 27860, 27861, 27862, 27863, 27864, 27865, 27866, 27867, 27868, 27869, 27870, 27871, 27872, 27873, 27874, 27875, 27876, 27877, 27878, 27879, 27880, 27881, 27882, 27883, 27884, 27891, 27894, 27897, 27899, 27900, 27903, 27906, 27908, 27909, 27910, 27911, 27913, 27915, 27916, 27918, 27920, 27921, 27922, 27923, 27924, 27926, 27928, 27931, 27932, 27933, 27934, 27935, 27936, 27937, 27938, 27939, 27940, 27941, 27947, 27959, 27962, 27965, 27968, 27981, 27982, 27983, 27984, 27991, 27992, 27998, 27999, 28005, 28011, 28012, 28031, 28055, 28079, 28080, 28084, 28085, 28086, 28087, 28088, 28089, 28091, 28092, 28093, 28094, 28095, 28096, 28097, 28098, 28101, 28102, 28104, 28105, 28106, 28107, 28108, 28109, 28110, 28111, 28116, 28117, 28118, 28119, 28121, 28122, 28123, 28124, 28125, 28126, 28127, 28128, 28129, 28130, 28133, 28135, 28136, 28159, 28160, 28161, 28162, 28163, 28164, 28165, 28166, 28167, 28192, 28193, 28195, 28196, 28197, 28198, 28217, 28219, 28221, 28222, 28223, 28224, 28225, 28227, 28229, 28231, 28233, 28235, 28236, 28238, 28240, 28245, 28246, 28247, 28263, 28265, 28270, 28271, 28272, 28273, 28274, 28275, 28276, 28277, 28278, 28279, 28280, 28281, 28282, 28287, 28288, 28295, 28298, 28300, 28302, 28303, 28305, 28306, 28307, 28308, 28309, 28311, 28324, 28325, 28326, 28328, 28329, 28331, 28332, 28333, 28334, 28335, 28336, 28337, 28338, 28339, 28348, 28353, 28356, 28357, 28358, 28359, 28360, 28362, 28363, 28368, 28378, 28391, 28408, 28409, 28430, 28431, 28432, 28433, 28434, 28435, 28436, 28437, 28438, 28439, 28440, 28444, 28445, 28446, 28447, 28448, 28449, 28451, 28453, 28459, 28461, 28463, 28465, 28466, 28469, 28470, 28472, 28476, 28477, 28478, 28479, 28481, 28482, 28486, 28487, 28501, 28502, 28503, 28504, 28505, 28523, 28525, 28537, 28548, 28575, 28578, 28581, 28584, 28604, 28605, 28606, 28607, 28608, 28609, 28611, 28612, 28614, 28615, 28617, 28618, 28620, 28635, 28637, 28639, 28640, 28641, 28642, 28643, 28644, 28645, 28646, 28647, 28648, 28649, 28651, 28652, 28653, 28654, 28655, 28656, 28657, 28658, 28659, 28693, 28694, 28695, 28696, 28698, 28699, 28700, 28701, 28702, 28703, 28704, 28705, 28706, 28707, 28708, 28711, 28718, 28719, 28720, 28721, 28722, 28728, 28730, 28732, 28735, 28737, 28739, 28741, 28744, 28746, 28750, 28751, 28752, 28755, 28762, 28768, 28777, 28778, 28779, 28780, 28781, 28787, 28788, 28789, 28790, 28791, 28802, 28803, 28804, 28806, 28807, 28808, 28809, 28810, 28811, 28812, 28813, 28814, 28815, 28816, 28817, 28818, 28819, 28820, 28821, 28822, 28825, 28826, 28828, 28830, 28832, 28834, 28836, 28838, 28840, 28845, 28846, 28847, 28848, 28849, 28850, 28851, 28852, 28853, 28854, 28855, 28864, 28865, 28881, 28882, 28883, 28884, 28885, 28886, 28887, 28888, 28889, 28890, 28891, 28892, 28893, 28894, 28895, 28896, 28897, 28916, 28917, 28918, 28919, 28920, 28921, 28922, 28923, 28924, 28925, 28926, 28927, 28928, 28934, 28935, 28936, 28937, 28938, 28939, 28940, 28941, 28942, 28943, 28965, 28966, 28967, 28968, 28969, 28970, 28971, 28972, 28978, 28979, 28980, 28982, 28983, 28984, 28985, 28986, 28987, 28988, 28989, 28990, 29013, 29018, 29019, 29020, 29021, 29023, 29024, 29025, 29026, 29027, 29028, 29029, 29030, 29031, 29032, 29033, 29034, 29035, 29036, 29037, 29038, 29039, 29040, 29041, 29042, 29043, 29044, 29045, 29046, 29047, 29048, 29049, 29050, 29051, 29052, 29053, 29054, 29055, 29056, 29057, 29058, 29059, 29060, 29061, 29062, 29065, 29066, 29067, 29068, 29069, 29070, 29071, 29072, 29073, 29074, 29075, 29076, 29077, 29078, 29085, 29090, 29099, 29102, 29122, 29218, 29219, 29220, 29221, 29222, 29223, 29224, 29225, 29226, 29235, 29236, 29237, 29238, 29239, 29240, 29241, 29247, 29250, 29253, 29256, 29258, 29260, 29262, 29265, 29267, 29269, 29272, 29273, 29274, 29278, 29279, 29280, 29281, 29285, 29286, 29287, 29288, 29292, 29293, 29294, 29295, 29298, 29299, 29300, 29301, 29305, 29306, 29307, 29308, 29312, 29319, 29327, 29328, 29329, 29350, 29351, 29381, 29382, 29384, 29385, 29386, 29387, 29388, 29390, 29391, 29392, 29393, 29394, 29395, 29396, 29397, 29398, 29399, 29400, 29401, 29402, 29403, 29404, 29405, 29406, 29411, 29412, 29413, 29414, 29415, 29416, 29417, 29418, 29419, 29420, 29421, 29422, 29423, 29424, 29425, 29426, 29427, 29428, 29429, 29430, 29431, 29432, 29433, 29434, 29435, 29436, 29437, 29438, 29439, 29440, 29441, 29442, 29443, 29444, 29445, 29446, 29447, 29455, 29461, 29472, 29473, 29474, 29475, 29476, 29478, 29480, 29482, 29484, 29486, 29490, 29492, 29494, 29495, 29496, 29497, 29498, 29499, 29500, 29501, 29502, 29503, 29504, 29505, 29512, 29513, 29514, 29515, 29516, 29517, 29518, 29519, 29520, 29521, 29522, 29526, 29527, 29528, 29529, 29530, 29531, 29532, 29533, 29534, 29535, 29536, 29540, 29541, 29542, 29543, 29544, 29545, 29546, 29547, 29566, 29573, 29577, 29578, 29579, 29580, 29582, 29585, 29590, 29612, 29613, 29614, 29616, 29618, 29620, 29622, 29624, 29625, 29626, 29627, 29645, 29684, 29686, 29688, 29724, 29725, 29726, 29728, 29729, 29730, 29731, 29732, 29733, 29734, 29735, 29754, 29760, 29761, 29762, 29764, 29771, 29772, 29773, 29809, 29810, 29811, 29812, 29813, 29814, 29815, 29816, 29817, 29818, 29821, 29822, 29823, 29824, 29825, 29827, 29830, 29831, 29833, 29834, 29835, 29837, 29839, 29843, 29849, 29850, 29859, 29860, 29862, 29863, 29865, 29866, 29867, 29868, 29869, 29870, 29871, 29872, 29873, 29874, 29875, 29876, 29877, 29878, 29879, 29880, 29881, 29882, 29883, 29886, 29887, 29889, 29892, 29893, 29906, 29907, 29908, 29909, 29910, 29911, 29912, 29913, 29914, 29915, 29916, 29917, 29919, 29920, 29921, 29922, 29923, 29924, 29925, 29926, 29927, 29928, 29929, 29930, 29931, 29932, 29933, 29934, 29935, 29936, 29937, 29938, 29939, 29958, 29959, 29961, 29962, 29963, 29964, 29965, 29967, 29969, 29970, 29971, 29972, 29973, 29974, 29975, 29976, 29977, 29978, 29979, 29980, 29981, 29982, 29983, 29984, 29986, 29987, 29997, 29998, 29999, 30000, 30001, 30010, 30011, 30026, 30027, 30029, 30030, 30031, 30032, 30033, 30035, 30037, 30038, 30061, 30062, 30064, 30075, 30076, 30093, 30108, 30109, 30110, 30116, 30117, 30118, 30119, 30120, 30121, 30122, 30123, 30124, 30125, 30126, 30127, 30128, 30129, 30167, 30177, 30209, 30210, 30211, 30212, 30213, 30219, 30229, 30230, 30231, 30232, 30233, 30234, 30235, 30236, 30242, 30249, 30250, 30251, 30252, 30253, 30254, 30255, 30268, 30269, 30300, 30301, 30302, 30303, 30304, 30328, 30329, 30330, 30331, 30332, 30333, 30334, 30335, 30336, 30337, 30338, 30339, 30340, 30341, 30342, 30343, 30344, 30345, 30346, 30347, 30348, 30349, 30350, 30351, 30352, 30353, 30354, 30355, 30356, 30357, 30358, 30359, 30360, 30361, 30362, 30363, 30364, 30365, 30366, 30367, 30368, 30369, 30370, 30371, 30397, 30398, 30399, 30400, 30401, 30402, 30403, 30404, 30405, 30406, 30408, 30409, 30412, 30414, 30415, 30416, 30417, 30418, 30419, 30435, 30467, 30468, 30469, 30470, 30472, 30473, 30486, 30494, 30495, 30498, 30499, 30511, 30512, 30513, 30519, 30523, 30559, 30560, 30586, 30587, 30588, 30589, 30590, 30591, 30592, 30593, 30594, 30595, 30596, 30598, 30599, 30601, 30602, 30613, 30614, 30615, 30617, 30619, 30621, 30622, 30625, 30631, 30635, 30636, 30645, 30646, 30647, 30649, 30651, 30652, 30655, 30656, 30657, 30658, 30659, 30660, 30665, 30666, 30667, 30668, 30669, 30670, 30683, 30698, 30704, 30708, 30732, 30733, 30734, 30737, 30738, 30739, 30740, 30741, 30742, 30743, 30744, 30745, 30746, 30747, 30748, 30749, 30763, 30766, 30780, 30788, 30789, 30803, 30821, 30822, 30823, 30824, 30825, 30826, 30827, 30828, 30829, 30830, 30831, 30832, 30838, 30843, 30844, 30845, 30846, 30847, 30848, 30853, 30854, 30855, 30863, 30871, 30872, 30873, 30874, 30875, 30881, 30882, 30883, 30884, 30885, 30886, 30887, 30893, 30894, 30896, 30897, 30898, 30899, 30900, 30901, 30902, 30903, 30904, 30905, 30907, 30908, 30909, 30910, 30911, 30912, 30913, 30914, 30915, 30916, 30918, 30919, 30920, 30922, 30930, 30931, 30948, 30949, 30951, 30952, 30953, 30954, 30955, 30956, 30957, 30997, 30998, 30999, 31001, 31002, 31004, 31005, 31045, 31048, 31050, 31051, 31052, 31053, 31054, 31055, 31107, 31108, 31147, 31182, 31183, 31185, 31190, 31191, 31192, 31193, 31194, 31195, 31196, 31197, 31198, 31199, 31200, 31201, 31202, 31203, 31204, 31205, 31206, 31207, 31208, 31209, 31210, 31211, 31213, 31224, 31226, 31228, 31230, 31232, 31233, 31234, 31235, 31236, 31237, 31239, 31240, 31241, 31242, 31271, 31272, 31273, 31274, 31275, 31276, 31277, 31278, 31279, 31281, 31282, 31283, 31284, 31285, 31288, 31291, 31294, 31297, 31299, 31308, 31309, 31310, 31311, 31312, 31313, 31314, 31315, 31318, 31320, 31322, 31324, 31342, 31343, 31344, 31345, 31346, 31347, 31348, 31349, 31350, 31351, 31352, 31353, 31354, 31355, 31356, 31370, 31371, 31372, 31373, 31375, 31376, 31377, 31378, 31380, 31381, 31382, 31384, 31386, 31387, 31388, 31389, 31390, 31391, 31392, 31393, 31400, 31403, 31405, 31406, 31407, 31408, 31409, 31410, 31411, 31412, 31413, 31414, 31415, 31417, 31423, 31429, 31430, 31431, 31432, 31433, 31434, 31435, 31436, 31437, 31438, 31439, 31441, 31442, 31443, 31444, 31445, 31446, 31447, 31448, 31449, 31450, 31451, 31452, 31453, 31454, 31455, 31456, 31457, 31458, 31459, 31464, 31465, 31466, 31468, 31469, 31470, 31471, 31472, 31473, 31474, 31475, 31476, 31477, 31478, 31479, 31480, 31481, 31482, 31484, 31503, 31504, 31505, 31506, 31507, 31512, 31556, 31557, 31558, 31559, 31561, 31562, 31567, 31569, 31571, 31573, 31585, 31590, 31591, 31592, 31593, 31594, 31595, 31606, 31622, 31623, 31625, 31626, 31627, 31628, 31629, 31630, 31631, 31632, 31633, 31634, 31635, 31636, 31644, 31645, 31658, 31659, 31660, 31663, 31664, 31665, 31666, 31667, 31668, 31669, 31676, 31677, 31678, 31680, 31681, 31683, 31684, 31685, 31687, 31689, 31690, 31691, 31692, 31693, 31694, 31695, 31696, 31697, 31718, 31721, 31723, 31725, 31727, 31760, 31761, 31762, 31765, 31766, 31767, 31769, 31770, 31771, 31772, 31773, 31774, 31779, 31801, 31806, 31815, 31850, 31851, 31852, 31853, 31854, 31855, 31856, 31857, 31858, 31859, 31860, 31861, 31862, 31863, 31864, 31865, 31866, 31867, 31868, 31869, 31898, 31900, 31901, 31902, 31911, 31912, 31913, 31914, 31915, 31916, 31917, 31918, 31920, 31921, 31922, 31923, 31924, 31925, 31926, 31927, 31928, 31929, 31930, 31931, 31932, 31933, 31934, 31935, 31936, 31937, 31938, 31939, 31940, 31941, 31942, 31943, 31944, 31945, 31946, 31947, 31949, 31950, 31951, 31952, 31975, 31976, 31977, 31978, 31979, 31981, 31982, 31983, 31984, 31985, 31986, 31987, 31992, 31995, 31997, 32006, 32008, 32009, 32010, 32012, 32013, 32014, 32015, 32016, 32018, 32019, 32020, 32021, 32022, 32023, 32024, 32025, 32027, 32028, 32031, 32032, 32033, 32034, 32035, 32036, 32037, 32057, 32058, 32059, 32060, 32061, 32089, 32091, 32101, 32128, 32129, 32130, 32131, 32132, 32133, 32134, 32135, 32136, 32137, 32138, 32139, 32149, 32150, 32151, 32152, 32153, 32154, 32155, 32157, 32164, 32166, 32171, 32173, 32179, 32180, 32181, 32182, 32183, 32184, 32185, 32187, 32188, 32189, 32190, 32191, 32192, 32193, 32201, 32203, 32205, 32207, 32209, 32211, 32227, 32228, 32229, 32230, 32232, 32239, 32241, 32244, 32256, 32257, 32258, 32259, 32260, 32261, 32262, 32263, 32264, 32265, 32266, 32267, 32268, 32269, 32270, 32271, 32272, 32273, 32274, 32290, 32292, 32293, 32295, 32298, 32299, 32300, 32302, 32304, 32305, 32306, 32314, 32315, 32317, 32318, 32319, 32320, 32321, 32322, 32323, 32324, 32325, 32326, 32327, 32328, 32329, 32330, 32331, 32332, 32334, 32335, 32337, 32338, 32339, 32340, 32341, 32342, 32343, 32344, 32345, 32346, 32347, 32348, 32349, 32350, 32351, 32352, 32353, 32354, 32355, 32356, 32357, 32359, 32360, 32361, 32362, 32363, 32364, 32365, 32366, 32367, 32368, 32369, 32370, 32371, 32372, 32373, 32382, 32383, 32384, 32385, 32386, 32387, 32388, 32389, 32394, 32395, 32396, 32397, 32398, 32399, 32400, 32401, 32402, 32403}\n",
            "\n",
            "Some rows of anomalous values are:\n",
            "                      IDPaziente genere classeeta IDTerapia CodiceSedeTumore PrincipiAttivi PrincipiAttiviDescrizione NumeroSomministrazione DataSomministrazioneProgrammata DataSomministrazione DataSomministrazioneProgrammataPrecedente DataSomministrazionePrecedente  GiornoDaTerapiaPrecedente  GiorniTeoriciDaTerapiaPrecedente PrimoPrelievo UltimoPrelievo  NumeroPrelievi  Single_btest  Dist_bt_th  Days\n",
            "ccbd90fdb779564e1e1c1f14d35fa017      F     51-70    134798               20        L01FD01               trastuzumab                      3                      2023-02-01           2023-02-01                                2023-01-11                     2023-01-10                         21                                21    2023-01-31     2023-01-31               1             1         1.0  20.0\n",
            "ccbd90fdb779564e1e1c1f14d35fa017      F     51-70    134798               20        L01FD01               trastuzumab                      5                      2023-03-15           2023-03-15                                2023-02-22                     2023-02-22                         21                                21    2023-03-14     2023-03-14               1             1         1.0  20.0\n",
            "9785bd7d8543cec95d4b1ff5832890f2      M     71-90    131240               29        L02BB04              Enzalutamide                      7                      2023-01-10           2023-01-10                                2022-12-13                     2022-12-13                         28                                28    2023-01-09     2023-01-09               1             1         1.0  27.0\n",
            "9785bd7d8543cec95d4b1ff5832890f2      M     71-90    131240               29        L02BB04              Enzalutamide                      8                      2023-02-07           2023-02-07                                2023-01-10                     2023-01-10                         28                                28    2023-02-06     2023-02-06               1             1         1.0  27.0\n",
            "9785bd7d8543cec95d4b1ff5832890f2      M     71-90    131240               29        L02BB04              Enzalutamide                      9                      2023-03-07           2023-03-07                                2023-02-07                     2023-02-07                         28                                28    2023-03-06     2023-03-06               1             1         1.0  27.0\n",
            "1477e67831add24dbec612f927dafc70      M     51-70    135004               70        L01EX05               regorafenib                      2                      2023-01-16           2023-01-16                                2022-12-19                     2022-12-19                         28                                28    2023-01-13     2023-01-13               1             1         3.0  25.0\n",
            "1477e67831add24dbec612f927dafc70      M     51-70    135004               70        L01EX05               regorafenib                      3                      2023-02-13           2023-02-13                                2023-01-16                     2023-01-16                         28                                28    2023-02-10     2023-02-10               1             1         3.0  25.0\n",
            "dca5cd94d6e25fb991845b653fb9f37c      F     51-70    135353                4        L01XA02              carboplatino                      2                      2023-03-23           2023-03-23                                2023-01-10                     2023-01-10                         72                                21    2023-01-11     2023-03-22              41             0         1.0  20.0\n",
            "45cf48395dc94aeceeb059b6a8f433bc      M     51-70    135593               26        L01BC06              capecitabina                      2                      2023-02-06           2023-02-06                                2023-01-16                     2023-01-16                         21                                21    2023-02-03     2023-02-03               1             1         3.0  18.0\n",
            "45cf48395dc94aeceeb059b6a8f433bc      M     51-70    135593               26        L01BC06              capecitabina                      4                      2023-03-20           2023-03-20                                2023-02-27                     2023-02-27                         21                                21    2023-03-17     2023-03-17               1             1         3.0  18.0 \n"
          ]
        }
      ]
    },
    {
      "cell_type": "code",
      "source": [
        "df = pd.concat([df, df.apply(check_value_presence, axis=1, result_type='expand')], axis=1)"
      ],
      "metadata": {
        "id": "BXodTPlE4XUS",
        "colab": {
          "base_uri": "https://localhost:8080/"
        },
        "outputId": "f6dea313-ddd1-4d27-e7b1-722d1751fdf2"
      },
      "execution_count": null,
      "outputs": [
        {
          "output_type": "stream",
          "name": "stdout",
          "text": [
            "N° of active ingredients:  65\n",
            "{'L01BA01', 'L01BC05', 'L04AX04', 'L01FF03', 'L01XX14', 'L01XG01', 'L01CA01', 'L01XA01', 'L01AA06', 'L02BB03', 'L01CA02', 'L01BC07', 'L01FE01', 'L01DC03', 'L01FD01', 'L01FG01', 'L01XX52', 'L01XC24', 'L01EF03', 'L01EK01', 'L01BC02', 'L01FF01', 'L01XA02', 'L01EF01', 'L01FX15', 'L01EE03', 'L01DB03', 'L01EF02', 'L01BA03', 'L01EC02', 'L01FF04', 'L01FC02', 'L01XK01', 'L01CE02', 'L01BC08', 'L01BC01', 'L01FX05', 'L01FA01', 'L01CD02', 'L01XA03', 'L01DB01', 'L01CA04', 'L01FF05', 'L01FF02', 'L01FE02', 'L04AX02', 'L01EH01', 'L01AX04', 'L01AA01', 'L02BG04', 'L01FD03', 'L01AX03', 'L01AA09', 'L01EC03', 'L01DC01', 'L01CB01', 'L01FG02', 'L02AE02', 'L01EX07', 'L01CD01', 'L01BC06', 'L01EX08', 'L01XX27', 'L01EE01', 'L01BA04'}\n"
          ]
        }
      ]
    },
    {
      "cell_type": "markdown",
      "source": [
        "7.  Removal of useless attributes: there are some attributes that are not relevant to be kept for the working operations of the ML algorithm:\n",
        "\n"
      ],
      "metadata": {
        "id": "sstujvh8AQ97"
      }
    },
    {
      "cell_type": "code",
      "source": [
        "list = ['IDPaziente', 'IDTerapia', 'PrincipiAttivi', 'PrincipiAttiviDescrizione', 'NumeroSomministrazione',\n",
        "        'DataSomministrazioneProgrammata', 'DataSomministrazione', 'DataSomministrazioneProgrammataPrecedente',\n",
        "        'DataSomministrazionePrecedente', 'GiornoDaTerapiaPrecedente',\t'GiorniTeoriciDaTerapiaPrecedente',\n",
        "        'PrimoPrelievo', 'UltimoPrelievo', 'NumeroPrelievi']\n",
        "df = attrib_removal(df, list)\n",
        "print(df.columns.tolist())"
      ],
      "metadata": {
        "id": "0vPeysDZBsv4",
        "colab": {
          "base_uri": "https://localhost:8080/"
        },
        "outputId": "094c02e1-b897-4f10-dc04-d1a36fd137ab"
      },
      "execution_count": null,
      "outputs": [
        {
          "output_type": "stream",
          "name": "stdout",
          "text": [
            "['genere', 'classeeta', 'CodiceSedeTumore', 'Single_btest', 'Dist_bt_th', 'Days', 'L01BA01', 'L01BC05', 'L04AX04', 'L01FF03', 'L01XX14', 'L01XG01', 'L01CA01', 'L01XA01', 'L01AA06', 'L02BB03', 'L01CA02', 'L01BC07', 'L01FE01', 'L01DC03', 'L01FD01', 'L01FG01', 'L01XX52', 'L01XC24', 'L01EF03', 'L01EK01', 'L01BC02', 'L01FF01', 'L01XA02', 'L01EF01', 'L01FX15', 'L01EE03', 'L01DB03', 'L01EF02', 'L01BA03', 'L01EC02', 'L01FF04', 'L01FC02', 'L01XK01', 'L01CE02', 'L01BC08', 'L01BC01', 'L01FX05', 'L01FA01', 'L01CD02', 'L01XA03', 'L01DB01', 'L01CA04', 'L01FF05', 'L01FF02', 'L01FE02', 'L04AX02', 'L01EH01', 'L01AX04', 'L01AA01', 'L02BG04', 'L01FD03', 'L01AX03', 'L01AA09', 'L01EC03', 'L01DC01', 'L01CB01', 'L01FG02', 'L02AE02', 'L01EX07', 'L01CD01', 'L01BC06', 'L01EX08', 'L01XX27', 'L01EE01', 'L01BA04']\n"
          ]
        }
      ]
    },
    {
      "cell_type": "markdown",
      "source": [
        "8.  Encoding of strings: the ML algorithms that is going  to be applied are not able to manage data different from numerical ones, so the strings and boolean must be \"converted into number\":"
      ],
      "metadata": {
        "id": "0nnxGxy1RFp1"
      }
    },
    {
      "cell_type": "code",
      "source": [
        "cols = ['genere', 'classeeta']\n",
        "df, label_enc_map = encoding_attrib(df, cols)\n",
        "\n",
        "print(label_enc_map)"
      ],
      "metadata": {
        "id": "YU9Kszi_RGqV",
        "outputId": "6b00e5ce-d3bf-421f-a33a-18d227d9af0c",
        "colab": {
          "base_uri": "https://localhost:8080/"
        }
      },
      "execution_count": null,
      "outputs": [
        {
          "output_type": "stream",
          "name": "stdout",
          "text": [
            "{'genere': {'F': 0, 'M': 1}, 'classeeta': {'19-30': 0, '31-50': 1, '51-70': 2, '71-90': 3, 'null': 4}}\n"
          ]
        }
      ]
    },
    {
      "cell_type": "markdown",
      "source": [
        "# Model generation"
      ],
      "metadata": {
        "id": "ZJNfHswvBM3D"
      }
    },
    {
      "cell_type": "markdown",
      "source": [
        "This section will be focused on the concrete creation of the classifier."
      ],
      "metadata": {
        "id": "dPho0aguBNws"
      }
    },
    {
      "cell_type": "markdown",
      "source": [
        "\n",
        "The first step for the model creation is the split of the dataset with its classes, by keeping the index as a \"primary key\" to trace the relation between the 2 datframes.\n",
        "\n",
        "After that, both of the dataframes are divided into:\n",
        "\n",
        "*   Training set (70%)\n",
        "*   Test set (20%)\n",
        "*   Validation set (10%)"
      ],
      "metadata": {
        "id": "UHsfbhjXYX5_"
      }
    },
    {
      "cell_type": "code",
      "source": [
        "print(df.columns.tolist())"
      ],
      "metadata": {
        "colab": {
          "base_uri": "https://localhost:8080/"
        },
        "id": "_P7Q6fgHD13c",
        "outputId": "744a660b-eeea-45f2-e2d7-e892698dc1a5"
      },
      "execution_count": null,
      "outputs": [
        {
          "output_type": "stream",
          "name": "stdout",
          "text": [
            "['genere', 'classeeta', 'CodiceSedeTumore', 'Single_btest', 'Dist_bt_th', 'Days', 'L01BA01', 'L01BC05', 'L04AX04', 'L01FF03', 'L01XX14', 'L01XG01', 'L01CA01', 'L01XA01', 'L01AA06', 'L02BB03', 'L01CA02', 'L01BC07', 'L01FE01', 'L01DC03', 'L01FD01', 'L01FG01', 'L01XX52', 'L01XC24', 'L01EF03', 'L01EK01', 'L01BC02', 'L01FF01', 'L01XA02', 'L01EF01', 'L01FX15', 'L01EE03', 'L01DB03', 'L01EF02', 'L01BA03', 'L01EC02', 'L01FF04', 'L01FC02', 'L01XK01', 'L01CE02', 'L01BC08', 'L01BC01', 'L01FX05', 'L01FA01', 'L01CD02', 'L01XA03', 'L01DB01', 'L01CA04', 'L01FF05', 'L01FF02', 'L01FE02', 'L04AX02', 'L01EH01', 'L01AX04', 'L01AA01', 'L02BG04', 'L01FD03', 'L01AX03', 'L01AA09', 'L01EC03', 'L01DC01', 'L01CB01', 'L01FG02', 'L02AE02', 'L01EX07', 'L01CD01', 'L01BC06', 'L01EX08', 'L01XX27', 'L01EE01', 'L01BA04']\n"
          ]
        }
      ]
    },
    {
      "cell_type": "markdown",
      "source": [],
      "metadata": {
        "id": "JJrIYZmZ9jT4"
      }
    },
    {
      "cell_type": "code",
      "source": [
        "th_classes = df['Single_btest'].copy()\n",
        "#th_classes['idx'] = df.index\n",
        "df = df.drop(['Single_btest'], axis=1)\n",
        "#df['idx'] = df.index\n",
        "\n",
        "cutpoint1, cutpoint2 = 0.7, 0.8\n",
        "trainset = df[:int(cutpoint1*len(df))]\n",
        "train_cl = th_classes[:int(cutpoint1*len(df))]\n",
        "valset = df[int(cutpoint1*len(df)):int(cutpoint2*len(df))]\n",
        "val_cl = th_classes[int(cutpoint1*len(df)):int(cutpoint2*len(df))]\n",
        "testset = df[int(cutpoint2*len(df)):]\n",
        "test_cl = th_classes[int(cutpoint2*len(df)):]\n",
        "print('Total: {} splitted in Train: {}, Val: {} and Test: {}'.format(len(df), len(trainset), len(valset), len(testset)))"
      ],
      "metadata": {
        "id": "yfomYAl1BNoR",
        "colab": {
          "base_uri": "https://localhost:8080/"
        },
        "outputId": "da585b46-92c6-44c1-ab88-d80700373e6c"
      },
      "execution_count": null,
      "outputs": [
        {
          "output_type": "stream",
          "name": "stdout",
          "text": [
            "Total: 3376 splitted in Train: 2363, Val: 337 and Test: 676\n"
          ]
        }
      ]
    },
    {
      "cell_type": "markdown",
      "source": [
        "Now it's the turn for the creation of the classifier.\n",
        "\n",
        "There are many possibilities and here we are going to try the **Decision tree classification** wit the following parameters:\n",
        "*   min_samples_leaf: 7. It appears to be the best minimum dimension for the leaves of the decision tree"
      ],
      "metadata": {
        "id": "1HW76zw3HhhO"
      }
    },
    {
      "cell_type": "code",
      "source": [
        "clf = DecisionTreeClassifier(min_samples_leaf=7)\n",
        "\n",
        "#max_depth=10 --> reduces the performance"
      ],
      "metadata": {
        "id": "C991Jun5HhZF"
      },
      "execution_count": null,
      "outputs": []
    },
    {
      "cell_type": "code",
      "source": [
        "clf.fit(trainset, train_cl)"
      ],
      "metadata": {
        "colab": {
          "base_uri": "https://localhost:8080/",
          "height": 74
        },
        "id": "IF0QPioEH2SF",
        "outputId": "1a696011-0abc-4aef-d044-2559631af1ae"
      },
      "execution_count": null,
      "outputs": [
        {
          "output_type": "execute_result",
          "data": {
            "text/plain": [
              "DecisionTreeClassifier(min_samples_leaf=7)"
            ],
            "text/html": [
              "<style>#sk-container-id-4 {color: black;background-color: white;}#sk-container-id-4 pre{padding: 0;}#sk-container-id-4 div.sk-toggleable {background-color: white;}#sk-container-id-4 label.sk-toggleable__label {cursor: pointer;display: block;width: 100%;margin-bottom: 0;padding: 0.3em;box-sizing: border-box;text-align: center;}#sk-container-id-4 label.sk-toggleable__label-arrow:before {content: \"▸\";float: left;margin-right: 0.25em;color: #696969;}#sk-container-id-4 label.sk-toggleable__label-arrow:hover:before {color: black;}#sk-container-id-4 div.sk-estimator:hover label.sk-toggleable__label-arrow:before {color: black;}#sk-container-id-4 div.sk-toggleable__content {max-height: 0;max-width: 0;overflow: hidden;text-align: left;background-color: #f0f8ff;}#sk-container-id-4 div.sk-toggleable__content pre {margin: 0.2em;color: black;border-radius: 0.25em;background-color: #f0f8ff;}#sk-container-id-4 input.sk-toggleable__control:checked~div.sk-toggleable__content {max-height: 200px;max-width: 100%;overflow: auto;}#sk-container-id-4 input.sk-toggleable__control:checked~label.sk-toggleable__label-arrow:before {content: \"▾\";}#sk-container-id-4 div.sk-estimator input.sk-toggleable__control:checked~label.sk-toggleable__label {background-color: #d4ebff;}#sk-container-id-4 div.sk-label input.sk-toggleable__control:checked~label.sk-toggleable__label {background-color: #d4ebff;}#sk-container-id-4 input.sk-hidden--visually {border: 0;clip: rect(1px 1px 1px 1px);clip: rect(1px, 1px, 1px, 1px);height: 1px;margin: -1px;overflow: hidden;padding: 0;position: absolute;width: 1px;}#sk-container-id-4 div.sk-estimator {font-family: monospace;background-color: #f0f8ff;border: 1px dotted black;border-radius: 0.25em;box-sizing: border-box;margin-bottom: 0.5em;}#sk-container-id-4 div.sk-estimator:hover {background-color: #d4ebff;}#sk-container-id-4 div.sk-parallel-item::after {content: \"\";width: 100%;border-bottom: 1px solid gray;flex-grow: 1;}#sk-container-id-4 div.sk-label:hover label.sk-toggleable__label {background-color: #d4ebff;}#sk-container-id-4 div.sk-serial::before {content: \"\";position: absolute;border-left: 1px solid gray;box-sizing: border-box;top: 0;bottom: 0;left: 50%;z-index: 0;}#sk-container-id-4 div.sk-serial {display: flex;flex-direction: column;align-items: center;background-color: white;padding-right: 0.2em;padding-left: 0.2em;position: relative;}#sk-container-id-4 div.sk-item {position: relative;z-index: 1;}#sk-container-id-4 div.sk-parallel {display: flex;align-items: stretch;justify-content: center;background-color: white;position: relative;}#sk-container-id-4 div.sk-item::before, #sk-container-id-4 div.sk-parallel-item::before {content: \"\";position: absolute;border-left: 1px solid gray;box-sizing: border-box;top: 0;bottom: 0;left: 50%;z-index: -1;}#sk-container-id-4 div.sk-parallel-item {display: flex;flex-direction: column;z-index: 1;position: relative;background-color: white;}#sk-container-id-4 div.sk-parallel-item:first-child::after {align-self: flex-end;width: 50%;}#sk-container-id-4 div.sk-parallel-item:last-child::after {align-self: flex-start;width: 50%;}#sk-container-id-4 div.sk-parallel-item:only-child::after {width: 0;}#sk-container-id-4 div.sk-dashed-wrapped {border: 1px dashed gray;margin: 0 0.4em 0.5em 0.4em;box-sizing: border-box;padding-bottom: 0.4em;background-color: white;}#sk-container-id-4 div.sk-label label {font-family: monospace;font-weight: bold;display: inline-block;line-height: 1.2em;}#sk-container-id-4 div.sk-label-container {text-align: center;}#sk-container-id-4 div.sk-container {/* jupyter's `normalize.less` sets `[hidden] { display: none; }` but bootstrap.min.css set `[hidden] { display: none !important; }` so we also need the `!important` here to be able to override the default hidden behavior on the sphinx rendered scikit-learn.org. See: https://github.com/scikit-learn/scikit-learn/issues/21755 */display: inline-block !important;position: relative;}#sk-container-id-4 div.sk-text-repr-fallback {display: none;}</style><div id=\"sk-container-id-4\" class=\"sk-top-container\"><div class=\"sk-text-repr-fallback\"><pre>DecisionTreeClassifier(min_samples_leaf=7)</pre><b>In a Jupyter environment, please rerun this cell to show the HTML representation or trust the notebook. <br />On GitHub, the HTML representation is unable to render, please try loading this page with nbviewer.org.</b></div><div class=\"sk-container\" hidden><div class=\"sk-item\"><div class=\"sk-estimator sk-toggleable\"><input class=\"sk-toggleable__control sk-hidden--visually\" id=\"sk-estimator-id-4\" type=\"checkbox\" checked><label for=\"sk-estimator-id-4\" class=\"sk-toggleable__label sk-toggleable__label-arrow\">DecisionTreeClassifier</label><div class=\"sk-toggleable__content\"><pre>DecisionTreeClassifier(min_samples_leaf=7)</pre></div></div></div></div></div>"
            ]
          },
          "metadata": {},
          "execution_count": 115
        }
      ]
    },
    {
      "cell_type": "markdown",
      "source": [
        "It is useful to observe the rules generated by the decision tree:"
      ],
      "metadata": {
        "id": "X2vFglWCaDFA"
      }
    },
    {
      "cell_type": "code",
      "source": [
        "from sklearn.tree import export_text\n",
        "\n",
        "tree_rules_text = export_text(clf, feature_names=df.columns.tolist())\n",
        "print(\"Decision Tree Rules:\\n\", tree_rules_text)"
      ],
      "metadata": {
        "id": "OwL-JKK5aC7Z",
        "outputId": "27d30ba1-30f4-4513-a0c2-98ea5e20678f",
        "colab": {
          "base_uri": "https://localhost:8080/"
        }
      },
      "execution_count": null,
      "outputs": [
        {
          "output_type": "stream",
          "name": "stdout",
          "text": [
            "Decision Tree Rules:\n",
            " |--- Days <= 26.50\n",
            "|   |--- L01XX52 <= 0.50\n",
            "|   |   |--- Days <= 7.00\n",
            "|   |   |   |--- CodiceSedeTumore <= 52.50\n",
            "|   |   |   |   |--- CodiceSedeTumore <= 42.50\n",
            "|   |   |   |   |   |--- L01DC03 <= 0.50\n",
            "|   |   |   |   |   |   |--- L01BC05 <= 0.50\n",
            "|   |   |   |   |   |   |   |--- L01XA02 <= 0.50\n",
            "|   |   |   |   |   |   |   |   |--- classeeta <= 1.50\n",
            "|   |   |   |   |   |   |   |   |   |--- CodiceSedeTumore <= 22.50\n",
            "|   |   |   |   |   |   |   |   |   |   |--- class: 0\n",
            "|   |   |   |   |   |   |   |   |   |--- CodiceSedeTumore >  22.50\n",
            "|   |   |   |   |   |   |   |   |   |   |--- class: 1\n",
            "|   |   |   |   |   |   |   |   |--- classeeta >  1.50\n",
            "|   |   |   |   |   |   |   |   |   |--- L01FD01 <= 0.50\n",
            "|   |   |   |   |   |   |   |   |   |   |--- L01CD01 <= 0.50\n",
            "|   |   |   |   |   |   |   |   |   |   |   |--- truncated branch of depth 2\n",
            "|   |   |   |   |   |   |   |   |   |   |--- L01CD01 >  0.50\n",
            "|   |   |   |   |   |   |   |   |   |   |   |--- truncated branch of depth 3\n",
            "|   |   |   |   |   |   |   |   |   |--- L01FD01 >  0.50\n",
            "|   |   |   |   |   |   |   |   |   |   |--- class: 1\n",
            "|   |   |   |   |   |   |   |--- L01XA02 >  0.50\n",
            "|   |   |   |   |   |   |   |   |--- classeeta <= 1.50\n",
            "|   |   |   |   |   |   |   |   |   |--- class: 1\n",
            "|   |   |   |   |   |   |   |   |--- classeeta >  1.50\n",
            "|   |   |   |   |   |   |   |   |   |--- CodiceSedeTumore <= 12.00\n",
            "|   |   |   |   |   |   |   |   |   |   |--- class: 1\n",
            "|   |   |   |   |   |   |   |   |   |--- CodiceSedeTumore >  12.00\n",
            "|   |   |   |   |   |   |   |   |   |   |--- classeeta <= 2.50\n",
            "|   |   |   |   |   |   |   |   |   |   |   |--- class: 1\n",
            "|   |   |   |   |   |   |   |   |   |   |--- classeeta >  2.50\n",
            "|   |   |   |   |   |   |   |   |   |   |   |--- class: 1\n",
            "|   |   |   |   |   |   |--- L01BC05 >  0.50\n",
            "|   |   |   |   |   |   |   |--- classeeta <= 2.50\n",
            "|   |   |   |   |   |   |   |   |--- class: 1\n",
            "|   |   |   |   |   |   |   |--- classeeta >  2.50\n",
            "|   |   |   |   |   |   |   |   |--- class: 1\n",
            "|   |   |   |   |   |--- L01DC03 >  0.50\n",
            "|   |   |   |   |   |   |--- class: 1\n",
            "|   |   |   |   |--- CodiceSedeTumore >  42.50\n",
            "|   |   |   |   |   |--- class: 0\n",
            "|   |   |   |--- CodiceSedeTumore >  52.50\n",
            "|   |   |   |   |--- genere <= 0.50\n",
            "|   |   |   |   |   |--- class: 1\n",
            "|   |   |   |   |--- genere >  0.50\n",
            "|   |   |   |   |   |--- CodiceSedeTumore <= 62.00\n",
            "|   |   |   |   |   |   |--- class: 1\n",
            "|   |   |   |   |   |--- CodiceSedeTumore >  62.00\n",
            "|   |   |   |   |   |   |--- CodiceSedeTumore <= 92.00\n",
            "|   |   |   |   |   |   |   |--- class: 1\n",
            "|   |   |   |   |   |   |--- CodiceSedeTumore >  92.00\n",
            "|   |   |   |   |   |   |   |--- CodiceSedeTumore <= 123.00\n",
            "|   |   |   |   |   |   |   |   |--- class: 1\n",
            "|   |   |   |   |   |   |   |--- CodiceSedeTumore >  123.00\n",
            "|   |   |   |   |   |   |   |   |--- class: 1\n",
            "|   |   |--- Days >  7.00\n",
            "|   |   |   |--- L01CD01 <= 0.50\n",
            "|   |   |   |   |--- L01FF01 <= 0.50\n",
            "|   |   |   |   |   |--- L01CB01 <= 0.50\n",
            "|   |   |   |   |   |   |--- L01FA01 <= 0.50\n",
            "|   |   |   |   |   |   |   |--- L01BC07 <= 0.50\n",
            "|   |   |   |   |   |   |   |   |--- L01FF02 <= 0.50\n",
            "|   |   |   |   |   |   |   |   |   |--- CodiceSedeTumore <= 49.50\n",
            "|   |   |   |   |   |   |   |   |   |   |--- L01FF03 <= 0.50\n",
            "|   |   |   |   |   |   |   |   |   |   |   |--- truncated branch of depth 18\n",
            "|   |   |   |   |   |   |   |   |   |   |--- L01FF03 >  0.50\n",
            "|   |   |   |   |   |   |   |   |   |   |   |--- truncated branch of depth 2\n",
            "|   |   |   |   |   |   |   |   |   |--- CodiceSedeTumore >  49.50\n",
            "|   |   |   |   |   |   |   |   |   |   |--- Days <= 19.50\n",
            "|   |   |   |   |   |   |   |   |   |   |   |--- truncated branch of depth 11\n",
            "|   |   |   |   |   |   |   |   |   |   |--- Days >  19.50\n",
            "|   |   |   |   |   |   |   |   |   |   |   |--- truncated branch of depth 2\n",
            "|   |   |   |   |   |   |   |   |--- L01FF02 >  0.50\n",
            "|   |   |   |   |   |   |   |   |   |--- genere <= 0.50\n",
            "|   |   |   |   |   |   |   |   |   |   |--- L01BA04 <= 0.50\n",
            "|   |   |   |   |   |   |   |   |   |   |   |--- truncated branch of depth 4\n",
            "|   |   |   |   |   |   |   |   |   |   |--- L01BA04 >  0.50\n",
            "|   |   |   |   |   |   |   |   |   |   |   |--- class: 1\n",
            "|   |   |   |   |   |   |   |   |   |--- genere >  0.50\n",
            "|   |   |   |   |   |   |   |   |   |   |--- L01XA02 <= 0.50\n",
            "|   |   |   |   |   |   |   |   |   |   |   |--- truncated branch of depth 5\n",
            "|   |   |   |   |   |   |   |   |   |   |--- L01XA02 >  0.50\n",
            "|   |   |   |   |   |   |   |   |   |   |   |--- class: 1\n",
            "|   |   |   |   |   |   |   |--- L01BC07 >  0.50\n",
            "|   |   |   |   |   |   |   |   |--- Days <= 17.50\n",
            "|   |   |   |   |   |   |   |   |   |--- genere <= 0.50\n",
            "|   |   |   |   |   |   |   |   |   |   |--- class: 0\n",
            "|   |   |   |   |   |   |   |   |   |--- genere >  0.50\n",
            "|   |   |   |   |   |   |   |   |   |   |--- class: 1\n",
            "|   |   |   |   |   |   |   |   |--- Days >  17.50\n",
            "|   |   |   |   |   |   |   |   |   |--- class: 0\n",
            "|   |   |   |   |   |   |--- L01FA01 >  0.50\n",
            "|   |   |   |   |   |   |   |--- genere <= 0.50\n",
            "|   |   |   |   |   |   |   |   |--- class: 0\n",
            "|   |   |   |   |   |   |   |--- genere >  0.50\n",
            "|   |   |   |   |   |   |   |   |--- classeeta <= 2.50\n",
            "|   |   |   |   |   |   |   |   |   |--- class: 0\n",
            "|   |   |   |   |   |   |   |   |--- classeeta >  2.50\n",
            "|   |   |   |   |   |   |   |   |   |--- class: 0\n",
            "|   |   |   |   |   |--- L01CB01 >  0.50\n",
            "|   |   |   |   |   |   |--- L01XA02 <= 0.50\n",
            "|   |   |   |   |   |   |   |--- class: 0\n",
            "|   |   |   |   |   |   |--- L01XA02 >  0.50\n",
            "|   |   |   |   |   |   |   |--- genere <= 0.50\n",
            "|   |   |   |   |   |   |   |   |--- class: 1\n",
            "|   |   |   |   |   |   |   |--- genere >  0.50\n",
            "|   |   |   |   |   |   |   |   |--- class: 0\n",
            "|   |   |   |   |--- L01FF01 >  0.50\n",
            "|   |   |   |   |   |--- Days <= 18.00\n",
            "|   |   |   |   |   |   |--- class: 1\n",
            "|   |   |   |   |   |--- Days >  18.00\n",
            "|   |   |   |   |   |   |--- classeeta <= 2.50\n",
            "|   |   |   |   |   |   |   |--- genere <= 0.50\n",
            "|   |   |   |   |   |   |   |   |--- class: 1\n",
            "|   |   |   |   |   |   |   |--- genere >  0.50\n",
            "|   |   |   |   |   |   |   |   |--- CodiceSedeTumore <= 25.50\n",
            "|   |   |   |   |   |   |   |   |   |--- class: 1\n",
            "|   |   |   |   |   |   |   |   |--- CodiceSedeTumore >  25.50\n",
            "|   |   |   |   |   |   |   |   |   |--- class: 1\n",
            "|   |   |   |   |   |   |--- classeeta >  2.50\n",
            "|   |   |   |   |   |   |   |--- genere <= 0.50\n",
            "|   |   |   |   |   |   |   |   |--- class: 1\n",
            "|   |   |   |   |   |   |   |--- genere >  0.50\n",
            "|   |   |   |   |   |   |   |   |--- class: 1\n",
            "|   |   |   |--- L01CD01 >  0.50\n",
            "|   |   |   |   |--- CodiceSedeTumore <= 105.50\n",
            "|   |   |   |   |   |--- classeeta <= 2.50\n",
            "|   |   |   |   |   |   |--- class: 0\n",
            "|   |   |   |   |   |--- classeeta >  2.50\n",
            "|   |   |   |   |   |   |--- class: 0\n",
            "|   |   |   |   |--- CodiceSedeTumore >  105.50\n",
            "|   |   |   |   |   |--- class: 0\n",
            "|   |--- L01XX52 >  0.50\n",
            "|   |   |--- Days <= 17.50\n",
            "|   |   |   |--- class: 0\n",
            "|   |   |--- Days >  17.50\n",
            "|   |   |   |--- class: 0\n",
            "|--- Days >  26.50\n",
            "|   |--- Days <= 39.50\n",
            "|   |   |--- L01FF02 <= 0.50\n",
            "|   |   |   |--- L01BC02 <= 0.50\n",
            "|   |   |   |   |--- CodiceSedeTumore <= 28.50\n",
            "|   |   |   |   |   |--- CodiceSedeTumore <= 25.50\n",
            "|   |   |   |   |   |   |--- L01CD01 <= 0.50\n",
            "|   |   |   |   |   |   |   |--- class: 0\n",
            "|   |   |   |   |   |   |--- L01CD01 >  0.50\n",
            "|   |   |   |   |   |   |   |--- class: 0\n",
            "|   |   |   |   |   |--- CodiceSedeTumore >  25.50\n",
            "|   |   |   |   |   |   |--- class: 0\n",
            "|   |   |   |   |--- CodiceSedeTumore >  28.50\n",
            "|   |   |   |   |   |--- classeeta <= 2.50\n",
            "|   |   |   |   |   |   |--- class: 0\n",
            "|   |   |   |   |   |--- classeeta >  2.50\n",
            "|   |   |   |   |   |   |--- class: 0\n",
            "|   |   |   |--- L01BC02 >  0.50\n",
            "|   |   |   |   |--- class: 0\n",
            "|   |   |--- L01FF02 >  0.50\n",
            "|   |   |   |--- genere <= 0.50\n",
            "|   |   |   |   |--- classeeta <= 2.50\n",
            "|   |   |   |   |   |--- class: 0\n",
            "|   |   |   |   |--- classeeta >  2.50\n",
            "|   |   |   |   |   |--- class: 0\n",
            "|   |   |   |--- genere >  0.50\n",
            "|   |   |   |   |--- class: 0\n",
            "|   |--- Days >  39.50\n",
            "|   |   |--- Days <= 53.50\n",
            "|   |   |   |--- CodiceSedeTumore <= 46.50\n",
            "|   |   |   |   |--- CodiceSedeTumore <= 29.50\n",
            "|   |   |   |   |   |--- class: 0\n",
            "|   |   |   |   |--- CodiceSedeTumore >  29.50\n",
            "|   |   |   |   |   |--- class: 0\n",
            "|   |   |   |--- CodiceSedeTumore >  46.50\n",
            "|   |   |   |   |--- class: 0\n",
            "|   |   |--- Days >  53.50\n",
            "|   |   |   |--- classeeta <= 1.50\n",
            "|   |   |   |   |--- CodiceSedeTumore <= 35.00\n",
            "|   |   |   |   |   |--- class: 0\n",
            "|   |   |   |   |--- CodiceSedeTumore >  35.00\n",
            "|   |   |   |   |   |--- class: 0\n",
            "|   |   |   |--- classeeta >  1.50\n",
            "|   |   |   |   |--- class: 0\n",
            "\n"
          ]
        }
      ]
    },
    {
      "cell_type": "markdown",
      "source": [
        "Validation of the classifier"
      ],
      "metadata": {
        "id": "KxY6Uyej6gYM"
      }
    },
    {
      "cell_type": "code",
      "source": [
        "val_score = clf.score(valset, val_cl)\n",
        "\n",
        "print('Validation accuracy: {:.3f}'.format(val_score))"
      ],
      "metadata": {
        "id": "_1Q4CANa6gQ4",
        "outputId": "df2a4919-b4bf-4fbd-f0f2-2c6019387851",
        "colab": {
          "base_uri": "https://localhost:8080/"
        }
      },
      "execution_count": null,
      "outputs": [
        {
          "output_type": "stream",
          "name": "stdout",
          "text": [
            "Validation accuracy: 0.843\n"
          ]
        }
      ]
    },
    {
      "cell_type": "markdown",
      "source": [
        "Test phase:"
      ],
      "metadata": {
        "id": "fXcHjyO97toN"
      }
    },
    {
      "cell_type": "code",
      "source": [
        "pred = clf.predict(testset)\n",
        "#print('Predicted {} samples: {}'.format(len(pred), pred))\n",
        "#print('GT {} samples: {}'.format(len(test_cl), test_cl))\n",
        "acc_score = accuracy_score(test_cl, pred)\n",
        "\n",
        "print('\\n Final Accuracy: {:.3f} \\n'.format(acc_score))"
      ],
      "metadata": {
        "id": "lQi8fqyi7te2",
        "outputId": "8df224c8-f135-4b80-b2d0-285f6529afbf",
        "colab": {
          "base_uri": "https://localhost:8080/"
        }
      },
      "execution_count": null,
      "outputs": [
        {
          "output_type": "stream",
          "name": "stdout",
          "text": [
            "\n",
            " Final Accuracy: 0.788 \n",
            "\n"
          ]
        }
      ]
    },
    {
      "cell_type": "code",
      "source": [
        "best_score = 0\n",
        "\n",
        "if acc_score > best_score:\n",
        "  best_alg = clf\n",
        "  best_score =  acc_score\n",
        "  best_pred = pred"
      ],
      "metadata": {
        "id": "_8skJchL9i4C"
      },
      "execution_count": null,
      "outputs": []
    },
    {
      "cell_type": "markdown",
      "source": [
        "###Further classification\n",
        "\n",
        "Now it's the turn for the creation of the classifier. There are many possibilities and here we are going to try some new others:\n",
        "\n",
        "\n",
        "\n",
        "1.   Support Vector Machines with the following parameters (considering this [source](https://vitalflux.com/svm-rbf-kernel-parameters-code-sample/#:~:text=The%20gamma%20parameter%20defines%20how,high%20values%20meaning%20'close'.)):\n",
        ":\n",
        "*   kernel = rbf: the dimensionality of data is low\n",
        "*   C = 20: it aims to classify all training examples correctly (instead of simpler decision functions)\n",
        "*   gamma = 0.1: to guarantee sufficient influence of training set without bringing to over-fitting\n",
        "\n",
        "\n",
        "---\n",
        "\n",
        "\n",
        "2.   Random forest with the following parameters\n",
        "(considering this [source](https://scikit-learn.org/stable/modules/generated/sklearn.ensemble.RandomForestClassifier.html))\n",
        "*   n_estimators: 200 to improve sufficiently the performances without bringing overfitting\n",
        "*    \n",
        ": 4 has been verified to be the lest dimension of the data to be considered a node as a leaf\n",
        "*   (removed) min_samples_split: 10 has been verified to be the lest dimension of the data to be split\n",
        "\n",
        "\n",
        "---\n",
        "3.   AdaBoost with the following parameters (considering this [source](https://scikit-learn.org/stable/modules/generated/sklearn.ensemble.AdaBoostClassifier.html))\n",
        "*   n_estimators: 100 is the best trade off between simplification and over-fitting\n",
        "*   learning_rate: 1 appears to be the right contribution of each classifier\n",
        "\n",
        "\n",
        "\n",
        "\n",
        "\n"
      ],
      "metadata": {
        "id": "USWO5RfTczt5"
      }
    },
    {
      "cell_type": "code",
      "source": [
        "clf_list = [\n",
        "    svm.SVC(gamma=0.1, C=20, kernel='rbf'),\n",
        "    RandomForestClassifier(n_estimators=200, min_samples_leaf=4),\n",
        "    AdaBoostClassifier(n_estimators=100, learning_rate=0.5)\n",
        "]\n",
        "\n",
        "for x in clf_list:\n",
        "  x.fit(trainset, train_cl)\n",
        "  print('Classifier: {}'.format(x))\n",
        "\n",
        "  val_score = x.score(valset, val_cl)\n",
        "  print('Validation accuracy: {:.3f}'.format(val_score))\n",
        "\n",
        "  pred = x.predict(testset)\n",
        "  acc_score = accuracy_score(test_cl, pred)\n",
        "  print('\\nFinal Accuracy: {:.3f} \\n'.format(acc_score))\n",
        "\n",
        "  if acc_score > best_score:\n",
        "    best_alg = x\n",
        "    best_score =  acc_score\n",
        "    best_pred = pred\n",
        "\n",
        "print(\"{} is the the best classifier with the score of {}\".format(best_alg, best_score))"
      ],
      "metadata": {
        "id": "jfXf9oiieD9Z",
        "outputId": "c9e4288c-cee0-4207-d115-8e3bf2e2857b",
        "colab": {
          "base_uri": "https://localhost:8080/"
        }
      },
      "execution_count": null,
      "outputs": [
        {
          "output_type": "stream",
          "name": "stdout",
          "text": [
            "Classifier: SVC(C=20, gamma=0.1)\n",
            "Validation accuracy: 0.831\n",
            "\n",
            "Final Accuracy: 0.797 \n",
            "\n",
            "Classifier: RandomForestClassifier(min_samples_leaf=4, n_estimators=200)\n",
            "Validation accuracy: 0.843\n",
            "\n",
            "Final Accuracy: 0.781 \n",
            "\n",
            "Classifier: AdaBoostClassifier(learning_rate=0.5, n_estimators=100)\n",
            "Validation accuracy: 0.855\n",
            "\n",
            "Final Accuracy: 0.783 \n",
            "\n",
            "SVC(C=20, gamma=0.1) is the the best classifier with the score of 0.7973372781065089\n"
          ]
        }
      ]
    },
    {
      "cell_type": "markdown",
      "source": [
        "### Confusion matrix\n",
        "\n",
        "The confusion matrix is a simple way to evaluate the accuracy of a classification and to further understand the performance on the trained model by defining how many values have been classified as:\n",
        "*   True positive (TP)\n",
        "*   False positive (FP)\n",
        "*   True negative (TN)\n",
        "*   False negative (FN)"
      ],
      "metadata": {
        "id": "dsI3is2J3nYu"
      }
    },
    {
      "cell_type": "code",
      "source": [
        "matrix = confusion_matrix(test_cl, pred)\n",
        "print(\"TP: {}\\nFP: {}\\nTN: {}\\nFN: {}\\n\".format(matrix[0][0], matrix[1][0], matrix[1][1], matrix[0][1]))\n",
        "print(matrix)"
      ],
      "metadata": {
        "colab": {
          "base_uri": "https://localhost:8080/"
        },
        "id": "wqwgw50w3nR5",
        "outputId": "4697b36c-32f4-4e5c-d2eb-e2a0c28ba1fb"
      },
      "execution_count": null,
      "outputs": [
        {
          "output_type": "stream",
          "name": "stdout",
          "text": [
            "TP: 273\n",
            "FP: 17\n",
            "TN: 256\n",
            "FN: 130\n",
            "\n",
            "[[273 130]\n",
            " [ 17 256]]\n"
          ]
        }
      ]
    },
    {
      "cell_type": "markdown",
      "source": [
        "# Conclusion: compare the results\n",
        "\n",
        "Now is fundamental to undertsand \"**if the analysis done have brought benefits at the initial condition**\".\n",
        "\n",
        "So, we are going to compare the initial percentage of failures with the failures of classification with the best classifiers arose in this work."
      ],
      "metadata": {
        "id": "FVuKQs630u37"
      }
    },
    {
      "cell_type": "code",
      "source": [
        "original_failed = not_ready_therapies(original_df)\n",
        "qty_original_correct = len(original_df) - len(original_failed)\n",
        "ptg_init = qty_original_correct/len(original_df)*100\n",
        "print(\"Percentage of correct classified in the initial condition (just after deleting noise, missing values and duplicated values):\\n{}%\".format(ptg_init))\n",
        "\n",
        "print(\"Percentage of correct classification of the best ML algorithm ({}): \\n{}%\".format(best_alg, best_score*100))"
      ],
      "metadata": {
        "colab": {
          "base_uri": "https://localhost:8080/"
        },
        "id": "YEgrvwES0uva",
        "outputId": "c78f4d90-9871-45dc-8193-ff83b8ba56ac"
      },
      "execution_count": null,
      "outputs": [
        {
          "output_type": "stream",
          "name": "stdout",
          "text": [
            "Percentage of correct classified in the initial condition (just after deleting noise, missing values and duplicated values):\n",
            "44.52014218009479%\n",
            "Percentage of correct classification of the best ML algorithm (SVC(C=20, gamma=0.1)): \n",
            "79.73372781065089%\n"
          ]
        }
      ]
    }
  ]
}