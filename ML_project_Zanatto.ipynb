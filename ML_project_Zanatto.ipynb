{
  "nbformat": 4,
  "nbformat_minor": 0,
  "metadata": {
    "colab": {
      "provenance": [],
      "authorship_tag": "ABX9TyOcq0vUTlDTHvVcQuLZuzOU",
      "include_colab_link": true
    },
    "kernelspec": {
      "name": "python3",
      "display_name": "Python 3"
    },
    "language_info": {
      "name": "python"
    }
  },
  "cells": [
    {
      "cell_type": "markdown",
      "metadata": {
        "id": "view-in-github",
        "colab_type": "text"
      },
      "source": [
        "<a href=\"https://colab.research.google.com/github/zanattopaolo1/OOP-git-merge-conflict-test/blob/master/ML_project_Zanatto.ipynb\" target=\"_parent\"><img src=\"https://colab.research.google.com/assets/colab-badge.svg\" alt=\"Open In Colab\"/></a>"
      ]
    },
    {
      "cell_type": "markdown",
      "source": [
        "# Introduction\n",
        "\n",
        "This is (....)"
      ],
      "metadata": {
        "id": "EM5Rhf1W63H4"
      }
    },
    {
      "cell_type": "code",
      "execution_count": 65,
      "metadata": {
        "id": "YooMTdkd1Pw0"
      },
      "outputs": [],
      "source": [
        "import numpy as np\n",
        "from sklearn import svm\n",
        "from sklearn.metrics import accuracy_score, confusion_matrix\n",
        "#from sklearn.metrics import plot_confusion_matrix\n",
        "import matplotlib.pyplot as plt\n",
        "#import math\n",
        "import pandas as pd\n",
        "from tabulate import tabulate\n",
        "import csv"
      ]
    },
    {
      "cell_type": "markdown",
      "source": [
        "# Functions\n",
        "List of functions that will be used inside the code"
      ],
      "metadata": {
        "id": "O3CtcCNJ1glj"
      }
    },
    {
      "cell_type": "code",
      "source": [
        "def duplicate_check(df, cols):\n",
        "    # Check for duplicates based on the specified columns\n",
        "    duplicate_rows = df[df.duplicated(subset=cols, keep=False)]\n",
        "\n",
        "    return duplicate_rows\n",
        "\n",
        "\"\"\"def filling_UltimoPrelievo(df):\n",
        "    #Having GiornoDaTerapiaPrecedente equal to GiorniTeoriciDaTerapiaPrecedente means that the schedule has been respected. Considering that the cases with we are assuming\n",
        "    df['UltimoPrelievo'] = df['UltimoPrelievo'].where(df['UltimoPrelievo'] == '' & df['GiornoDaTerapiaPrecedente']==df['GiorniTeoriciDaTerapiaPrecedente'], df['DataSomministrazione'] - pd.DateOffset(days=1))\n",
        "\n",
        "    #Removing data where GiornoDaTerapiaPrecedente is NOT equal to GiorniTeoriciDaTerapiaPrecedente\n",
        "    (...)\"\"\"\n",
        "\n",
        "\n",
        "def failed_blood_test(df):\n",
        "    condition1 = df['GiornoDaTerapiaPrecedente'] > df['GiorniTeoriciDaTerapiaPrecedente']  # Define your condition here\n",
        "    condition2 = df['NumeroPrelievi'] > 1\n",
        "    filtered_df = df[condition1 | condition2]\n",
        "    return filtered_df;\n",
        "\n",
        "def del_rows_missing_val (df):\n",
        "    condition = df['UltimoPrelievo'] == ''\n",
        "\n",
        "    rows_to_drop = df[condition].index\n",
        "    return df.drop(rows_to_drop)\n",
        "\n",
        "def data_cleaning(df):\n",
        "    #conditions to drop rows\n",
        "    condition1 = df['UltimoPrelievo'] < df['PrimoPrelievo'] #this information would be caused by a collection error\n",
        "    #condition2 = True   & condition2\n",
        "\n",
        "    rows_to_drop = df[condition1].index\n",
        "    return df.drop(rows_to_drop)\n",
        "\n",
        "\"\"\"def strange_blood_test(df):\n",
        "    condition = df['GiornoDaTerapiaPrecedente'] < df['GiorniTeoriciDaTerapiaPrecedente'] # Define your condition here\n",
        "    filtered_df = df[condition]\n",
        "    return filtered_df;\"\"\"\n",
        "\n",
        "def attrib_removal(df, attrib_list):\n",
        "    for x in attrib_list:\n",
        "        df = df.drop(x, axis=1)\n",
        "\n",
        "    return df\n",
        "\n",
        "def check_value_presence(row):\n",
        "    return {f'{value}': value in row['PrincipiAttivi'] for value in unique_values_set}"
      ],
      "metadata": {
        "id": "vS6vMrqz1c9v"
      },
      "execution_count": 66,
      "outputs": []
    },
    {
      "cell_type": "markdown",
      "source": [
        "# Data loading\n",
        "\n",
        "Data import from the csv file into a dictionary, to structure the information in a logical way, and then used to create the Dataframe"
      ],
      "metadata": {
        "id": "LzSgXX301yQ9"
      }
    },
    {
      "cell_type": "code",
      "source": [
        "dataset_file_path = 'dataset_farmacia_anonimo(3).csv'\n",
        "\n",
        "keys = ['IDPaziente',\t'genere',\t'classeeta',\t'IDTerapia',\t'CodiceSedeTumore',\t'PrincipiAttivi',\t'PrincipiAttiviDescrizione',\t'NumeroSomministrazione',\t'DataSomministrazioneProgrammata',\t'DataSomministrazione',\t'DataSomministrazioneProgrammataPrecedente',\t'DataSomministrazionePrecedente',\t'GiornoDaTerapiaPrecedente',\t'GiorniTeoriciDaTerapiaPrecedente',\t'PrimoPrelievo',\t'UltimoPrelievo', 'NumeroPrelievi']\n",
        "b_tests = {x: [] for x in keys}\n",
        "\n",
        "with open(dataset_file_path, 'r') as file:\n",
        "    reader = csv.reader(file, delimiter=\";\")\n",
        "    for row_index, row in enumerate(reader):\n",
        "        if row_index > 0:\n",
        "            for idx, cell in enumerate(row):\n",
        "                if \",\" in cell:             #to save the list of active ingredients as array\n",
        "                    b_tests[keys[idx]].append(cell.split(\",\"))\n",
        "                else:\n",
        "                    b_tests[keys[idx]].append(cell)\n",
        "\n",
        "df = pd.DataFrame(b_tests)"
      ],
      "metadata": {
        "id": "w5eWAnjV1xa4"
      },
      "execution_count": 67,
      "outputs": []
    },
    {
      "cell_type": "markdown",
      "source": [
        "Data visualization"
      ],
      "metadata": {
        "id": "8zzlsevY4LmZ"
      }
    },
    {
      "cell_type": "code",
      "source": [
        "print(df[:10].to_string(index=False))\n",
        "\n",
        "#print(tabulate(df, df.columns.tolist(), tablefmt='grid'))"
      ],
      "metadata": {
        "id": "qQ7bx_YR4O_a",
        "colab": {
          "base_uri": "https://localhost:8080/"
        },
        "outputId": "46001be2-5882-4e64-9306-e9e0455ac75b"
      },
      "execution_count": 68,
      "outputs": [
        {
          "output_type": "stream",
          "name": "stdout",
          "text": [
            "                      IDPaziente genere classeeta IDTerapia CodiceSedeTumore     PrincipiAttivi       PrincipiAttiviDescrizione NumeroSomministrazione DataSomministrazioneProgrammata DataSomministrazione DataSomministrazioneProgrammataPrecedente DataSomministrazionePrecedente GiornoDaTerapiaPrecedente GiorniTeoriciDaTerapiaPrecedente PrimoPrelievo UltimoPrelievo NumeroPrelievi\n",
            "660f6a81899cf623712934e2b1fb7da0      F     51-70    136427               20 [L01DB03, L01AA01]   [epirubicina, ciclofosfamide]                      2                      17/03/2023           17/03/2023                                24/02/2023                     24/02/2023                        21                               21    16/03/2023     16/03/2023              1\n",
            "9f779da0518825145e638e0c8f0b0b37      M     71-90    135572               33 [L01XA03, L01BC02] [oxaliplatino, 5-fluorouracile]                      2                      15/02/2023           15/02/2023                                31/01/2023                     31/01/2023                        15                               14    06/02/2023     13/02/2023              2\n",
            "9f779da0518825145e638e0c8f0b0b37      M     71-90    135572               33 [L01XA03, L01BC02] [oxaliplatino, 5-fluorouracile]                      3                      01/03/2023           01/03/2023                                15/02/2023                     15/02/2023                        14                               14    20/02/2023     28/02/2023              2\n",
            "9f779da0518825145e638e0c8f0b0b37      M     71-90    135572               33 [L01XA03, L01BC02] [oxaliplatino, 5-fluorouracile]                      4                      20/03/2023           20/03/2023                                01/03/2023                     01/03/2023                        19                               14    07/03/2023     17/03/2023              3\n",
            "ccbd90fdb779564e1e1c1f14d35fa017      F     51-70    134798               20            L01FD01                     trastuzumab                      2                      11/01/2023           10/01/2023                                21/12/2022                     21/12/2022                        21                               21                                           0\n",
            "ccbd90fdb779564e1e1c1f14d35fa017      F     51-70    134798               20            L01FD01                     trastuzumab                      3                      01/02/2023           01/02/2023                                11/01/2023                     10/01/2023                        21                               21    31/01/2023     31/01/2023              1\n",
            "ccbd90fdb779564e1e1c1f14d35fa017      F     51-70    134798               20            L01FD01                     trastuzumab                      4                      22/02/2023           22/02/2023                                01/02/2023                     01/02/2023                        21                               21                                           0\n",
            "ccbd90fdb779564e1e1c1f14d35fa017      F     51-70    134798               20            L01FD01                     trastuzumab                      5                      15/03/2023           15/03/2023                                22/02/2023                     22/02/2023                        21                               21    14/03/2023     14/03/2023              1\n",
            "ce3520ee2376df6c31ab8637d4ddd378      M     71-90    134835               64 [L01XA03, L01BC02] [oxaliplatino, 5-fluorouracile]                      2                      02/01/2023           02/01/2023                                19/12/2022                     19/12/2022                        14                               14    30/12/2022     30/12/2022              1\n",
            "7a9ec3945df4df079486454a9e784a3b      M     51-70    128315               64 [L01FG01, L01BC06]     [capecitabina, bevacizumab]                     13                      12/01/2023           12/01/2023                                22/12/2022                     22/12/2022                        21                               21    11/01/2023     11/01/2023              1\n"
          ]
        }
      ]
    },
    {
      "cell_type": "markdown",
      "source": [
        "# Data pre processing\n",
        "The data presents many issues that requires to be fixed\n",
        "\n",
        "1. Duplicated data: Having duplicated data would mean considering multiple times the same information and it will bring a distorsion to reality, so a check is relavant (even if in this case the errors don't occur)"
      ],
      "metadata": {
        "id": "37b2TF7P4fQQ"
      }
    },
    {
      "cell_type": "code",
      "source": [
        "dup_rows = duplicate_check(df, ['IDPaziente', 'IDTerapia', 'NumeroSomministrazione'])\n",
        "print(\"\\n\\nDuplicated rows:\\n\", dup_rows)"
      ],
      "metadata": {
        "id": "UiO1zjKx4e_3",
        "colab": {
          "base_uri": "https://localhost:8080/"
        },
        "outputId": "c3dd84a8-3782-475a-d862-0af6d99dee17"
      },
      "execution_count": 69,
      "outputs": [
        {
          "output_type": "stream",
          "name": "stdout",
          "text": [
            "\n",
            "\n",
            "Duplicated rows:\n",
            " Empty DataFrame\n",
            "Columns: [IDPaziente, genere, classeeta, IDTerapia, CodiceSedeTumore, PrincipiAttivi, PrincipiAttiviDescrizione, NumeroSomministrazione, DataSomministrazioneProgrammata, DataSomministrazione, DataSomministrazioneProgrammataPrecedente, DataSomministrazionePrecedente, GiornoDaTerapiaPrecedente, GiorniTeoriciDaTerapiaPrecedente, PrimoPrelievo, UltimoPrelievo, NumeroPrelievi]\n",
            "Index: []\n"
          ]
        }
      ]
    },
    {
      "cell_type": "markdown",
      "source": [
        "2.  Missing values: There are many missing values in the fields \"PrimoPrelievo\" and \"UltimoPrelievo\" and I considered the option to fill \"UltimoPrelievo\". The plan was to fill that field with \"DataSomministrazione\"-1 for each case where the \"GiornoDaTerapiaPrecedente\" is equal to \"GiorniTeoriciDaTerapiaPrecedente\" (so the schedule has been respected) but this option was assuming that all these therapy executions were scheduled on the last 4 days of the week. This is not a feasible assumption when you are interested to compare the results in percentage of blood tests done 1 day beforeand the ones done 3 days before, as this project aims to do. So below the rows where the \"UltimoPrelievo\" (and jointly \"PrimoPrelievo\") are missing will be deleted."
      ],
      "metadata": {
        "id": "enYRRzpM48Vs"
      }
    },
    {
      "cell_type": "code",
      "source": [
        "df = del_rows_missing_val(df)"
      ],
      "metadata": {
        "id": "ClnurVAP46tC"
      },
      "execution_count": 70,
      "outputs": []
    },
    {
      "cell_type": "markdown",
      "source": [
        "3.  Casting of data: the import functions extract the data as strings. It makes a problem when the data has to be computed for what they really are."
      ],
      "metadata": {
        "id": "uNueJ6u55mLS"
      }
    },
    {
      "cell_type": "code",
      "source": [
        "df['NumeroPrelievi'] = df['NumeroPrelievi'].astype(int)\n",
        "df['DataSomministrazione'] = pd.to_datetime(df['DataSomministrazione'], format='%d/%m/%Y')\n",
        "df['UltimoPrelievo'] = pd.to_datetime(df['UltimoPrelievo'], format='%d/%m/%Y')\n",
        "df['PrimoPrelievo'] = pd.to_datetime(df['PrimoPrelievo'], format='%d/%m/%Y')"
      ],
      "metadata": {
        "id": "M6ENMp6s5l7r"
      },
      "execution_count": 71,
      "outputs": []
    },
    {
      "cell_type": "markdown",
      "source": [
        "4.  Noise: There may occur some error in collection phase of data, so it is important to verify the correctness by means of conditions based on logic of data. These are reported and used in the function \"data_cleaning\"."
      ],
      "metadata": {
        "id": "jK4pLYmK55Sf"
      }
    },
    {
      "cell_type": "code",
      "source": [
        "df = data_cleaning(df)"
      ],
      "metadata": {
        "id": "_vKxl_a055xk"
      },
      "execution_count": 72,
      "outputs": []
    },
    {
      "cell_type": "markdown",
      "source": [
        "5.  Creation of attribute for the class\n",
        "\n",
        "The goal of this phase is to create a classifier that allow to reach the goal of the algorithm.\n",
        "\n",
        "In order to make it, the first step is to define the classes.\n",
        "In this problem the classes are:\n",
        "\n",
        "\n",
        "*   Ready for the therapy\n",
        "*   Not ready for the therapy\n",
        "\n",
        "To distringuish them it has been used 2 conditions:\n",
        "\n",
        "\n",
        "*   Day of previous therapy is bigger than the scheduled day of previous therapy\n",
        "*   The number of blood test is bigger than 1\n",
        "\n",
        "The rows that reflect at least one of these 2 conditions are considered as \"not ready for the therapy\". Theoretically both of conditions should be valid in the same moment and using only one of them would be sufficient, but in this way it helps to consider the undetected noise of the dataset.\n",
        "\n"
      ],
      "metadata": {
        "id": "CZkHXQI46MgL"
      }
    },
    {
      "cell_type": "code",
      "source": [
        "failed_btests = failed_blood_test(df)\n",
        "\n",
        "print(\"\\n\\nThere are {} failed blood tests: \\n{}\\n\".format(len(failed_btests), tabulate(failed_btests[:10], df.columns.tolist(), tablefmt='grid')))\n",
        "print(\"\\n\\nThere are {} failed blood tests ({} % of the total)\\n\".format(len(failed_btests), len(failed_btests)/len(df)*100))"
      ],
      "metadata": {
        "id": "2jDZr0KS6NCQ",
        "colab": {
          "base_uri": "https://localhost:8080/"
        },
        "outputId": "23781cb5-359b-44b5-8622-5a89581b1d0b"
      },
      "execution_count": 73,
      "outputs": [
        {
          "output_type": "stream",
          "name": "stdout",
          "text": [
            "\n",
            "\n",
            "There are 14145 failed blood tests: \n",
            "+----+----------------------------------+----------+-------------+-------------+--------------------+-----------------------------------+--------------------------------------------------+--------------------------+-----------------------------------+------------------------+---------------------------------------------+----------------------------------+-----------------------------+------------------------------------+---------------------+---------------------+------------------+\n",
            "|    | IDPaziente                       | genere   | classeeta   |   IDTerapia |   CodiceSedeTumore | PrincipiAttivi                    | PrincipiAttiviDescrizione                        |   NumeroSomministrazione | DataSomministrazioneProgrammata   | DataSomministrazione   | DataSomministrazioneProgrammataPrecedente   | DataSomministrazionePrecedente   |   GiornoDaTerapiaPrecedente |   GiorniTeoriciDaTerapiaPrecedente | PrimoPrelievo       | UltimoPrelievo      |   NumeroPrelievi |\n",
            "+====+==================================+==========+=============+=============+====================+===================================+==================================================+==========================+===================================+========================+=============================================+==================================+=============================+====================================+=====================+=====================+==================+\n",
            "|  1 | 9f779da0518825145e638e0c8f0b0b37 | M        | 71-90       |      135572 |                 33 | ['L01XA03', 'L01BC02']            | ['oxaliplatino', '5-fluorouracile']              |                        2 | 15/02/2023                        | 2023-02-15 00:00:00    | 31/01/2023                                  | 31/01/2023                       |                          15 |                                 14 | 2023-02-06 00:00:00 | 2023-02-13 00:00:00 |                2 |\n",
            "+----+----------------------------------+----------+-------------+-------------+--------------------+-----------------------------------+--------------------------------------------------+--------------------------+-----------------------------------+------------------------+---------------------------------------------+----------------------------------+-----------------------------+------------------------------------+---------------------+---------------------+------------------+\n",
            "|  2 | 9f779da0518825145e638e0c8f0b0b37 | M        | 71-90       |      135572 |                 33 | ['L01XA03', 'L01BC02']            | ['oxaliplatino', '5-fluorouracile']              |                        3 | 01/03/2023                        | 2023-03-01 00:00:00    | 15/02/2023                                  | 15/02/2023                       |                          14 |                                 14 | 2023-02-20 00:00:00 | 2023-02-28 00:00:00 |                2 |\n",
            "+----+----------------------------------+----------+-------------+-------------+--------------------+-----------------------------------+--------------------------------------------------+--------------------------+-----------------------------------+------------------------+---------------------------------------------+----------------------------------+-----------------------------+------------------------------------+---------------------+---------------------+------------------+\n",
            "|  3 | 9f779da0518825145e638e0c8f0b0b37 | M        | 71-90       |      135572 |                 33 | ['L01XA03', 'L01BC02']            | ['oxaliplatino', '5-fluorouracile']              |                        4 | 20/03/2023                        | 2023-03-20 00:00:00    | 01/03/2023                                  | 01/03/2023                       |                          19 |                                 14 | 2023-03-07 00:00:00 | 2023-03-17 00:00:00 |                3 |\n",
            "+----+----------------------------------+----------+-------------+-------------+--------------------+-----------------------------------+--------------------------------------------------+--------------------------+-----------------------------------+------------------------+---------------------------------------------+----------------------------------+-----------------------------+------------------------------------+---------------------+---------------------+------------------+\n",
            "| 10 | 7a9ec3945df4df079486454a9e784a3b | M        | 51-70       |      128315 |                 64 | ['L01FG01', 'L01BC06']            | ['capecitabina', 'bevacizumab']                  |                       14 | 02/03/2023                        | 2023-03-02 00:00:00    | 12/01/2023                                  | 12/01/2023                       |                          49 |                                 21 | 2023-02-01 00:00:00 | 2023-03-01 00:00:00 |                6 |\n",
            "+----+----------------------------------+----------+-------------+-------------+--------------------+-----------------------------------+--------------------------------------------------+--------------------------+-----------------------------------+------------------------+---------------------------------------------+----------------------------------+-----------------------------+------------------------------------+---------------------+---------------------+------------------+\n",
            "| 17 | dca5cd94d6e25fb991845b653fb9f37c | F        | 51-70       |      135353 |                  4 | L01XA02                           | carboplatino                                     |                        2 | 23/03/2023                        | 2023-03-23 00:00:00    | 10/01/2023                                  | 10/01/2023                       |                          72 |                                 21 | 2023-01-11 00:00:00 | 2023-03-22 00:00:00 |               41 |\n",
            "+----+----------------------------------+----------+-------------+-------------+--------------------+-----------------------------------+--------------------------------------------------+--------------------------+-----------------------------------+------------------------+---------------------------------------------+----------------------------------+-----------------------------+------------------------------------+---------------------+---------------------+------------------+\n",
            "| 18 | 242e4dc4632908cdee50ef46f7421c00 | M        | 51-70       |      133375 |                 64 | ['L01FG01', 'L01CE02', 'L01BC02'] | ['irinotecan', 'bevacizumab', '5-fluorouracile'] |                        4 | 02/01/2023                        | 2023-01-02 00:00:00    | 05/12/2022                                  | 05/12/2022                       |                          28 |                                 14 | 2022-12-30 00:00:00 | 2022-12-30 00:00:00 |                1 |\n",
            "+----+----------------------------------+----------+-------------+-------------+--------------------+-----------------------------------+--------------------------------------------------+--------------------------+-----------------------------------+------------------------+---------------------------------------------+----------------------------------+-----------------------------+------------------------------------+---------------------+---------------------+------------------+\n",
            "| 25 | ce7707f2f7c9b93a397426e7c00e6df7 | M        | 71-90       |      130065 |                 30 | ['L01FF02', 'L01EK01']            | ['pembrolizumab', 'axitinib']                    |                       12 | 30/01/2023                        | 2023-01-30 00:00:00    | 02/01/2023                                  | 02/01/2023                       |                          28 |                                 21 | 2023-01-27 00:00:00 | 2023-01-27 00:00:00 |                1 |\n",
            "+----+----------------------------------+----------+-------------+-------------+--------------------+-----------------------------------+--------------------------------------------------+--------------------------+-----------------------------------+------------------------+---------------------------------------------+----------------------------------+-----------------------------+------------------------------------+---------------------+---------------------+------------------+\n",
            "| 39 | 084d363ee59532c165ff21ca1e12c2e9 | M        | 51-70       |      133869 |                 26 | L01BC05                           | gemcitabina                                      |                        4 | 12/01/2023                        | 2023-01-12 00:00:00    | 29/12/2022                                  | 29/12/2022                       |                          14 |                                 14 | 2023-01-04 00:00:00 | 2023-01-11 00:00:00 |                3 |\n",
            "+----+----------------------------------+----------+-------------+-------------+--------------------+-----------------------------------+--------------------------------------------------+--------------------------+-----------------------------------+------------------------+---------------------------------------------+----------------------------------+-----------------------------+------------------------------------+---------------------+---------------------+------------------+\n",
            "| 52 | 827cb6445fc5fc3f584f56b7e155d6b9 | F        | 71-90       |      123822 |                 28 | L01BA04                           | pemetrexed sperimentale                          |                       18 | 13/01/2023                        | 2023-01-13 00:00:00    | 14/10/2022                                  | 14/10/2022                       |                          91 |                                 84 | 2022-10-20 00:00:00 | 2023-01-12 00:00:00 |                5 |\n",
            "+----+----------------------------------+----------+-------------+-------------+--------------------+-----------------------------------+--------------------------------------------------+--------------------------+-----------------------------------+------------------------+---------------------------------------------+----------------------------------+-----------------------------+------------------------------------+---------------------+---------------------+------------------+\n",
            "| 53 | 827cb6445fc5fc3f584f56b7e155d6b9 | F        | 71-90       |      123822 |                 28 | L01BA04                           | pemetrexed sperimentale                          |                       19 | 03/02/2023                        | 2023-02-03 00:00:00    | 04/11/2022                                  | 04/11/2022                       |                          91 |                                 84 | 2022-11-24 00:00:00 | 2023-02-02 00:00:00 |                5 |\n",
            "+----+----------------------------------+----------+-------------+-------------+--------------------+-----------------------------------+--------------------------------------------------+--------------------------+-----------------------------------+------------------------+---------------------------------------------+----------------------------------+-----------------------------+------------------------------------+---------------------+---------------------+------------------+\n",
            "\n",
            "\n",
            "\n",
            "There are 14145 failed blood tests (58.55203245301763 % of the total)\n",
            "\n"
          ]
        }
      ]
    },
    {
      "cell_type": "markdown",
      "source": [
        "There is a strong incidence of failed blood tests and it is important to keep in mind it in front of the solution.\n",
        "\n",
        "Given the rows belonging to the classes, it is created a new column to assign the class."
      ],
      "metadata": {
        "id": "FZ7_DJWP-Dr9"
      }
    },
    {
      "cell_type": "code",
      "source": [
        "new_column_values = np.where(df.isin(failed_btests).all(axis=1), False, True)\n",
        "df['Single_btest'] = new_column_values\n",
        "\n",
        "print(df.columns.tolist())"
      ],
      "metadata": {
        "id": "yq75t-HY-DjK",
        "colab": {
          "base_uri": "https://localhost:8080/"
        },
        "outputId": "7151a8c5-3496-4283-d535-ad71f66a7d5f"
      },
      "execution_count": 74,
      "outputs": [
        {
          "output_type": "stream",
          "name": "stdout",
          "text": [
            "['IDPaziente', 'genere', 'classeeta', 'IDTerapia', 'CodiceSedeTumore', 'PrincipiAttivi', 'PrincipiAttiviDescrizione', 'NumeroSomministrazione', 'DataSomministrazioneProgrammata', 'DataSomministrazione', 'DataSomministrazioneProgrammataPrecedente', 'DataSomministrazionePrecedente', 'GiornoDaTerapiaPrecedente', 'GiorniTeoriciDaTerapiaPrecedente', 'PrimoPrelievo', 'UltimoPrelievo', 'NumeroPrelievi', 'Single_btest']\n"
          ]
        }
      ]
    },
    {
      "cell_type": "code",
      "source": [
        "#To confirm that the creation has done correctly:\n",
        "#print(tabulate(df, df.columns.tolist(), tablefmt='grid'))\n",
        "#print(\"\\nPercentage of failures of the first blood test: {} %\".format((df['Single_btest']==False).sum() / len(df) * 100))"
      ],
      "metadata": {
        "id": "Bc8oRW0OAKII"
      },
      "execution_count": 75,
      "outputs": []
    },
    {
      "cell_type": "markdown",
      "source": [
        "For the purpose of the project has been fundamental to create also another column to count the day passed between blood test and therapy execution.  "
      ],
      "metadata": {
        "id": "wFXaOwyg_ZZt"
      }
    },
    {
      "cell_type": "code",
      "source": [
        "diff_days = (df['DataSomministrazione'] - df['UltimoPrelievo']).dt.total_seconds().fillna(-1).astype(int)\n",
        "df['Dist_bt_th'] = round(diff_days / (3600 * 24))\n",
        "\n",
        "print(tabulate(df[:10], df.columns.tolist(), tablefmt='grid'))\n",
        "\n",
        "print(\"\\nPercentage of blood tests executed 1 day before therapy execution: {} % ({})\".format((df['Dist_bt_th']==1).sum() / len(df) * 100, (df['Dist_bt_th']==1).sum()))\n",
        "print(\"\\nPercentage of blood tests executed 3 days before therapy execution: {} % ({})\".format((df['Dist_bt_th']==3).sum() / len(df) * 100, (df['Dist_bt_th']==3).sum()))\n",
        "print(\"\\nPercentage of blood tests executed with more than 3 days before therapy execution: {} % ({})\".format((df['Dist_bt_th']>3).sum() / len(df) * 100, (df['Dist_bt_th']>3).sum()))"
      ],
      "metadata": {
        "id": "SJPAAXFj_ZO1",
        "colab": {
          "base_uri": "https://localhost:8080/"
        },
        "outputId": "87afde46-3d37-4479-a301-66dd61b209cc"
      },
      "execution_count": 76,
      "outputs": [
        {
          "output_type": "stream",
          "name": "stdout",
          "text": [
            "+----+----------------------------------+----------+-------------+-------------+--------------------+------------------------+-------------------------------------+--------------------------+-----------------------------------+------------------------+---------------------------------------------+----------------------------------+-----------------------------+------------------------------------+---------------------+---------------------+------------------+----------------+--------------+\n",
            "|    | IDPaziente                       | genere   | classeeta   |   IDTerapia |   CodiceSedeTumore | PrincipiAttivi         | PrincipiAttiviDescrizione           |   NumeroSomministrazione | DataSomministrazioneProgrammata   | DataSomministrazione   | DataSomministrazioneProgrammataPrecedente   | DataSomministrazionePrecedente   |   GiornoDaTerapiaPrecedente |   GiorniTeoriciDaTerapiaPrecedente | PrimoPrelievo       | UltimoPrelievo      |   NumeroPrelievi | Single_btest   |   Dist_bt_th |\n",
            "+====+==================================+==========+=============+=============+====================+========================+=====================================+==========================+===================================+========================+=============================================+==================================+=============================+====================================+=====================+=====================+==================+================+==============+\n",
            "|  0 | 660f6a81899cf623712934e2b1fb7da0 | F        | 51-70       |      136427 |                 20 | ['L01DB03', 'L01AA01'] | ['epirubicina', 'ciclofosfamide']   |                        2 | 17/03/2023                        | 2023-03-17 00:00:00    | 24/02/2023                                  | 24/02/2023                       |                          21 |                                 21 | 2023-03-16 00:00:00 | 2023-03-16 00:00:00 |                1 | True           |            1 |\n",
            "+----+----------------------------------+----------+-------------+-------------+--------------------+------------------------+-------------------------------------+--------------------------+-----------------------------------+------------------------+---------------------------------------------+----------------------------------+-----------------------------+------------------------------------+---------------------+---------------------+------------------+----------------+--------------+\n",
            "|  1 | 9f779da0518825145e638e0c8f0b0b37 | M        | 71-90       |      135572 |                 33 | ['L01XA03', 'L01BC02'] | ['oxaliplatino', '5-fluorouracile'] |                        2 | 15/02/2023                        | 2023-02-15 00:00:00    | 31/01/2023                                  | 31/01/2023                       |                          15 |                                 14 | 2023-02-06 00:00:00 | 2023-02-13 00:00:00 |                2 | False          |            2 |\n",
            "+----+----------------------------------+----------+-------------+-------------+--------------------+------------------------+-------------------------------------+--------------------------+-----------------------------------+------------------------+---------------------------------------------+----------------------------------+-----------------------------+------------------------------------+---------------------+---------------------+------------------+----------------+--------------+\n",
            "|  2 | 9f779da0518825145e638e0c8f0b0b37 | M        | 71-90       |      135572 |                 33 | ['L01XA03', 'L01BC02'] | ['oxaliplatino', '5-fluorouracile'] |                        3 | 01/03/2023                        | 2023-03-01 00:00:00    | 15/02/2023                                  | 15/02/2023                       |                          14 |                                 14 | 2023-02-20 00:00:00 | 2023-02-28 00:00:00 |                2 | False          |            1 |\n",
            "+----+----------------------------------+----------+-------------+-------------+--------------------+------------------------+-------------------------------------+--------------------------+-----------------------------------+------------------------+---------------------------------------------+----------------------------------+-----------------------------+------------------------------------+---------------------+---------------------+------------------+----------------+--------------+\n",
            "|  3 | 9f779da0518825145e638e0c8f0b0b37 | M        | 71-90       |      135572 |                 33 | ['L01XA03', 'L01BC02'] | ['oxaliplatino', '5-fluorouracile'] |                        4 | 20/03/2023                        | 2023-03-20 00:00:00    | 01/03/2023                                  | 01/03/2023                       |                          19 |                                 14 | 2023-03-07 00:00:00 | 2023-03-17 00:00:00 |                3 | False          |            3 |\n",
            "+----+----------------------------------+----------+-------------+-------------+--------------------+------------------------+-------------------------------------+--------------------------+-----------------------------------+------------------------+---------------------------------------------+----------------------------------+-----------------------------+------------------------------------+---------------------+---------------------+------------------+----------------+--------------+\n",
            "|  5 | ccbd90fdb779564e1e1c1f14d35fa017 | F        | 51-70       |      134798 |                 20 | L01FD01                | trastuzumab                         |                        3 | 01/02/2023                        | 2023-02-01 00:00:00    | 11/01/2023                                  | 10/01/2023                       |                          21 |                                 21 | 2023-01-31 00:00:00 | 2023-01-31 00:00:00 |                1 | True           |            1 |\n",
            "+----+----------------------------------+----------+-------------+-------------+--------------------+------------------------+-------------------------------------+--------------------------+-----------------------------------+------------------------+---------------------------------------------+----------------------------------+-----------------------------+------------------------------------+---------------------+---------------------+------------------+----------------+--------------+\n",
            "|  7 | ccbd90fdb779564e1e1c1f14d35fa017 | F        | 51-70       |      134798 |                 20 | L01FD01                | trastuzumab                         |                        5 | 15/03/2023                        | 2023-03-15 00:00:00    | 22/02/2023                                  | 22/02/2023                       |                          21 |                                 21 | 2023-03-14 00:00:00 | 2023-03-14 00:00:00 |                1 | True           |            1 |\n",
            "+----+----------------------------------+----------+-------------+-------------+--------------------+------------------------+-------------------------------------+--------------------------+-----------------------------------+------------------------+---------------------------------------------+----------------------------------+-----------------------------+------------------------------------+---------------------+---------------------+------------------+----------------+--------------+\n",
            "|  8 | ce3520ee2376df6c31ab8637d4ddd378 | M        | 71-90       |      134835 |                 64 | ['L01XA03', 'L01BC02'] | ['oxaliplatino', '5-fluorouracile'] |                        2 | 02/01/2023                        | 2023-01-02 00:00:00    | 19/12/2022                                  | 19/12/2022                       |                          14 |                                 14 | 2022-12-30 00:00:00 | 2022-12-30 00:00:00 |                1 | True           |            3 |\n",
            "+----+----------------------------------+----------+-------------+-------------+--------------------+------------------------+-------------------------------------+--------------------------+-----------------------------------+------------------------+---------------------------------------------+----------------------------------+-----------------------------+------------------------------------+---------------------+---------------------+------------------+----------------+--------------+\n",
            "|  9 | 7a9ec3945df4df079486454a9e784a3b | M        | 51-70       |      128315 |                 64 | ['L01FG01', 'L01BC06'] | ['capecitabina', 'bevacizumab']     |                       13 | 12/01/2023                        | 2023-01-12 00:00:00    | 22/12/2022                                  | 22/12/2022                       |                          21 |                                 21 | 2023-01-11 00:00:00 | 2023-01-11 00:00:00 |                1 | True           |            1 |\n",
            "+----+----------------------------------+----------+-------------+-------------+--------------------+------------------------+-------------------------------------+--------------------------+-----------------------------------+------------------------+---------------------------------------------+----------------------------------+-----------------------------+------------------------------------+---------------------+---------------------+------------------+----------------+--------------+\n",
            "| 10 | 7a9ec3945df4df079486454a9e784a3b | M        | 51-70       |      128315 |                 64 | ['L01FG01', 'L01BC06'] | ['capecitabina', 'bevacizumab']     |                       14 | 02/03/2023                        | 2023-03-02 00:00:00    | 12/01/2023                                  | 12/01/2023                       |                          49 |                                 21 | 2023-02-01 00:00:00 | 2023-03-01 00:00:00 |                6 | False          |            1 |\n",
            "+----+----------------------------------+----------+-------------+-------------+--------------------+------------------------+-------------------------------------+--------------------------+-----------------------------------+------------------------+---------------------------------------------+----------------------------------+-----------------------------+------------------------------------+---------------------+---------------------+------------------+----------------+--------------+\n",
            "| 11 | 9785bd7d8543cec95d4b1ff5832890f2 | M        | 71-90       |      131240 |                 29 | L02BB04                | Enzalutamide                        |                        7 | 10/01/2023                        | 2023-01-10 00:00:00    | 13/12/2022                                  | 13/12/2022                       |                          28 |                                 28 | 2023-01-09 00:00:00 | 2023-01-09 00:00:00 |                1 | True           |            1 |\n",
            "+----+----------------------------------+----------+-------------+-------------+--------------------+------------------------+-------------------------------------+--------------------------+-----------------------------------+------------------------+---------------------------------------------+----------------------------------+-----------------------------+------------------------------------+---------------------+---------------------+------------------+----------------+--------------+\n",
            "\n",
            "Percentage of blood tests executed 1 day before therapy execution: 62.939812898418744 % (15205)\n",
            "\n",
            "Percentage of blood tests executed 3 days before therapy execution: 13.97466677705108 % (3376)\n",
            "\n",
            "Percentage of blood tests executed with more than 3 days before therapy execution: 17.402102823081382 % (4204)\n"
          ]
        }
      ]
    },
    {
      "cell_type": "markdown",
      "source": [
        "Looking at data, the days with a quantity of time passed between last blood test and therapy execution higher than 3 we can distiguish 2 cases:\n",
        "\n",
        "1.   Dist_bt_th near to 3 (4 or 5): the blood test was probably done on friday (for monday) and the therapy execution has been postponed for other reasons (not important)\n",
        "2.   Dist_bt_th far from 3 (>>3): data has been wrongly collected. Eg. the update of the date for the last blood test has not been done\n",
        "\n",
        "For these reasons, the data with Dist_bt_th different to 1 and 3 will be deleted since they require to include additional considerations and assumptions."
      ],
      "metadata": {
        "id": "Arklmb6f-yiY"
      }
    },
    {
      "cell_type": "code",
      "source": [
        "for index, row in df[:100].iterrows():\n",
        "  if row['Dist_bt_th']>3:\n",
        "    print(row)"
      ],
      "metadata": {
        "colab": {
          "base_uri": "https://localhost:8080/"
        },
        "id": "KWtIqb1_-yTx",
        "outputId": "6f1b615d-79f6-40e5-c4ea-eb0d08fba38f"
      },
      "execution_count": 77,
      "outputs": [
        {
          "output_type": "stream",
          "name": "stdout",
          "text": [
            "IDPaziente                                   1ed08827b32bed97fef0980b2dd6c4ba\n",
            "genere                                                                      F\n",
            "classeeta                                                               51-70\n",
            "IDTerapia                                                              122913\n",
            "CodiceSedeTumore                                                           20\n",
            "PrincipiAttivi                                                        L01EF03\n",
            "PrincipiAttiviDescrizione                                         ABEMACICLIB\n",
            "NumeroSomministrazione                                                     14\n",
            "DataSomministrazioneProgrammata                                    17/01/2023\n",
            "DataSomministrazione                                      2023-01-17 00:00:00\n",
            "DataSomministrazioneProgrammataPrecedente                          23/08/2022\n",
            "DataSomministrazionePrecedente                                     23/08/2022\n",
            "GiornoDaTerapiaPrecedente                                                 147\n",
            "GiorniTeoriciDaTerapiaPrecedente                                          140\n",
            "PrimoPrelievo                                             2022-10-24 00:00:00\n",
            "UltimoPrelievo                                            2022-10-24 00:00:00\n",
            "NumeroPrelievi                                                              1\n",
            "Single_btest                                                            False\n",
            "Dist_bt_th                                                               85.0\n",
            "Name: 76, dtype: object\n",
            "IDPaziente                                   1ed08827b32bed97fef0980b2dd6c4ba\n",
            "genere                                                                      F\n",
            "classeeta                                                               51-70\n",
            "IDTerapia                                                              122913\n",
            "CodiceSedeTumore                                                           20\n",
            "PrincipiAttivi                                                        L01EF03\n",
            "PrincipiAttiviDescrizione                                         ABEMACICLIB\n",
            "NumeroSomministrazione                                                     15\n",
            "DataSomministrazioneProgrammata                                    14/02/2023\n",
            "DataSomministrazione                                      2023-02-14 00:00:00\n",
            "DataSomministrazioneProgrammataPrecedente                          27/09/2022\n",
            "DataSomministrazionePrecedente                                     27/09/2022\n",
            "GiornoDaTerapiaPrecedente                                                 140\n",
            "GiorniTeoriciDaTerapiaPrecedente                                          140\n",
            "PrimoPrelievo                                             2022-10-24 00:00:00\n",
            "UltimoPrelievo                                            2022-10-24 00:00:00\n",
            "NumeroPrelievi                                                              1\n",
            "Single_btest                                                             True\n",
            "Dist_bt_th                                                              113.0\n",
            "Name: 77, dtype: object\n",
            "IDPaziente                                   0cd13a820aae0b87b9a41e40d8eeb1ae\n",
            "genere                                                                      F\n",
            "classeeta                                                               51-70\n",
            "IDTerapia                                                              108795\n",
            "CodiceSedeTumore                                                           20\n",
            "PrincipiAttivi                                                        L01FD01\n",
            "PrincipiAttiviDescrizione                                         trastuzumab\n",
            "NumeroSomministrazione                                                     15\n",
            "DataSomministrazioneProgrammata                                    04/01/2023\n",
            "DataSomministrazione                                      2023-01-04 00:00:00\n",
            "DataSomministrazioneProgrammataPrecedente                          15/10/2020\n",
            "DataSomministrazionePrecedente                                     15/10/2020\n",
            "GiornoDaTerapiaPrecedente                                                 811\n",
            "GiorniTeoriciDaTerapiaPrecedente                                          756\n",
            "PrimoPrelievo                                             2021-12-09 00:00:00\n",
            "UltimoPrelievo                                            2022-12-13 00:00:00\n",
            "NumeroPrelievi                                                              7\n",
            "Single_btest                                                            False\n",
            "Dist_bt_th                                                               22.0\n",
            "Name: 79, dtype: object\n",
            "IDPaziente                                   0cd13a820aae0b87b9a41e40d8eeb1ae\n",
            "genere                                                                      F\n",
            "classeeta                                                               51-70\n",
            "IDTerapia                                                              108795\n",
            "CodiceSedeTumore                                                           20\n",
            "PrincipiAttivi                                                        L01FD01\n",
            "PrincipiAttiviDescrizione                                         trastuzumab\n",
            "NumeroSomministrazione                                                     17\n",
            "DataSomministrazioneProgrammata                                    15/02/2023\n",
            "DataSomministrazione                                      2023-02-15 00:00:00\n",
            "DataSomministrazioneProgrammataPrecedente                          26/11/2020\n",
            "DataSomministrazionePrecedente                                     26/11/2020\n",
            "GiornoDaTerapiaPrecedente                                                 811\n",
            "GiorniTeoriciDaTerapiaPrecedente                                          756\n",
            "PrimoPrelievo                                             2021-12-09 00:00:00\n",
            "UltimoPrelievo                                            2023-01-24 00:00:00\n",
            "NumeroPrelievi                                                              8\n",
            "Single_btest                                                            False\n",
            "Dist_bt_th                                                               22.0\n",
            "Name: 81, dtype: object\n",
            "IDPaziente                                   0cd13a820aae0b87b9a41e40d8eeb1ae\n",
            "genere                                                                      F\n",
            "classeeta                                                               51-70\n",
            "IDTerapia                                                              108795\n",
            "CodiceSedeTumore                                                           20\n",
            "PrincipiAttivi                                                        L01FD01\n",
            "PrincipiAttiviDescrizione                                         trastuzumab\n",
            "NumeroSomministrazione                                                     19\n",
            "DataSomministrazioneProgrammata                                    29/03/2023\n",
            "DataSomministrazione                                      2023-03-29 00:00:00\n",
            "DataSomministrazioneProgrammataPrecedente                          07/01/2021\n",
            "DataSomministrazionePrecedente                                     07/01/2021\n",
            "GiornoDaTerapiaPrecedente                                                 811\n",
            "GiorniTeoriciDaTerapiaPrecedente                                          756\n",
            "PrimoPrelievo                                             2021-12-09 00:00:00\n",
            "UltimoPrelievo                                            2023-03-07 00:00:00\n",
            "NumeroPrelievi                                                              9\n",
            "Single_btest                                                            False\n",
            "Dist_bt_th                                                               22.0\n",
            "Name: 83, dtype: object\n",
            "IDPaziente                                   126ee1904140f31266d82bd81975826a\n",
            "genere                                                                      M\n",
            "classeeta                                                               51-70\n",
            "IDTerapia                                                              120107\n",
            "CodiceSedeTumore                                                           46\n",
            "PrincipiAttivi                                                        L01XE27\n",
            "PrincipiAttiviDescrizione                                           Ibrutinib\n",
            "NumeroSomministrazione                                                     14\n",
            "DataSomministrazioneProgrammata                                    27/01/2023\n",
            "DataSomministrazione                                      2023-01-27 00:00:00\n",
            "DataSomministrazioneProgrammataPrecedente                          02/05/2022\n",
            "DataSomministrazionePrecedente                                     02/05/2022\n",
            "GiornoDaTerapiaPrecedente                                                 270\n",
            "GiorniTeoriciDaTerapiaPrecedente                                          270\n",
            "PrimoPrelievo                                             2022-08-01 00:00:00\n",
            "UltimoPrelievo                                            2022-12-29 00:00:00\n",
            "NumeroPrelievi                                                              3\n",
            "Single_btest                                                            False\n",
            "Dist_bt_th                                                               29.0\n",
            "Name: 96, dtype: object\n",
            "IDPaziente                                   126ee1904140f31266d82bd81975826a\n",
            "genere                                                                      M\n",
            "classeeta                                                               51-70\n",
            "IDTerapia                                                              120107\n",
            "CodiceSedeTumore                                                           46\n",
            "PrincipiAttivi                                                        L01XE27\n",
            "PrincipiAttiviDescrizione                                           Ibrutinib\n",
            "NumeroSomministrazione                                                     15\n",
            "DataSomministrazioneProgrammata                                    27/02/2023\n",
            "DataSomministrazione                                      2023-02-27 00:00:00\n",
            "DataSomministrazioneProgrammataPrecedente                          01/06/2022\n",
            "DataSomministrazionePrecedente                                     01/06/2022\n",
            "GiornoDaTerapiaPrecedente                                                 271\n",
            "GiorniTeoriciDaTerapiaPrecedente                                          270\n",
            "PrimoPrelievo                                             2022-08-01 00:00:00\n",
            "UltimoPrelievo                                            2022-12-29 00:00:00\n",
            "NumeroPrelievi                                                              3\n",
            "Single_btest                                                            False\n",
            "Dist_bt_th                                                               60.0\n",
            "Name: 97, dtype: object\n",
            "IDPaziente                                   27936563246ab3416f80e494754d07f7\n",
            "genere                                                                      M\n",
            "classeeta                                                               71-90\n",
            "IDTerapia                                                              127186\n",
            "CodiceSedeTumore                                                           47\n",
            "PrincipiAttivi                                                        L01XC24\n",
            "PrincipiAttiviDescrizione                               daratumumab sottocute\n",
            "NumeroSomministrazione                                                     13\n",
            "DataSomministrazioneProgrammata                                    24/01/2023\n",
            "DataSomministrazione                                      2023-01-24 00:00:00\n",
            "DataSomministrazioneProgrammataPrecedente                          28/12/2022\n",
            "DataSomministrazionePrecedente                                     28/12/2022\n",
            "GiornoDaTerapiaPrecedente                                                  27\n",
            "GiorniTeoriciDaTerapiaPrecedente                                           28\n",
            "PrimoPrelievo                                             2023-01-20 00:00:00\n",
            "UltimoPrelievo                                            2023-01-20 00:00:00\n",
            "NumeroPrelievi                                                              1\n",
            "Single_btest                                                             True\n",
            "Dist_bt_th                                                                4.0\n",
            "Name: 118, dtype: object\n"
          ]
        }
      ]
    },
    {
      "cell_type": "code",
      "source": [
        "df = df[df['Dist_bt_th'] <= 3]"
      ],
      "metadata": {
        "id": "DFyUduUcC5hO"
      },
      "execution_count": 78,
      "outputs": []
    },
    {
      "cell_type": "markdown",
      "source": [
        "6.  Management of the attribute \"PrincipiAttivi\" that contains array: this attribute contains an array of active ingredients, but in this format it does not suit with the algorithm operations.\n",
        "\n",
        "\n",
        "> So, to make it usable, it can be created an attribute for each possible value and then setting as True for the rows where that value is present.\n",
        "\n"
      ],
      "metadata": {
        "id": "yi2G9MF94Xet"
      }
    },
    {
      "cell_type": "code",
      "source": [
        "#How many active ingredients are?\n",
        "unique_values_set = set()\n",
        "\n",
        "for idx, arr in enumerate(df['PrincipiAttivi']):\n",
        "    for x in arr:\n",
        "        if (x not in unique_values_set) & (len(str(x)) > 5):\n",
        "            unique_values_set.add(x)\n",
        "\n",
        "print(\"N° of active ingredients: \", len(unique_values_set))\n",
        "#print(unique_values_set)\n",
        "\n",
        "df = pd.concat([df, df.apply(check_value_presence, axis=1, result_type='expand')], axis=1)"
      ],
      "metadata": {
        "id": "BXodTPlE4XUS",
        "colab": {
          "base_uri": "https://localhost:8080/"
        },
        "outputId": "6328d03d-33e4-481e-9d79-bf617c017cff"
      },
      "execution_count": 79,
      "outputs": [
        {
          "output_type": "stream",
          "name": "stdout",
          "text": [
            "N° of active ingredients:  86\n"
          ]
        }
      ]
    },
    {
      "cell_type": "markdown",
      "source": [
        "7.  Removal of useless attributes: there are some attributes that are not relevant to be kept for the working operations of the ML algorithm:\n",
        "\n"
      ],
      "metadata": {
        "id": "sstujvh8AQ97"
      }
    },
    {
      "cell_type": "code",
      "source": [
        "list = ['IDPaziente', 'IDTerapia', 'PrincipiAttivi', 'PrincipiAttiviDescrizione', 'NumeroSomministrazione',\n",
        "        'DataSomministrazioneProgrammata', 'DataSomministrazione', 'DataSomministrazioneProgrammataPrecedente',\n",
        "        'DataSomministrazionePrecedente', 'GiornoDaTerapiaPrecedente',\t'GiorniTeoriciDaTerapiaPrecedente',\n",
        "        'PrimoPrelievo', 'UltimoPrelievo', 'NumeroPrelievi']\n",
        "df = attrib_removal(df, list)\n",
        "print(df.columns.tolist())"
      ],
      "metadata": {
        "id": "0vPeysDZBsv4",
        "colab": {
          "base_uri": "https://localhost:8080/"
        },
        "outputId": "6e5e9974-7b87-4298-a449-ba69d4207308"
      },
      "execution_count": 80,
      "outputs": [
        {
          "output_type": "stream",
          "name": "stdout",
          "text": [
            "['genere', 'classeeta', 'CodiceSedeTumore', 'Single_btest', 'Dist_bt_th', 'L01FD03', 'L01EF02', 'L01FF07', 'L01FX15', 'L01XA02', 'L02BA03', 'L02AE02', 'L04AX06', 'L01XK01', 'L01CA04', 'L01FG02', 'L01XX54', 'L01XG01', 'L01EK01', 'L01FG01', 'L01AA01', 'L02BG04', 'L01CE02', 'L01XX44 ', 'L01CA01', 'L01EG02', 'L01FX05', 'L01DC01', 'L01DB03', 'L01XA01', 'L01CD01', 'L01XX27', 'L01XA03', 'L01DA01', 'L01EF03', 'L01FD02', 'L01EH01', 'L01BA04', 'L01EE01', 'L01FD01', 'L01CB01', 'L01AA06', 'L01BC01', 'L03AA13', 'L01FF04', 'L01XX50', 'L01DB01', 'L01AA09', 'L01AX04', 'L01CD02', 'L01AA03', 'L01FF01', 'L01EC02', 'L01BA01', 'L01FF03', 'L04AX02', 'L01FX08', 'L01AX03', 'L01BC05', 'L01EE03', 'L01FE01', 'L01XX52', 'L01EF01', 'L01FA01', 'L01CA02', 'L01XC24', 'L01BA03', 'L01FF02', 'L01EX08', 'L04AX04', 'L01BC08', 'L01FX04', 'L01FA03', 'L01FF05', 'L01BC06', 'L01BC02', 'L01CX01', 'L02BB03', 'L01DB07', 'L01XX14', 'L01FE02', 'L01EA05', 'L01FC02', 'L01XX45', 'L01FC01', 'L01EX07', 'L01DC03', 'L01BC07', 'L01XE31', 'L01FX12', 'L01EC03']\n"
          ]
        }
      ]
    },
    {
      "cell_type": "markdown",
      "source": [
        "# Model generation"
      ],
      "metadata": {
        "id": "ZJNfHswvBM3D"
      }
    },
    {
      "cell_type": "markdown",
      "source": [
        "This section will be focused on the concrete creation of the classifier.\n",
        "\n",
        "The first step is the split of the dataset with its classes, by keeping the index as a \"primary key\" to trace the relation between the 2 datframes.\n",
        "\n",
        "After that, both of the dataframes are divided into:\n",
        "\n",
        "*   Training set (70%)\n",
        "*   Test set (20%)\n",
        "*   Validation set (10%)"
      ],
      "metadata": {
        "id": "dPho0aguBNws"
      }
    },
    {
      "cell_type": "code",
      "source": [
        "print(df.columns.tolist())"
      ],
      "metadata": {
        "colab": {
          "base_uri": "https://localhost:8080/"
        },
        "id": "_P7Q6fgHD13c",
        "outputId": "accebf5b-0028-4287-d171-f8f296ff43bb"
      },
      "execution_count": 81,
      "outputs": [
        {
          "output_type": "stream",
          "name": "stdout",
          "text": [
            "['genere', 'classeeta', 'CodiceSedeTumore', 'Single_btest', 'Dist_bt_th', 'L01FD03', 'L01EF02', 'L01FF07', 'L01FX15', 'L01XA02', 'L02BA03', 'L02AE02', 'L04AX06', 'L01XK01', 'L01CA04', 'L01FG02', 'L01XX54', 'L01XG01', 'L01EK01', 'L01FG01', 'L01AA01', 'L02BG04', 'L01CE02', 'L01XX44 ', 'L01CA01', 'L01EG02', 'L01FX05', 'L01DC01', 'L01DB03', 'L01XA01', 'L01CD01', 'L01XX27', 'L01XA03', 'L01DA01', 'L01EF03', 'L01FD02', 'L01EH01', 'L01BA04', 'L01EE01', 'L01FD01', 'L01CB01', 'L01AA06', 'L01BC01', 'L03AA13', 'L01FF04', 'L01XX50', 'L01DB01', 'L01AA09', 'L01AX04', 'L01CD02', 'L01AA03', 'L01FF01', 'L01EC02', 'L01BA01', 'L01FF03', 'L04AX02', 'L01FX08', 'L01AX03', 'L01BC05', 'L01EE03', 'L01FE01', 'L01XX52', 'L01EF01', 'L01FA01', 'L01CA02', 'L01XC24', 'L01BA03', 'L01FF02', 'L01EX08', 'L04AX04', 'L01BC08', 'L01FX04', 'L01FA03', 'L01FF05', 'L01BC06', 'L01BC02', 'L01CX01', 'L02BB03', 'L01DB07', 'L01XX14', 'L01FE02', 'L01EA05', 'L01FC02', 'L01XX45', 'L01FC01', 'L01EX07', 'L01DC03', 'L01BC07', 'L01XE31', 'L01FX12', 'L01EC03']\n"
          ]
        }
      ]
    },
    {
      "cell_type": "code",
      "source": [
        "th_classes = df['Single_btest'].copy()\n",
        "#th_classes['idx'] = df.index\n",
        "df = df.drop(['Single_btest'], axis=1)\n",
        "#df['idx'] = df.index\n",
        "#print(df.columns.tolist())\n",
        "#rint(th_classes.columns.tolist())\n",
        "\n",
        "cutpoint1, cutpoint2 = 0.7, 0.8\n",
        "trainset = df[:int(cutpoint1*len(df))]\n",
        "train_cl = th_classes[:int(cutpoint1*len(df))]\n",
        "valset = df[int(cutpoint1*len(df)):int(cutpoint2*len(df))]\n",
        "val_cl = th_classes[int(cutpoint1*len(df)):int(cutpoint2*len(df))]\n",
        "testset = df[int(cutpoint2*len(df)):]\n",
        "test_cl = th_classes[int(cutpoint2*len(df)):]\n",
        "print('Total: {} splitted in Train: {}, Val: {} and Test: {}'.format(len(df), len(trainset), len(valset), len(testset)))"
      ],
      "metadata": {
        "id": "yfomYAl1BNoR",
        "colab": {
          "base_uri": "https://localhost:8080/"
        },
        "outputId": "27ad028d-7df5-41bc-d2f0-2b6d1f98734b"
      },
      "execution_count": 82,
      "outputs": [
        {
          "output_type": "stream",
          "name": "stdout",
          "text": [
            "Total: 19954 splitted in Train: 13967, Val: 1996 and Test: 3991\n"
          ]
        }
      ]
    },
    {
      "cell_type": "markdown",
      "source": [
        "Now it's the turn for the creation of the classifier.\n",
        "\n",
        "There are many possibilities and here we are going to try the decision tress."
      ],
      "metadata": {
        "id": "1HW76zw3HhhO"
      }
    },
    {
      "cell_type": "code",
      "source": [
        "from sklearn.tree import DecisionTreeClassifier\n",
        "\n",
        "clf = DecisionTreeClassifier()"
      ],
      "metadata": {
        "id": "C991Jun5HhZF"
      },
      "execution_count": 88,
      "outputs": []
    },
    {
      "cell_type": "code",
      "source": [
        "clf.fit(trainset, train_cl)"
      ],
      "metadata": {
        "colab": {
          "base_uri": "https://localhost:8080/",
          "height": 329
        },
        "id": "IF0QPioEH2SF",
        "outputId": "6d8de600-1b0d-4975-b9b5-d74047ff6b50"
      },
      "execution_count": 90,
      "outputs": [
        {
          "output_type": "error",
          "ename": "ValueError",
          "evalue": "ignored",
          "traceback": [
            "\u001b[0;31m---------------------------------------------------------------------------\u001b[0m",
            "\u001b[0;31mValueError\u001b[0m                                Traceback (most recent call last)",
            "\u001b[0;32m<ipython-input-90-75841cdefe87>\u001b[0m in \u001b[0;36m<cell line: 1>\u001b[0;34m()\u001b[0m\n\u001b[0;32m----> 1\u001b[0;31m \u001b[0mclf\u001b[0m\u001b[0;34m.\u001b[0m\u001b[0mfit\u001b[0m\u001b[0;34m(\u001b[0m\u001b[0mtrainset\u001b[0m\u001b[0;34m,\u001b[0m \u001b[0mtrain_cl\u001b[0m\u001b[0;34m)\u001b[0m\u001b[0;34m\u001b[0m\u001b[0;34m\u001b[0m\u001b[0m\n\u001b[0m",
            "\u001b[0;32m/usr/local/lib/python3.10/dist-packages/sklearn/tree/_classes.py\u001b[0m in \u001b[0;36mfit\u001b[0;34m(self, X, y, sample_weight, check_input)\u001b[0m\n\u001b[1;32m    887\u001b[0m         \"\"\"\n\u001b[1;32m    888\u001b[0m \u001b[0;34m\u001b[0m\u001b[0m\n\u001b[0;32m--> 889\u001b[0;31m         super().fit(\n\u001b[0m\u001b[1;32m    890\u001b[0m             \u001b[0mX\u001b[0m\u001b[0;34m,\u001b[0m\u001b[0;34m\u001b[0m\u001b[0;34m\u001b[0m\u001b[0m\n\u001b[1;32m    891\u001b[0m             \u001b[0my\u001b[0m\u001b[0;34m,\u001b[0m\u001b[0;34m\u001b[0m\u001b[0;34m\u001b[0m\u001b[0m\n",
            "\u001b[0;32m/usr/local/lib/python3.10/dist-packages/sklearn/tree/_classes.py\u001b[0m in \u001b[0;36mfit\u001b[0;34m(self, X, y, sample_weight, check_input)\u001b[0m\n\u001b[1;32m    184\u001b[0m             \u001b[0mcheck_X_params\u001b[0m \u001b[0;34m=\u001b[0m \u001b[0mdict\u001b[0m\u001b[0;34m(\u001b[0m\u001b[0mdtype\u001b[0m\u001b[0;34m=\u001b[0m\u001b[0mDTYPE\u001b[0m\u001b[0;34m,\u001b[0m \u001b[0maccept_sparse\u001b[0m\u001b[0;34m=\u001b[0m\u001b[0;34m\"csc\"\u001b[0m\u001b[0;34m)\u001b[0m\u001b[0;34m\u001b[0m\u001b[0;34m\u001b[0m\u001b[0m\n\u001b[1;32m    185\u001b[0m             \u001b[0mcheck_y_params\u001b[0m \u001b[0;34m=\u001b[0m \u001b[0mdict\u001b[0m\u001b[0;34m(\u001b[0m\u001b[0mensure_2d\u001b[0m\u001b[0;34m=\u001b[0m\u001b[0;32mFalse\u001b[0m\u001b[0;34m,\u001b[0m \u001b[0mdtype\u001b[0m\u001b[0;34m=\u001b[0m\u001b[0;32mNone\u001b[0m\u001b[0;34m)\u001b[0m\u001b[0;34m\u001b[0m\u001b[0;34m\u001b[0m\u001b[0m\n\u001b[0;32m--> 186\u001b[0;31m             X, y = self._validate_data(\n\u001b[0m\u001b[1;32m    187\u001b[0m                 \u001b[0mX\u001b[0m\u001b[0;34m,\u001b[0m \u001b[0my\u001b[0m\u001b[0;34m,\u001b[0m \u001b[0mvalidate_separately\u001b[0m\u001b[0;34m=\u001b[0m\u001b[0;34m(\u001b[0m\u001b[0mcheck_X_params\u001b[0m\u001b[0;34m,\u001b[0m \u001b[0mcheck_y_params\u001b[0m\u001b[0;34m)\u001b[0m\u001b[0;34m\u001b[0m\u001b[0;34m\u001b[0m\u001b[0m\n\u001b[1;32m    188\u001b[0m             )\n",
            "\u001b[0;32m/usr/local/lib/python3.10/dist-packages/sklearn/base.py\u001b[0m in \u001b[0;36m_validate_data\u001b[0;34m(self, X, y, reset, validate_separately, **check_params)\u001b[0m\n\u001b[1;32m    577\u001b[0m                 \u001b[0;32mif\u001b[0m \u001b[0;34m\"estimator\"\u001b[0m \u001b[0;32mnot\u001b[0m \u001b[0;32min\u001b[0m \u001b[0mcheck_X_params\u001b[0m\u001b[0;34m:\u001b[0m\u001b[0;34m\u001b[0m\u001b[0;34m\u001b[0m\u001b[0m\n\u001b[1;32m    578\u001b[0m                     \u001b[0mcheck_X_params\u001b[0m \u001b[0;34m=\u001b[0m \u001b[0;34m{\u001b[0m\u001b[0;34m**\u001b[0m\u001b[0mdefault_check_params\u001b[0m\u001b[0;34m,\u001b[0m \u001b[0;34m**\u001b[0m\u001b[0mcheck_X_params\u001b[0m\u001b[0;34m}\u001b[0m\u001b[0;34m\u001b[0m\u001b[0;34m\u001b[0m\u001b[0m\n\u001b[0;32m--> 579\u001b[0;31m                 \u001b[0mX\u001b[0m \u001b[0;34m=\u001b[0m \u001b[0mcheck_array\u001b[0m\u001b[0;34m(\u001b[0m\u001b[0mX\u001b[0m\u001b[0;34m,\u001b[0m \u001b[0minput_name\u001b[0m\u001b[0;34m=\u001b[0m\u001b[0;34m\"X\"\u001b[0m\u001b[0;34m,\u001b[0m \u001b[0;34m**\u001b[0m\u001b[0mcheck_X_params\u001b[0m\u001b[0;34m)\u001b[0m\u001b[0;34m\u001b[0m\u001b[0;34m\u001b[0m\u001b[0m\n\u001b[0m\u001b[1;32m    580\u001b[0m                 \u001b[0;32mif\u001b[0m \u001b[0;34m\"estimator\"\u001b[0m \u001b[0;32mnot\u001b[0m \u001b[0;32min\u001b[0m \u001b[0mcheck_y_params\u001b[0m\u001b[0;34m:\u001b[0m\u001b[0;34m\u001b[0m\u001b[0;34m\u001b[0m\u001b[0m\n\u001b[1;32m    581\u001b[0m                     \u001b[0mcheck_y_params\u001b[0m \u001b[0;34m=\u001b[0m \u001b[0;34m{\u001b[0m\u001b[0;34m**\u001b[0m\u001b[0mdefault_check_params\u001b[0m\u001b[0;34m,\u001b[0m \u001b[0;34m**\u001b[0m\u001b[0mcheck_y_params\u001b[0m\u001b[0;34m}\u001b[0m\u001b[0;34m\u001b[0m\u001b[0;34m\u001b[0m\u001b[0m\n",
            "\u001b[0;32m/usr/local/lib/python3.10/dist-packages/sklearn/utils/validation.py\u001b[0m in \u001b[0;36mcheck_array\u001b[0;34m(array, accept_sparse, accept_large_sparse, dtype, order, copy, force_all_finite, ensure_2d, allow_nd, ensure_min_samples, ensure_min_features, estimator, input_name)\u001b[0m\n\u001b[1;32m    808\u001b[0m         \u001b[0;31m# Use the original dtype for conversion if dtype is None\u001b[0m\u001b[0;34m\u001b[0m\u001b[0;34m\u001b[0m\u001b[0m\n\u001b[1;32m    809\u001b[0m         \u001b[0mnew_dtype\u001b[0m \u001b[0;34m=\u001b[0m \u001b[0mdtype_orig\u001b[0m \u001b[0;32mif\u001b[0m \u001b[0mdtype\u001b[0m \u001b[0;32mis\u001b[0m \u001b[0;32mNone\u001b[0m \u001b[0;32melse\u001b[0m \u001b[0mdtype\u001b[0m\u001b[0;34m\u001b[0m\u001b[0;34m\u001b[0m\u001b[0m\n\u001b[0;32m--> 810\u001b[0;31m         \u001b[0marray\u001b[0m \u001b[0;34m=\u001b[0m \u001b[0marray\u001b[0m\u001b[0;34m.\u001b[0m\u001b[0mastype\u001b[0m\u001b[0;34m(\u001b[0m\u001b[0mnew_dtype\u001b[0m\u001b[0;34m)\u001b[0m\u001b[0;34m\u001b[0m\u001b[0;34m\u001b[0m\u001b[0m\n\u001b[0m\u001b[1;32m    811\u001b[0m         \u001b[0;31m# Since we converted here, we do not need to convert again later\u001b[0m\u001b[0;34m\u001b[0m\u001b[0;34m\u001b[0m\u001b[0m\n\u001b[1;32m    812\u001b[0m         \u001b[0mdtype\u001b[0m \u001b[0;34m=\u001b[0m \u001b[0;32mNone\u001b[0m\u001b[0;34m\u001b[0m\u001b[0;34m\u001b[0m\u001b[0m\n",
            "\u001b[0;32m/usr/local/lib/python3.10/dist-packages/pandas/core/generic.py\u001b[0m in \u001b[0;36mastype\u001b[0;34m(self, dtype, copy, errors)\u001b[0m\n\u001b[1;32m   6238\u001b[0m         \u001b[0;32melse\u001b[0m\u001b[0;34m:\u001b[0m\u001b[0;34m\u001b[0m\u001b[0;34m\u001b[0m\u001b[0m\n\u001b[1;32m   6239\u001b[0m             \u001b[0;31m# else, only a single dtype is given\u001b[0m\u001b[0;34m\u001b[0m\u001b[0;34m\u001b[0m\u001b[0m\n\u001b[0;32m-> 6240\u001b[0;31m             \u001b[0mnew_data\u001b[0m \u001b[0;34m=\u001b[0m \u001b[0mself\u001b[0m\u001b[0;34m.\u001b[0m\u001b[0m_mgr\u001b[0m\u001b[0;34m.\u001b[0m\u001b[0mastype\u001b[0m\u001b[0;34m(\u001b[0m\u001b[0mdtype\u001b[0m\u001b[0;34m=\u001b[0m\u001b[0mdtype\u001b[0m\u001b[0;34m,\u001b[0m \u001b[0mcopy\u001b[0m\u001b[0;34m=\u001b[0m\u001b[0mcopy\u001b[0m\u001b[0;34m,\u001b[0m \u001b[0merrors\u001b[0m\u001b[0;34m=\u001b[0m\u001b[0merrors\u001b[0m\u001b[0;34m)\u001b[0m\u001b[0;34m\u001b[0m\u001b[0;34m\u001b[0m\u001b[0m\n\u001b[0m\u001b[1;32m   6241\u001b[0m             \u001b[0;32mreturn\u001b[0m \u001b[0mself\u001b[0m\u001b[0;34m.\u001b[0m\u001b[0m_constructor\u001b[0m\u001b[0;34m(\u001b[0m\u001b[0mnew_data\u001b[0m\u001b[0;34m)\u001b[0m\u001b[0;34m.\u001b[0m\u001b[0m__finalize__\u001b[0m\u001b[0;34m(\u001b[0m\u001b[0mself\u001b[0m\u001b[0;34m,\u001b[0m \u001b[0mmethod\u001b[0m\u001b[0;34m=\u001b[0m\u001b[0;34m\"astype\"\u001b[0m\u001b[0;34m)\u001b[0m\u001b[0;34m\u001b[0m\u001b[0;34m\u001b[0m\u001b[0m\n\u001b[1;32m   6242\u001b[0m \u001b[0;34m\u001b[0m\u001b[0m\n",
            "\u001b[0;32m/usr/local/lib/python3.10/dist-packages/pandas/core/internals/managers.py\u001b[0m in \u001b[0;36mastype\u001b[0;34m(self, dtype, copy, errors)\u001b[0m\n\u001b[1;32m    446\u001b[0m \u001b[0;34m\u001b[0m\u001b[0m\n\u001b[1;32m    447\u001b[0m     \u001b[0;32mdef\u001b[0m \u001b[0mastype\u001b[0m\u001b[0;34m(\u001b[0m\u001b[0mself\u001b[0m\u001b[0;34m:\u001b[0m \u001b[0mT\u001b[0m\u001b[0;34m,\u001b[0m \u001b[0mdtype\u001b[0m\u001b[0;34m,\u001b[0m \u001b[0mcopy\u001b[0m\u001b[0;34m:\u001b[0m \u001b[0mbool\u001b[0m \u001b[0;34m=\u001b[0m \u001b[0;32mFalse\u001b[0m\u001b[0;34m,\u001b[0m \u001b[0merrors\u001b[0m\u001b[0;34m:\u001b[0m \u001b[0mstr\u001b[0m \u001b[0;34m=\u001b[0m \u001b[0;34m\"raise\"\u001b[0m\u001b[0;34m)\u001b[0m \u001b[0;34m->\u001b[0m \u001b[0mT\u001b[0m\u001b[0;34m:\u001b[0m\u001b[0;34m\u001b[0m\u001b[0;34m\u001b[0m\u001b[0m\n\u001b[0;32m--> 448\u001b[0;31m         \u001b[0;32mreturn\u001b[0m \u001b[0mself\u001b[0m\u001b[0;34m.\u001b[0m\u001b[0mapply\u001b[0m\u001b[0;34m(\u001b[0m\u001b[0;34m\"astype\"\u001b[0m\u001b[0;34m,\u001b[0m \u001b[0mdtype\u001b[0m\u001b[0;34m=\u001b[0m\u001b[0mdtype\u001b[0m\u001b[0;34m,\u001b[0m \u001b[0mcopy\u001b[0m\u001b[0;34m=\u001b[0m\u001b[0mcopy\u001b[0m\u001b[0;34m,\u001b[0m \u001b[0merrors\u001b[0m\u001b[0;34m=\u001b[0m\u001b[0merrors\u001b[0m\u001b[0;34m)\u001b[0m\u001b[0;34m\u001b[0m\u001b[0;34m\u001b[0m\u001b[0m\n\u001b[0m\u001b[1;32m    449\u001b[0m \u001b[0;34m\u001b[0m\u001b[0m\n\u001b[1;32m    450\u001b[0m     def convert(\n",
            "\u001b[0;32m/usr/local/lib/python3.10/dist-packages/pandas/core/internals/managers.py\u001b[0m in \u001b[0;36mapply\u001b[0;34m(self, f, align_keys, ignore_failures, **kwargs)\u001b[0m\n\u001b[1;32m    350\u001b[0m                     \u001b[0mapplied\u001b[0m \u001b[0;34m=\u001b[0m \u001b[0mb\u001b[0m\u001b[0;34m.\u001b[0m\u001b[0mapply\u001b[0m\u001b[0;34m(\u001b[0m\u001b[0mf\u001b[0m\u001b[0;34m,\u001b[0m \u001b[0;34m**\u001b[0m\u001b[0mkwargs\u001b[0m\u001b[0;34m)\u001b[0m\u001b[0;34m\u001b[0m\u001b[0;34m\u001b[0m\u001b[0m\n\u001b[1;32m    351\u001b[0m                 \u001b[0;32melse\u001b[0m\u001b[0;34m:\u001b[0m\u001b[0;34m\u001b[0m\u001b[0;34m\u001b[0m\u001b[0m\n\u001b[0;32m--> 352\u001b[0;31m                     \u001b[0mapplied\u001b[0m \u001b[0;34m=\u001b[0m \u001b[0mgetattr\u001b[0m\u001b[0;34m(\u001b[0m\u001b[0mb\u001b[0m\u001b[0;34m,\u001b[0m \u001b[0mf\u001b[0m\u001b[0;34m)\u001b[0m\u001b[0;34m(\u001b[0m\u001b[0;34m**\u001b[0m\u001b[0mkwargs\u001b[0m\u001b[0;34m)\u001b[0m\u001b[0;34m\u001b[0m\u001b[0;34m\u001b[0m\u001b[0m\n\u001b[0m\u001b[1;32m    353\u001b[0m             \u001b[0;32mexcept\u001b[0m \u001b[0;34m(\u001b[0m\u001b[0mTypeError\u001b[0m\u001b[0;34m,\u001b[0m \u001b[0mNotImplementedError\u001b[0m\u001b[0;34m)\u001b[0m\u001b[0;34m:\u001b[0m\u001b[0;34m\u001b[0m\u001b[0;34m\u001b[0m\u001b[0m\n\u001b[1;32m    354\u001b[0m                 \u001b[0;32mif\u001b[0m \u001b[0;32mnot\u001b[0m \u001b[0mignore_failures\u001b[0m\u001b[0;34m:\u001b[0m\u001b[0;34m\u001b[0m\u001b[0;34m\u001b[0m\u001b[0m\n",
            "\u001b[0;32m/usr/local/lib/python3.10/dist-packages/pandas/core/internals/blocks.py\u001b[0m in \u001b[0;36mastype\u001b[0;34m(self, dtype, copy, errors)\u001b[0m\n\u001b[1;32m    524\u001b[0m         \u001b[0mvalues\u001b[0m \u001b[0;34m=\u001b[0m \u001b[0mself\u001b[0m\u001b[0;34m.\u001b[0m\u001b[0mvalues\u001b[0m\u001b[0;34m\u001b[0m\u001b[0;34m\u001b[0m\u001b[0m\n\u001b[1;32m    525\u001b[0m \u001b[0;34m\u001b[0m\u001b[0m\n\u001b[0;32m--> 526\u001b[0;31m         \u001b[0mnew_values\u001b[0m \u001b[0;34m=\u001b[0m \u001b[0mastype_array_safe\u001b[0m\u001b[0;34m(\u001b[0m\u001b[0mvalues\u001b[0m\u001b[0;34m,\u001b[0m \u001b[0mdtype\u001b[0m\u001b[0;34m,\u001b[0m \u001b[0mcopy\u001b[0m\u001b[0;34m=\u001b[0m\u001b[0mcopy\u001b[0m\u001b[0;34m,\u001b[0m \u001b[0merrors\u001b[0m\u001b[0;34m=\u001b[0m\u001b[0merrors\u001b[0m\u001b[0;34m)\u001b[0m\u001b[0;34m\u001b[0m\u001b[0;34m\u001b[0m\u001b[0m\n\u001b[0m\u001b[1;32m    527\u001b[0m \u001b[0;34m\u001b[0m\u001b[0m\n\u001b[1;32m    528\u001b[0m         \u001b[0mnew_values\u001b[0m \u001b[0;34m=\u001b[0m \u001b[0mmaybe_coerce_values\u001b[0m\u001b[0;34m(\u001b[0m\u001b[0mnew_values\u001b[0m\u001b[0;34m)\u001b[0m\u001b[0;34m\u001b[0m\u001b[0;34m\u001b[0m\u001b[0m\n",
            "\u001b[0;32m/usr/local/lib/python3.10/dist-packages/pandas/core/dtypes/astype.py\u001b[0m in \u001b[0;36mastype_array_safe\u001b[0;34m(values, dtype, copy, errors)\u001b[0m\n\u001b[1;32m    297\u001b[0m \u001b[0;34m\u001b[0m\u001b[0m\n\u001b[1;32m    298\u001b[0m     \u001b[0;32mtry\u001b[0m\u001b[0;34m:\u001b[0m\u001b[0;34m\u001b[0m\u001b[0;34m\u001b[0m\u001b[0m\n\u001b[0;32m--> 299\u001b[0;31m         \u001b[0mnew_values\u001b[0m \u001b[0;34m=\u001b[0m \u001b[0mastype_array\u001b[0m\u001b[0;34m(\u001b[0m\u001b[0mvalues\u001b[0m\u001b[0;34m,\u001b[0m \u001b[0mdtype\u001b[0m\u001b[0;34m,\u001b[0m \u001b[0mcopy\u001b[0m\u001b[0;34m=\u001b[0m\u001b[0mcopy\u001b[0m\u001b[0;34m)\u001b[0m\u001b[0;34m\u001b[0m\u001b[0;34m\u001b[0m\u001b[0m\n\u001b[0m\u001b[1;32m    300\u001b[0m     \u001b[0;32mexcept\u001b[0m \u001b[0;34m(\u001b[0m\u001b[0mValueError\u001b[0m\u001b[0;34m,\u001b[0m \u001b[0mTypeError\u001b[0m\u001b[0;34m)\u001b[0m\u001b[0;34m:\u001b[0m\u001b[0;34m\u001b[0m\u001b[0;34m\u001b[0m\u001b[0m\n\u001b[1;32m    301\u001b[0m         \u001b[0;31m# e.g. astype_nansafe can fail on object-dtype of strings\u001b[0m\u001b[0;34m\u001b[0m\u001b[0;34m\u001b[0m\u001b[0m\n",
            "\u001b[0;32m/usr/local/lib/python3.10/dist-packages/pandas/core/dtypes/astype.py\u001b[0m in \u001b[0;36mastype_array\u001b[0;34m(values, dtype, copy)\u001b[0m\n\u001b[1;32m    228\u001b[0m \u001b[0;34m\u001b[0m\u001b[0m\n\u001b[1;32m    229\u001b[0m     \u001b[0;32melse\u001b[0m\u001b[0;34m:\u001b[0m\u001b[0;34m\u001b[0m\u001b[0;34m\u001b[0m\u001b[0m\n\u001b[0;32m--> 230\u001b[0;31m         \u001b[0mvalues\u001b[0m \u001b[0;34m=\u001b[0m \u001b[0mastype_nansafe\u001b[0m\u001b[0;34m(\u001b[0m\u001b[0mvalues\u001b[0m\u001b[0;34m,\u001b[0m \u001b[0mdtype\u001b[0m\u001b[0;34m,\u001b[0m \u001b[0mcopy\u001b[0m\u001b[0;34m=\u001b[0m\u001b[0mcopy\u001b[0m\u001b[0;34m)\u001b[0m\u001b[0;34m\u001b[0m\u001b[0;34m\u001b[0m\u001b[0m\n\u001b[0m\u001b[1;32m    231\u001b[0m \u001b[0;34m\u001b[0m\u001b[0m\n\u001b[1;32m    232\u001b[0m     \u001b[0;31m# in pandas we don't store numpy str dtypes, so convert to object\u001b[0m\u001b[0;34m\u001b[0m\u001b[0;34m\u001b[0m\u001b[0m\n",
            "\u001b[0;32m/usr/local/lib/python3.10/dist-packages/pandas/core/dtypes/astype.py\u001b[0m in \u001b[0;36mastype_nansafe\u001b[0;34m(arr, dtype, copy, skipna)\u001b[0m\n\u001b[1;32m    168\u001b[0m     \u001b[0;32mif\u001b[0m \u001b[0mcopy\u001b[0m \u001b[0;32mor\u001b[0m \u001b[0mis_object_dtype\u001b[0m\u001b[0;34m(\u001b[0m\u001b[0marr\u001b[0m\u001b[0;34m.\u001b[0m\u001b[0mdtype\u001b[0m\u001b[0;34m)\u001b[0m \u001b[0;32mor\u001b[0m \u001b[0mis_object_dtype\u001b[0m\u001b[0;34m(\u001b[0m\u001b[0mdtype\u001b[0m\u001b[0;34m)\u001b[0m\u001b[0;34m:\u001b[0m\u001b[0;34m\u001b[0m\u001b[0;34m\u001b[0m\u001b[0m\n\u001b[1;32m    169\u001b[0m         \u001b[0;31m# Explicit copy, or required since NumPy can't view from / to object.\u001b[0m\u001b[0;34m\u001b[0m\u001b[0;34m\u001b[0m\u001b[0m\n\u001b[0;32m--> 170\u001b[0;31m         \u001b[0;32mreturn\u001b[0m \u001b[0marr\u001b[0m\u001b[0;34m.\u001b[0m\u001b[0mastype\u001b[0m\u001b[0;34m(\u001b[0m\u001b[0mdtype\u001b[0m\u001b[0;34m,\u001b[0m \u001b[0mcopy\u001b[0m\u001b[0;34m=\u001b[0m\u001b[0;32mTrue\u001b[0m\u001b[0;34m)\u001b[0m\u001b[0;34m\u001b[0m\u001b[0;34m\u001b[0m\u001b[0m\n\u001b[0m\u001b[1;32m    171\u001b[0m \u001b[0;34m\u001b[0m\u001b[0m\n\u001b[1;32m    172\u001b[0m     \u001b[0;32mreturn\u001b[0m \u001b[0marr\u001b[0m\u001b[0;34m.\u001b[0m\u001b[0mastype\u001b[0m\u001b[0;34m(\u001b[0m\u001b[0mdtype\u001b[0m\u001b[0;34m,\u001b[0m \u001b[0mcopy\u001b[0m\u001b[0;34m=\u001b[0m\u001b[0mcopy\u001b[0m\u001b[0;34m)\u001b[0m\u001b[0;34m\u001b[0m\u001b[0;34m\u001b[0m\u001b[0m\n",
            "\u001b[0;31mValueError\u001b[0m: could not convert string to float: 'F'"
          ]
        }
      ]
    },
    {
      "cell_type": "markdown",
      "source": [
        "Now it's the turn for the creation of the classifier.\n",
        "\n",
        "There are many possibilities and here we are goinf to try the Support Vector Machines. The parameters used are the following ones (considering this [source](https://vitalflux.com/svm-rbf-kernel-parameters-code-sample/#:~:text=The%20gamma%20parameter%20defines%20how,high%20values%20meaning%20'close'.)):\n",
        "\n",
        "\n",
        "*   kernel = rbf: the dimensionality of data is low\n",
        "*   C = 10: it aims to reduce regularization\n",
        "*   gamma = 0.05: to guarantee sufficient influence of training set\n",
        "\n",
        "Jointly it is carried out the training of this model.\n",
        "\n"
      ],
      "metadata": {
        "id": "USWO5RfTczt5"
      }
    },
    {
      "cell_type": "code",
      "source": [
        "clf = svm.SVC(gamma=0.1, C=10, kernel='rbf')"
      ],
      "metadata": {
        "id": "wx2l_7qdczkZ"
      },
      "execution_count": 83,
      "outputs": []
    },
    {
      "cell_type": "code",
      "source": [
        "clf.fit(trainset, train_cl)"
      ],
      "metadata": {
        "colab": {
          "base_uri": "https://localhost:8080/",
          "height": 329
        },
        "id": "Cx3-DsiBFnL0",
        "outputId": "816fe620-daa0-4a93-963c-f24786f0ce62"
      },
      "execution_count": 87,
      "outputs": [
        {
          "output_type": "error",
          "ename": "ValueError",
          "evalue": "ignored",
          "traceback": [
            "\u001b[0;31m---------------------------------------------------------------------------\u001b[0m",
            "\u001b[0;31mValueError\u001b[0m                                Traceback (most recent call last)",
            "\u001b[0;32m<ipython-input-87-75841cdefe87>\u001b[0m in \u001b[0;36m<cell line: 1>\u001b[0;34m()\u001b[0m\n\u001b[0;32m----> 1\u001b[0;31m \u001b[0mclf\u001b[0m\u001b[0;34m.\u001b[0m\u001b[0mfit\u001b[0m\u001b[0;34m(\u001b[0m\u001b[0mtrainset\u001b[0m\u001b[0;34m,\u001b[0m \u001b[0mtrain_cl\u001b[0m\u001b[0;34m)\u001b[0m\u001b[0;34m\u001b[0m\u001b[0;34m\u001b[0m\u001b[0m\n\u001b[0m",
            "\u001b[0;32m/usr/local/lib/python3.10/dist-packages/sklearn/tree/_classes.py\u001b[0m in \u001b[0;36mfit\u001b[0;34m(self, X, y, sample_weight, check_input)\u001b[0m\n\u001b[1;32m    887\u001b[0m         \"\"\"\n\u001b[1;32m    888\u001b[0m \u001b[0;34m\u001b[0m\u001b[0m\n\u001b[0;32m--> 889\u001b[0;31m         super().fit(\n\u001b[0m\u001b[1;32m    890\u001b[0m             \u001b[0mX\u001b[0m\u001b[0;34m,\u001b[0m\u001b[0;34m\u001b[0m\u001b[0;34m\u001b[0m\u001b[0m\n\u001b[1;32m    891\u001b[0m             \u001b[0my\u001b[0m\u001b[0;34m,\u001b[0m\u001b[0;34m\u001b[0m\u001b[0;34m\u001b[0m\u001b[0m\n",
            "\u001b[0;32m/usr/local/lib/python3.10/dist-packages/sklearn/tree/_classes.py\u001b[0m in \u001b[0;36mfit\u001b[0;34m(self, X, y, sample_weight, check_input)\u001b[0m\n\u001b[1;32m    184\u001b[0m             \u001b[0mcheck_X_params\u001b[0m \u001b[0;34m=\u001b[0m \u001b[0mdict\u001b[0m\u001b[0;34m(\u001b[0m\u001b[0mdtype\u001b[0m\u001b[0;34m=\u001b[0m\u001b[0mDTYPE\u001b[0m\u001b[0;34m,\u001b[0m \u001b[0maccept_sparse\u001b[0m\u001b[0;34m=\u001b[0m\u001b[0;34m\"csc\"\u001b[0m\u001b[0;34m)\u001b[0m\u001b[0;34m\u001b[0m\u001b[0;34m\u001b[0m\u001b[0m\n\u001b[1;32m    185\u001b[0m             \u001b[0mcheck_y_params\u001b[0m \u001b[0;34m=\u001b[0m \u001b[0mdict\u001b[0m\u001b[0;34m(\u001b[0m\u001b[0mensure_2d\u001b[0m\u001b[0;34m=\u001b[0m\u001b[0;32mFalse\u001b[0m\u001b[0;34m,\u001b[0m \u001b[0mdtype\u001b[0m\u001b[0;34m=\u001b[0m\u001b[0;32mNone\u001b[0m\u001b[0;34m)\u001b[0m\u001b[0;34m\u001b[0m\u001b[0;34m\u001b[0m\u001b[0m\n\u001b[0;32m--> 186\u001b[0;31m             X, y = self._validate_data(\n\u001b[0m\u001b[1;32m    187\u001b[0m                 \u001b[0mX\u001b[0m\u001b[0;34m,\u001b[0m \u001b[0my\u001b[0m\u001b[0;34m,\u001b[0m \u001b[0mvalidate_separately\u001b[0m\u001b[0;34m=\u001b[0m\u001b[0;34m(\u001b[0m\u001b[0mcheck_X_params\u001b[0m\u001b[0;34m,\u001b[0m \u001b[0mcheck_y_params\u001b[0m\u001b[0;34m)\u001b[0m\u001b[0;34m\u001b[0m\u001b[0;34m\u001b[0m\u001b[0m\n\u001b[1;32m    188\u001b[0m             )\n",
            "\u001b[0;32m/usr/local/lib/python3.10/dist-packages/sklearn/base.py\u001b[0m in \u001b[0;36m_validate_data\u001b[0;34m(self, X, y, reset, validate_separately, **check_params)\u001b[0m\n\u001b[1;32m    577\u001b[0m                 \u001b[0;32mif\u001b[0m \u001b[0;34m\"estimator\"\u001b[0m \u001b[0;32mnot\u001b[0m \u001b[0;32min\u001b[0m \u001b[0mcheck_X_params\u001b[0m\u001b[0;34m:\u001b[0m\u001b[0;34m\u001b[0m\u001b[0;34m\u001b[0m\u001b[0m\n\u001b[1;32m    578\u001b[0m                     \u001b[0mcheck_X_params\u001b[0m \u001b[0;34m=\u001b[0m \u001b[0;34m{\u001b[0m\u001b[0;34m**\u001b[0m\u001b[0mdefault_check_params\u001b[0m\u001b[0;34m,\u001b[0m \u001b[0;34m**\u001b[0m\u001b[0mcheck_X_params\u001b[0m\u001b[0;34m}\u001b[0m\u001b[0;34m\u001b[0m\u001b[0;34m\u001b[0m\u001b[0m\n\u001b[0;32m--> 579\u001b[0;31m                 \u001b[0mX\u001b[0m \u001b[0;34m=\u001b[0m \u001b[0mcheck_array\u001b[0m\u001b[0;34m(\u001b[0m\u001b[0mX\u001b[0m\u001b[0;34m,\u001b[0m \u001b[0minput_name\u001b[0m\u001b[0;34m=\u001b[0m\u001b[0;34m\"X\"\u001b[0m\u001b[0;34m,\u001b[0m \u001b[0;34m**\u001b[0m\u001b[0mcheck_X_params\u001b[0m\u001b[0;34m)\u001b[0m\u001b[0;34m\u001b[0m\u001b[0;34m\u001b[0m\u001b[0m\n\u001b[0m\u001b[1;32m    580\u001b[0m                 \u001b[0;32mif\u001b[0m \u001b[0;34m\"estimator\"\u001b[0m \u001b[0;32mnot\u001b[0m \u001b[0;32min\u001b[0m \u001b[0mcheck_y_params\u001b[0m\u001b[0;34m:\u001b[0m\u001b[0;34m\u001b[0m\u001b[0;34m\u001b[0m\u001b[0m\n\u001b[1;32m    581\u001b[0m                     \u001b[0mcheck_y_params\u001b[0m \u001b[0;34m=\u001b[0m \u001b[0;34m{\u001b[0m\u001b[0;34m**\u001b[0m\u001b[0mdefault_check_params\u001b[0m\u001b[0;34m,\u001b[0m \u001b[0;34m**\u001b[0m\u001b[0mcheck_y_params\u001b[0m\u001b[0;34m}\u001b[0m\u001b[0;34m\u001b[0m\u001b[0;34m\u001b[0m\u001b[0m\n",
            "\u001b[0;32m/usr/local/lib/python3.10/dist-packages/sklearn/utils/validation.py\u001b[0m in \u001b[0;36mcheck_array\u001b[0;34m(array, accept_sparse, accept_large_sparse, dtype, order, copy, force_all_finite, ensure_2d, allow_nd, ensure_min_samples, ensure_min_features, estimator, input_name)\u001b[0m\n\u001b[1;32m    808\u001b[0m         \u001b[0;31m# Use the original dtype for conversion if dtype is None\u001b[0m\u001b[0;34m\u001b[0m\u001b[0;34m\u001b[0m\u001b[0m\n\u001b[1;32m    809\u001b[0m         \u001b[0mnew_dtype\u001b[0m \u001b[0;34m=\u001b[0m \u001b[0mdtype_orig\u001b[0m \u001b[0;32mif\u001b[0m \u001b[0mdtype\u001b[0m \u001b[0;32mis\u001b[0m \u001b[0;32mNone\u001b[0m \u001b[0;32melse\u001b[0m \u001b[0mdtype\u001b[0m\u001b[0;34m\u001b[0m\u001b[0;34m\u001b[0m\u001b[0m\n\u001b[0;32m--> 810\u001b[0;31m         \u001b[0marray\u001b[0m \u001b[0;34m=\u001b[0m \u001b[0marray\u001b[0m\u001b[0;34m.\u001b[0m\u001b[0mastype\u001b[0m\u001b[0;34m(\u001b[0m\u001b[0mnew_dtype\u001b[0m\u001b[0;34m)\u001b[0m\u001b[0;34m\u001b[0m\u001b[0;34m\u001b[0m\u001b[0m\n\u001b[0m\u001b[1;32m    811\u001b[0m         \u001b[0;31m# Since we converted here, we do not need to convert again later\u001b[0m\u001b[0;34m\u001b[0m\u001b[0;34m\u001b[0m\u001b[0m\n\u001b[1;32m    812\u001b[0m         \u001b[0mdtype\u001b[0m \u001b[0;34m=\u001b[0m \u001b[0;32mNone\u001b[0m\u001b[0;34m\u001b[0m\u001b[0;34m\u001b[0m\u001b[0m\n",
            "\u001b[0;32m/usr/local/lib/python3.10/dist-packages/pandas/core/generic.py\u001b[0m in \u001b[0;36mastype\u001b[0;34m(self, dtype, copy, errors)\u001b[0m\n\u001b[1;32m   6238\u001b[0m         \u001b[0;32melse\u001b[0m\u001b[0;34m:\u001b[0m\u001b[0;34m\u001b[0m\u001b[0;34m\u001b[0m\u001b[0m\n\u001b[1;32m   6239\u001b[0m             \u001b[0;31m# else, only a single dtype is given\u001b[0m\u001b[0;34m\u001b[0m\u001b[0;34m\u001b[0m\u001b[0m\n\u001b[0;32m-> 6240\u001b[0;31m             \u001b[0mnew_data\u001b[0m \u001b[0;34m=\u001b[0m \u001b[0mself\u001b[0m\u001b[0;34m.\u001b[0m\u001b[0m_mgr\u001b[0m\u001b[0;34m.\u001b[0m\u001b[0mastype\u001b[0m\u001b[0;34m(\u001b[0m\u001b[0mdtype\u001b[0m\u001b[0;34m=\u001b[0m\u001b[0mdtype\u001b[0m\u001b[0;34m,\u001b[0m \u001b[0mcopy\u001b[0m\u001b[0;34m=\u001b[0m\u001b[0mcopy\u001b[0m\u001b[0;34m,\u001b[0m \u001b[0merrors\u001b[0m\u001b[0;34m=\u001b[0m\u001b[0merrors\u001b[0m\u001b[0;34m)\u001b[0m\u001b[0;34m\u001b[0m\u001b[0;34m\u001b[0m\u001b[0m\n\u001b[0m\u001b[1;32m   6241\u001b[0m             \u001b[0;32mreturn\u001b[0m \u001b[0mself\u001b[0m\u001b[0;34m.\u001b[0m\u001b[0m_constructor\u001b[0m\u001b[0;34m(\u001b[0m\u001b[0mnew_data\u001b[0m\u001b[0;34m)\u001b[0m\u001b[0;34m.\u001b[0m\u001b[0m__finalize__\u001b[0m\u001b[0;34m(\u001b[0m\u001b[0mself\u001b[0m\u001b[0;34m,\u001b[0m \u001b[0mmethod\u001b[0m\u001b[0;34m=\u001b[0m\u001b[0;34m\"astype\"\u001b[0m\u001b[0;34m)\u001b[0m\u001b[0;34m\u001b[0m\u001b[0;34m\u001b[0m\u001b[0m\n\u001b[1;32m   6242\u001b[0m \u001b[0;34m\u001b[0m\u001b[0m\n",
            "\u001b[0;32m/usr/local/lib/python3.10/dist-packages/pandas/core/internals/managers.py\u001b[0m in \u001b[0;36mastype\u001b[0;34m(self, dtype, copy, errors)\u001b[0m\n\u001b[1;32m    446\u001b[0m \u001b[0;34m\u001b[0m\u001b[0m\n\u001b[1;32m    447\u001b[0m     \u001b[0;32mdef\u001b[0m \u001b[0mastype\u001b[0m\u001b[0;34m(\u001b[0m\u001b[0mself\u001b[0m\u001b[0;34m:\u001b[0m \u001b[0mT\u001b[0m\u001b[0;34m,\u001b[0m \u001b[0mdtype\u001b[0m\u001b[0;34m,\u001b[0m \u001b[0mcopy\u001b[0m\u001b[0;34m:\u001b[0m \u001b[0mbool\u001b[0m \u001b[0;34m=\u001b[0m \u001b[0;32mFalse\u001b[0m\u001b[0;34m,\u001b[0m \u001b[0merrors\u001b[0m\u001b[0;34m:\u001b[0m \u001b[0mstr\u001b[0m \u001b[0;34m=\u001b[0m \u001b[0;34m\"raise\"\u001b[0m\u001b[0;34m)\u001b[0m \u001b[0;34m->\u001b[0m \u001b[0mT\u001b[0m\u001b[0;34m:\u001b[0m\u001b[0;34m\u001b[0m\u001b[0;34m\u001b[0m\u001b[0m\n\u001b[0;32m--> 448\u001b[0;31m         \u001b[0;32mreturn\u001b[0m \u001b[0mself\u001b[0m\u001b[0;34m.\u001b[0m\u001b[0mapply\u001b[0m\u001b[0;34m(\u001b[0m\u001b[0;34m\"astype\"\u001b[0m\u001b[0;34m,\u001b[0m \u001b[0mdtype\u001b[0m\u001b[0;34m=\u001b[0m\u001b[0mdtype\u001b[0m\u001b[0;34m,\u001b[0m \u001b[0mcopy\u001b[0m\u001b[0;34m=\u001b[0m\u001b[0mcopy\u001b[0m\u001b[0;34m,\u001b[0m \u001b[0merrors\u001b[0m\u001b[0;34m=\u001b[0m\u001b[0merrors\u001b[0m\u001b[0;34m)\u001b[0m\u001b[0;34m\u001b[0m\u001b[0;34m\u001b[0m\u001b[0m\n\u001b[0m\u001b[1;32m    449\u001b[0m \u001b[0;34m\u001b[0m\u001b[0m\n\u001b[1;32m    450\u001b[0m     def convert(\n",
            "\u001b[0;32m/usr/local/lib/python3.10/dist-packages/pandas/core/internals/managers.py\u001b[0m in \u001b[0;36mapply\u001b[0;34m(self, f, align_keys, ignore_failures, **kwargs)\u001b[0m\n\u001b[1;32m    350\u001b[0m                     \u001b[0mapplied\u001b[0m \u001b[0;34m=\u001b[0m \u001b[0mb\u001b[0m\u001b[0;34m.\u001b[0m\u001b[0mapply\u001b[0m\u001b[0;34m(\u001b[0m\u001b[0mf\u001b[0m\u001b[0;34m,\u001b[0m \u001b[0;34m**\u001b[0m\u001b[0mkwargs\u001b[0m\u001b[0;34m)\u001b[0m\u001b[0;34m\u001b[0m\u001b[0;34m\u001b[0m\u001b[0m\n\u001b[1;32m    351\u001b[0m                 \u001b[0;32melse\u001b[0m\u001b[0;34m:\u001b[0m\u001b[0;34m\u001b[0m\u001b[0;34m\u001b[0m\u001b[0m\n\u001b[0;32m--> 352\u001b[0;31m                     \u001b[0mapplied\u001b[0m \u001b[0;34m=\u001b[0m \u001b[0mgetattr\u001b[0m\u001b[0;34m(\u001b[0m\u001b[0mb\u001b[0m\u001b[0;34m,\u001b[0m \u001b[0mf\u001b[0m\u001b[0;34m)\u001b[0m\u001b[0;34m(\u001b[0m\u001b[0;34m**\u001b[0m\u001b[0mkwargs\u001b[0m\u001b[0;34m)\u001b[0m\u001b[0;34m\u001b[0m\u001b[0;34m\u001b[0m\u001b[0m\n\u001b[0m\u001b[1;32m    353\u001b[0m             \u001b[0;32mexcept\u001b[0m \u001b[0;34m(\u001b[0m\u001b[0mTypeError\u001b[0m\u001b[0;34m,\u001b[0m \u001b[0mNotImplementedError\u001b[0m\u001b[0;34m)\u001b[0m\u001b[0;34m:\u001b[0m\u001b[0;34m\u001b[0m\u001b[0;34m\u001b[0m\u001b[0m\n\u001b[1;32m    354\u001b[0m                 \u001b[0;32mif\u001b[0m \u001b[0;32mnot\u001b[0m \u001b[0mignore_failures\u001b[0m\u001b[0;34m:\u001b[0m\u001b[0;34m\u001b[0m\u001b[0;34m\u001b[0m\u001b[0m\n",
            "\u001b[0;32m/usr/local/lib/python3.10/dist-packages/pandas/core/internals/blocks.py\u001b[0m in \u001b[0;36mastype\u001b[0;34m(self, dtype, copy, errors)\u001b[0m\n\u001b[1;32m    524\u001b[0m         \u001b[0mvalues\u001b[0m \u001b[0;34m=\u001b[0m \u001b[0mself\u001b[0m\u001b[0;34m.\u001b[0m\u001b[0mvalues\u001b[0m\u001b[0;34m\u001b[0m\u001b[0;34m\u001b[0m\u001b[0m\n\u001b[1;32m    525\u001b[0m \u001b[0;34m\u001b[0m\u001b[0m\n\u001b[0;32m--> 526\u001b[0;31m         \u001b[0mnew_values\u001b[0m \u001b[0;34m=\u001b[0m \u001b[0mastype_array_safe\u001b[0m\u001b[0;34m(\u001b[0m\u001b[0mvalues\u001b[0m\u001b[0;34m,\u001b[0m \u001b[0mdtype\u001b[0m\u001b[0;34m,\u001b[0m \u001b[0mcopy\u001b[0m\u001b[0;34m=\u001b[0m\u001b[0mcopy\u001b[0m\u001b[0;34m,\u001b[0m \u001b[0merrors\u001b[0m\u001b[0;34m=\u001b[0m\u001b[0merrors\u001b[0m\u001b[0;34m)\u001b[0m\u001b[0;34m\u001b[0m\u001b[0;34m\u001b[0m\u001b[0m\n\u001b[0m\u001b[1;32m    527\u001b[0m \u001b[0;34m\u001b[0m\u001b[0m\n\u001b[1;32m    528\u001b[0m         \u001b[0mnew_values\u001b[0m \u001b[0;34m=\u001b[0m \u001b[0mmaybe_coerce_values\u001b[0m\u001b[0;34m(\u001b[0m\u001b[0mnew_values\u001b[0m\u001b[0;34m)\u001b[0m\u001b[0;34m\u001b[0m\u001b[0;34m\u001b[0m\u001b[0m\n",
            "\u001b[0;32m/usr/local/lib/python3.10/dist-packages/pandas/core/dtypes/astype.py\u001b[0m in \u001b[0;36mastype_array_safe\u001b[0;34m(values, dtype, copy, errors)\u001b[0m\n\u001b[1;32m    297\u001b[0m \u001b[0;34m\u001b[0m\u001b[0m\n\u001b[1;32m    298\u001b[0m     \u001b[0;32mtry\u001b[0m\u001b[0;34m:\u001b[0m\u001b[0;34m\u001b[0m\u001b[0;34m\u001b[0m\u001b[0m\n\u001b[0;32m--> 299\u001b[0;31m         \u001b[0mnew_values\u001b[0m \u001b[0;34m=\u001b[0m \u001b[0mastype_array\u001b[0m\u001b[0;34m(\u001b[0m\u001b[0mvalues\u001b[0m\u001b[0;34m,\u001b[0m \u001b[0mdtype\u001b[0m\u001b[0;34m,\u001b[0m \u001b[0mcopy\u001b[0m\u001b[0;34m=\u001b[0m\u001b[0mcopy\u001b[0m\u001b[0;34m)\u001b[0m\u001b[0;34m\u001b[0m\u001b[0;34m\u001b[0m\u001b[0m\n\u001b[0m\u001b[1;32m    300\u001b[0m     \u001b[0;32mexcept\u001b[0m \u001b[0;34m(\u001b[0m\u001b[0mValueError\u001b[0m\u001b[0;34m,\u001b[0m \u001b[0mTypeError\u001b[0m\u001b[0;34m)\u001b[0m\u001b[0;34m:\u001b[0m\u001b[0;34m\u001b[0m\u001b[0;34m\u001b[0m\u001b[0m\n\u001b[1;32m    301\u001b[0m         \u001b[0;31m# e.g. astype_nansafe can fail on object-dtype of strings\u001b[0m\u001b[0;34m\u001b[0m\u001b[0;34m\u001b[0m\u001b[0m\n",
            "\u001b[0;32m/usr/local/lib/python3.10/dist-packages/pandas/core/dtypes/astype.py\u001b[0m in \u001b[0;36mastype_array\u001b[0;34m(values, dtype, copy)\u001b[0m\n\u001b[1;32m    228\u001b[0m \u001b[0;34m\u001b[0m\u001b[0m\n\u001b[1;32m    229\u001b[0m     \u001b[0;32melse\u001b[0m\u001b[0;34m:\u001b[0m\u001b[0;34m\u001b[0m\u001b[0;34m\u001b[0m\u001b[0m\n\u001b[0;32m--> 230\u001b[0;31m         \u001b[0mvalues\u001b[0m \u001b[0;34m=\u001b[0m \u001b[0mastype_nansafe\u001b[0m\u001b[0;34m(\u001b[0m\u001b[0mvalues\u001b[0m\u001b[0;34m,\u001b[0m \u001b[0mdtype\u001b[0m\u001b[0;34m,\u001b[0m \u001b[0mcopy\u001b[0m\u001b[0;34m=\u001b[0m\u001b[0mcopy\u001b[0m\u001b[0;34m)\u001b[0m\u001b[0;34m\u001b[0m\u001b[0;34m\u001b[0m\u001b[0m\n\u001b[0m\u001b[1;32m    231\u001b[0m \u001b[0;34m\u001b[0m\u001b[0m\n\u001b[1;32m    232\u001b[0m     \u001b[0;31m# in pandas we don't store numpy str dtypes, so convert to object\u001b[0m\u001b[0;34m\u001b[0m\u001b[0;34m\u001b[0m\u001b[0m\n",
            "\u001b[0;32m/usr/local/lib/python3.10/dist-packages/pandas/core/dtypes/astype.py\u001b[0m in \u001b[0;36mastype_nansafe\u001b[0;34m(arr, dtype, copy, skipna)\u001b[0m\n\u001b[1;32m    168\u001b[0m     \u001b[0;32mif\u001b[0m \u001b[0mcopy\u001b[0m \u001b[0;32mor\u001b[0m \u001b[0mis_object_dtype\u001b[0m\u001b[0;34m(\u001b[0m\u001b[0marr\u001b[0m\u001b[0;34m.\u001b[0m\u001b[0mdtype\u001b[0m\u001b[0;34m)\u001b[0m \u001b[0;32mor\u001b[0m \u001b[0mis_object_dtype\u001b[0m\u001b[0;34m(\u001b[0m\u001b[0mdtype\u001b[0m\u001b[0;34m)\u001b[0m\u001b[0;34m:\u001b[0m\u001b[0;34m\u001b[0m\u001b[0;34m\u001b[0m\u001b[0m\n\u001b[1;32m    169\u001b[0m         \u001b[0;31m# Explicit copy, or required since NumPy can't view from / to object.\u001b[0m\u001b[0;34m\u001b[0m\u001b[0;34m\u001b[0m\u001b[0m\n\u001b[0;32m--> 170\u001b[0;31m         \u001b[0;32mreturn\u001b[0m \u001b[0marr\u001b[0m\u001b[0;34m.\u001b[0m\u001b[0mastype\u001b[0m\u001b[0;34m(\u001b[0m\u001b[0mdtype\u001b[0m\u001b[0;34m,\u001b[0m \u001b[0mcopy\u001b[0m\u001b[0;34m=\u001b[0m\u001b[0;32mTrue\u001b[0m\u001b[0;34m)\u001b[0m\u001b[0;34m\u001b[0m\u001b[0;34m\u001b[0m\u001b[0m\n\u001b[0m\u001b[1;32m    171\u001b[0m \u001b[0;34m\u001b[0m\u001b[0m\n\u001b[1;32m    172\u001b[0m     \u001b[0;32mreturn\u001b[0m \u001b[0marr\u001b[0m\u001b[0;34m.\u001b[0m\u001b[0mastype\u001b[0m\u001b[0;34m(\u001b[0m\u001b[0mdtype\u001b[0m\u001b[0;34m,\u001b[0m \u001b[0mcopy\u001b[0m\u001b[0;34m=\u001b[0m\u001b[0mcopy\u001b[0m\u001b[0;34m)\u001b[0m\u001b[0;34m\u001b[0m\u001b[0;34m\u001b[0m\u001b[0m\n",
            "\u001b[0;31mValueError\u001b[0m: could not convert string to float: 'F'"
          ]
        }
      ]
    },
    {
      "cell_type": "markdown",
      "source": [
        "Validation of the classifier"
      ],
      "metadata": {
        "id": "KxY6Uyej6gYM"
      }
    },
    {
      "cell_type": "code",
      "source": [
        "val_score = clf.score(valset, val_cl)\n",
        "\n",
        "print('Validation accuracy: {:.3f}'.format(val_score))"
      ],
      "metadata": {
        "id": "_1Q4CANa6gQ4"
      },
      "execution_count": null,
      "outputs": []
    },
    {
      "cell_type": "markdown",
      "source": [
        "Test phase"
      ],
      "metadata": {
        "id": "fXcHjyO97toN"
      }
    },
    {
      "cell_type": "code",
      "source": [
        "pred = clf.predict(testset)\n",
        "print('Predicted {} samples: {}'.format(len(pred), pred))\n",
        "print('GT {} samples: {}'.format(len(test_cl), test_cl))\n",
        "\n"
      ],
      "metadata": {
        "id": "lQi8fqyi7te2"
      },
      "execution_count": null,
      "outputs": []
    }
  ]
}