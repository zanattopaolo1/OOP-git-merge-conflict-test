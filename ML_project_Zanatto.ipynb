{
  "nbformat": 4,
  "nbformat_minor": 0,
  "metadata": {
    "colab": {
      "provenance": [],
      "authorship_tag": "ABX9TyOQDJUzK8425p6HzDD0yWem",
      "include_colab_link": true
    },
    "kernelspec": {
      "name": "python3",
      "display_name": "Python 3"
    },
    "language_info": {
      "name": "python"
    }
  },
  "cells": [
    {
      "cell_type": "markdown",
      "metadata": {
        "id": "view-in-github",
        "colab_type": "text"
      },
      "source": [
        "<a href=\"https://colab.research.google.com/github/zanattopaolo1/OOP-git-merge-conflict-test/blob/master/ML_project_Zanatto.ipynb\" target=\"_parent\"><img src=\"https://colab.research.google.com/assets/colab-badge.svg\" alt=\"Open In Colab\"/></a>"
      ]
    },
    {
      "cell_type": "markdown",
      "source": [
        "# Introduction\n",
        "\n",
        "This is (....)"
      ],
      "metadata": {
        "id": "EM5Rhf1W63H4"
      }
    },
    {
      "cell_type": "code",
      "execution_count": 170,
      "metadata": {
        "id": "YooMTdkd1Pw0"
      },
      "outputs": [],
      "source": [
        "import numpy as np\n",
        "from sklearn import svm\n",
        "from sklearn.metrics import accuracy_score, confusion_matrix\n",
        "#from sklearn.metrics import plot_confusion_matrix\n",
        "import matplotlib.pyplot as plt\n",
        "#import math\n",
        "import pandas as pd\n",
        "from tabulate import tabulate\n",
        "import csv\n",
        "from sklearn.preprocessing import LabelEncoder\n",
        "from sklearn.tree import DecisionTreeClassifier\n",
        "from sklearn.ensemble import RandomForestClassifier, AdaBoostClassifier"
      ]
    },
    {
      "cell_type": "markdown",
      "source": [
        "# Functions\n",
        "List of functions that will be used inside the code"
      ],
      "metadata": {
        "id": "O3CtcCNJ1glj"
      }
    },
    {
      "cell_type": "code",
      "source": [
        "def duplicate_check(df, cols):\n",
        "    # Check for duplicates based on the specified columns\n",
        "    duplicate_rows = df[df.duplicated(subset=cols, keep=False)]\n",
        "\n",
        "    return duplicate_rows\n",
        "\n",
        "\"\"\"def filling_UltimoPrelievo(df):\n",
        "    #Having GiornoDaTerapiaPrecedente equal to GiorniTeoriciDaTerapiaPrecedente means that the schedule has been respected. Considering that the cases with we are assuming\n",
        "    df['UltimoPrelievo'] = df['UltimoPrelievo'].where(df['UltimoPrelievo'] == '' & df['GiornoDaTerapiaPrecedente']==df['GiorniTeoriciDaTerapiaPrecedente'], df['DataSomministrazione'] - pd.DateOffset(days=1))\n",
        "\n",
        "    #Removing data where GiornoDaTerapiaPrecedente is NOT equal to GiorniTeoriciDaTerapiaPrecedente\n",
        "    (...)\"\"\"\n",
        "\n",
        "\n",
        "def failed_blood_test(df):\n",
        "    condition1 = df['GiornoDaTerapiaPrecedente'] > df['GiorniTeoriciDaTerapiaPrecedente']  # Define your condition here\n",
        "    condition2 = df['NumeroPrelievi'] > 1\n",
        "    filtered_df = df[condition1 | condition2]\n",
        "    return filtered_df;\n",
        "\n",
        "def del_rows_missing_val (df):\n",
        "    condition = df['UltimoPrelievo'] == ''\n",
        "\n",
        "    rows_to_drop = df[condition].index\n",
        "    return df.drop(rows_to_drop)\n",
        "\n",
        "def data_cleaning(df):\n",
        "    #conditions to drop rows\n",
        "    condition1 = df['UltimoPrelievo'] < df['PrimoPrelievo'] #this information would be caused by a collection error\n",
        "    #condition2 = True   & condition2\n",
        "\n",
        "    rows_to_drop = df[condition1].index\n",
        "    return df.drop(rows_to_drop)\n",
        "\n",
        "\"\"\"def strange_blood_test(df):\n",
        "    condition = df['GiornoDaTerapiaPrecedente'] < df['GiorniTeoriciDaTerapiaPrecedente'] # Define your condition here\n",
        "    filtered_df = df[condition]\n",
        "    return filtered_df;\"\"\"\n",
        "\n",
        "def attrib_removal(df, attrib_list):\n",
        "    for x in attrib_list:\n",
        "        df = df.drop(x, axis=1)\n",
        "\n",
        "    return df\n",
        "\n",
        "def encoding_attrib(df, cols):\n",
        "  label_mappings = {}\n",
        "\n",
        "  for x in cols:\n",
        "      label_encoder = LabelEncoder()\n",
        "      df[x] = label_encoder.fit_transform(df[x])\n",
        "\n",
        "      # Store the label mapping of the current column in the main dictionary\n",
        "      label_mappings[x] = dict(zip(label_encoder.classes_, label_encoder.transform(label_encoder.classes_)))\n",
        "\n",
        "  return df, label_mappings\n",
        "\n",
        "def check_value_presence(row):\n",
        "    return {f'{value}': value in row['PrincipiAttivi'] for value in unique_values_set}"
      ],
      "metadata": {
        "id": "vS6vMrqz1c9v"
      },
      "execution_count": 171,
      "outputs": []
    },
    {
      "cell_type": "markdown",
      "source": [
        "# Data loading\n",
        "\n",
        "Data import from the csv file into a dictionary, to structure the information in a logical way, and then used to create the Dataframe"
      ],
      "metadata": {
        "id": "LzSgXX301yQ9"
      }
    },
    {
      "cell_type": "code",
      "source": [
        "dataset_file_path = 'dataset_farmacia_anonimo(3).csv'\n",
        "\n",
        "keys = ['IDPaziente',\t'genere',\t'classeeta',\t'IDTerapia',\t'CodiceSedeTumore',\t'PrincipiAttivi',\t'PrincipiAttiviDescrizione',\t'NumeroSomministrazione',\t'DataSomministrazioneProgrammata',\t'DataSomministrazione',\t'DataSomministrazioneProgrammataPrecedente',\t'DataSomministrazionePrecedente',\t'GiornoDaTerapiaPrecedente',\t'GiorniTeoriciDaTerapiaPrecedente',\t'PrimoPrelievo',\t'UltimoPrelievo', 'NumeroPrelievi']\n",
        "b_tests = {x: [] for x in keys}\n",
        "\n",
        "with open(dataset_file_path, 'r') as file:\n",
        "    reader = csv.reader(file, delimiter=\";\")\n",
        "    for row_index, row in enumerate(reader):\n",
        "        if row_index > 0:\n",
        "            for idx, cell in enumerate(row):\n",
        "                if \",\" in cell:             #to save the list of active ingredients as array\n",
        "                    b_tests[keys[idx]].append(cell.split(\",\"))\n",
        "                else:\n",
        "                    b_tests[keys[idx]].append(cell)\n",
        "\n",
        "df = pd.DataFrame(b_tests)"
      ],
      "metadata": {
        "id": "w5eWAnjV1xa4"
      },
      "execution_count": 172,
      "outputs": []
    },
    {
      "cell_type": "markdown",
      "source": [
        "Data visualization"
      ],
      "metadata": {
        "id": "8zzlsevY4LmZ"
      }
    },
    {
      "cell_type": "code",
      "source": [
        "print(df[:10].to_string(index=False))\n",
        "\n",
        "#print(tabulate(df, df.columns.tolist(), tablefmt='grid'))"
      ],
      "metadata": {
        "id": "qQ7bx_YR4O_a",
        "colab": {
          "base_uri": "https://localhost:8080/"
        },
        "outputId": "6989afa3-ad15-4ae8-8c08-a97a02fb8a8f"
      },
      "execution_count": 173,
      "outputs": [
        {
          "output_type": "stream",
          "name": "stdout",
          "text": [
            "                      IDPaziente genere classeeta IDTerapia CodiceSedeTumore     PrincipiAttivi       PrincipiAttiviDescrizione NumeroSomministrazione DataSomministrazioneProgrammata DataSomministrazione DataSomministrazioneProgrammataPrecedente DataSomministrazionePrecedente GiornoDaTerapiaPrecedente GiorniTeoriciDaTerapiaPrecedente PrimoPrelievo UltimoPrelievo NumeroPrelievi\n",
            "660f6a81899cf623712934e2b1fb7da0      F     51-70    136427               20 [L01DB03, L01AA01]   [epirubicina, ciclofosfamide]                      2                      17/03/2023           17/03/2023                                24/02/2023                     24/02/2023                        21                               21    16/03/2023     16/03/2023              1\n",
            "9f779da0518825145e638e0c8f0b0b37      M     71-90    135572               33 [L01XA03, L01BC02] [oxaliplatino, 5-fluorouracile]                      2                      15/02/2023           15/02/2023                                31/01/2023                     31/01/2023                        15                               14    06/02/2023     13/02/2023              2\n",
            "9f779da0518825145e638e0c8f0b0b37      M     71-90    135572               33 [L01XA03, L01BC02] [oxaliplatino, 5-fluorouracile]                      3                      01/03/2023           01/03/2023                                15/02/2023                     15/02/2023                        14                               14    20/02/2023     28/02/2023              2\n",
            "9f779da0518825145e638e0c8f0b0b37      M     71-90    135572               33 [L01XA03, L01BC02] [oxaliplatino, 5-fluorouracile]                      4                      20/03/2023           20/03/2023                                01/03/2023                     01/03/2023                        19                               14    07/03/2023     17/03/2023              3\n",
            "ccbd90fdb779564e1e1c1f14d35fa017      F     51-70    134798               20            L01FD01                     trastuzumab                      2                      11/01/2023           10/01/2023                                21/12/2022                     21/12/2022                        21                               21                                           0\n",
            "ccbd90fdb779564e1e1c1f14d35fa017      F     51-70    134798               20            L01FD01                     trastuzumab                      3                      01/02/2023           01/02/2023                                11/01/2023                     10/01/2023                        21                               21    31/01/2023     31/01/2023              1\n",
            "ccbd90fdb779564e1e1c1f14d35fa017      F     51-70    134798               20            L01FD01                     trastuzumab                      4                      22/02/2023           22/02/2023                                01/02/2023                     01/02/2023                        21                               21                                           0\n",
            "ccbd90fdb779564e1e1c1f14d35fa017      F     51-70    134798               20            L01FD01                     trastuzumab                      5                      15/03/2023           15/03/2023                                22/02/2023                     22/02/2023                        21                               21    14/03/2023     14/03/2023              1\n",
            "ce3520ee2376df6c31ab8637d4ddd378      M     71-90    134835               64 [L01XA03, L01BC02] [oxaliplatino, 5-fluorouracile]                      2                      02/01/2023           02/01/2023                                19/12/2022                     19/12/2022                        14                               14    30/12/2022     30/12/2022              1\n",
            "7a9ec3945df4df079486454a9e784a3b      M     51-70    128315               64 [L01FG01, L01BC06]     [capecitabina, bevacizumab]                     13                      12/01/2023           12/01/2023                                22/12/2022                     22/12/2022                        21                               21    11/01/2023     11/01/2023              1\n"
          ]
        }
      ]
    },
    {
      "cell_type": "markdown",
      "source": [
        "# Data pre processing\n",
        "The data presents many issues that requires to be fixed\n",
        "\n",
        "1. Duplicated data: Having duplicated data would mean considering multiple times the same information and it will bring a distorsion to reality, so a check is relavant (even if in this case the errors don't occur)"
      ],
      "metadata": {
        "id": "37b2TF7P4fQQ"
      }
    },
    {
      "cell_type": "code",
      "source": [
        "dup_rows = duplicate_check(df, ['IDPaziente', 'IDTerapia', 'NumeroSomministrazione'])\n",
        "print(\"\\n\\nDuplicated rows:\\n\", dup_rows)"
      ],
      "metadata": {
        "id": "UiO1zjKx4e_3",
        "colab": {
          "base_uri": "https://localhost:8080/"
        },
        "outputId": "226a5602-b729-4671-b6f2-347e4761aad3"
      },
      "execution_count": 174,
      "outputs": [
        {
          "output_type": "stream",
          "name": "stdout",
          "text": [
            "\n",
            "\n",
            "Duplicated rows:\n",
            " Empty DataFrame\n",
            "Columns: [IDPaziente, genere, classeeta, IDTerapia, CodiceSedeTumore, PrincipiAttivi, PrincipiAttiviDescrizione, NumeroSomministrazione, DataSomministrazioneProgrammata, DataSomministrazione, DataSomministrazioneProgrammataPrecedente, DataSomministrazionePrecedente, GiornoDaTerapiaPrecedente, GiorniTeoriciDaTerapiaPrecedente, PrimoPrelievo, UltimoPrelievo, NumeroPrelievi]\n",
            "Index: []\n"
          ]
        }
      ]
    },
    {
      "cell_type": "markdown",
      "source": [
        "2.  Missing values: There are many missing values in the fields \"PrimoPrelievo\" and \"UltimoPrelievo\" and I considered the option to fill \"UltimoPrelievo\". The plan was to fill that field with \"DataSomministrazione\"-1 for each case where the \"GiornoDaTerapiaPrecedente\" is equal to \"GiorniTeoriciDaTerapiaPrecedente\" (so the schedule has been respected) but this option was assuming that all these therapy executions were scheduled on the last 4 days of the week. This is not a feasible assumption when you are interested to compare the results in percentage of blood tests done 1 day beforeand the ones done 3 days before, as this project aims to do. So below the rows where the \"UltimoPrelievo\" (and jointly \"PrimoPrelievo\") are missing will be deleted."
      ],
      "metadata": {
        "id": "enYRRzpM48Vs"
      }
    },
    {
      "cell_type": "code",
      "source": [
        "df = del_rows_missing_val(df)"
      ],
      "metadata": {
        "id": "ClnurVAP46tC"
      },
      "execution_count": 175,
      "outputs": []
    },
    {
      "cell_type": "markdown",
      "source": [
        "3.  Casting of data: the import functions extract the data as strings. It makes a problem when the data has to be computed for what they really are."
      ],
      "metadata": {
        "id": "uNueJ6u55mLS"
      }
    },
    {
      "cell_type": "code",
      "source": [
        "df['NumeroPrelievi'] = df['NumeroPrelievi'].astype(int)\n",
        "df['DataSomministrazione'] = pd.to_datetime(df['DataSomministrazione'], format='%d/%m/%Y')\n",
        "df['UltimoPrelievo'] = pd.to_datetime(df['UltimoPrelievo'], format='%d/%m/%Y')\n",
        "df['PrimoPrelievo'] = pd.to_datetime(df['PrimoPrelievo'], format='%d/%m/%Y')"
      ],
      "metadata": {
        "id": "M6ENMp6s5l7r"
      },
      "execution_count": 176,
      "outputs": []
    },
    {
      "cell_type": "markdown",
      "source": [
        "4.  Noise: There may occur some error in collection phase of data, so it is important to verify the correctness by means of conditions based on logic of data. These are reported and used in the function \"data_cleaning\"."
      ],
      "metadata": {
        "id": "jK4pLYmK55Sf"
      }
    },
    {
      "cell_type": "code",
      "source": [
        "df = data_cleaning(df)"
      ],
      "metadata": {
        "id": "_vKxl_a055xk"
      },
      "execution_count": 177,
      "outputs": []
    },
    {
      "cell_type": "markdown",
      "source": [
        "5.  Creation of attribute for the class\n",
        "\n",
        "The goal of this phase is to create a classifier that allow to reach the goal of the algorithm.\n",
        "\n",
        "In order to make it, the first step is to define the classes.\n",
        "In this problem the classes are:\n",
        "\n",
        "\n",
        "*   Ready for the therapy\n",
        "*   Not ready for the therapy\n",
        "\n",
        "To distringuish them it has been used 2 conditions:\n",
        "\n",
        "\n",
        "*   Day of previous therapy is bigger than the scheduled day of previous therapy\n",
        "*   The number of blood test is bigger than 1\n",
        "\n",
        "The rows that reflect at least one of these 2 conditions are considered as \"not ready for the therapy\". Theoretically both of conditions should be valid in the same moment and using only one of them would be sufficient, but in this way it helps to consider the undetected noise of the dataset.\n",
        "\n"
      ],
      "metadata": {
        "id": "CZkHXQI46MgL"
      }
    },
    {
      "cell_type": "code",
      "source": [
        "failed_btests = failed_blood_test(df)\n",
        "\n",
        "print(\"\\n\\nThere are {} failed blood tests: \\n{}\\n\".format(len(failed_btests), tabulate(failed_btests[:10], df.columns.tolist(), tablefmt='grid')))\n",
        "print(\"\\n\\nThere are {} failed blood tests ({} % of the total)\\n\".format(len(failed_btests), len(failed_btests)/len(df)*100))"
      ],
      "metadata": {
        "id": "2jDZr0KS6NCQ",
        "colab": {
          "base_uri": "https://localhost:8080/"
        },
        "outputId": "5c6d9b34-ef6f-4171-b3e2-3d042d16e494"
      },
      "execution_count": 178,
      "outputs": [
        {
          "output_type": "stream",
          "name": "stdout",
          "text": [
            "\n",
            "\n",
            "There are 14145 failed blood tests: \n",
            "+----+----------------------------------+----------+-------------+-------------+--------------------+-----------------------------------+--------------------------------------------------+--------------------------+-----------------------------------+------------------------+---------------------------------------------+----------------------------------+-----------------------------+------------------------------------+---------------------+---------------------+------------------+\n",
            "|    | IDPaziente                       | genere   | classeeta   |   IDTerapia |   CodiceSedeTumore | PrincipiAttivi                    | PrincipiAttiviDescrizione                        |   NumeroSomministrazione | DataSomministrazioneProgrammata   | DataSomministrazione   | DataSomministrazioneProgrammataPrecedente   | DataSomministrazionePrecedente   |   GiornoDaTerapiaPrecedente |   GiorniTeoriciDaTerapiaPrecedente | PrimoPrelievo       | UltimoPrelievo      |   NumeroPrelievi |\n",
            "+====+==================================+==========+=============+=============+====================+===================================+==================================================+==========================+===================================+========================+=============================================+==================================+=============================+====================================+=====================+=====================+==================+\n",
            "|  1 | 9f779da0518825145e638e0c8f0b0b37 | M        | 71-90       |      135572 |                 33 | ['L01XA03', 'L01BC02']            | ['oxaliplatino', '5-fluorouracile']              |                        2 | 15/02/2023                        | 2023-02-15 00:00:00    | 31/01/2023                                  | 31/01/2023                       |                          15 |                                 14 | 2023-02-06 00:00:00 | 2023-02-13 00:00:00 |                2 |\n",
            "+----+----------------------------------+----------+-------------+-------------+--------------------+-----------------------------------+--------------------------------------------------+--------------------------+-----------------------------------+------------------------+---------------------------------------------+----------------------------------+-----------------------------+------------------------------------+---------------------+---------------------+------------------+\n",
            "|  2 | 9f779da0518825145e638e0c8f0b0b37 | M        | 71-90       |      135572 |                 33 | ['L01XA03', 'L01BC02']            | ['oxaliplatino', '5-fluorouracile']              |                        3 | 01/03/2023                        | 2023-03-01 00:00:00    | 15/02/2023                                  | 15/02/2023                       |                          14 |                                 14 | 2023-02-20 00:00:00 | 2023-02-28 00:00:00 |                2 |\n",
            "+----+----------------------------------+----------+-------------+-------------+--------------------+-----------------------------------+--------------------------------------------------+--------------------------+-----------------------------------+------------------------+---------------------------------------------+----------------------------------+-----------------------------+------------------------------------+---------------------+---------------------+------------------+\n",
            "|  3 | 9f779da0518825145e638e0c8f0b0b37 | M        | 71-90       |      135572 |                 33 | ['L01XA03', 'L01BC02']            | ['oxaliplatino', '5-fluorouracile']              |                        4 | 20/03/2023                        | 2023-03-20 00:00:00    | 01/03/2023                                  | 01/03/2023                       |                          19 |                                 14 | 2023-03-07 00:00:00 | 2023-03-17 00:00:00 |                3 |\n",
            "+----+----------------------------------+----------+-------------+-------------+--------------------+-----------------------------------+--------------------------------------------------+--------------------------+-----------------------------------+------------------------+---------------------------------------------+----------------------------------+-----------------------------+------------------------------------+---------------------+---------------------+------------------+\n",
            "| 10 | 7a9ec3945df4df079486454a9e784a3b | M        | 51-70       |      128315 |                 64 | ['L01FG01', 'L01BC06']            | ['capecitabina', 'bevacizumab']                  |                       14 | 02/03/2023                        | 2023-03-02 00:00:00    | 12/01/2023                                  | 12/01/2023                       |                          49 |                                 21 | 2023-02-01 00:00:00 | 2023-03-01 00:00:00 |                6 |\n",
            "+----+----------------------------------+----------+-------------+-------------+--------------------+-----------------------------------+--------------------------------------------------+--------------------------+-----------------------------------+------------------------+---------------------------------------------+----------------------------------+-----------------------------+------------------------------------+---------------------+---------------------+------------------+\n",
            "| 17 | dca5cd94d6e25fb991845b653fb9f37c | F        | 51-70       |      135353 |                  4 | L01XA02                           | carboplatino                                     |                        2 | 23/03/2023                        | 2023-03-23 00:00:00    | 10/01/2023                                  | 10/01/2023                       |                          72 |                                 21 | 2023-01-11 00:00:00 | 2023-03-22 00:00:00 |               41 |\n",
            "+----+----------------------------------+----------+-------------+-------------+--------------------+-----------------------------------+--------------------------------------------------+--------------------------+-----------------------------------+------------------------+---------------------------------------------+----------------------------------+-----------------------------+------------------------------------+---------------------+---------------------+------------------+\n",
            "| 18 | 242e4dc4632908cdee50ef46f7421c00 | M        | 51-70       |      133375 |                 64 | ['L01FG01', 'L01CE02', 'L01BC02'] | ['irinotecan', 'bevacizumab', '5-fluorouracile'] |                        4 | 02/01/2023                        | 2023-01-02 00:00:00    | 05/12/2022                                  | 05/12/2022                       |                          28 |                                 14 | 2022-12-30 00:00:00 | 2022-12-30 00:00:00 |                1 |\n",
            "+----+----------------------------------+----------+-------------+-------------+--------------------+-----------------------------------+--------------------------------------------------+--------------------------+-----------------------------------+------------------------+---------------------------------------------+----------------------------------+-----------------------------+------------------------------------+---------------------+---------------------+------------------+\n",
            "| 25 | ce7707f2f7c9b93a397426e7c00e6df7 | M        | 71-90       |      130065 |                 30 | ['L01FF02', 'L01EK01']            | ['pembrolizumab', 'axitinib']                    |                       12 | 30/01/2023                        | 2023-01-30 00:00:00    | 02/01/2023                                  | 02/01/2023                       |                          28 |                                 21 | 2023-01-27 00:00:00 | 2023-01-27 00:00:00 |                1 |\n",
            "+----+----------------------------------+----------+-------------+-------------+--------------------+-----------------------------------+--------------------------------------------------+--------------------------+-----------------------------------+------------------------+---------------------------------------------+----------------------------------+-----------------------------+------------------------------------+---------------------+---------------------+------------------+\n",
            "| 39 | 084d363ee59532c165ff21ca1e12c2e9 | M        | 51-70       |      133869 |                 26 | L01BC05                           | gemcitabina                                      |                        4 | 12/01/2023                        | 2023-01-12 00:00:00    | 29/12/2022                                  | 29/12/2022                       |                          14 |                                 14 | 2023-01-04 00:00:00 | 2023-01-11 00:00:00 |                3 |\n",
            "+----+----------------------------------+----------+-------------+-------------+--------------------+-----------------------------------+--------------------------------------------------+--------------------------+-----------------------------------+------------------------+---------------------------------------------+----------------------------------+-----------------------------+------------------------------------+---------------------+---------------------+------------------+\n",
            "| 52 | 827cb6445fc5fc3f584f56b7e155d6b9 | F        | 71-90       |      123822 |                 28 | L01BA04                           | pemetrexed sperimentale                          |                       18 | 13/01/2023                        | 2023-01-13 00:00:00    | 14/10/2022                                  | 14/10/2022                       |                          91 |                                 84 | 2022-10-20 00:00:00 | 2023-01-12 00:00:00 |                5 |\n",
            "+----+----------------------------------+----------+-------------+-------------+--------------------+-----------------------------------+--------------------------------------------------+--------------------------+-----------------------------------+------------------------+---------------------------------------------+----------------------------------+-----------------------------+------------------------------------+---------------------+---------------------+------------------+\n",
            "| 53 | 827cb6445fc5fc3f584f56b7e155d6b9 | F        | 71-90       |      123822 |                 28 | L01BA04                           | pemetrexed sperimentale                          |                       19 | 03/02/2023                        | 2023-02-03 00:00:00    | 04/11/2022                                  | 04/11/2022                       |                          91 |                                 84 | 2022-11-24 00:00:00 | 2023-02-02 00:00:00 |                5 |\n",
            "+----+----------------------------------+----------+-------------+-------------+--------------------+-----------------------------------+--------------------------------------------------+--------------------------+-----------------------------------+------------------------+---------------------------------------------+----------------------------------+-----------------------------+------------------------------------+---------------------+---------------------+------------------+\n",
            "\n",
            "\n",
            "\n",
            "There are 14145 failed blood tests (58.55203245301763 % of the total)\n",
            "\n"
          ]
        }
      ]
    },
    {
      "cell_type": "markdown",
      "source": [
        "There is a strong incidence of failed blood tests and it is important to keep in mind it in front of the solution.\n",
        "\n",
        "Given the rows belonging to the classes, it is created a new column to assign the class.\n",
        "\n",
        "\n",
        "*   0: therapies execution where the patient has done more blood tests\n",
        "*   1: therapies execution where the patient has done 1 blood test\n",
        "\n"
      ],
      "metadata": {
        "id": "FZ7_DJWP-Dr9"
      }
    },
    {
      "cell_type": "code",
      "source": [
        "new_column_values = np.where(df.isin(failed_btests).all(axis=1), 0, 1)\n",
        "df['Single_btest'] = new_column_values\n",
        "\n",
        "print(df.columns.tolist())"
      ],
      "metadata": {
        "id": "yq75t-HY-DjK",
        "colab": {
          "base_uri": "https://localhost:8080/"
        },
        "outputId": "e77b1bdd-2e54-496a-b9d4-3e97a419fe52"
      },
      "execution_count": 179,
      "outputs": [
        {
          "output_type": "stream",
          "name": "stdout",
          "text": [
            "['IDPaziente', 'genere', 'classeeta', 'IDTerapia', 'CodiceSedeTumore', 'PrincipiAttivi', 'PrincipiAttiviDescrizione', 'NumeroSomministrazione', 'DataSomministrazioneProgrammata', 'DataSomministrazione', 'DataSomministrazioneProgrammataPrecedente', 'DataSomministrazionePrecedente', 'GiornoDaTerapiaPrecedente', 'GiorniTeoriciDaTerapiaPrecedente', 'PrimoPrelievo', 'UltimoPrelievo', 'NumeroPrelievi', 'Single_btest']\n"
          ]
        }
      ]
    },
    {
      "cell_type": "code",
      "source": [
        "#To confirm that the creation has done correctly:\n",
        "#print(tabulate(df, df.columns.tolist(), tablefmt='grid'))\n",
        "#print(\"\\nPercentage of failures of the first blood test: {} %\".format((df['Single_btest']==False).sum() / len(df) * 100))"
      ],
      "metadata": {
        "id": "Bc8oRW0OAKII"
      },
      "execution_count": 180,
      "outputs": []
    },
    {
      "cell_type": "markdown",
      "source": [
        "For the purpose of the project has been fundamental to create also another column to count the day passed between blood test and therapy execution.  "
      ],
      "metadata": {
        "id": "wFXaOwyg_ZZt"
      }
    },
    {
      "cell_type": "code",
      "source": [
        "diff_days = (df['DataSomministrazione'] - df['UltimoPrelievo']).dt.total_seconds().fillna(-1).astype(int)\n",
        "df['Dist_bt_th'] = round(diff_days / (3600 * 24))\n",
        "\n",
        "print(tabulate(df[:10], df.columns.tolist(), tablefmt='grid'))\n",
        "\n",
        "print(\"\\nPercentage of blood tests executed 1 day before therapy execution: {} % ({})\".format((df['Dist_bt_th']==1).sum() / len(df) * 100, (df['Dist_bt_th']==1).sum()))\n",
        "print(\"\\nPercentage of blood tests executed 3 days before therapy execution: {} % ({})\".format((df['Dist_bt_th']==3).sum() / len(df) * 100, (df['Dist_bt_th']==3).sum()))\n",
        "print(\"\\nPercentage of blood tests executed with more than 3 days before therapy execution: {} % ({})\".format((df['Dist_bt_th']>3).sum() / len(df) * 100, (df['Dist_bt_th']>3).sum()))"
      ],
      "metadata": {
        "id": "SJPAAXFj_ZO1",
        "colab": {
          "base_uri": "https://localhost:8080/"
        },
        "outputId": "b7a5cc81-6012-4bed-dffc-d3e3838b5ae5"
      },
      "execution_count": 181,
      "outputs": [
        {
          "output_type": "stream",
          "name": "stdout",
          "text": [
            "+----+----------------------------------+----------+-------------+-------------+--------------------+------------------------+-------------------------------------+--------------------------+-----------------------------------+------------------------+---------------------------------------------+----------------------------------+-----------------------------+------------------------------------+---------------------+---------------------+------------------+----------------+--------------+\n",
            "|    | IDPaziente                       | genere   | classeeta   |   IDTerapia |   CodiceSedeTumore | PrincipiAttivi         | PrincipiAttiviDescrizione           |   NumeroSomministrazione | DataSomministrazioneProgrammata   | DataSomministrazione   | DataSomministrazioneProgrammataPrecedente   | DataSomministrazionePrecedente   |   GiornoDaTerapiaPrecedente |   GiorniTeoriciDaTerapiaPrecedente | PrimoPrelievo       | UltimoPrelievo      |   NumeroPrelievi |   Single_btest |   Dist_bt_th |\n",
            "+====+==================================+==========+=============+=============+====================+========================+=====================================+==========================+===================================+========================+=============================================+==================================+=============================+====================================+=====================+=====================+==================+================+==============+\n",
            "|  0 | 660f6a81899cf623712934e2b1fb7da0 | F        | 51-70       |      136427 |                 20 | ['L01DB03', 'L01AA01'] | ['epirubicina', 'ciclofosfamide']   |                        2 | 17/03/2023                        | 2023-03-17 00:00:00    | 24/02/2023                                  | 24/02/2023                       |                          21 |                                 21 | 2023-03-16 00:00:00 | 2023-03-16 00:00:00 |                1 |              1 |            1 |\n",
            "+----+----------------------------------+----------+-------------+-------------+--------------------+------------------------+-------------------------------------+--------------------------+-----------------------------------+------------------------+---------------------------------------------+----------------------------------+-----------------------------+------------------------------------+---------------------+---------------------+------------------+----------------+--------------+\n",
            "|  1 | 9f779da0518825145e638e0c8f0b0b37 | M        | 71-90       |      135572 |                 33 | ['L01XA03', 'L01BC02'] | ['oxaliplatino', '5-fluorouracile'] |                        2 | 15/02/2023                        | 2023-02-15 00:00:00    | 31/01/2023                                  | 31/01/2023                       |                          15 |                                 14 | 2023-02-06 00:00:00 | 2023-02-13 00:00:00 |                2 |              0 |            2 |\n",
            "+----+----------------------------------+----------+-------------+-------------+--------------------+------------------------+-------------------------------------+--------------------------+-----------------------------------+------------------------+---------------------------------------------+----------------------------------+-----------------------------+------------------------------------+---------------------+---------------------+------------------+----------------+--------------+\n",
            "|  2 | 9f779da0518825145e638e0c8f0b0b37 | M        | 71-90       |      135572 |                 33 | ['L01XA03', 'L01BC02'] | ['oxaliplatino', '5-fluorouracile'] |                        3 | 01/03/2023                        | 2023-03-01 00:00:00    | 15/02/2023                                  | 15/02/2023                       |                          14 |                                 14 | 2023-02-20 00:00:00 | 2023-02-28 00:00:00 |                2 |              0 |            1 |\n",
            "+----+----------------------------------+----------+-------------+-------------+--------------------+------------------------+-------------------------------------+--------------------------+-----------------------------------+------------------------+---------------------------------------------+----------------------------------+-----------------------------+------------------------------------+---------------------+---------------------+------------------+----------------+--------------+\n",
            "|  3 | 9f779da0518825145e638e0c8f0b0b37 | M        | 71-90       |      135572 |                 33 | ['L01XA03', 'L01BC02'] | ['oxaliplatino', '5-fluorouracile'] |                        4 | 20/03/2023                        | 2023-03-20 00:00:00    | 01/03/2023                                  | 01/03/2023                       |                          19 |                                 14 | 2023-03-07 00:00:00 | 2023-03-17 00:00:00 |                3 |              0 |            3 |\n",
            "+----+----------------------------------+----------+-------------+-------------+--------------------+------------------------+-------------------------------------+--------------------------+-----------------------------------+------------------------+---------------------------------------------+----------------------------------+-----------------------------+------------------------------------+---------------------+---------------------+------------------+----------------+--------------+\n",
            "|  5 | ccbd90fdb779564e1e1c1f14d35fa017 | F        | 51-70       |      134798 |                 20 | L01FD01                | trastuzumab                         |                        3 | 01/02/2023                        | 2023-02-01 00:00:00    | 11/01/2023                                  | 10/01/2023                       |                          21 |                                 21 | 2023-01-31 00:00:00 | 2023-01-31 00:00:00 |                1 |              1 |            1 |\n",
            "+----+----------------------------------+----------+-------------+-------------+--------------------+------------------------+-------------------------------------+--------------------------+-----------------------------------+------------------------+---------------------------------------------+----------------------------------+-----------------------------+------------------------------------+---------------------+---------------------+------------------+----------------+--------------+\n",
            "|  7 | ccbd90fdb779564e1e1c1f14d35fa017 | F        | 51-70       |      134798 |                 20 | L01FD01                | trastuzumab                         |                        5 | 15/03/2023                        | 2023-03-15 00:00:00    | 22/02/2023                                  | 22/02/2023                       |                          21 |                                 21 | 2023-03-14 00:00:00 | 2023-03-14 00:00:00 |                1 |              1 |            1 |\n",
            "+----+----------------------------------+----------+-------------+-------------+--------------------+------------------------+-------------------------------------+--------------------------+-----------------------------------+------------------------+---------------------------------------------+----------------------------------+-----------------------------+------------------------------------+---------------------+---------------------+------------------+----------------+--------------+\n",
            "|  8 | ce3520ee2376df6c31ab8637d4ddd378 | M        | 71-90       |      134835 |                 64 | ['L01XA03', 'L01BC02'] | ['oxaliplatino', '5-fluorouracile'] |                        2 | 02/01/2023                        | 2023-01-02 00:00:00    | 19/12/2022                                  | 19/12/2022                       |                          14 |                                 14 | 2022-12-30 00:00:00 | 2022-12-30 00:00:00 |                1 |              1 |            3 |\n",
            "+----+----------------------------------+----------+-------------+-------------+--------------------+------------------------+-------------------------------------+--------------------------+-----------------------------------+------------------------+---------------------------------------------+----------------------------------+-----------------------------+------------------------------------+---------------------+---------------------+------------------+----------------+--------------+\n",
            "|  9 | 7a9ec3945df4df079486454a9e784a3b | M        | 51-70       |      128315 |                 64 | ['L01FG01', 'L01BC06'] | ['capecitabina', 'bevacizumab']     |                       13 | 12/01/2023                        | 2023-01-12 00:00:00    | 22/12/2022                                  | 22/12/2022                       |                          21 |                                 21 | 2023-01-11 00:00:00 | 2023-01-11 00:00:00 |                1 |              1 |            1 |\n",
            "+----+----------------------------------+----------+-------------+-------------+--------------------+------------------------+-------------------------------------+--------------------------+-----------------------------------+------------------------+---------------------------------------------+----------------------------------+-----------------------------+------------------------------------+---------------------+---------------------+------------------+----------------+--------------+\n",
            "| 10 | 7a9ec3945df4df079486454a9e784a3b | M        | 51-70       |      128315 |                 64 | ['L01FG01', 'L01BC06'] | ['capecitabina', 'bevacizumab']     |                       14 | 02/03/2023                        | 2023-03-02 00:00:00    | 12/01/2023                                  | 12/01/2023                       |                          49 |                                 21 | 2023-02-01 00:00:00 | 2023-03-01 00:00:00 |                6 |              0 |            1 |\n",
            "+----+----------------------------------+----------+-------------+-------------+--------------------+------------------------+-------------------------------------+--------------------------+-----------------------------------+------------------------+---------------------------------------------+----------------------------------+-----------------------------+------------------------------------+---------------------+---------------------+------------------+----------------+--------------+\n",
            "| 11 | 9785bd7d8543cec95d4b1ff5832890f2 | M        | 71-90       |      131240 |                 29 | L02BB04                | Enzalutamide                        |                        7 | 10/01/2023                        | 2023-01-10 00:00:00    | 13/12/2022                                  | 13/12/2022                       |                          28 |                                 28 | 2023-01-09 00:00:00 | 2023-01-09 00:00:00 |                1 |              1 |            1 |\n",
            "+----+----------------------------------+----------+-------------+-------------+--------------------+------------------------+-------------------------------------+--------------------------+-----------------------------------+------------------------+---------------------------------------------+----------------------------------+-----------------------------+------------------------------------+---------------------+---------------------+------------------+----------------+--------------+\n",
            "\n",
            "Percentage of blood tests executed 1 day before therapy execution: 62.939812898418744 % (15205)\n",
            "\n",
            "Percentage of blood tests executed 3 days before therapy execution: 13.97466677705108 % (3376)\n",
            "\n",
            "Percentage of blood tests executed with more than 3 days before therapy execution: 17.402102823081382 % (4204)\n"
          ]
        }
      ]
    },
    {
      "cell_type": "markdown",
      "source": [
        "Looking at data, the days with a quantity of time passed between last blood test and therapy execution higher than 3 we can distiguish 2 cases:\n",
        "\n",
        "1.   Dist_bt_th near to 3 (4 or 5): the blood test was probably done on friday (for monday) and the therapy execution has been postponed for other reasons (not important)\n",
        "2.   Dist_bt_th far from 3 (>>3): data has been wrongly collected. Eg. the update of the date for the last blood test has not been done\n",
        "\n",
        "For these reasons, the data with Dist_bt_th different to 1 and 3 will be deleted since they require to include additional considerations and assumptions."
      ],
      "metadata": {
        "id": "Arklmb6f-yiY"
      }
    },
    {
      "cell_type": "code",
      "source": [
        "for index, row in df[:100].iterrows():\n",
        "  if row['Dist_bt_th']>3:\n",
        "    print(row)"
      ],
      "metadata": {
        "colab": {
          "base_uri": "https://localhost:8080/"
        },
        "id": "KWtIqb1_-yTx",
        "outputId": "ed5f3402-cdb7-4bf2-e7f9-01aa1e6e1935"
      },
      "execution_count": 182,
      "outputs": [
        {
          "output_type": "stream",
          "name": "stdout",
          "text": [
            "IDPaziente                                   1ed08827b32bed97fef0980b2dd6c4ba\n",
            "genere                                                                      F\n",
            "classeeta                                                               51-70\n",
            "IDTerapia                                                              122913\n",
            "CodiceSedeTumore                                                           20\n",
            "PrincipiAttivi                                                        L01EF03\n",
            "PrincipiAttiviDescrizione                                         ABEMACICLIB\n",
            "NumeroSomministrazione                                                     14\n",
            "DataSomministrazioneProgrammata                                    17/01/2023\n",
            "DataSomministrazione                                      2023-01-17 00:00:00\n",
            "DataSomministrazioneProgrammataPrecedente                          23/08/2022\n",
            "DataSomministrazionePrecedente                                     23/08/2022\n",
            "GiornoDaTerapiaPrecedente                                                 147\n",
            "GiorniTeoriciDaTerapiaPrecedente                                          140\n",
            "PrimoPrelievo                                             2022-10-24 00:00:00\n",
            "UltimoPrelievo                                            2022-10-24 00:00:00\n",
            "NumeroPrelievi                                                              1\n",
            "Single_btest                                                                0\n",
            "Dist_bt_th                                                               85.0\n",
            "Name: 76, dtype: object\n",
            "IDPaziente                                   1ed08827b32bed97fef0980b2dd6c4ba\n",
            "genere                                                                      F\n",
            "classeeta                                                               51-70\n",
            "IDTerapia                                                              122913\n",
            "CodiceSedeTumore                                                           20\n",
            "PrincipiAttivi                                                        L01EF03\n",
            "PrincipiAttiviDescrizione                                         ABEMACICLIB\n",
            "NumeroSomministrazione                                                     15\n",
            "DataSomministrazioneProgrammata                                    14/02/2023\n",
            "DataSomministrazione                                      2023-02-14 00:00:00\n",
            "DataSomministrazioneProgrammataPrecedente                          27/09/2022\n",
            "DataSomministrazionePrecedente                                     27/09/2022\n",
            "GiornoDaTerapiaPrecedente                                                 140\n",
            "GiorniTeoriciDaTerapiaPrecedente                                          140\n",
            "PrimoPrelievo                                             2022-10-24 00:00:00\n",
            "UltimoPrelievo                                            2022-10-24 00:00:00\n",
            "NumeroPrelievi                                                              1\n",
            "Single_btest                                                                1\n",
            "Dist_bt_th                                                              113.0\n",
            "Name: 77, dtype: object\n",
            "IDPaziente                                   0cd13a820aae0b87b9a41e40d8eeb1ae\n",
            "genere                                                                      F\n",
            "classeeta                                                               51-70\n",
            "IDTerapia                                                              108795\n",
            "CodiceSedeTumore                                                           20\n",
            "PrincipiAttivi                                                        L01FD01\n",
            "PrincipiAttiviDescrizione                                         trastuzumab\n",
            "NumeroSomministrazione                                                     15\n",
            "DataSomministrazioneProgrammata                                    04/01/2023\n",
            "DataSomministrazione                                      2023-01-04 00:00:00\n",
            "DataSomministrazioneProgrammataPrecedente                          15/10/2020\n",
            "DataSomministrazionePrecedente                                     15/10/2020\n",
            "GiornoDaTerapiaPrecedente                                                 811\n",
            "GiorniTeoriciDaTerapiaPrecedente                                          756\n",
            "PrimoPrelievo                                             2021-12-09 00:00:00\n",
            "UltimoPrelievo                                            2022-12-13 00:00:00\n",
            "NumeroPrelievi                                                              7\n",
            "Single_btest                                                                0\n",
            "Dist_bt_th                                                               22.0\n",
            "Name: 79, dtype: object\n",
            "IDPaziente                                   0cd13a820aae0b87b9a41e40d8eeb1ae\n",
            "genere                                                                      F\n",
            "classeeta                                                               51-70\n",
            "IDTerapia                                                              108795\n",
            "CodiceSedeTumore                                                           20\n",
            "PrincipiAttivi                                                        L01FD01\n",
            "PrincipiAttiviDescrizione                                         trastuzumab\n",
            "NumeroSomministrazione                                                     17\n",
            "DataSomministrazioneProgrammata                                    15/02/2023\n",
            "DataSomministrazione                                      2023-02-15 00:00:00\n",
            "DataSomministrazioneProgrammataPrecedente                          26/11/2020\n",
            "DataSomministrazionePrecedente                                     26/11/2020\n",
            "GiornoDaTerapiaPrecedente                                                 811\n",
            "GiorniTeoriciDaTerapiaPrecedente                                          756\n",
            "PrimoPrelievo                                             2021-12-09 00:00:00\n",
            "UltimoPrelievo                                            2023-01-24 00:00:00\n",
            "NumeroPrelievi                                                              8\n",
            "Single_btest                                                                0\n",
            "Dist_bt_th                                                               22.0\n",
            "Name: 81, dtype: object\n",
            "IDPaziente                                   0cd13a820aae0b87b9a41e40d8eeb1ae\n",
            "genere                                                                      F\n",
            "classeeta                                                               51-70\n",
            "IDTerapia                                                              108795\n",
            "CodiceSedeTumore                                                           20\n",
            "PrincipiAttivi                                                        L01FD01\n",
            "PrincipiAttiviDescrizione                                         trastuzumab\n",
            "NumeroSomministrazione                                                     19\n",
            "DataSomministrazioneProgrammata                                    29/03/2023\n",
            "DataSomministrazione                                      2023-03-29 00:00:00\n",
            "DataSomministrazioneProgrammataPrecedente                          07/01/2021\n",
            "DataSomministrazionePrecedente                                     07/01/2021\n",
            "GiornoDaTerapiaPrecedente                                                 811\n",
            "GiorniTeoriciDaTerapiaPrecedente                                          756\n",
            "PrimoPrelievo                                             2021-12-09 00:00:00\n",
            "UltimoPrelievo                                            2023-03-07 00:00:00\n",
            "NumeroPrelievi                                                              9\n",
            "Single_btest                                                                0\n",
            "Dist_bt_th                                                               22.0\n",
            "Name: 83, dtype: object\n",
            "IDPaziente                                   126ee1904140f31266d82bd81975826a\n",
            "genere                                                                      M\n",
            "classeeta                                                               51-70\n",
            "IDTerapia                                                              120107\n",
            "CodiceSedeTumore                                                           46\n",
            "PrincipiAttivi                                                        L01XE27\n",
            "PrincipiAttiviDescrizione                                           Ibrutinib\n",
            "NumeroSomministrazione                                                     14\n",
            "DataSomministrazioneProgrammata                                    27/01/2023\n",
            "DataSomministrazione                                      2023-01-27 00:00:00\n",
            "DataSomministrazioneProgrammataPrecedente                          02/05/2022\n",
            "DataSomministrazionePrecedente                                     02/05/2022\n",
            "GiornoDaTerapiaPrecedente                                                 270\n",
            "GiorniTeoriciDaTerapiaPrecedente                                          270\n",
            "PrimoPrelievo                                             2022-08-01 00:00:00\n",
            "UltimoPrelievo                                            2022-12-29 00:00:00\n",
            "NumeroPrelievi                                                              3\n",
            "Single_btest                                                                0\n",
            "Dist_bt_th                                                               29.0\n",
            "Name: 96, dtype: object\n",
            "IDPaziente                                   126ee1904140f31266d82bd81975826a\n",
            "genere                                                                      M\n",
            "classeeta                                                               51-70\n",
            "IDTerapia                                                              120107\n",
            "CodiceSedeTumore                                                           46\n",
            "PrincipiAttivi                                                        L01XE27\n",
            "PrincipiAttiviDescrizione                                           Ibrutinib\n",
            "NumeroSomministrazione                                                     15\n",
            "DataSomministrazioneProgrammata                                    27/02/2023\n",
            "DataSomministrazione                                      2023-02-27 00:00:00\n",
            "DataSomministrazioneProgrammataPrecedente                          01/06/2022\n",
            "DataSomministrazionePrecedente                                     01/06/2022\n",
            "GiornoDaTerapiaPrecedente                                                 271\n",
            "GiorniTeoriciDaTerapiaPrecedente                                          270\n",
            "PrimoPrelievo                                             2022-08-01 00:00:00\n",
            "UltimoPrelievo                                            2022-12-29 00:00:00\n",
            "NumeroPrelievi                                                              3\n",
            "Single_btest                                                                0\n",
            "Dist_bt_th                                                               60.0\n",
            "Name: 97, dtype: object\n",
            "IDPaziente                                   27936563246ab3416f80e494754d07f7\n",
            "genere                                                                      M\n",
            "classeeta                                                               71-90\n",
            "IDTerapia                                                              127186\n",
            "CodiceSedeTumore                                                           47\n",
            "PrincipiAttivi                                                        L01XC24\n",
            "PrincipiAttiviDescrizione                               daratumumab sottocute\n",
            "NumeroSomministrazione                                                     13\n",
            "DataSomministrazioneProgrammata                                    24/01/2023\n",
            "DataSomministrazione                                      2023-01-24 00:00:00\n",
            "DataSomministrazioneProgrammataPrecedente                          28/12/2022\n",
            "DataSomministrazionePrecedente                                     28/12/2022\n",
            "GiornoDaTerapiaPrecedente                                                  27\n",
            "GiorniTeoriciDaTerapiaPrecedente                                           28\n",
            "PrimoPrelievo                                             2023-01-20 00:00:00\n",
            "UltimoPrelievo                                            2023-01-20 00:00:00\n",
            "NumeroPrelievi                                                              1\n",
            "Single_btest                                                                1\n",
            "Dist_bt_th                                                                4.0\n",
            "Name: 118, dtype: object\n"
          ]
        }
      ]
    },
    {
      "cell_type": "code",
      "source": [
        "df = df[df['Dist_bt_th'] <= 3]"
      ],
      "metadata": {
        "id": "DFyUduUcC5hO"
      },
      "execution_count": 183,
      "outputs": []
    },
    {
      "cell_type": "markdown",
      "source": [
        "6.  Management of the attribute \"PrincipiAttivi\" that contains array: this attribute contains an array of active ingredients, but in this format it does not suit with the algorithm operations.\n",
        "\n",
        "\n",
        "> So, to make it usable, it can be created an attribute for each possible value and then setting as True for the rows where that value is present.\n",
        "\n"
      ],
      "metadata": {
        "id": "yi2G9MF94Xet"
      }
    },
    {
      "cell_type": "code",
      "source": [
        "#How many active ingredients are?\n",
        "unique_values_set = set()\n",
        "\n",
        "for idx, arr in enumerate(df['PrincipiAttivi']):\n",
        "    for x in arr:\n",
        "        if (x not in unique_values_set) & (len(str(x)) > 5):\n",
        "            unique_values_set.add(x)\n",
        "\n",
        "print(\"N° of active ingredients: \", len(unique_values_set))\n",
        "#print(unique_values_set)\n",
        "\n",
        "df = pd.concat([df, df.apply(check_value_presence, axis=1, result_type='expand')], axis=1)"
      ],
      "metadata": {
        "id": "BXodTPlE4XUS",
        "colab": {
          "base_uri": "https://localhost:8080/"
        },
        "outputId": "3726be01-9b39-462f-c408-d9c142b45427"
      },
      "execution_count": 184,
      "outputs": [
        {
          "output_type": "stream",
          "name": "stdout",
          "text": [
            "N° of active ingredients:  86\n"
          ]
        }
      ]
    },
    {
      "cell_type": "markdown",
      "source": [
        "THIS IS THE SAVE OF THE PERCENTAGE OF SUCCESS/FAILURES OF BLOOD TESTS\n",
        "\n",
        "DEFINE WHERE TO PUT IT (THE DF CAN BE COPIED IN ORDER TO PUT IT IN \"MODELLING PHASE\" WHERE IT SEEMS MORE COHERENT)"
      ],
      "metadata": {
        "id": "_GsKF7S9uBLr"
      }
    },
    {
      "cell_type": "code",
      "source": [
        "failed_btests = failed_blood_test(df)\n",
        "\n",
        "print(\"\\n\\nThere are {} failed blood tests: \\n{}\\n\".format(len(failed_btests), tabulate(failed_btests[:10], df.columns.tolist(), tablefmt='grid')))\n",
        "ptg_failures = len(failed_btests)/len(df)*100\n",
        "print(\"\\n\\nThere are {} failed blood tests ({} % of the total)\\n\".format(len(failed_btests), ptg_failures))"
      ],
      "metadata": {
        "id": "GON7prN7j7up",
        "outputId": "1b12ec9f-35de-4018-da7c-3cc8b146ab60",
        "colab": {
          "base_uri": "https://localhost:8080/"
        }
      },
      "execution_count": 186,
      "outputs": [
        {
          "output_type": "stream",
          "name": "stdout",
          "text": [
            "\n",
            "\n",
            "There are 10698 failed blood tests: \n",
            "+----+----------------------------------+----------+-------------+-------------+--------------------+-----------------------------------+--------------------------------------------------+--------------------------+-----------------------------------+------------------------+---------------------------------------------+----------------------------------+-----------------------------+------------------------------------+---------------------+---------------------+------------------+----------------+--------------+-----------+-----------+-----------+-----------+------------+-----------+-----------+-----------+-----------+-----------+-----------+-----------+-----------+-----------+-----------+-----------+-----------+-----------+-----------+-----------+-----------+-----------+-----------+-----------+-----------+-----------+-----------+-----------+-----------+-----------+-----------+-----------+-----------+-----------+-----------+-----------+-----------+-----------+-----------+-----------+-----------+-----------+-----------+-----------+-----------+-----------+-----------+-----------+-----------+-----------+-----------+-----------+-----------+-----------+-----------+-----------+-----------+-----------+-----------+-----------+-----------+-----------+-----------+-----------+-----------+-----------+-----------+-----------+-----------+-----------+-----------+-----------+-----------+-----------+-----------+-----------+-----------+-----------+-----------+-----------+-----------+-----------+-----------+-----------+-----------+-----------+\n",
            "|    | IDPaziente                       | genere   | classeeta   |   IDTerapia |   CodiceSedeTumore | PrincipiAttivi                    | PrincipiAttiviDescrizione                        |   NumeroSomministrazione | DataSomministrazioneProgrammata   | DataSomministrazione   | DataSomministrazioneProgrammataPrecedente   | DataSomministrazionePrecedente   |   GiornoDaTerapiaPrecedente |   GiorniTeoriciDaTerapiaPrecedente | PrimoPrelievo       | UltimoPrelievo      |   NumeroPrelievi |   Single_btest |   Dist_bt_th | L01XX45   | L02BA03   | L01BC07   | L01AA06   | L01XX44    | L02AE02   | L01FF05   | L01FD01   | L01BC05   | L01CA04   | L01BC08   | L01FG02   | L01EG02   | L01DC01   | L01FF01   | L04AX04   | L01CA01   | L01BA04   | L01FC01   | L01FF04   | L01BA01   | L01DB01   | L01XA03   | L01XX54   | L01EA05   | L01FF07   | L01EF02   | L01CX01   | L01EX07   | L01EH01   | L01XX27   | L01FX04   | L01FA01   | L01FD03   | L01DB07   | L01FF03   | L01FC02   | L01EE01   | L01BC01   | L01EF03   | L01EC03   | L01AA09   | L01FX12   | L01EK01   | L01AX03   | L01BA03   | L01BC02   | L01XC24   | L01XA01   | L01EX08   | L01XG01   | L01DB03   | L01FA03   | L01FG01   | L01FE02   | L01XE31   | L01FX08   | L01FE01   | L01DA01   | L01FD02   | L01FX05   | L01AA03   | L01CA02   | L03AA13   | L01CD01   | L01AX04   | L01CD02   | L01XX14   | L01FF02   | L04AX06   | L02BG04   | L04AX02   | L02BB03   | L01XK01   | L01AA01   | L01EE03   | L01CB01   | L01EF01   | L01BC06   | L01DC03   | L01XX52   | L01XA02   | L01FX15   | L01CE02   | L01XX50   | L01EC02   |\n",
            "+====+==================================+==========+=============+=============+====================+===================================+==================================================+==========================+===================================+========================+=============================================+==================================+=============================+====================================+=====================+=====================+==================+================+==============+===========+===========+===========+===========+============+===========+===========+===========+===========+===========+===========+===========+===========+===========+===========+===========+===========+===========+===========+===========+===========+===========+===========+===========+===========+===========+===========+===========+===========+===========+===========+===========+===========+===========+===========+===========+===========+===========+===========+===========+===========+===========+===========+===========+===========+===========+===========+===========+===========+===========+===========+===========+===========+===========+===========+===========+===========+===========+===========+===========+===========+===========+===========+===========+===========+===========+===========+===========+===========+===========+===========+===========+===========+===========+===========+===========+===========+===========+===========+===========+===========+===========+===========+===========+===========+===========+\n",
            "|  1 | 9f779da0518825145e638e0c8f0b0b37 | M        | 71-90       |      135572 |                 33 | ['L01XA03', 'L01BC02']            | ['oxaliplatino', '5-fluorouracile']              |                        2 | 15/02/2023                        | 2023-02-15 00:00:00    | 31/01/2023                                  | 31/01/2023                       |                          15 |                                 14 | 2023-02-06 00:00:00 | 2023-02-13 00:00:00 |                2 |              0 |            2 | False     | False     | False     | False     | False      | False     | False     | False     | False     | False     | False     | False     | False     | False     | False     | False     | False     | False     | False     | False     | False     | False     | True      | False     | False     | False     | False     | False     | False     | False     | False     | False     | False     | False     | False     | False     | False     | False     | False     | False     | False     | False     | False     | False     | False     | False     | True      | False     | False     | False     | False     | False     | False     | False     | False     | False     | False     | False     | False     | False     | False     | False     | False     | False     | False     | False     | False     | False     | False     | False     | False     | False     | False     | False     | False     | False     | False     | False     | False     | False     | False     | False     | False     | False     | False     | False     |\n",
            "+----+----------------------------------+----------+-------------+-------------+--------------------+-----------------------------------+--------------------------------------------------+--------------------------+-----------------------------------+------------------------+---------------------------------------------+----------------------------------+-----------------------------+------------------------------------+---------------------+---------------------+------------------+----------------+--------------+-----------+-----------+-----------+-----------+------------+-----------+-----------+-----------+-----------+-----------+-----------+-----------+-----------+-----------+-----------+-----------+-----------+-----------+-----------+-----------+-----------+-----------+-----------+-----------+-----------+-----------+-----------+-----------+-----------+-----------+-----------+-----------+-----------+-----------+-----------+-----------+-----------+-----------+-----------+-----------+-----------+-----------+-----------+-----------+-----------+-----------+-----------+-----------+-----------+-----------+-----------+-----------+-----------+-----------+-----------+-----------+-----------+-----------+-----------+-----------+-----------+-----------+-----------+-----------+-----------+-----------+-----------+-----------+-----------+-----------+-----------+-----------+-----------+-----------+-----------+-----------+-----------+-----------+-----------+-----------+-----------+-----------+-----------+-----------+-----------+-----------+\n",
            "|  2 | 9f779da0518825145e638e0c8f0b0b37 | M        | 71-90       |      135572 |                 33 | ['L01XA03', 'L01BC02']            | ['oxaliplatino', '5-fluorouracile']              |                        3 | 01/03/2023                        | 2023-03-01 00:00:00    | 15/02/2023                                  | 15/02/2023                       |                          14 |                                 14 | 2023-02-20 00:00:00 | 2023-02-28 00:00:00 |                2 |              0 |            1 | False     | False     | False     | False     | False      | False     | False     | False     | False     | False     | False     | False     | False     | False     | False     | False     | False     | False     | False     | False     | False     | False     | True      | False     | False     | False     | False     | False     | False     | False     | False     | False     | False     | False     | False     | False     | False     | False     | False     | False     | False     | False     | False     | False     | False     | False     | True      | False     | False     | False     | False     | False     | False     | False     | False     | False     | False     | False     | False     | False     | False     | False     | False     | False     | False     | False     | False     | False     | False     | False     | False     | False     | False     | False     | False     | False     | False     | False     | False     | False     | False     | False     | False     | False     | False     | False     |\n",
            "+----+----------------------------------+----------+-------------+-------------+--------------------+-----------------------------------+--------------------------------------------------+--------------------------+-----------------------------------+------------------------+---------------------------------------------+----------------------------------+-----------------------------+------------------------------------+---------------------+---------------------+------------------+----------------+--------------+-----------+-----------+-----------+-----------+------------+-----------+-----------+-----------+-----------+-----------+-----------+-----------+-----------+-----------+-----------+-----------+-----------+-----------+-----------+-----------+-----------+-----------+-----------+-----------+-----------+-----------+-----------+-----------+-----------+-----------+-----------+-----------+-----------+-----------+-----------+-----------+-----------+-----------+-----------+-----------+-----------+-----------+-----------+-----------+-----------+-----------+-----------+-----------+-----------+-----------+-----------+-----------+-----------+-----------+-----------+-----------+-----------+-----------+-----------+-----------+-----------+-----------+-----------+-----------+-----------+-----------+-----------+-----------+-----------+-----------+-----------+-----------+-----------+-----------+-----------+-----------+-----------+-----------+-----------+-----------+-----------+-----------+-----------+-----------+-----------+-----------+\n",
            "|  3 | 9f779da0518825145e638e0c8f0b0b37 | M        | 71-90       |      135572 |                 33 | ['L01XA03', 'L01BC02']            | ['oxaliplatino', '5-fluorouracile']              |                        4 | 20/03/2023                        | 2023-03-20 00:00:00    | 01/03/2023                                  | 01/03/2023                       |                          19 |                                 14 | 2023-03-07 00:00:00 | 2023-03-17 00:00:00 |                3 |              0 |            3 | False     | False     | False     | False     | False      | False     | False     | False     | False     | False     | False     | False     | False     | False     | False     | False     | False     | False     | False     | False     | False     | False     | True      | False     | False     | False     | False     | False     | False     | False     | False     | False     | False     | False     | False     | False     | False     | False     | False     | False     | False     | False     | False     | False     | False     | False     | True      | False     | False     | False     | False     | False     | False     | False     | False     | False     | False     | False     | False     | False     | False     | False     | False     | False     | False     | False     | False     | False     | False     | False     | False     | False     | False     | False     | False     | False     | False     | False     | False     | False     | False     | False     | False     | False     | False     | False     |\n",
            "+----+----------------------------------+----------+-------------+-------------+--------------------+-----------------------------------+--------------------------------------------------+--------------------------+-----------------------------------+------------------------+---------------------------------------------+----------------------------------+-----------------------------+------------------------------------+---------------------+---------------------+------------------+----------------+--------------+-----------+-----------+-----------+-----------+------------+-----------+-----------+-----------+-----------+-----------+-----------+-----------+-----------+-----------+-----------+-----------+-----------+-----------+-----------+-----------+-----------+-----------+-----------+-----------+-----------+-----------+-----------+-----------+-----------+-----------+-----------+-----------+-----------+-----------+-----------+-----------+-----------+-----------+-----------+-----------+-----------+-----------+-----------+-----------+-----------+-----------+-----------+-----------+-----------+-----------+-----------+-----------+-----------+-----------+-----------+-----------+-----------+-----------+-----------+-----------+-----------+-----------+-----------+-----------+-----------+-----------+-----------+-----------+-----------+-----------+-----------+-----------+-----------+-----------+-----------+-----------+-----------+-----------+-----------+-----------+-----------+-----------+-----------+-----------+-----------+-----------+\n",
            "| 10 | 7a9ec3945df4df079486454a9e784a3b | M        | 51-70       |      128315 |                 64 | ['L01FG01', 'L01BC06']            | ['capecitabina', 'bevacizumab']                  |                       14 | 02/03/2023                        | 2023-03-02 00:00:00    | 12/01/2023                                  | 12/01/2023                       |                          49 |                                 21 | 2023-02-01 00:00:00 | 2023-03-01 00:00:00 |                6 |              0 |            1 | False     | False     | False     | False     | False      | False     | False     | False     | False     | False     | False     | False     | False     | False     | False     | False     | False     | False     | False     | False     | False     | False     | False     | False     | False     | False     | False     | False     | False     | False     | False     | False     | False     | False     | False     | False     | False     | False     | False     | False     | False     | False     | False     | False     | False     | False     | False     | False     | False     | False     | False     | False     | False     | True      | False     | False     | False     | False     | False     | False     | False     | False     | False     | False     | False     | False     | False     | False     | False     | False     | False     | False     | False     | False     | False     | False     | False     | False     | True      | False     | False     | False     | False     | False     | False     | False     |\n",
            "+----+----------------------------------+----------+-------------+-------------+--------------------+-----------------------------------+--------------------------------------------------+--------------------------+-----------------------------------+------------------------+---------------------------------------------+----------------------------------+-----------------------------+------------------------------------+---------------------+---------------------+------------------+----------------+--------------+-----------+-----------+-----------+-----------+------------+-----------+-----------+-----------+-----------+-----------+-----------+-----------+-----------+-----------+-----------+-----------+-----------+-----------+-----------+-----------+-----------+-----------+-----------+-----------+-----------+-----------+-----------+-----------+-----------+-----------+-----------+-----------+-----------+-----------+-----------+-----------+-----------+-----------+-----------+-----------+-----------+-----------+-----------+-----------+-----------+-----------+-----------+-----------+-----------+-----------+-----------+-----------+-----------+-----------+-----------+-----------+-----------+-----------+-----------+-----------+-----------+-----------+-----------+-----------+-----------+-----------+-----------+-----------+-----------+-----------+-----------+-----------+-----------+-----------+-----------+-----------+-----------+-----------+-----------+-----------+-----------+-----------+-----------+-----------+-----------+-----------+\n",
            "| 17 | dca5cd94d6e25fb991845b653fb9f37c | F        | 51-70       |      135353 |                  4 | L01XA02                           | carboplatino                                     |                        2 | 23/03/2023                        | 2023-03-23 00:00:00    | 10/01/2023                                  | 10/01/2023                       |                          72 |                                 21 | 2023-01-11 00:00:00 | 2023-03-22 00:00:00 |               41 |              0 |            1 | False     | False     | False     | False     | False      | False     | False     | False     | False     | False     | False     | False     | False     | False     | False     | False     | False     | False     | False     | False     | False     | False     | False     | False     | False     | False     | False     | False     | False     | False     | False     | False     | False     | False     | False     | False     | False     | False     | False     | False     | False     | False     | False     | False     | False     | False     | False     | False     | False     | False     | False     | False     | False     | False     | False     | False     | False     | False     | False     | False     | False     | False     | False     | False     | False     | False     | False     | False     | False     | False     | False     | False     | False     | False     | False     | False     | False     | False     | False     | False     | False     | True      | False     | False     | False     | False     |\n",
            "+----+----------------------------------+----------+-------------+-------------+--------------------+-----------------------------------+--------------------------------------------------+--------------------------+-----------------------------------+------------------------+---------------------------------------------+----------------------------------+-----------------------------+------------------------------------+---------------------+---------------------+------------------+----------------+--------------+-----------+-----------+-----------+-----------+------------+-----------+-----------+-----------+-----------+-----------+-----------+-----------+-----------+-----------+-----------+-----------+-----------+-----------+-----------+-----------+-----------+-----------+-----------+-----------+-----------+-----------+-----------+-----------+-----------+-----------+-----------+-----------+-----------+-----------+-----------+-----------+-----------+-----------+-----------+-----------+-----------+-----------+-----------+-----------+-----------+-----------+-----------+-----------+-----------+-----------+-----------+-----------+-----------+-----------+-----------+-----------+-----------+-----------+-----------+-----------+-----------+-----------+-----------+-----------+-----------+-----------+-----------+-----------+-----------+-----------+-----------+-----------+-----------+-----------+-----------+-----------+-----------+-----------+-----------+-----------+-----------+-----------+-----------+-----------+-----------+-----------+\n",
            "| 18 | 242e4dc4632908cdee50ef46f7421c00 | M        | 51-70       |      133375 |                 64 | ['L01FG01', 'L01CE02', 'L01BC02'] | ['irinotecan', 'bevacizumab', '5-fluorouracile'] |                        4 | 02/01/2023                        | 2023-01-02 00:00:00    | 05/12/2022                                  | 05/12/2022                       |                          28 |                                 14 | 2022-12-30 00:00:00 | 2022-12-30 00:00:00 |                1 |              0 |            3 | False     | False     | False     | False     | False      | False     | False     | False     | False     | False     | False     | False     | False     | False     | False     | False     | False     | False     | False     | False     | False     | False     | False     | False     | False     | False     | False     | False     | False     | False     | False     | False     | False     | False     | False     | False     | False     | False     | False     | False     | False     | False     | False     | False     | False     | False     | True      | False     | False     | False     | False     | False     | False     | True      | False     | False     | False     | False     | False     | False     | False     | False     | False     | False     | False     | False     | False     | False     | False     | False     | False     | False     | False     | False     | False     | False     | False     | False     | False     | False     | False     | False     | False     | True      | False     | False     |\n",
            "+----+----------------------------------+----------+-------------+-------------+--------------------+-----------------------------------+--------------------------------------------------+--------------------------+-----------------------------------+------------------------+---------------------------------------------+----------------------------------+-----------------------------+------------------------------------+---------------------+---------------------+------------------+----------------+--------------+-----------+-----------+-----------+-----------+------------+-----------+-----------+-----------+-----------+-----------+-----------+-----------+-----------+-----------+-----------+-----------+-----------+-----------+-----------+-----------+-----------+-----------+-----------+-----------+-----------+-----------+-----------+-----------+-----------+-----------+-----------+-----------+-----------+-----------+-----------+-----------+-----------+-----------+-----------+-----------+-----------+-----------+-----------+-----------+-----------+-----------+-----------+-----------+-----------+-----------+-----------+-----------+-----------+-----------+-----------+-----------+-----------+-----------+-----------+-----------+-----------+-----------+-----------+-----------+-----------+-----------+-----------+-----------+-----------+-----------+-----------+-----------+-----------+-----------+-----------+-----------+-----------+-----------+-----------+-----------+-----------+-----------+-----------+-----------+-----------+-----------+\n",
            "| 25 | ce7707f2f7c9b93a397426e7c00e6df7 | M        | 71-90       |      130065 |                 30 | ['L01FF02', 'L01EK01']            | ['pembrolizumab', 'axitinib']                    |                       12 | 30/01/2023                        | 2023-01-30 00:00:00    | 02/01/2023                                  | 02/01/2023                       |                          28 |                                 21 | 2023-01-27 00:00:00 | 2023-01-27 00:00:00 |                1 |              0 |            3 | False     | False     | False     | False     | False      | False     | False     | False     | False     | False     | False     | False     | False     | False     | False     | False     | False     | False     | False     | False     | False     | False     | False     | False     | False     | False     | False     | False     | False     | False     | False     | False     | False     | False     | False     | False     | False     | False     | False     | False     | False     | False     | False     | True      | False     | False     | False     | False     | False     | False     | False     | False     | False     | False     | False     | False     | False     | False     | False     | False     | False     | False     | False     | False     | False     | False     | False     | False     | True      | False     | False     | False     | False     | False     | False     | False     | False     | False     | False     | False     | False     | False     | False     | False     | False     | False     |\n",
            "+----+----------------------------------+----------+-------------+-------------+--------------------+-----------------------------------+--------------------------------------------------+--------------------------+-----------------------------------+------------------------+---------------------------------------------+----------------------------------+-----------------------------+------------------------------------+---------------------+---------------------+------------------+----------------+--------------+-----------+-----------+-----------+-----------+------------+-----------+-----------+-----------+-----------+-----------+-----------+-----------+-----------+-----------+-----------+-----------+-----------+-----------+-----------+-----------+-----------+-----------+-----------+-----------+-----------+-----------+-----------+-----------+-----------+-----------+-----------+-----------+-----------+-----------+-----------+-----------+-----------+-----------+-----------+-----------+-----------+-----------+-----------+-----------+-----------+-----------+-----------+-----------+-----------+-----------+-----------+-----------+-----------+-----------+-----------+-----------+-----------+-----------+-----------+-----------+-----------+-----------+-----------+-----------+-----------+-----------+-----------+-----------+-----------+-----------+-----------+-----------+-----------+-----------+-----------+-----------+-----------+-----------+-----------+-----------+-----------+-----------+-----------+-----------+-----------+-----------+\n",
            "| 39 | 084d363ee59532c165ff21ca1e12c2e9 | M        | 51-70       |      133869 |                 26 | L01BC05                           | gemcitabina                                      |                        4 | 12/01/2023                        | 2023-01-12 00:00:00    | 29/12/2022                                  | 29/12/2022                       |                          14 |                                 14 | 2023-01-04 00:00:00 | 2023-01-11 00:00:00 |                3 |              0 |            1 | False     | False     | False     | False     | False      | False     | False     | False     | True      | False     | False     | False     | False     | False     | False     | False     | False     | False     | False     | False     | False     | False     | False     | False     | False     | False     | False     | False     | False     | False     | False     | False     | False     | False     | False     | False     | False     | False     | False     | False     | False     | False     | False     | False     | False     | False     | False     | False     | False     | False     | False     | False     | False     | False     | False     | False     | False     | False     | False     | False     | False     | False     | False     | False     | False     | False     | False     | False     | False     | False     | False     | False     | False     | False     | False     | False     | False     | False     | False     | False     | False     | False     | False     | False     | False     | False     |\n",
            "+----+----------------------------------+----------+-------------+-------------+--------------------+-----------------------------------+--------------------------------------------------+--------------------------+-----------------------------------+------------------------+---------------------------------------------+----------------------------------+-----------------------------+------------------------------------+---------------------+---------------------+------------------+----------------+--------------+-----------+-----------+-----------+-----------+------------+-----------+-----------+-----------+-----------+-----------+-----------+-----------+-----------+-----------+-----------+-----------+-----------+-----------+-----------+-----------+-----------+-----------+-----------+-----------+-----------+-----------+-----------+-----------+-----------+-----------+-----------+-----------+-----------+-----------+-----------+-----------+-----------+-----------+-----------+-----------+-----------+-----------+-----------+-----------+-----------+-----------+-----------+-----------+-----------+-----------+-----------+-----------+-----------+-----------+-----------+-----------+-----------+-----------+-----------+-----------+-----------+-----------+-----------+-----------+-----------+-----------+-----------+-----------+-----------+-----------+-----------+-----------+-----------+-----------+-----------+-----------+-----------+-----------+-----------+-----------+-----------+-----------+-----------+-----------+-----------+-----------+\n",
            "| 52 | 827cb6445fc5fc3f584f56b7e155d6b9 | F        | 71-90       |      123822 |                 28 | L01BA04                           | pemetrexed sperimentale                          |                       18 | 13/01/2023                        | 2023-01-13 00:00:00    | 14/10/2022                                  | 14/10/2022                       |                          91 |                                 84 | 2022-10-20 00:00:00 | 2023-01-12 00:00:00 |                5 |              0 |            1 | False     | False     | False     | False     | False      | False     | False     | False     | False     | False     | False     | False     | False     | False     | False     | False     | False     | True      | False     | False     | False     | False     | False     | False     | False     | False     | False     | False     | False     | False     | False     | False     | False     | False     | False     | False     | False     | False     | False     | False     | False     | False     | False     | False     | False     | False     | False     | False     | False     | False     | False     | False     | False     | False     | False     | False     | False     | False     | False     | False     | False     | False     | False     | False     | False     | False     | False     | False     | False     | False     | False     | False     | False     | False     | False     | False     | False     | False     | False     | False     | False     | False     | False     | False     | False     | False     |\n",
            "+----+----------------------------------+----------+-------------+-------------+--------------------+-----------------------------------+--------------------------------------------------+--------------------------+-----------------------------------+------------------------+---------------------------------------------+----------------------------------+-----------------------------+------------------------------------+---------------------+---------------------+------------------+----------------+--------------+-----------+-----------+-----------+-----------+------------+-----------+-----------+-----------+-----------+-----------+-----------+-----------+-----------+-----------+-----------+-----------+-----------+-----------+-----------+-----------+-----------+-----------+-----------+-----------+-----------+-----------+-----------+-----------+-----------+-----------+-----------+-----------+-----------+-----------+-----------+-----------+-----------+-----------+-----------+-----------+-----------+-----------+-----------+-----------+-----------+-----------+-----------+-----------+-----------+-----------+-----------+-----------+-----------+-----------+-----------+-----------+-----------+-----------+-----------+-----------+-----------+-----------+-----------+-----------+-----------+-----------+-----------+-----------+-----------+-----------+-----------+-----------+-----------+-----------+-----------+-----------+-----------+-----------+-----------+-----------+-----------+-----------+-----------+-----------+-----------+-----------+\n",
            "| 53 | 827cb6445fc5fc3f584f56b7e155d6b9 | F        | 71-90       |      123822 |                 28 | L01BA04                           | pemetrexed sperimentale                          |                       19 | 03/02/2023                        | 2023-02-03 00:00:00    | 04/11/2022                                  | 04/11/2022                       |                          91 |                                 84 | 2022-11-24 00:00:00 | 2023-02-02 00:00:00 |                5 |              0 |            1 | False     | False     | False     | False     | False      | False     | False     | False     | False     | False     | False     | False     | False     | False     | False     | False     | False     | True      | False     | False     | False     | False     | False     | False     | False     | False     | False     | False     | False     | False     | False     | False     | False     | False     | False     | False     | False     | False     | False     | False     | False     | False     | False     | False     | False     | False     | False     | False     | False     | False     | False     | False     | False     | False     | False     | False     | False     | False     | False     | False     | False     | False     | False     | False     | False     | False     | False     | False     | False     | False     | False     | False     | False     | False     | False     | False     | False     | False     | False     | False     | False     | False     | False     | False     | False     | False     |\n",
            "+----+----------------------------------+----------+-------------+-------------+--------------------+-----------------------------------+--------------------------------------------------+--------------------------+-----------------------------------+------------------------+---------------------------------------------+----------------------------------+-----------------------------+------------------------------------+---------------------+---------------------+------------------+----------------+--------------+-----------+-----------+-----------+-----------+------------+-----------+-----------+-----------+-----------+-----------+-----------+-----------+-----------+-----------+-----------+-----------+-----------+-----------+-----------+-----------+-----------+-----------+-----------+-----------+-----------+-----------+-----------+-----------+-----------+-----------+-----------+-----------+-----------+-----------+-----------+-----------+-----------+-----------+-----------+-----------+-----------+-----------+-----------+-----------+-----------+-----------+-----------+-----------+-----------+-----------+-----------+-----------+-----------+-----------+-----------+-----------+-----------+-----------+-----------+-----------+-----------+-----------+-----------+-----------+-----------+-----------+-----------+-----------+-----------+-----------+-----------+-----------+-----------+-----------+-----------+-----------+-----------+-----------+-----------+-----------+-----------+-----------+-----------+-----------+-----------+-----------+\n",
            "\n",
            "\n",
            "\n",
            "There are 10698 failed blood tests (53.613310614413145 % of the total)\n",
            "\n"
          ]
        }
      ]
    },
    {
      "cell_type": "markdown",
      "source": [
        "7.  Removal of useless attributes: there are some attributes that are not relevant to be kept for the working operations of the ML algorithm:\n",
        "\n"
      ],
      "metadata": {
        "id": "sstujvh8AQ97"
      }
    },
    {
      "cell_type": "code",
      "source": [
        "list = ['IDPaziente', 'IDTerapia', 'PrincipiAttivi', 'PrincipiAttiviDescrizione', 'NumeroSomministrazione',\n",
        "        'DataSomministrazioneProgrammata', 'DataSomministrazione', 'DataSomministrazioneProgrammataPrecedente',\n",
        "        'DataSomministrazionePrecedente', 'GiornoDaTerapiaPrecedente',\t'GiorniTeoriciDaTerapiaPrecedente',\n",
        "        'PrimoPrelievo', 'UltimoPrelievo', 'NumeroPrelievi']\n",
        "df = attrib_removal(df, list)\n",
        "print(df.columns.tolist())"
      ],
      "metadata": {
        "id": "0vPeysDZBsv4",
        "colab": {
          "base_uri": "https://localhost:8080/"
        },
        "outputId": "56de02d9-11c8-4edc-fcc8-8e4093433617"
      },
      "execution_count": 166,
      "outputs": [
        {
          "output_type": "stream",
          "name": "stdout",
          "text": [
            "['genere', 'classeeta', 'CodiceSedeTumore', 'Single_btest', 'Dist_bt_th', 'L01XX45', 'L02BA03', 'L01BC07', 'L01AA06', 'L01XX44 ', 'L02AE02', 'L01FF05', 'L01FD01', 'L01BC05', 'L01CA04', 'L01BC08', 'L01FG02', 'L01EG02', 'L01DC01', 'L01FF01', 'L04AX04', 'L01CA01', 'L01BA04', 'L01FC01', 'L01FF04', 'L01BA01', 'L01DB01', 'L01XA03', 'L01XX54', 'L01EA05', 'L01FF07', 'L01EF02', 'L01CX01', 'L01EX07', 'L01EH01', 'L01XX27', 'L01FX04', 'L01FA01', 'L01FD03', 'L01DB07', 'L01FF03', 'L01FC02', 'L01EE01', 'L01BC01', 'L01EF03', 'L01EC03', 'L01AA09', 'L01FX12', 'L01EK01', 'L01AX03', 'L01BA03', 'L01BC02', 'L01XC24', 'L01XA01', 'L01EX08', 'L01XG01', 'L01DB03', 'L01FA03', 'L01FG01', 'L01FE02', 'L01XE31', 'L01FX08', 'L01FE01', 'L01DA01', 'L01FD02', 'L01FX05', 'L01AA03', 'L01CA02', 'L03AA13', 'L01CD01', 'L01AX04', 'L01CD02', 'L01XX14', 'L01FF02', 'L04AX06', 'L02BG04', 'L04AX02', 'L02BB03', 'L01XK01', 'L01AA01', 'L01EE03', 'L01CB01', 'L01EF01', 'L01BC06', 'L01DC03', 'L01XX52', 'L01XA02', 'L01FX15', 'L01CE02', 'L01XX50', 'L01EC02']\n"
          ]
        }
      ]
    },
    {
      "cell_type": "markdown",
      "source": [
        "8.  Encoding of strings: the ML algorithms that is going  to be applied are not able to manage data different from numerical ones, so the strings and boolean must be \"converted into number\":"
      ],
      "metadata": {
        "id": "0nnxGxy1RFp1"
      }
    },
    {
      "cell_type": "code",
      "source": [
        "cols = ['genere', 'classeeta']\n",
        "df, label_enc_map = encoding_attrib(df, cols)\n",
        "\n",
        "print(label_enc_map)"
      ],
      "metadata": {
        "id": "YU9Kszi_RGqV",
        "outputId": "f48b0540-faf6-4231-86b7-5ed9a7e8a260",
        "colab": {
          "base_uri": "https://localhost:8080/"
        }
      },
      "execution_count": 167,
      "outputs": [
        {
          "output_type": "stream",
          "name": "stdout",
          "text": [
            "{'genere': {'F': 0, 'M': 1}, 'classeeta': {'19-30': 0, '31-50': 1, '51-70': 2, '71-90': 3, 'null': 4}}\n"
          ]
        }
      ]
    },
    {
      "cell_type": "markdown",
      "source": [
        "# Model generation"
      ],
      "metadata": {
        "id": "ZJNfHswvBM3D"
      }
    },
    {
      "cell_type": "markdown",
      "source": [
        "This section will be focused on the concrete creation of the classifier.\n",
        "\n",
        "The first step is the split of the dataset with its classes, by keeping the index as a \"primary key\" to trace the relation between the 2 datframes.\n",
        "\n",
        "After that, both of the dataframes are divided into:\n",
        "\n",
        "*   Training set (70%)\n",
        "*   Test set (20%)\n",
        "*   Validation set (10%)"
      ],
      "metadata": {
        "id": "dPho0aguBNws"
      }
    },
    {
      "cell_type": "code",
      "source": [
        "print(df.columns.tolist())"
      ],
      "metadata": {
        "colab": {
          "base_uri": "https://localhost:8080/"
        },
        "id": "_P7Q6fgHD13c",
        "outputId": "6b4bb8a2-5f6c-48f4-abf7-068f8746a003"
      },
      "execution_count": 138,
      "outputs": [
        {
          "output_type": "stream",
          "name": "stdout",
          "text": [
            "['genere', 'classeeta', 'CodiceSedeTumore', 'Single_btest', 'Dist_bt_th', 'L01XX45', 'L02BA03', 'L01BC07', 'L01AA06', 'L01XX44 ', 'L02AE02', 'L01FF05', 'L01FD01', 'L01BC05', 'L01CA04', 'L01BC08', 'L01FG02', 'L01EG02', 'L01DC01', 'L01FF01', 'L04AX04', 'L01CA01', 'L01BA04', 'L01FC01', 'L01FF04', 'L01BA01', 'L01DB01', 'L01XA03', 'L01XX54', 'L01EA05', 'L01FF07', 'L01EF02', 'L01CX01', 'L01EX07', 'L01EH01', 'L01XX27', 'L01FX04', 'L01FA01', 'L01FD03', 'L01DB07', 'L01FF03', 'L01FC02', 'L01EE01', 'L01BC01', 'L01EF03', 'L01EC03', 'L01AA09', 'L01FX12', 'L01EK01', 'L01AX03', 'L01BA03', 'L01BC02', 'L01XC24', 'L01XA01', 'L01EX08', 'L01XG01', 'L01DB03', 'L01FA03', 'L01FG01', 'L01FE02', 'L01XE31', 'L01FX08', 'L01FE01', 'L01DA01', 'L01FD02', 'L01FX05', 'L01AA03', 'L01CA02', 'L03AA13', 'L01CD01', 'L01AX04', 'L01CD02', 'L01XX14', 'L01FF02', 'L04AX06', 'L02BG04', 'L04AX02', 'L02BB03', 'L01XK01', 'L01AA01', 'L01EE03', 'L01CB01', 'L01EF01', 'L01BC06', 'L01DC03', 'L01XX52', 'L01XA02', 'L01FX15', 'L01CE02', 'L01XX50', 'L01EC02']\n"
          ]
        }
      ]
    },
    {
      "cell_type": "code",
      "source": [
        "th_classes = df['Single_btest'].copy()\n",
        "#th_classes['idx'] = df.index\n",
        "df = df.drop(['Single_btest'], axis=1)\n",
        "#df['idx'] = df.index\n",
        "#print(df.columns.tolist())\n",
        "#rint(th_classes.columns.tolist())\n",
        "\n",
        "cutpoint1, cutpoint2 = 0.7, 0.8\n",
        "trainset = df[:int(cutpoint1*len(df))]\n",
        "train_cl = th_classes[:int(cutpoint1*len(df))]\n",
        "valset = df[int(cutpoint1*len(df)):int(cutpoint2*len(df))]\n",
        "val_cl = th_classes[int(cutpoint1*len(df)):int(cutpoint2*len(df))]\n",
        "testset = df[int(cutpoint2*len(df)):]\n",
        "test_cl = th_classes[int(cutpoint2*len(df)):]\n",
        "print('Total: {} splitted in Train: {}, Val: {} and Test: {}'.format(len(df), len(trainset), len(valset), len(testset)))"
      ],
      "metadata": {
        "id": "yfomYAl1BNoR",
        "colab": {
          "base_uri": "https://localhost:8080/"
        },
        "outputId": "549d7af5-3d54-4531-cae9-4e2ad7960f71"
      },
      "execution_count": 139,
      "outputs": [
        {
          "output_type": "stream",
          "name": "stdout",
          "text": [
            "Total: 19954 splitted in Train: 13967, Val: 1996 and Test: 3991\n"
          ]
        }
      ]
    },
    {
      "cell_type": "markdown",
      "source": [
        "Now it's the turn for the creation of the classifier.\n",
        "\n",
        "There are many possibilities and here we are going to try the decision trees."
      ],
      "metadata": {
        "id": "1HW76zw3HhhO"
      }
    },
    {
      "cell_type": "code",
      "source": [
        "clf = DecisionTreeClassifier(max_depth=10)\n",
        "\n",
        "#min_samples_split=50 --> reduces performance\n",
        "#min_samples_leaf = 10 --> reduces performance\n",
        "#--> it is not a problem of overfitting"
      ],
      "metadata": {
        "id": "C991Jun5HhZF"
      },
      "execution_count": 140,
      "outputs": []
    },
    {
      "cell_type": "code",
      "source": [
        "clf.fit(trainset, train_cl)"
      ],
      "metadata": {
        "colab": {
          "base_uri": "https://localhost:8080/",
          "height": 74
        },
        "id": "IF0QPioEH2SF",
        "outputId": "2c31791c-7098-4373-c07b-41f0ca5a4438"
      },
      "execution_count": 141,
      "outputs": [
        {
          "output_type": "execute_result",
          "data": {
            "text/plain": [
              "DecisionTreeClassifier(max_depth=10)"
            ],
            "text/html": [
              "<style>#sk-container-id-14 {color: black;background-color: white;}#sk-container-id-14 pre{padding: 0;}#sk-container-id-14 div.sk-toggleable {background-color: white;}#sk-container-id-14 label.sk-toggleable__label {cursor: pointer;display: block;width: 100%;margin-bottom: 0;padding: 0.3em;box-sizing: border-box;text-align: center;}#sk-container-id-14 label.sk-toggleable__label-arrow:before {content: \"▸\";float: left;margin-right: 0.25em;color: #696969;}#sk-container-id-14 label.sk-toggleable__label-arrow:hover:before {color: black;}#sk-container-id-14 div.sk-estimator:hover label.sk-toggleable__label-arrow:before {color: black;}#sk-container-id-14 div.sk-toggleable__content {max-height: 0;max-width: 0;overflow: hidden;text-align: left;background-color: #f0f8ff;}#sk-container-id-14 div.sk-toggleable__content pre {margin: 0.2em;color: black;border-radius: 0.25em;background-color: #f0f8ff;}#sk-container-id-14 input.sk-toggleable__control:checked~div.sk-toggleable__content {max-height: 200px;max-width: 100%;overflow: auto;}#sk-container-id-14 input.sk-toggleable__control:checked~label.sk-toggleable__label-arrow:before {content: \"▾\";}#sk-container-id-14 div.sk-estimator input.sk-toggleable__control:checked~label.sk-toggleable__label {background-color: #d4ebff;}#sk-container-id-14 div.sk-label input.sk-toggleable__control:checked~label.sk-toggleable__label {background-color: #d4ebff;}#sk-container-id-14 input.sk-hidden--visually {border: 0;clip: rect(1px 1px 1px 1px);clip: rect(1px, 1px, 1px, 1px);height: 1px;margin: -1px;overflow: hidden;padding: 0;position: absolute;width: 1px;}#sk-container-id-14 div.sk-estimator {font-family: monospace;background-color: #f0f8ff;border: 1px dotted black;border-radius: 0.25em;box-sizing: border-box;margin-bottom: 0.5em;}#sk-container-id-14 div.sk-estimator:hover {background-color: #d4ebff;}#sk-container-id-14 div.sk-parallel-item::after {content: \"\";width: 100%;border-bottom: 1px solid gray;flex-grow: 1;}#sk-container-id-14 div.sk-label:hover label.sk-toggleable__label {background-color: #d4ebff;}#sk-container-id-14 div.sk-serial::before {content: \"\";position: absolute;border-left: 1px solid gray;box-sizing: border-box;top: 0;bottom: 0;left: 50%;z-index: 0;}#sk-container-id-14 div.sk-serial {display: flex;flex-direction: column;align-items: center;background-color: white;padding-right: 0.2em;padding-left: 0.2em;position: relative;}#sk-container-id-14 div.sk-item {position: relative;z-index: 1;}#sk-container-id-14 div.sk-parallel {display: flex;align-items: stretch;justify-content: center;background-color: white;position: relative;}#sk-container-id-14 div.sk-item::before, #sk-container-id-14 div.sk-parallel-item::before {content: \"\";position: absolute;border-left: 1px solid gray;box-sizing: border-box;top: 0;bottom: 0;left: 50%;z-index: -1;}#sk-container-id-14 div.sk-parallel-item {display: flex;flex-direction: column;z-index: 1;position: relative;background-color: white;}#sk-container-id-14 div.sk-parallel-item:first-child::after {align-self: flex-end;width: 50%;}#sk-container-id-14 div.sk-parallel-item:last-child::after {align-self: flex-start;width: 50%;}#sk-container-id-14 div.sk-parallel-item:only-child::after {width: 0;}#sk-container-id-14 div.sk-dashed-wrapped {border: 1px dashed gray;margin: 0 0.4em 0.5em 0.4em;box-sizing: border-box;padding-bottom: 0.4em;background-color: white;}#sk-container-id-14 div.sk-label label {font-family: monospace;font-weight: bold;display: inline-block;line-height: 1.2em;}#sk-container-id-14 div.sk-label-container {text-align: center;}#sk-container-id-14 div.sk-container {/* jupyter's `normalize.less` sets `[hidden] { display: none; }` but bootstrap.min.css set `[hidden] { display: none !important; }` so we also need the `!important` here to be able to override the default hidden behavior on the sphinx rendered scikit-learn.org. See: https://github.com/scikit-learn/scikit-learn/issues/21755 */display: inline-block !important;position: relative;}#sk-container-id-14 div.sk-text-repr-fallback {display: none;}</style><div id=\"sk-container-id-14\" class=\"sk-top-container\"><div class=\"sk-text-repr-fallback\"><pre>DecisionTreeClassifier(max_depth=10)</pre><b>In a Jupyter environment, please rerun this cell to show the HTML representation or trust the notebook. <br />On GitHub, the HTML representation is unable to render, please try loading this page with nbviewer.org.</b></div><div class=\"sk-container\" hidden><div class=\"sk-item\"><div class=\"sk-estimator sk-toggleable\"><input class=\"sk-toggleable__control sk-hidden--visually\" id=\"sk-estimator-id-14\" type=\"checkbox\" checked><label for=\"sk-estimator-id-14\" class=\"sk-toggleable__label sk-toggleable__label-arrow\">DecisionTreeClassifier</label><div class=\"sk-toggleable__content\"><pre>DecisionTreeClassifier(max_depth=10)</pre></div></div></div></div></div>"
            ]
          },
          "metadata": {},
          "execution_count": 141
        }
      ]
    },
    {
      "cell_type": "markdown",
      "source": [
        "It is useful to observe the rules generated by the decision tree:"
      ],
      "metadata": {
        "id": "X2vFglWCaDFA"
      }
    },
    {
      "cell_type": "code",
      "source": [
        "from sklearn.tree import export_text\n",
        "\n",
        "\"\"\"tree_rules_text = export_text(clf, feature_names=df.columns.tolist())\n",
        "print(\"Decision Tree Rules:\\n\", tree_rules_text)\"\"\""
      ],
      "metadata": {
        "id": "OwL-JKK5aC7Z",
        "outputId": "47c970e2-a861-402a-ae12-25accb1c1887",
        "colab": {
          "base_uri": "https://localhost:8080/",
          "height": 52
        }
      },
      "execution_count": 142,
      "outputs": [
        {
          "output_type": "execute_result",
          "data": {
            "text/plain": [
              "'tree_rules_text = export_text(clf, feature_names=df.columns.tolist())\\nprint(\"Decision Tree Rules:\\n\", tree_rules_text)'"
            ],
            "application/vnd.google.colaboratory.intrinsic+json": {
              "type": "string"
            }
          },
          "metadata": {},
          "execution_count": 142
        }
      ]
    },
    {
      "cell_type": "code",
      "source": [
        "\"\"\"from sklearn.tree import export_graphviz\n",
        "import graphviz\n",
        "\n",
        "# Visualize the Decision Tree graphically using graphviz\n",
        "dot_data = export_graphviz(clf, out_file=None,\n",
        "                           feature_names=df.columns.tolist(),\n",
        "                           class_names=['Class_0', 'Class_1'],\n",
        "                           filled=True, rounded=True,\n",
        "                           special_characters=True)\n",
        "\n",
        "graph = graphviz.Source(dot_data)\n",
        "graph.render(\"decision_tree\")  # Save the tree visualization to a file (optional)\n",
        "graph.view()  # Show the tree visualization in your default PDF viewer\"\"\""
      ],
      "metadata": {
        "id": "O1klhfQyalM5",
        "outputId": "f72f168b-f000-45cb-9d59-d99c167cff00",
        "colab": {
          "base_uri": "https://localhost:8080/",
          "height": 104
        }
      },
      "execution_count": 143,
      "outputs": [
        {
          "output_type": "execute_result",
          "data": {
            "text/plain": [
              "'from sklearn.tree import export_graphviz\\nimport graphviz\\n\\n# Visualize the Decision Tree graphically using graphviz\\ndot_data = export_graphviz(clf, out_file=None, \\n                           feature_names=df.columns.tolist(),  \\n                           class_names=[\\'Class_0\\', \\'Class_1\\'],  \\n                           filled=True, rounded=True,  \\n                           special_characters=True)\\n\\ngraph = graphviz.Source(dot_data)\\ngraph.render(\"decision_tree\")  # Save the tree visualization to a file (optional)\\ngraph.view()  # Show the tree visualization in your default PDF viewer'"
            ],
            "application/vnd.google.colaboratory.intrinsic+json": {
              "type": "string"
            }
          },
          "metadata": {},
          "execution_count": 143
        }
      ]
    },
    {
      "cell_type": "markdown",
      "source": [
        "Validation of the classifier"
      ],
      "metadata": {
        "id": "KxY6Uyej6gYM"
      }
    },
    {
      "cell_type": "code",
      "source": [
        "val_score = clf.score(valset, val_cl)\n",
        "\n",
        "print('Validation accuracy: {:.3f}'.format(val_score))"
      ],
      "metadata": {
        "id": "_1Q4CANa6gQ4",
        "outputId": "76c15228-d8d1-424b-ad20-162d99a3e627",
        "colab": {
          "base_uri": "https://localhost:8080/"
        }
      },
      "execution_count": 144,
      "outputs": [
        {
          "output_type": "stream",
          "name": "stdout",
          "text": [
            "Validation accuracy: 0.672\n"
          ]
        }
      ]
    },
    {
      "cell_type": "markdown",
      "source": [
        "# Test phase"
      ],
      "metadata": {
        "id": "fXcHjyO97toN"
      }
    },
    {
      "cell_type": "code",
      "source": [
        "pred = clf.predict(testset)\n",
        "#print('Predicted {} samples: {}'.format(len(pred), pred))\n",
        "#print('GT {} samples: {}'.format(len(test_cl), test_cl))\n",
        "\n",
        "print('\\n Final Accuracy: {:.3f} \\n'.format(accuracy_score(test_cl, pred)))"
      ],
      "metadata": {
        "id": "lQi8fqyi7te2",
        "outputId": "9272a483-cde3-4ba5-b504-2f128916af4d",
        "colab": {
          "base_uri": "https://localhost:8080/"
        }
      },
      "execution_count": 145,
      "outputs": [
        {
          "output_type": "stream",
          "name": "stdout",
          "text": [
            "\n",
            " Final Accuracy: 0.649 \n",
            "\n"
          ]
        }
      ]
    },
    {
      "cell_type": "markdown",
      "source": [
        "Now it's the turn for the creation of the classifier.\n",
        "\n",
        "There are many possibilities and here we are goinf to try the Support Vector Machines. The parameters used are the following ones (considering this [source](https://vitalflux.com/svm-rbf-kernel-parameters-code-sample/#:~:text=The%20gamma%20parameter%20defines%20how,high%20values%20meaning%20'close'.)):\n",
        "\n",
        "\n",
        "*   kernel = rbf: the dimensionality of data is low\n",
        "*   C = 10: it aims to reduce regularization\n",
        "*   gamma = 0.05: to guarantee sufficient influence of training set\n",
        "\n",
        "Jointly it is carried out the training of this model.\n",
        "\n"
      ],
      "metadata": {
        "id": "USWO5RfTczt5"
      }
    },
    {
      "cell_type": "code",
      "source": [
        "clf_list = [\n",
        "    #svm.SVC(gamma=0.1, C=10, kernel='rbf'),\n",
        "    #RandomForestClassifier(max_depth=9, n_estimators=150),\n",
        "    AdaBoostClassifier(n_estimators=100)\n",
        "]\n",
        "\n",
        "for x in clf_list:\n",
        "  x.fit(trainset, train_cl)\n",
        "  print('Classifier: {}'.format(x))\n",
        "\n",
        "  val_score = clf.score(valset, val_cl)\n",
        "  print('Validation accuracy: {:.3f}'.format(val_score))\n",
        "\n",
        "  pred_y = x.predict(testset)\n",
        "  print('\\n Final Accuracy: {:.3f} \\n'.format(accuracy_score(test_cl, pred)))"
      ],
      "metadata": {
        "id": "jfXf9oiieD9Z",
        "outputId": "6ab04e5f-c373-4a3b-abd1-6ea46ed18d23",
        "colab": {
          "base_uri": "https://localhost:8080/"
        }
      },
      "execution_count": 150,
      "outputs": [
        {
          "output_type": "stream",
          "name": "stdout",
          "text": [
            "Classifier: AdaBoostClassifier(n_estimators=100)\n",
            "Validation accuracy: 0.672\n",
            "\n",
            " Final Accuracy: 0.649 \n",
            "\n"
          ]
        }
      ]
    }
  ]
}