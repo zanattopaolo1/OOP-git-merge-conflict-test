{
  "nbformat": 4,
  "nbformat_minor": 0,
  "metadata": {
    "colab": {
      "provenance": [],
      "authorship_tag": "ABX9TyPgiUIy3JP+0ZjU3/vzL1GE",
      "include_colab_link": true
    },
    "kernelspec": {
      "name": "python3",
      "display_name": "Python 3"
    },
    "language_info": {
      "name": "python"
    }
  },
  "cells": [
    {
      "cell_type": "markdown",
      "metadata": {
        "id": "view-in-github",
        "colab_type": "text"
      },
      "source": [
        "<a href=\"https://colab.research.google.com/github/zanattopaolo1/OOP-git-merge-conflict-test/blob/master/ML_project_Zanatto.ipynb\" target=\"_parent\"><img src=\"https://colab.research.google.com/assets/colab-badge.svg\" alt=\"Open In Colab\"/></a>"
      ]
    },
    {
      "cell_type": "code",
      "execution_count": null,
      "metadata": {
        "id": "YooMTdkd1Pw0"
      },
      "outputs": [],
      "source": [
        "import numpy as np\n",
        "from sklearn import svm\n",
        "from sklearn.metrics import accuracy_score, confusion_matrix\n",
        "from sklearn.metrics import plot_confusion_matrix\n",
        "import matplotlib.pyplot as plt\n",
        "import math"
      ]
    },
    {
      "cell_type": "markdown",
      "source": [
        "[Functions...]"
      ],
      "metadata": {
        "id": "O3CtcCNJ1glj"
      }
    },
    {
      "cell_type": "code",
      "source": [],
      "metadata": {
        "id": "vS6vMrqz1c9v"
      },
      "execution_count": null,
      "outputs": []
    },
    {
      "cell_type": "markdown",
      "source": [
        "Main\n",
        "\n",
        "Data import inside a Dataframe"
      ],
      "metadata": {
        "id": "LzSgXX301yQ9"
      }
    },
    {
      "cell_type": "code",
      "source": [
        "dataset_file_path = 'dataset_farmacia_anonimo.csv'\n",
        "with open(dataset_file_path, 'r') as f:\n",
        "    #lines = f.readlines()\n",
        "    #print('Read {} lines'.format(len(lines)))"
      ],
      "metadata": {
        "id": "w5eWAnjV1xa4"
      },
      "execution_count": null,
      "outputs": []
    }
  ]
}