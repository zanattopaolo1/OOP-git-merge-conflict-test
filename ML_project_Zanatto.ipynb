{
  "nbformat": 4,
  "nbformat_minor": 0,
  "metadata": {
    "colab": {
      "provenance": [],
      "authorship_tag": "ABX9TyNCOR+jzfzUHugdpeqneFS+",
      "include_colab_link": true
    },
    "kernelspec": {
      "name": "python3",
      "display_name": "Python 3"
    },
    "language_info": {
      "name": "python"
    }
  },
  "cells": [
    {
      "cell_type": "markdown",
      "metadata": {
        "id": "view-in-github",
        "colab_type": "text"
      },
      "source": [
        "<a href=\"https://colab.research.google.com/github/zanattopaolo1/OOP-git-merge-conflict-test/blob/master/ML_project_Zanatto.ipynb\" target=\"_parent\"><img src=\"https://colab.research.google.com/assets/colab-badge.svg\" alt=\"Open In Colab\"/></a>"
      ]
    },
    {
      "cell_type": "markdown",
      "source": [
        "# Introduction\n",
        "\n",
        "This is the project that aims to predict the response in a defined period of time of a patient with a specific condition in front of a drug administration in therapy cycles. The analysis is focused on the response in 2 time period: 1 day and 3 days before the scheduled drug administration"
      ],
      "metadata": {
        "id": "EM5Rhf1W63H4"
      }
    },
    {
      "cell_type": "code",
      "execution_count": 93,
      "metadata": {
        "id": "YooMTdkd1Pw0"
      },
      "outputs": [],
      "source": [
        "import numpy as np\n",
        "from sklearn import svm\n",
        "from sklearn.metrics import accuracy_score, confusion_matrix\n",
        "import matplotlib.pyplot as plt\n",
        "import pandas as pd\n",
        "from tabulate import tabulate\n",
        "import csv\n",
        "from sklearn.preprocessing import LabelEncoder\n",
        "from sklearn.tree import DecisionTreeClassifier\n",
        "from sklearn.ensemble import RandomForestClassifier, AdaBoostClassifier\n",
        "from sklearn.metrics import ConfusionMatrixDisplay"
      ]
    },
    {
      "cell_type": "markdown",
      "source": [
        "# Functions\n",
        "List of functions that will be used inside the code"
      ],
      "metadata": {
        "id": "O3CtcCNJ1glj"
      }
    },
    {
      "cell_type": "code",
      "source": [
        "def duplicate_check(df, cols):\n",
        "    # Check for duplicates based on the specified columns\n",
        "    duplicate_rows = df[df.duplicated(subset=cols, keep=False)]\n",
        "\n",
        "    return duplicate_rows\n",
        "\n",
        "\"\"\"def filling_UltimoPrelievo(df):\n",
        "    #Having GiornoDaTerapiaPrecedente equal to GiorniTeoriciDaTerapiaPrecedente means that the schedule has been respected. Considering that the cases with we are assuming\n",
        "    df['UltimoPrelievo'] = df['UltimoPrelievo'].where(df['UltimoPrelievo'] == '' & df['GiornoDaTerapiaPrecedente']==df['GiorniTeoriciDaTerapiaPrecedente'], df['DataSomministrazione'] - pd.DateOffset(days=1))\n",
        "\n",
        "    #Removing data where GiornoDaTerapiaPrecedente is NOT equal to GiorniTeoriciDaTerapiaPrecedente\n",
        "    (...)\"\"\"\n",
        "\n",
        "\n",
        "def not_ready_therapies(df):\n",
        "    condition1 = df['GiornoDaTerapiaPrecedente'] > df['GiorniTeoriciDaTerapiaPrecedente']  # Define your condition here\n",
        "    condition2 = df['NumeroPrelievi'] > 1\n",
        "    filtered_df = df[condition1 | condition2]\n",
        "    return filtered_df;\n",
        "\n",
        "def del_rows_missing_val (df):\n",
        "    condition = df['UltimoPrelievo'] == ''\n",
        "\n",
        "    rows_to_drop = df[condition].index\n",
        "    return df.drop(rows_to_drop)\n",
        "\n",
        "def data_cleaning(df):\n",
        "    condition1 = df['UltimoPrelievo'] < df['PrimoPrelievo'] #this information would be caused by a collection error\n",
        "    #condition2 = df['classeeta'] ==   & condition2\"\"\n",
        "\n",
        "    rows_to_drop = df[condition1].index\n",
        "    return df.drop(rows_to_drop)\n",
        "\n",
        "def attrib_removal(df, attrib_list):\n",
        "    for x in attrib_list:\n",
        "        df = df.drop(x, axis=1)\n",
        "\n",
        "    return df\n",
        "\n",
        "def encoding_attrib(df, cols):\n",
        "  label_mappings = {}\n",
        "\n",
        "  for x in cols:\n",
        "      label_encoder = LabelEncoder()\n",
        "      df[x] = label_encoder.fit_transform(df[x])\n",
        "\n",
        "      # Store the label mapping of the current column in the main dictionary\n",
        "      label_mappings[x] = dict(zip(label_encoder.classes_, label_encoder.transform(label_encoder.classes_)))\n",
        "\n",
        "  return df, label_mappings\n",
        "\n",
        "def check_value_presence(row):\n",
        "    return {f'{value}': value in row['PrincipiAttivi'] for value in unique_values_set}"
      ],
      "metadata": {
        "id": "vS6vMrqz1c9v"
      },
      "execution_count": 94,
      "outputs": []
    },
    {
      "cell_type": "markdown",
      "source": [
        "# Which data are you interested about?\n",
        "\n",
        "Before starting it is relevant to understand which data wants to be analyzed:\n",
        "1.  therapies with blood test executed 1 days before\n",
        "2.   therapies with blood test executed 3 days before\n",
        "3.   both"
      ],
      "metadata": {
        "id": "_nSYEdsZgMCi"
      }
    },
    {
      "cell_type": "code",
      "source": [
        "choice = input(\"Enter your choice (1, 2 or any other character for the 3rd option): \")"
      ],
      "metadata": {
        "colab": {
          "base_uri": "https://localhost:8080/"
        },
        "id": "h2wOND0LgVkz",
        "outputId": "eece7635-923d-43f1-83a1-f3b76529448f"
      },
      "execution_count": 95,
      "outputs": [
        {
          "name": "stdout",
          "output_type": "stream",
          "text": [
            "Enter your choice (1, 2 or any other character for the 3rd option): 2\n"
          ]
        }
      ]
    },
    {
      "cell_type": "markdown",
      "source": [
        "# Data loading\n",
        "\n",
        "Data import from the csv file into a dictionary, to structure the information in a logical way, and then used to create the Dataframe"
      ],
      "metadata": {
        "id": "LzSgXX301yQ9"
      }
    },
    {
      "cell_type": "code",
      "source": [
        "dataset_file_path = 'dataset_farmacia_anonimo(3).csv'\n",
        "\n",
        "keys = ['IDPaziente',\t'genere',\t'classeeta',\t'IDTerapia',\t'CodiceSedeTumore',\t'PrincipiAttivi',\t'PrincipiAttiviDescrizione',\t'NumeroSomministrazione',\t'DataSomministrazioneProgrammata',\t'DataSomministrazione',\t'DataSomministrazioneProgrammataPrecedente',\t'DataSomministrazionePrecedente',\t'GiornoDaTerapiaPrecedente',\t'GiorniTeoriciDaTerapiaPrecedente',\t'PrimoPrelievo',\t'UltimoPrelievo', 'NumeroPrelievi']\n",
        "b_tests = {x: [] for x in keys}\n",
        "\n",
        "with open(dataset_file_path, 'r') as file:\n",
        "    reader = csv.reader(file, delimiter=\";\")\n",
        "    for row_index, row in enumerate(reader):\n",
        "        if row_index > 0:\n",
        "            for idx, cell in enumerate(row):\n",
        "                if \",\" in cell:             #to save the list of active ingredients as array\n",
        "                    b_tests[keys[idx]].append(cell.split(\",\"))\n",
        "                else:\n",
        "                    b_tests[keys[idx]].append(cell)\n",
        "\n",
        "df = pd.DataFrame(b_tests)"
      ],
      "metadata": {
        "id": "w5eWAnjV1xa4"
      },
      "execution_count": 96,
      "outputs": []
    },
    {
      "cell_type": "markdown",
      "source": [
        "Data visualization"
      ],
      "metadata": {
        "id": "8zzlsevY4LmZ"
      }
    },
    {
      "cell_type": "code",
      "source": [
        "print(df[:10].to_string(index=False))\n",
        "\n",
        "#another way to visualize data\n",
        "#print(tabulate(df, df.columns.tolist(), tablefmt='grid'))"
      ],
      "metadata": {
        "id": "qQ7bx_YR4O_a",
        "colab": {
          "base_uri": "https://localhost:8080/"
        },
        "outputId": "fdc2d32c-4165-40a9-9e39-1adcd9c621aa"
      },
      "execution_count": 97,
      "outputs": [
        {
          "output_type": "stream",
          "name": "stdout",
          "text": [
            "                      IDPaziente genere classeeta IDTerapia CodiceSedeTumore     PrincipiAttivi       PrincipiAttiviDescrizione NumeroSomministrazione DataSomministrazioneProgrammata DataSomministrazione DataSomministrazioneProgrammataPrecedente DataSomministrazionePrecedente GiornoDaTerapiaPrecedente GiorniTeoriciDaTerapiaPrecedente PrimoPrelievo UltimoPrelievo NumeroPrelievi\n",
            "660f6a81899cf623712934e2b1fb7da0      F     51-70    136427               20 [L01DB03, L01AA01]   [epirubicina, ciclofosfamide]                      2                      17/03/2023           17/03/2023                                24/02/2023                     24/02/2023                        21                               21    16/03/2023     16/03/2023              1\n",
            "9f779da0518825145e638e0c8f0b0b37      M     71-90    135572               33 [L01XA03, L01BC02] [oxaliplatino, 5-fluorouracile]                      2                      15/02/2023           15/02/2023                                31/01/2023                     31/01/2023                        15                               14    06/02/2023     13/02/2023              2\n",
            "9f779da0518825145e638e0c8f0b0b37      M     71-90    135572               33 [L01XA03, L01BC02] [oxaliplatino, 5-fluorouracile]                      3                      01/03/2023           01/03/2023                                15/02/2023                     15/02/2023                        14                               14    20/02/2023     28/02/2023              2\n",
            "9f779da0518825145e638e0c8f0b0b37      M     71-90    135572               33 [L01XA03, L01BC02] [oxaliplatino, 5-fluorouracile]                      4                      20/03/2023           20/03/2023                                01/03/2023                     01/03/2023                        19                               14    07/03/2023     17/03/2023              3\n",
            "ccbd90fdb779564e1e1c1f14d35fa017      F     51-70    134798               20            L01FD01                     trastuzumab                      2                      11/01/2023           10/01/2023                                21/12/2022                     21/12/2022                        21                               21                                           0\n",
            "ccbd90fdb779564e1e1c1f14d35fa017      F     51-70    134798               20            L01FD01                     trastuzumab                      3                      01/02/2023           01/02/2023                                11/01/2023                     10/01/2023                        21                               21    31/01/2023     31/01/2023              1\n",
            "ccbd90fdb779564e1e1c1f14d35fa017      F     51-70    134798               20            L01FD01                     trastuzumab                      4                      22/02/2023           22/02/2023                                01/02/2023                     01/02/2023                        21                               21                                           0\n",
            "ccbd90fdb779564e1e1c1f14d35fa017      F     51-70    134798               20            L01FD01                     trastuzumab                      5                      15/03/2023           15/03/2023                                22/02/2023                     22/02/2023                        21                               21    14/03/2023     14/03/2023              1\n",
            "ce3520ee2376df6c31ab8637d4ddd378      M     71-90    134835               64 [L01XA03, L01BC02] [oxaliplatino, 5-fluorouracile]                      2                      02/01/2023           02/01/2023                                19/12/2022                     19/12/2022                        14                               14    30/12/2022     30/12/2022              1\n",
            "7a9ec3945df4df079486454a9e784a3b      M     51-70    128315               64 [L01FG01, L01BC06]     [capecitabina, bevacizumab]                     13                      12/01/2023           12/01/2023                                22/12/2022                     22/12/2022                        21                               21    11/01/2023     11/01/2023              1\n"
          ]
        }
      ]
    },
    {
      "cell_type": "markdown",
      "source": [
        "# Data pre processing\n",
        "The data presents many issues that requires to be fixed\n",
        "\n",
        "1. Duplicated data: Having duplicated data would mean considering multiple times the same information and it will bring a distorsion to reality, so a check is relavant (even if in this case the errors don't occur)"
      ],
      "metadata": {
        "id": "37b2TF7P4fQQ"
      }
    },
    {
      "cell_type": "code",
      "source": [
        "dup_rows = duplicate_check(df, ['IDPaziente', 'IDTerapia', 'NumeroSomministrazione'])\n",
        "print(\"\\n\\nDuplicated rows:\\n\", dup_rows)"
      ],
      "metadata": {
        "id": "UiO1zjKx4e_3",
        "colab": {
          "base_uri": "https://localhost:8080/"
        },
        "outputId": "866833de-9546-4f5e-c7b7-ab599f08bfe5"
      },
      "execution_count": 98,
      "outputs": [
        {
          "output_type": "stream",
          "name": "stdout",
          "text": [
            "\n",
            "\n",
            "Duplicated rows:\n",
            " Empty DataFrame\n",
            "Columns: [IDPaziente, genere, classeeta, IDTerapia, CodiceSedeTumore, PrincipiAttivi, PrincipiAttiviDescrizione, NumeroSomministrazione, DataSomministrazioneProgrammata, DataSomministrazione, DataSomministrazioneProgrammataPrecedente, DataSomministrazionePrecedente, GiornoDaTerapiaPrecedente, GiorniTeoriciDaTerapiaPrecedente, PrimoPrelievo, UltimoPrelievo, NumeroPrelievi]\n",
            "Index: []\n"
          ]
        }
      ]
    },
    {
      "cell_type": "markdown",
      "source": [
        "2.  Missing values: There are many missing values in the fields \"PrimoPrelievo\" and \"UltimoPrelievo\" and I considered the option to fill \"UltimoPrelievo\". The plan was to fill that field with \"DataSomministrazione\"-1 for each case where the \"GiornoDaTerapiaPrecedente\" is equal to \"GiorniTeoriciDaTerapiaPrecedente\" (so the schedule has been respected) but this option was assuming that all these therapy executions were scheduled on the last 4 days of the week. This is not a feasible assumption when you are interested to compare the results in percentage of blood tests done 1 day beforeand the ones done 3 days before, as this project aims to do. So below the rows where the \"UltimoPrelievo\" (and jointly \"PrimoPrelievo\") are missing will be deleted."
      ],
      "metadata": {
        "id": "enYRRzpM48Vs"
      }
    },
    {
      "cell_type": "code",
      "source": [
        "df = del_rows_missing_val(df)"
      ],
      "metadata": {
        "id": "ClnurVAP46tC"
      },
      "execution_count": 99,
      "outputs": []
    },
    {
      "cell_type": "markdown",
      "source": [
        "3.  Casting of data: the import functions extract the data as strings. It makes a problem when the data has to be computed for what they really are."
      ],
      "metadata": {
        "id": "uNueJ6u55mLS"
      }
    },
    {
      "cell_type": "code",
      "source": [
        "df['NumeroPrelievi'] = df['NumeroPrelievi'].astype(int)\n",
        "df['DataSomministrazione'] = pd.to_datetime(df['DataSomministrazione'], format='%d/%m/%Y')\n",
        "df['UltimoPrelievo'] = pd.to_datetime(df['UltimoPrelievo'], format='%d/%m/%Y')\n",
        "df['PrimoPrelievo'] = pd.to_datetime(df['PrimoPrelievo'], format='%d/%m/%Y')\n",
        "\n",
        "df['GiorniTeoriciDaTerapiaPrecedente'] = df['GiorniTeoriciDaTerapiaPrecedente'].astype(int)\n",
        "df['GiornoDaTerapiaPrecedente'] = df['GiornoDaTerapiaPrecedente'].astype(int)"
      ],
      "metadata": {
        "id": "M6ENMp6s5l7r"
      },
      "execution_count": 100,
      "outputs": []
    },
    {
      "cell_type": "markdown",
      "source": [
        "4.  Noise: There may occur some error in collection phase of data, so it is important to verify the correctness by means of conditions based on logic of data. These are reported and used in the function \"data_cleaning\"."
      ],
      "metadata": {
        "id": "jK4pLYmK55Sf"
      }
    },
    {
      "cell_type": "code",
      "source": [
        "df = data_cleaning(df)"
      ],
      "metadata": {
        "id": "_vKxl_a055xk"
      },
      "execution_count": 101,
      "outputs": []
    },
    {
      "cell_type": "markdown",
      "source": [
        "5.  Creation of attribute for the class\n",
        "\n",
        "The goal of this phase is to create a classifier that allow to reach the goal of the algorithm.\n",
        "\n",
        "In order to make it, the first step is to define the classes.\n",
        "In this problem the classes are:\n",
        "\n",
        "\n",
        "*   Ready for the therapy\n",
        "*   Not ready for the therapy\n",
        "\n",
        "To distringuish them it has been used 2 conditions:\n",
        "\n",
        "\n",
        "*   Day of previous therapy is bigger than the scheduled day of previous therapy\n",
        "*   The number of blood test is bigger than 1\n",
        "\n",
        "The rows that reflect at least one of these 2 conditions are considered as \"not ready for the therapy\". Theoretically both of conditions should be valid in the same moment and using only one of them would be sufficient, but in this way it helps to consider the undetected noise of the dataset.\n",
        "\n"
      ],
      "metadata": {
        "id": "CZkHXQI46MgL"
      }
    },
    {
      "cell_type": "code",
      "source": [
        "th_not_ready = not_ready_therapies(df)\n",
        "\n",
        "print(\"There are {} failed blood tests: \\n{}\\n\".format(len(th_not_ready), tabulate(th_not_ready[:10], df.columns.tolist(), tablefmt='grid')))\n",
        "print(\"\\n\\nThere are {} failed blood tests ({} % of the total)\\n\".format(len(th_not_ready), len(th_not_ready)/len(df)*100))"
      ],
      "metadata": {
        "id": "2jDZr0KS6NCQ",
        "colab": {
          "base_uri": "https://localhost:8080/"
        },
        "outputId": "776eef72-607f-4b35-cba1-10f3889ef812"
      },
      "execution_count": 102,
      "outputs": [
        {
          "output_type": "stream",
          "name": "stdout",
          "text": [
            "There are 14275 failed blood tests: \n",
            "+----+----------------------------------+----------+-------------+-------------+--------------------+-----------------------------------+--------------------------------------------------+--------------------------+-----------------------------------+------------------------+---------------------------------------------+----------------------------------+-----------------------------+------------------------------------+---------------------+---------------------+------------------+\n",
            "|    | IDPaziente                       | genere   | classeeta   |   IDTerapia |   CodiceSedeTumore | PrincipiAttivi                    | PrincipiAttiviDescrizione                        |   NumeroSomministrazione | DataSomministrazioneProgrammata   | DataSomministrazione   | DataSomministrazioneProgrammataPrecedente   | DataSomministrazionePrecedente   |   GiornoDaTerapiaPrecedente |   GiorniTeoriciDaTerapiaPrecedente | PrimoPrelievo       | UltimoPrelievo      |   NumeroPrelievi |\n",
            "+====+==================================+==========+=============+=============+====================+===================================+==================================================+==========================+===================================+========================+=============================================+==================================+=============================+====================================+=====================+=====================+==================+\n",
            "|  1 | 9f779da0518825145e638e0c8f0b0b37 | M        | 71-90       |      135572 |                 33 | ['L01XA03', 'L01BC02']            | ['oxaliplatino', '5-fluorouracile']              |                        2 | 15/02/2023                        | 2023-02-15 00:00:00    | 31/01/2023                                  | 31/01/2023                       |                          15 |                                 14 | 2023-02-06 00:00:00 | 2023-02-13 00:00:00 |                2 |\n",
            "+----+----------------------------------+----------+-------------+-------------+--------------------+-----------------------------------+--------------------------------------------------+--------------------------+-----------------------------------+------------------------+---------------------------------------------+----------------------------------+-----------------------------+------------------------------------+---------------------+---------------------+------------------+\n",
            "|  2 | 9f779da0518825145e638e0c8f0b0b37 | M        | 71-90       |      135572 |                 33 | ['L01XA03', 'L01BC02']            | ['oxaliplatino', '5-fluorouracile']              |                        3 | 01/03/2023                        | 2023-03-01 00:00:00    | 15/02/2023                                  | 15/02/2023                       |                          14 |                                 14 | 2023-02-20 00:00:00 | 2023-02-28 00:00:00 |                2 |\n",
            "+----+----------------------------------+----------+-------------+-------------+--------------------+-----------------------------------+--------------------------------------------------+--------------------------+-----------------------------------+------------------------+---------------------------------------------+----------------------------------+-----------------------------+------------------------------------+---------------------+---------------------+------------------+\n",
            "|  3 | 9f779da0518825145e638e0c8f0b0b37 | M        | 71-90       |      135572 |                 33 | ['L01XA03', 'L01BC02']            | ['oxaliplatino', '5-fluorouracile']              |                        4 | 20/03/2023                        | 2023-03-20 00:00:00    | 01/03/2023                                  | 01/03/2023                       |                          19 |                                 14 | 2023-03-07 00:00:00 | 2023-03-17 00:00:00 |                3 |\n",
            "+----+----------------------------------+----------+-------------+-------------+--------------------+-----------------------------------+--------------------------------------------------+--------------------------+-----------------------------------+------------------------+---------------------------------------------+----------------------------------+-----------------------------+------------------------------------+---------------------+---------------------+------------------+\n",
            "| 10 | 7a9ec3945df4df079486454a9e784a3b | M        | 51-70       |      128315 |                 64 | ['L01FG01', 'L01BC06']            | ['capecitabina', 'bevacizumab']                  |                       14 | 02/03/2023                        | 2023-03-02 00:00:00    | 12/01/2023                                  | 12/01/2023                       |                          49 |                                 21 | 2023-02-01 00:00:00 | 2023-03-01 00:00:00 |                6 |\n",
            "+----+----------------------------------+----------+-------------+-------------+--------------------+-----------------------------------+--------------------------------------------------+--------------------------+-----------------------------------+------------------------+---------------------------------------------+----------------------------------+-----------------------------+------------------------------------+---------------------+---------------------+------------------+\n",
            "| 17 | dca5cd94d6e25fb991845b653fb9f37c | F        | 51-70       |      135353 |                  4 | L01XA02                           | carboplatino                                     |                        2 | 23/03/2023                        | 2023-03-23 00:00:00    | 10/01/2023                                  | 10/01/2023                       |                          72 |                                 21 | 2023-01-11 00:00:00 | 2023-03-22 00:00:00 |               41 |\n",
            "+----+----------------------------------+----------+-------------+-------------+--------------------+-----------------------------------+--------------------------------------------------+--------------------------+-----------------------------------+------------------------+---------------------------------------------+----------------------------------+-----------------------------+------------------------------------+---------------------+---------------------+------------------+\n",
            "| 18 | 242e4dc4632908cdee50ef46f7421c00 | M        | 51-70       |      133375 |                 64 | ['L01FG01', 'L01CE02', 'L01BC02'] | ['irinotecan', 'bevacizumab', '5-fluorouracile'] |                        4 | 02/01/2023                        | 2023-01-02 00:00:00    | 05/12/2022                                  | 05/12/2022                       |                          28 |                                 14 | 2022-12-30 00:00:00 | 2022-12-30 00:00:00 |                1 |\n",
            "+----+----------------------------------+----------+-------------+-------------+--------------------+-----------------------------------+--------------------------------------------------+--------------------------+-----------------------------------+------------------------+---------------------------------------------+----------------------------------+-----------------------------+------------------------------------+---------------------+---------------------+------------------+\n",
            "| 25 | ce7707f2f7c9b93a397426e7c00e6df7 | M        | 71-90       |      130065 |                 30 | ['L01FF02', 'L01EK01']            | ['pembrolizumab', 'axitinib']                    |                       12 | 30/01/2023                        | 2023-01-30 00:00:00    | 02/01/2023                                  | 02/01/2023                       |                          28 |                                 21 | 2023-01-27 00:00:00 | 2023-01-27 00:00:00 |                1 |\n",
            "+----+----------------------------------+----------+-------------+-------------+--------------------+-----------------------------------+--------------------------------------------------+--------------------------+-----------------------------------+------------------------+---------------------------------------------+----------------------------------+-----------------------------+------------------------------------+---------------------+---------------------+------------------+\n",
            "| 39 | 084d363ee59532c165ff21ca1e12c2e9 | M        | 51-70       |      133869 |                 26 | L01BC05                           | gemcitabina                                      |                        4 | 12/01/2023                        | 2023-01-12 00:00:00    | 29/12/2022                                  | 29/12/2022                       |                          14 |                                 14 | 2023-01-04 00:00:00 | 2023-01-11 00:00:00 |                3 |\n",
            "+----+----------------------------------+----------+-------------+-------------+--------------------+-----------------------------------+--------------------------------------------------+--------------------------+-----------------------------------+------------------------+---------------------------------------------+----------------------------------+-----------------------------+------------------------------------+---------------------+---------------------+------------------+\n",
            "| 52 | 827cb6445fc5fc3f584f56b7e155d6b9 | F        | 71-90       |      123822 |                 28 | L01BA04                           | pemetrexed sperimentale                          |                       18 | 13/01/2023                        | 2023-01-13 00:00:00    | 14/10/2022                                  | 14/10/2022                       |                          91 |                                 84 | 2022-10-20 00:00:00 | 2023-01-12 00:00:00 |                5 |\n",
            "+----+----------------------------------+----------+-------------+-------------+--------------------+-----------------------------------+--------------------------------------------------+--------------------------+-----------------------------------+------------------------+---------------------------------------------+----------------------------------+-----------------------------+------------------------------------+---------------------+---------------------+------------------+\n",
            "| 53 | 827cb6445fc5fc3f584f56b7e155d6b9 | F        | 71-90       |      123822 |                 28 | L01BA04                           | pemetrexed sperimentale                          |                       19 | 03/02/2023                        | 2023-02-03 00:00:00    | 04/11/2022                                  | 04/11/2022                       |                          91 |                                 84 | 2022-11-24 00:00:00 | 2023-02-02 00:00:00 |                5 |\n",
            "+----+----------------------------------+----------+-------------+-------------+--------------------+-----------------------------------+--------------------------------------------------+--------------------------+-----------------------------------+------------------------+---------------------------------------------+----------------------------------+-----------------------------+------------------------------------+---------------------+---------------------+------------------+\n",
            "\n",
            "\n",
            "\n",
            "There are 14275 failed blood tests (59.090156469906454 % of the total)\n",
            "\n"
          ]
        }
      ]
    },
    {
      "cell_type": "markdown",
      "source": [
        "There is a strong incidence of failed blood tests and it is important to keep in mind it in front of the solution.\n",
        "\n",
        "Given the rows belonging to the classes, it is created a new column to assign the class.\n",
        "\n",
        "\n",
        "*   0: therapies execution where the patient has done more blood tests\n",
        "*   1: therapies execution where the patient has done 1 blood test\n",
        "\n"
      ],
      "metadata": {
        "id": "FZ7_DJWP-Dr9"
      }
    },
    {
      "cell_type": "code",
      "source": [
        "new_column_values = np.where(df.isin(th_not_ready).all(axis=1), 0, 1)\n",
        "df['Single_btest'] = new_column_values\n",
        "\n",
        "print(df.columns.tolist())"
      ],
      "metadata": {
        "id": "yq75t-HY-DjK",
        "colab": {
          "base_uri": "https://localhost:8080/"
        },
        "outputId": "b3982664-08db-4830-8921-524429fafdaf"
      },
      "execution_count": 103,
      "outputs": [
        {
          "output_type": "stream",
          "name": "stdout",
          "text": [
            "['IDPaziente', 'genere', 'classeeta', 'IDTerapia', 'CodiceSedeTumore', 'PrincipiAttivi', 'PrincipiAttiviDescrizione', 'NumeroSomministrazione', 'DataSomministrazioneProgrammata', 'DataSomministrazione', 'DataSomministrazioneProgrammataPrecedente', 'DataSomministrazionePrecedente', 'GiornoDaTerapiaPrecedente', 'GiorniTeoriciDaTerapiaPrecedente', 'PrimoPrelievo', 'UltimoPrelievo', 'NumeroPrelievi', 'Single_btest']\n"
          ]
        }
      ]
    },
    {
      "cell_type": "markdown",
      "source": [
        "To confirm that the creation has done correctly:"
      ],
      "metadata": {
        "id": "UNJRWzAtOwjh"
      }
    },
    {
      "cell_type": "code",
      "source": [
        "#print(tabulate(df, df.columns.tolist(), tablefmt='grid'))\n",
        "#print(\"\\nPercentage of failures of the first blood test: {} %\".format((df['Single_btest']==False).sum() / len(df) * 100))"
      ],
      "metadata": {
        "id": "Bc8oRW0OAKII"
      },
      "execution_count": 104,
      "outputs": []
    },
    {
      "cell_type": "markdown",
      "source": [
        "For the purpose of the project has been fundamental to create also another column to count the day passed between blood test and therapy execution.  "
      ],
      "metadata": {
        "id": "wFXaOwyg_ZZt"
      }
    },
    {
      "cell_type": "code",
      "source": [
        "diff_days = (df['DataSomministrazione'] - df['UltimoPrelievo']).dt.total_seconds().fillna(-1).astype(int)\n",
        "df['Dist_bt_th'] = round(diff_days / (3600 * 24))\n",
        "\n",
        "print(tabulate(df[:10], df.columns.tolist(), tablefmt='grid'))\n",
        "\n",
        "print(\"\\nPercentage of blood tests executed 1 day before therapy execution: {} % ({})\".format((df['Dist_bt_th']==1).sum() / len(df) * 100, (df['Dist_bt_th']==1).sum()))\n",
        "print(\"\\nPercentage of blood tests executed 3 days before therapy execution: {} % ({})\".format((df['Dist_bt_th']==3).sum() / len(df) * 100, (df['Dist_bt_th']==3).sum()))\n",
        "print(\"\\nPercentage of blood tests executed with more than 3 days before therapy execution: {} % ({})\".format((df['Dist_bt_th']>3).sum() / len(df) * 100, (df['Dist_bt_th']>3).sum()))"
      ],
      "metadata": {
        "id": "SJPAAXFj_ZO1",
        "colab": {
          "base_uri": "https://localhost:8080/"
        },
        "outputId": "8a023a39-274c-4a11-9817-7630246df4a8"
      },
      "execution_count": 105,
      "outputs": [
        {
          "output_type": "stream",
          "name": "stdout",
          "text": [
            "+----+----------------------------------+----------+-------------+-------------+--------------------+------------------------+-------------------------------------+--------------------------+-----------------------------------+------------------------+---------------------------------------------+----------------------------------+-----------------------------+------------------------------------+---------------------+---------------------+------------------+----------------+--------------+\n",
            "|    | IDPaziente                       | genere   | classeeta   |   IDTerapia |   CodiceSedeTumore | PrincipiAttivi         | PrincipiAttiviDescrizione           |   NumeroSomministrazione | DataSomministrazioneProgrammata   | DataSomministrazione   | DataSomministrazioneProgrammataPrecedente   | DataSomministrazionePrecedente   |   GiornoDaTerapiaPrecedente |   GiorniTeoriciDaTerapiaPrecedente | PrimoPrelievo       | UltimoPrelievo      |   NumeroPrelievi |   Single_btest |   Dist_bt_th |\n",
            "+====+==================================+==========+=============+=============+====================+========================+=====================================+==========================+===================================+========================+=============================================+==================================+=============================+====================================+=====================+=====================+==================+================+==============+\n",
            "|  0 | 660f6a81899cf623712934e2b1fb7da0 | F        | 51-70       |      136427 |                 20 | ['L01DB03', 'L01AA01'] | ['epirubicina', 'ciclofosfamide']   |                        2 | 17/03/2023                        | 2023-03-17 00:00:00    | 24/02/2023                                  | 24/02/2023                       |                          21 |                                 21 | 2023-03-16 00:00:00 | 2023-03-16 00:00:00 |                1 |              1 |            1 |\n",
            "+----+----------------------------------+----------+-------------+-------------+--------------------+------------------------+-------------------------------------+--------------------------+-----------------------------------+------------------------+---------------------------------------------+----------------------------------+-----------------------------+------------------------------------+---------------------+---------------------+------------------+----------------+--------------+\n",
            "|  1 | 9f779da0518825145e638e0c8f0b0b37 | M        | 71-90       |      135572 |                 33 | ['L01XA03', 'L01BC02'] | ['oxaliplatino', '5-fluorouracile'] |                        2 | 15/02/2023                        | 2023-02-15 00:00:00    | 31/01/2023                                  | 31/01/2023                       |                          15 |                                 14 | 2023-02-06 00:00:00 | 2023-02-13 00:00:00 |                2 |              0 |            2 |\n",
            "+----+----------------------------------+----------+-------------+-------------+--------------------+------------------------+-------------------------------------+--------------------------+-----------------------------------+------------------------+---------------------------------------------+----------------------------------+-----------------------------+------------------------------------+---------------------+---------------------+------------------+----------------+--------------+\n",
            "|  2 | 9f779da0518825145e638e0c8f0b0b37 | M        | 71-90       |      135572 |                 33 | ['L01XA03', 'L01BC02'] | ['oxaliplatino', '5-fluorouracile'] |                        3 | 01/03/2023                        | 2023-03-01 00:00:00    | 15/02/2023                                  | 15/02/2023                       |                          14 |                                 14 | 2023-02-20 00:00:00 | 2023-02-28 00:00:00 |                2 |              0 |            1 |\n",
            "+----+----------------------------------+----------+-------------+-------------+--------------------+------------------------+-------------------------------------+--------------------------+-----------------------------------+------------------------+---------------------------------------------+----------------------------------+-----------------------------+------------------------------------+---------------------+---------------------+------------------+----------------+--------------+\n",
            "|  3 | 9f779da0518825145e638e0c8f0b0b37 | M        | 71-90       |      135572 |                 33 | ['L01XA03', 'L01BC02'] | ['oxaliplatino', '5-fluorouracile'] |                        4 | 20/03/2023                        | 2023-03-20 00:00:00    | 01/03/2023                                  | 01/03/2023                       |                          19 |                                 14 | 2023-03-07 00:00:00 | 2023-03-17 00:00:00 |                3 |              0 |            3 |\n",
            "+----+----------------------------------+----------+-------------+-------------+--------------------+------------------------+-------------------------------------+--------------------------+-----------------------------------+------------------------+---------------------------------------------+----------------------------------+-----------------------------+------------------------------------+---------------------+---------------------+------------------+----------------+--------------+\n",
            "|  5 | ccbd90fdb779564e1e1c1f14d35fa017 | F        | 51-70       |      134798 |                 20 | L01FD01                | trastuzumab                         |                        3 | 01/02/2023                        | 2023-02-01 00:00:00    | 11/01/2023                                  | 10/01/2023                       |                          21 |                                 21 | 2023-01-31 00:00:00 | 2023-01-31 00:00:00 |                1 |              1 |            1 |\n",
            "+----+----------------------------------+----------+-------------+-------------+--------------------+------------------------+-------------------------------------+--------------------------+-----------------------------------+------------------------+---------------------------------------------+----------------------------------+-----------------------------+------------------------------------+---------------------+---------------------+------------------+----------------+--------------+\n",
            "|  7 | ccbd90fdb779564e1e1c1f14d35fa017 | F        | 51-70       |      134798 |                 20 | L01FD01                | trastuzumab                         |                        5 | 15/03/2023                        | 2023-03-15 00:00:00    | 22/02/2023                                  | 22/02/2023                       |                          21 |                                 21 | 2023-03-14 00:00:00 | 2023-03-14 00:00:00 |                1 |              1 |            1 |\n",
            "+----+----------------------------------+----------+-------------+-------------+--------------------+------------------------+-------------------------------------+--------------------------+-----------------------------------+------------------------+---------------------------------------------+----------------------------------+-----------------------------+------------------------------------+---------------------+---------------------+------------------+----------------+--------------+\n",
            "|  8 | ce3520ee2376df6c31ab8637d4ddd378 | M        | 71-90       |      134835 |                 64 | ['L01XA03', 'L01BC02'] | ['oxaliplatino', '5-fluorouracile'] |                        2 | 02/01/2023                        | 2023-01-02 00:00:00    | 19/12/2022                                  | 19/12/2022                       |                          14 |                                 14 | 2022-12-30 00:00:00 | 2022-12-30 00:00:00 |                1 |              1 |            3 |\n",
            "+----+----------------------------------+----------+-------------+-------------+--------------------+------------------------+-------------------------------------+--------------------------+-----------------------------------+------------------------+---------------------------------------------+----------------------------------+-----------------------------+------------------------------------+---------------------+---------------------+------------------+----------------+--------------+\n",
            "|  9 | 7a9ec3945df4df079486454a9e784a3b | M        | 51-70       |      128315 |                 64 | ['L01FG01', 'L01BC06'] | ['capecitabina', 'bevacizumab']     |                       13 | 12/01/2023                        | 2023-01-12 00:00:00    | 22/12/2022                                  | 22/12/2022                       |                          21 |                                 21 | 2023-01-11 00:00:00 | 2023-01-11 00:00:00 |                1 |              1 |            1 |\n",
            "+----+----------------------------------+----------+-------------+-------------+--------------------+------------------------+-------------------------------------+--------------------------+-----------------------------------+------------------------+---------------------------------------------+----------------------------------+-----------------------------+------------------------------------+---------------------+---------------------+------------------+----------------+--------------+\n",
            "| 10 | 7a9ec3945df4df079486454a9e784a3b | M        | 51-70       |      128315 |                 64 | ['L01FG01', 'L01BC06'] | ['capecitabina', 'bevacizumab']     |                       14 | 02/03/2023                        | 2023-03-02 00:00:00    | 12/01/2023                                  | 12/01/2023                       |                          49 |                                 21 | 2023-02-01 00:00:00 | 2023-03-01 00:00:00 |                6 |              0 |            1 |\n",
            "+----+----------------------------------+----------+-------------+-------------+--------------------+------------------------+-------------------------------------+--------------------------+-----------------------------------+------------------------+---------------------------------------------+----------------------------------+-----------------------------+------------------------------------+---------------------+---------------------+------------------+----------------+--------------+\n",
            "| 11 | 9785bd7d8543cec95d4b1ff5832890f2 | M        | 71-90       |      131240 |                 29 | L02BB04                | Enzalutamide                        |                        7 | 10/01/2023                        | 2023-01-10 00:00:00    | 13/12/2022                                  | 13/12/2022                       |                          28 |                                 28 | 2023-01-09 00:00:00 | 2023-01-09 00:00:00 |                1 |              1 |            1 |\n",
            "+----+----------------------------------+----------+-------------+-------------+--------------------+------------------------+-------------------------------------+--------------------------+-----------------------------------+------------------------+---------------------------------------------+----------------------------------+-----------------------------+------------------------------------+---------------------+---------------------+------------------+----------------+--------------+\n",
            "\n",
            "Percentage of blood tests executed 1 day before therapy execution: 62.939812898418744 % (15205)\n",
            "\n",
            "Percentage of blood tests executed 3 days before therapy execution: 13.97466677705108 % (3376)\n",
            "\n",
            "Percentage of blood tests executed with more than 3 days before therapy execution: 17.402102823081382 % (4204)\n"
          ]
        }
      ]
    },
    {
      "cell_type": "markdown",
      "source": [
        "Looking at data, the days with a quantity of time passed between last blood test and therapy execution higher than 3 we can distiguish 2 cases:\n",
        "\n",
        "1.   Dist_bt_th near to 3 (4 or 5): the blood test was probably done on friday (for monday) and the therapy execution has been postponed for other reasons (not important)\n",
        "2.   Dist_bt_th far from 3 (>>3): data has been wrongly collected. Eg. the update of the date for the last blood test has not been done\n",
        "\n",
        "For these reasons, the data with Dist_bt_th different to 1 and 3 will be deleted since they require to include additional considerations and assumptions."
      ],
      "metadata": {
        "id": "Arklmb6f-yiY"
      }
    },
    {
      "cell_type": "markdown",
      "source": [
        "[PART ADDEDD LATER]"
      ],
      "metadata": {
        "id": "Ewi-iRH_-GyV"
      }
    },
    {
      "cell_type": "code",
      "source": [
        "df['Days'] = df['GiorniTeoriciDaTerapiaPrecedente'] - df['Dist_bt_th']"
      ],
      "metadata": {
        "id": "5CF0KXMI-GlQ"
      },
      "execution_count": 106,
      "outputs": []
    },
    {
      "cell_type": "code",
      "source": [
        "#CODE FOR ADDITIONAL CONSIDERATIONS (NOT TO BE CONSIDERED FOR THIS PROJECT)\n",
        "\n",
        "\"\"\"for index, row in df[:100].iterrows():\n",
        "  if row['Dist_bt_th']>3:\n",
        "    print(row)\"\"\""
      ],
      "metadata": {
        "colab": {
          "base_uri": "https://localhost:8080/",
          "height": 35
        },
        "id": "KWtIqb1_-yTx",
        "outputId": "507b6fc3-98ce-443c-ca18-7e620812229a"
      },
      "execution_count": 107,
      "outputs": [
        {
          "output_type": "execute_result",
          "data": {
            "text/plain": [
              "\"for index, row in df[:100].iterrows():\\n  if row['Dist_bt_th']>3:\\n    print(row)\""
            ],
            "application/vnd.google.colaboratory.intrinsic+json": {
              "type": "string"
            }
          },
          "metadata": {},
          "execution_count": 107
        }
      ]
    },
    {
      "cell_type": "code",
      "source": [
        "if choice == '1':\n",
        "  df = df[df['Dist_bt_th'] == 1]\n",
        "  print(\"1 day considered\")\n",
        "elif choice == '2':\n",
        "  df = df[df['Dist_bt_th'] == 3]\n",
        "  print(\"Only 3 days considered\")\n",
        "else:\n",
        "  df = df[df['Dist_bt_th'] <= 3]\n",
        "  print(\"1-3 days considered\")\n",
        "\n",
        "original_df = df.copy(deep=True)"
      ],
      "metadata": {
        "id": "DFyUduUcC5hO",
        "colab": {
          "base_uri": "https://localhost:8080/"
        },
        "outputId": "f4ef887d-7fed-45b9-c8d4-fd87484c7af9"
      },
      "execution_count": 108,
      "outputs": [
        {
          "output_type": "stream",
          "name": "stdout",
          "text": [
            "Only 3 days considered\n"
          ]
        }
      ]
    },
    {
      "cell_type": "markdown",
      "source": [
        "6.  Management of the attribute \"PrincipiAttivi\" that contains array: this attribute contains an array of active ingredients, but in this format it does not suit with the algorithm operations.\n",
        "\n",
        "\n",
        "> So, to make it usable, it can be created an attribute for each possible value and then setting as True for the rows where that value is present.\n",
        "\n"
      ],
      "metadata": {
        "id": "yi2G9MF94Xet"
      }
    },
    {
      "cell_type": "code",
      "source": [
        "#How many active ingredients are?\n",
        "unique_values_set = set()\n",
        "\n",
        "for idx, arr in enumerate(df['PrincipiAttivi']):\n",
        "    for x in arr:\n",
        "        if (x not in unique_values_set) & (len(str(x)) > 5):\n",
        "            unique_values_set.add(x)\n",
        "\n",
        "print(\"N° of active ingredients: \", len(unique_values_set))\n",
        "print(unique_values_set)\n",
        "\n",
        "df = pd.concat([df, df.apply(check_value_presence, axis=1, result_type='expand')], axis=1)"
      ],
      "metadata": {
        "id": "BXodTPlE4XUS",
        "colab": {
          "base_uri": "https://localhost:8080/"
        },
        "outputId": "f6dea313-ddd1-4d27-e7b1-722d1751fdf2"
      },
      "execution_count": 109,
      "outputs": [
        {
          "output_type": "stream",
          "name": "stdout",
          "text": [
            "N° of active ingredients:  65\n",
            "{'L01BA01', 'L01BC05', 'L04AX04', 'L01FF03', 'L01XX14', 'L01XG01', 'L01CA01', 'L01XA01', 'L01AA06', 'L02BB03', 'L01CA02', 'L01BC07', 'L01FE01', 'L01DC03', 'L01FD01', 'L01FG01', 'L01XX52', 'L01XC24', 'L01EF03', 'L01EK01', 'L01BC02', 'L01FF01', 'L01XA02', 'L01EF01', 'L01FX15', 'L01EE03', 'L01DB03', 'L01EF02', 'L01BA03', 'L01EC02', 'L01FF04', 'L01FC02', 'L01XK01', 'L01CE02', 'L01BC08', 'L01BC01', 'L01FX05', 'L01FA01', 'L01CD02', 'L01XA03', 'L01DB01', 'L01CA04', 'L01FF05', 'L01FF02', 'L01FE02', 'L04AX02', 'L01EH01', 'L01AX04', 'L01AA01', 'L02BG04', 'L01FD03', 'L01AX03', 'L01AA09', 'L01EC03', 'L01DC01', 'L01CB01', 'L01FG02', 'L02AE02', 'L01EX07', 'L01CD01', 'L01BC06', 'L01EX08', 'L01XX27', 'L01EE01', 'L01BA04'}\n"
          ]
        }
      ]
    },
    {
      "cell_type": "markdown",
      "source": [
        "7.  Removal of useless attributes: there are some attributes that are not relevant to be kept for the working operations of the ML algorithm:\n",
        "\n"
      ],
      "metadata": {
        "id": "sstujvh8AQ97"
      }
    },
    {
      "cell_type": "code",
      "source": [
        "list = ['IDPaziente', 'IDTerapia', 'PrincipiAttivi', 'PrincipiAttiviDescrizione', 'NumeroSomministrazione',\n",
        "        'DataSomministrazioneProgrammata', 'DataSomministrazione', 'DataSomministrazioneProgrammataPrecedente',\n",
        "        'DataSomministrazionePrecedente', 'GiornoDaTerapiaPrecedente',\t'GiorniTeoriciDaTerapiaPrecedente',\n",
        "        'PrimoPrelievo', 'UltimoPrelievo', 'NumeroPrelievi']\n",
        "df = attrib_removal(df, list)\n",
        "print(df.columns.tolist())"
      ],
      "metadata": {
        "id": "0vPeysDZBsv4",
        "colab": {
          "base_uri": "https://localhost:8080/"
        },
        "outputId": "094c02e1-b897-4f10-dc04-d1a36fd137ab"
      },
      "execution_count": 110,
      "outputs": [
        {
          "output_type": "stream",
          "name": "stdout",
          "text": [
            "['genere', 'classeeta', 'CodiceSedeTumore', 'Single_btest', 'Dist_bt_th', 'Days', 'L01BA01', 'L01BC05', 'L04AX04', 'L01FF03', 'L01XX14', 'L01XG01', 'L01CA01', 'L01XA01', 'L01AA06', 'L02BB03', 'L01CA02', 'L01BC07', 'L01FE01', 'L01DC03', 'L01FD01', 'L01FG01', 'L01XX52', 'L01XC24', 'L01EF03', 'L01EK01', 'L01BC02', 'L01FF01', 'L01XA02', 'L01EF01', 'L01FX15', 'L01EE03', 'L01DB03', 'L01EF02', 'L01BA03', 'L01EC02', 'L01FF04', 'L01FC02', 'L01XK01', 'L01CE02', 'L01BC08', 'L01BC01', 'L01FX05', 'L01FA01', 'L01CD02', 'L01XA03', 'L01DB01', 'L01CA04', 'L01FF05', 'L01FF02', 'L01FE02', 'L04AX02', 'L01EH01', 'L01AX04', 'L01AA01', 'L02BG04', 'L01FD03', 'L01AX03', 'L01AA09', 'L01EC03', 'L01DC01', 'L01CB01', 'L01FG02', 'L02AE02', 'L01EX07', 'L01CD01', 'L01BC06', 'L01EX08', 'L01XX27', 'L01EE01', 'L01BA04']\n"
          ]
        }
      ]
    },
    {
      "cell_type": "markdown",
      "source": [
        "8.  Encoding of strings: the ML algorithms that is going  to be applied are not able to manage data different from numerical ones, so the strings and boolean must be \"converted into number\":"
      ],
      "metadata": {
        "id": "0nnxGxy1RFp1"
      }
    },
    {
      "cell_type": "code",
      "source": [
        "cols = ['genere', 'classeeta']\n",
        "df, label_enc_map = encoding_attrib(df, cols)\n",
        "\n",
        "print(label_enc_map)"
      ],
      "metadata": {
        "id": "YU9Kszi_RGqV",
        "outputId": "6b00e5ce-d3bf-421f-a33a-18d227d9af0c",
        "colab": {
          "base_uri": "https://localhost:8080/"
        }
      },
      "execution_count": 111,
      "outputs": [
        {
          "output_type": "stream",
          "name": "stdout",
          "text": [
            "{'genere': {'F': 0, 'M': 1}, 'classeeta': {'19-30': 0, '31-50': 1, '51-70': 2, '71-90': 3, 'null': 4}}\n"
          ]
        }
      ]
    },
    {
      "cell_type": "markdown",
      "source": [
        "# Model generation"
      ],
      "metadata": {
        "id": "ZJNfHswvBM3D"
      }
    },
    {
      "cell_type": "markdown",
      "source": [
        "This section will be focused on the concrete creation of the classifier."
      ],
      "metadata": {
        "id": "dPho0aguBNws"
      }
    },
    {
      "cell_type": "markdown",
      "source": [
        "\n",
        "The first step for the model creation is the split of the dataset with its classes, by keeping the index as a \"primary key\" to trace the relation between the 2 datframes.\n",
        "\n",
        "After that, both of the dataframes are divided into:\n",
        "\n",
        "*   Training set (70%)\n",
        "*   Test set (20%)\n",
        "*   Validation set (10%)"
      ],
      "metadata": {
        "id": "UHsfbhjXYX5_"
      }
    },
    {
      "cell_type": "code",
      "source": [
        "print(df.columns.tolist())"
      ],
      "metadata": {
        "colab": {
          "base_uri": "https://localhost:8080/"
        },
        "id": "_P7Q6fgHD13c",
        "outputId": "744a660b-eeea-45f2-e2d7-e892698dc1a5"
      },
      "execution_count": 112,
      "outputs": [
        {
          "output_type": "stream",
          "name": "stdout",
          "text": [
            "['genere', 'classeeta', 'CodiceSedeTumore', 'Single_btest', 'Dist_bt_th', 'Days', 'L01BA01', 'L01BC05', 'L04AX04', 'L01FF03', 'L01XX14', 'L01XG01', 'L01CA01', 'L01XA01', 'L01AA06', 'L02BB03', 'L01CA02', 'L01BC07', 'L01FE01', 'L01DC03', 'L01FD01', 'L01FG01', 'L01XX52', 'L01XC24', 'L01EF03', 'L01EK01', 'L01BC02', 'L01FF01', 'L01XA02', 'L01EF01', 'L01FX15', 'L01EE03', 'L01DB03', 'L01EF02', 'L01BA03', 'L01EC02', 'L01FF04', 'L01FC02', 'L01XK01', 'L01CE02', 'L01BC08', 'L01BC01', 'L01FX05', 'L01FA01', 'L01CD02', 'L01XA03', 'L01DB01', 'L01CA04', 'L01FF05', 'L01FF02', 'L01FE02', 'L04AX02', 'L01EH01', 'L01AX04', 'L01AA01', 'L02BG04', 'L01FD03', 'L01AX03', 'L01AA09', 'L01EC03', 'L01DC01', 'L01CB01', 'L01FG02', 'L02AE02', 'L01EX07', 'L01CD01', 'L01BC06', 'L01EX08', 'L01XX27', 'L01EE01', 'L01BA04']\n"
          ]
        }
      ]
    },
    {
      "cell_type": "markdown",
      "source": [],
      "metadata": {
        "id": "JJrIYZmZ9jT4"
      }
    },
    {
      "cell_type": "code",
      "source": [
        "th_classes = df['Single_btest'].copy()\n",
        "#th_classes['idx'] = df.index\n",
        "df = df.drop(['Single_btest'], axis=1)\n",
        "#df['idx'] = df.index\n",
        "\n",
        "cutpoint1, cutpoint2 = 0.7, 0.8\n",
        "trainset = df[:int(cutpoint1*len(df))]\n",
        "train_cl = th_classes[:int(cutpoint1*len(df))]\n",
        "valset = df[int(cutpoint1*len(df)):int(cutpoint2*len(df))]\n",
        "val_cl = th_classes[int(cutpoint1*len(df)):int(cutpoint2*len(df))]\n",
        "testset = df[int(cutpoint2*len(df)):]\n",
        "test_cl = th_classes[int(cutpoint2*len(df)):]\n",
        "print('Total: {} splitted in Train: {}, Val: {} and Test: {}'.format(len(df), len(trainset), len(valset), len(testset)))"
      ],
      "metadata": {
        "id": "yfomYAl1BNoR",
        "colab": {
          "base_uri": "https://localhost:8080/"
        },
        "outputId": "da585b46-92c6-44c1-ab88-d80700373e6c"
      },
      "execution_count": 113,
      "outputs": [
        {
          "output_type": "stream",
          "name": "stdout",
          "text": [
            "Total: 3376 splitted in Train: 2363, Val: 337 and Test: 676\n"
          ]
        }
      ]
    },
    {
      "cell_type": "markdown",
      "source": [
        "Now it's the turn for the creation of the classifier.\n",
        "\n",
        "There are many possibilities and here we are going to try the **Decision tree classification** wit the following parameters:\n",
        "*   min_samples_leaf: 7. It appears to be the best minimum dimension for the leaves of the decision tree"
      ],
      "metadata": {
        "id": "1HW76zw3HhhO"
      }
    },
    {
      "cell_type": "code",
      "source": [
        "clf = DecisionTreeClassifier(min_samples_leaf=7)\n",
        "\n",
        "#max_depth=10 --> reduces the performance"
      ],
      "metadata": {
        "id": "C991Jun5HhZF"
      },
      "execution_count": 114,
      "outputs": []
    },
    {
      "cell_type": "code",
      "source": [
        "clf.fit(trainset, train_cl)"
      ],
      "metadata": {
        "colab": {
          "base_uri": "https://localhost:8080/",
          "height": 74
        },
        "id": "IF0QPioEH2SF",
        "outputId": "1a696011-0abc-4aef-d044-2559631af1ae"
      },
      "execution_count": 115,
      "outputs": [
        {
          "output_type": "execute_result",
          "data": {
            "text/plain": [
              "DecisionTreeClassifier(min_samples_leaf=7)"
            ],
            "text/html": [
              "<style>#sk-container-id-4 {color: black;background-color: white;}#sk-container-id-4 pre{padding: 0;}#sk-container-id-4 div.sk-toggleable {background-color: white;}#sk-container-id-4 label.sk-toggleable__label {cursor: pointer;display: block;width: 100%;margin-bottom: 0;padding: 0.3em;box-sizing: border-box;text-align: center;}#sk-container-id-4 label.sk-toggleable__label-arrow:before {content: \"▸\";float: left;margin-right: 0.25em;color: #696969;}#sk-container-id-4 label.sk-toggleable__label-arrow:hover:before {color: black;}#sk-container-id-4 div.sk-estimator:hover label.sk-toggleable__label-arrow:before {color: black;}#sk-container-id-4 div.sk-toggleable__content {max-height: 0;max-width: 0;overflow: hidden;text-align: left;background-color: #f0f8ff;}#sk-container-id-4 div.sk-toggleable__content pre {margin: 0.2em;color: black;border-radius: 0.25em;background-color: #f0f8ff;}#sk-container-id-4 input.sk-toggleable__control:checked~div.sk-toggleable__content {max-height: 200px;max-width: 100%;overflow: auto;}#sk-container-id-4 input.sk-toggleable__control:checked~label.sk-toggleable__label-arrow:before {content: \"▾\";}#sk-container-id-4 div.sk-estimator input.sk-toggleable__control:checked~label.sk-toggleable__label {background-color: #d4ebff;}#sk-container-id-4 div.sk-label input.sk-toggleable__control:checked~label.sk-toggleable__label {background-color: #d4ebff;}#sk-container-id-4 input.sk-hidden--visually {border: 0;clip: rect(1px 1px 1px 1px);clip: rect(1px, 1px, 1px, 1px);height: 1px;margin: -1px;overflow: hidden;padding: 0;position: absolute;width: 1px;}#sk-container-id-4 div.sk-estimator {font-family: monospace;background-color: #f0f8ff;border: 1px dotted black;border-radius: 0.25em;box-sizing: border-box;margin-bottom: 0.5em;}#sk-container-id-4 div.sk-estimator:hover {background-color: #d4ebff;}#sk-container-id-4 div.sk-parallel-item::after {content: \"\";width: 100%;border-bottom: 1px solid gray;flex-grow: 1;}#sk-container-id-4 div.sk-label:hover label.sk-toggleable__label {background-color: #d4ebff;}#sk-container-id-4 div.sk-serial::before {content: \"\";position: absolute;border-left: 1px solid gray;box-sizing: border-box;top: 0;bottom: 0;left: 50%;z-index: 0;}#sk-container-id-4 div.sk-serial {display: flex;flex-direction: column;align-items: center;background-color: white;padding-right: 0.2em;padding-left: 0.2em;position: relative;}#sk-container-id-4 div.sk-item {position: relative;z-index: 1;}#sk-container-id-4 div.sk-parallel {display: flex;align-items: stretch;justify-content: center;background-color: white;position: relative;}#sk-container-id-4 div.sk-item::before, #sk-container-id-4 div.sk-parallel-item::before {content: \"\";position: absolute;border-left: 1px solid gray;box-sizing: border-box;top: 0;bottom: 0;left: 50%;z-index: -1;}#sk-container-id-4 div.sk-parallel-item {display: flex;flex-direction: column;z-index: 1;position: relative;background-color: white;}#sk-container-id-4 div.sk-parallel-item:first-child::after {align-self: flex-end;width: 50%;}#sk-container-id-4 div.sk-parallel-item:last-child::after {align-self: flex-start;width: 50%;}#sk-container-id-4 div.sk-parallel-item:only-child::after {width: 0;}#sk-container-id-4 div.sk-dashed-wrapped {border: 1px dashed gray;margin: 0 0.4em 0.5em 0.4em;box-sizing: border-box;padding-bottom: 0.4em;background-color: white;}#sk-container-id-4 div.sk-label label {font-family: monospace;font-weight: bold;display: inline-block;line-height: 1.2em;}#sk-container-id-4 div.sk-label-container {text-align: center;}#sk-container-id-4 div.sk-container {/* jupyter's `normalize.less` sets `[hidden] { display: none; }` but bootstrap.min.css set `[hidden] { display: none !important; }` so we also need the `!important` here to be able to override the default hidden behavior on the sphinx rendered scikit-learn.org. See: https://github.com/scikit-learn/scikit-learn/issues/21755 */display: inline-block !important;position: relative;}#sk-container-id-4 div.sk-text-repr-fallback {display: none;}</style><div id=\"sk-container-id-4\" class=\"sk-top-container\"><div class=\"sk-text-repr-fallback\"><pre>DecisionTreeClassifier(min_samples_leaf=7)</pre><b>In a Jupyter environment, please rerun this cell to show the HTML representation or trust the notebook. <br />On GitHub, the HTML representation is unable to render, please try loading this page with nbviewer.org.</b></div><div class=\"sk-container\" hidden><div class=\"sk-item\"><div class=\"sk-estimator sk-toggleable\"><input class=\"sk-toggleable__control sk-hidden--visually\" id=\"sk-estimator-id-4\" type=\"checkbox\" checked><label for=\"sk-estimator-id-4\" class=\"sk-toggleable__label sk-toggleable__label-arrow\">DecisionTreeClassifier</label><div class=\"sk-toggleable__content\"><pre>DecisionTreeClassifier(min_samples_leaf=7)</pre></div></div></div></div></div>"
            ]
          },
          "metadata": {},
          "execution_count": 115
        }
      ]
    },
    {
      "cell_type": "markdown",
      "source": [
        "It is useful to observe the rules generated by the decision tree:"
      ],
      "metadata": {
        "id": "X2vFglWCaDFA"
      }
    },
    {
      "cell_type": "code",
      "source": [
        "from sklearn.tree import export_text\n",
        "\n",
        "tree_rules_text = export_text(clf, feature_names=df.columns.tolist())\n",
        "print(\"Decision Tree Rules:\\n\", tree_rules_text)"
      ],
      "metadata": {
        "id": "OwL-JKK5aC7Z",
        "outputId": "27d30ba1-30f4-4513-a0c2-98ea5e20678f",
        "colab": {
          "base_uri": "https://localhost:8080/"
        }
      },
      "execution_count": 116,
      "outputs": [
        {
          "output_type": "stream",
          "name": "stdout",
          "text": [
            "Decision Tree Rules:\n",
            " |--- Days <= 26.50\n",
            "|   |--- L01XX52 <= 0.50\n",
            "|   |   |--- Days <= 7.00\n",
            "|   |   |   |--- CodiceSedeTumore <= 52.50\n",
            "|   |   |   |   |--- CodiceSedeTumore <= 42.50\n",
            "|   |   |   |   |   |--- L01DC03 <= 0.50\n",
            "|   |   |   |   |   |   |--- L01BC05 <= 0.50\n",
            "|   |   |   |   |   |   |   |--- L01XA02 <= 0.50\n",
            "|   |   |   |   |   |   |   |   |--- classeeta <= 1.50\n",
            "|   |   |   |   |   |   |   |   |   |--- CodiceSedeTumore <= 22.50\n",
            "|   |   |   |   |   |   |   |   |   |   |--- class: 0\n",
            "|   |   |   |   |   |   |   |   |   |--- CodiceSedeTumore >  22.50\n",
            "|   |   |   |   |   |   |   |   |   |   |--- class: 1\n",
            "|   |   |   |   |   |   |   |   |--- classeeta >  1.50\n",
            "|   |   |   |   |   |   |   |   |   |--- L01FD01 <= 0.50\n",
            "|   |   |   |   |   |   |   |   |   |   |--- L01CD01 <= 0.50\n",
            "|   |   |   |   |   |   |   |   |   |   |   |--- truncated branch of depth 2\n",
            "|   |   |   |   |   |   |   |   |   |   |--- L01CD01 >  0.50\n",
            "|   |   |   |   |   |   |   |   |   |   |   |--- truncated branch of depth 3\n",
            "|   |   |   |   |   |   |   |   |   |--- L01FD01 >  0.50\n",
            "|   |   |   |   |   |   |   |   |   |   |--- class: 1\n",
            "|   |   |   |   |   |   |   |--- L01XA02 >  0.50\n",
            "|   |   |   |   |   |   |   |   |--- classeeta <= 1.50\n",
            "|   |   |   |   |   |   |   |   |   |--- class: 1\n",
            "|   |   |   |   |   |   |   |   |--- classeeta >  1.50\n",
            "|   |   |   |   |   |   |   |   |   |--- CodiceSedeTumore <= 12.00\n",
            "|   |   |   |   |   |   |   |   |   |   |--- class: 1\n",
            "|   |   |   |   |   |   |   |   |   |--- CodiceSedeTumore >  12.00\n",
            "|   |   |   |   |   |   |   |   |   |   |--- classeeta <= 2.50\n",
            "|   |   |   |   |   |   |   |   |   |   |   |--- class: 1\n",
            "|   |   |   |   |   |   |   |   |   |   |--- classeeta >  2.50\n",
            "|   |   |   |   |   |   |   |   |   |   |   |--- class: 1\n",
            "|   |   |   |   |   |   |--- L01BC05 >  0.50\n",
            "|   |   |   |   |   |   |   |--- classeeta <= 2.50\n",
            "|   |   |   |   |   |   |   |   |--- class: 1\n",
            "|   |   |   |   |   |   |   |--- classeeta >  2.50\n",
            "|   |   |   |   |   |   |   |   |--- class: 1\n",
            "|   |   |   |   |   |--- L01DC03 >  0.50\n",
            "|   |   |   |   |   |   |--- class: 1\n",
            "|   |   |   |   |--- CodiceSedeTumore >  42.50\n",
            "|   |   |   |   |   |--- class: 0\n",
            "|   |   |   |--- CodiceSedeTumore >  52.50\n",
            "|   |   |   |   |--- genere <= 0.50\n",
            "|   |   |   |   |   |--- class: 1\n",
            "|   |   |   |   |--- genere >  0.50\n",
            "|   |   |   |   |   |--- CodiceSedeTumore <= 62.00\n",
            "|   |   |   |   |   |   |--- class: 1\n",
            "|   |   |   |   |   |--- CodiceSedeTumore >  62.00\n",
            "|   |   |   |   |   |   |--- CodiceSedeTumore <= 92.00\n",
            "|   |   |   |   |   |   |   |--- class: 1\n",
            "|   |   |   |   |   |   |--- CodiceSedeTumore >  92.00\n",
            "|   |   |   |   |   |   |   |--- CodiceSedeTumore <= 123.00\n",
            "|   |   |   |   |   |   |   |   |--- class: 1\n",
            "|   |   |   |   |   |   |   |--- CodiceSedeTumore >  123.00\n",
            "|   |   |   |   |   |   |   |   |--- class: 1\n",
            "|   |   |--- Days >  7.00\n",
            "|   |   |   |--- L01CD01 <= 0.50\n",
            "|   |   |   |   |--- L01FF01 <= 0.50\n",
            "|   |   |   |   |   |--- L01CB01 <= 0.50\n",
            "|   |   |   |   |   |   |--- L01FA01 <= 0.50\n",
            "|   |   |   |   |   |   |   |--- L01BC07 <= 0.50\n",
            "|   |   |   |   |   |   |   |   |--- L01FF02 <= 0.50\n",
            "|   |   |   |   |   |   |   |   |   |--- CodiceSedeTumore <= 49.50\n",
            "|   |   |   |   |   |   |   |   |   |   |--- L01FF03 <= 0.50\n",
            "|   |   |   |   |   |   |   |   |   |   |   |--- truncated branch of depth 18\n",
            "|   |   |   |   |   |   |   |   |   |   |--- L01FF03 >  0.50\n",
            "|   |   |   |   |   |   |   |   |   |   |   |--- truncated branch of depth 2\n",
            "|   |   |   |   |   |   |   |   |   |--- CodiceSedeTumore >  49.50\n",
            "|   |   |   |   |   |   |   |   |   |   |--- Days <= 19.50\n",
            "|   |   |   |   |   |   |   |   |   |   |   |--- truncated branch of depth 11\n",
            "|   |   |   |   |   |   |   |   |   |   |--- Days >  19.50\n",
            "|   |   |   |   |   |   |   |   |   |   |   |--- truncated branch of depth 2\n",
            "|   |   |   |   |   |   |   |   |--- L01FF02 >  0.50\n",
            "|   |   |   |   |   |   |   |   |   |--- genere <= 0.50\n",
            "|   |   |   |   |   |   |   |   |   |   |--- L01BA04 <= 0.50\n",
            "|   |   |   |   |   |   |   |   |   |   |   |--- truncated branch of depth 4\n",
            "|   |   |   |   |   |   |   |   |   |   |--- L01BA04 >  0.50\n",
            "|   |   |   |   |   |   |   |   |   |   |   |--- class: 1\n",
            "|   |   |   |   |   |   |   |   |   |--- genere >  0.50\n",
            "|   |   |   |   |   |   |   |   |   |   |--- L01XA02 <= 0.50\n",
            "|   |   |   |   |   |   |   |   |   |   |   |--- truncated branch of depth 5\n",
            "|   |   |   |   |   |   |   |   |   |   |--- L01XA02 >  0.50\n",
            "|   |   |   |   |   |   |   |   |   |   |   |--- class: 1\n",
            "|   |   |   |   |   |   |   |--- L01BC07 >  0.50\n",
            "|   |   |   |   |   |   |   |   |--- Days <= 17.50\n",
            "|   |   |   |   |   |   |   |   |   |--- genere <= 0.50\n",
            "|   |   |   |   |   |   |   |   |   |   |--- class: 0\n",
            "|   |   |   |   |   |   |   |   |   |--- genere >  0.50\n",
            "|   |   |   |   |   |   |   |   |   |   |--- class: 1\n",
            "|   |   |   |   |   |   |   |   |--- Days >  17.50\n",
            "|   |   |   |   |   |   |   |   |   |--- class: 0\n",
            "|   |   |   |   |   |   |--- L01FA01 >  0.50\n",
            "|   |   |   |   |   |   |   |--- genere <= 0.50\n",
            "|   |   |   |   |   |   |   |   |--- class: 0\n",
            "|   |   |   |   |   |   |   |--- genere >  0.50\n",
            "|   |   |   |   |   |   |   |   |--- classeeta <= 2.50\n",
            "|   |   |   |   |   |   |   |   |   |--- class: 0\n",
            "|   |   |   |   |   |   |   |   |--- classeeta >  2.50\n",
            "|   |   |   |   |   |   |   |   |   |--- class: 0\n",
            "|   |   |   |   |   |--- L01CB01 >  0.50\n",
            "|   |   |   |   |   |   |--- L01XA02 <= 0.50\n",
            "|   |   |   |   |   |   |   |--- class: 0\n",
            "|   |   |   |   |   |   |--- L01XA02 >  0.50\n",
            "|   |   |   |   |   |   |   |--- genere <= 0.50\n",
            "|   |   |   |   |   |   |   |   |--- class: 1\n",
            "|   |   |   |   |   |   |   |--- genere >  0.50\n",
            "|   |   |   |   |   |   |   |   |--- class: 0\n",
            "|   |   |   |   |--- L01FF01 >  0.50\n",
            "|   |   |   |   |   |--- Days <= 18.00\n",
            "|   |   |   |   |   |   |--- class: 1\n",
            "|   |   |   |   |   |--- Days >  18.00\n",
            "|   |   |   |   |   |   |--- classeeta <= 2.50\n",
            "|   |   |   |   |   |   |   |--- genere <= 0.50\n",
            "|   |   |   |   |   |   |   |   |--- class: 1\n",
            "|   |   |   |   |   |   |   |--- genere >  0.50\n",
            "|   |   |   |   |   |   |   |   |--- CodiceSedeTumore <= 25.50\n",
            "|   |   |   |   |   |   |   |   |   |--- class: 1\n",
            "|   |   |   |   |   |   |   |   |--- CodiceSedeTumore >  25.50\n",
            "|   |   |   |   |   |   |   |   |   |--- class: 1\n",
            "|   |   |   |   |   |   |--- classeeta >  2.50\n",
            "|   |   |   |   |   |   |   |--- genere <= 0.50\n",
            "|   |   |   |   |   |   |   |   |--- class: 1\n",
            "|   |   |   |   |   |   |   |--- genere >  0.50\n",
            "|   |   |   |   |   |   |   |   |--- class: 1\n",
            "|   |   |   |--- L01CD01 >  0.50\n",
            "|   |   |   |   |--- CodiceSedeTumore <= 105.50\n",
            "|   |   |   |   |   |--- classeeta <= 2.50\n",
            "|   |   |   |   |   |   |--- class: 0\n",
            "|   |   |   |   |   |--- classeeta >  2.50\n",
            "|   |   |   |   |   |   |--- class: 0\n",
            "|   |   |   |   |--- CodiceSedeTumore >  105.50\n",
            "|   |   |   |   |   |--- class: 0\n",
            "|   |--- L01XX52 >  0.50\n",
            "|   |   |--- Days <= 17.50\n",
            "|   |   |   |--- class: 0\n",
            "|   |   |--- Days >  17.50\n",
            "|   |   |   |--- class: 0\n",
            "|--- Days >  26.50\n",
            "|   |--- Days <= 39.50\n",
            "|   |   |--- L01FF02 <= 0.50\n",
            "|   |   |   |--- L01BC02 <= 0.50\n",
            "|   |   |   |   |--- CodiceSedeTumore <= 28.50\n",
            "|   |   |   |   |   |--- CodiceSedeTumore <= 25.50\n",
            "|   |   |   |   |   |   |--- L01CD01 <= 0.50\n",
            "|   |   |   |   |   |   |   |--- class: 0\n",
            "|   |   |   |   |   |   |--- L01CD01 >  0.50\n",
            "|   |   |   |   |   |   |   |--- class: 0\n",
            "|   |   |   |   |   |--- CodiceSedeTumore >  25.50\n",
            "|   |   |   |   |   |   |--- class: 0\n",
            "|   |   |   |   |--- CodiceSedeTumore >  28.50\n",
            "|   |   |   |   |   |--- classeeta <= 2.50\n",
            "|   |   |   |   |   |   |--- class: 0\n",
            "|   |   |   |   |   |--- classeeta >  2.50\n",
            "|   |   |   |   |   |   |--- class: 0\n",
            "|   |   |   |--- L01BC02 >  0.50\n",
            "|   |   |   |   |--- class: 0\n",
            "|   |   |--- L01FF02 >  0.50\n",
            "|   |   |   |--- genere <= 0.50\n",
            "|   |   |   |   |--- classeeta <= 2.50\n",
            "|   |   |   |   |   |--- class: 0\n",
            "|   |   |   |   |--- classeeta >  2.50\n",
            "|   |   |   |   |   |--- class: 0\n",
            "|   |   |   |--- genere >  0.50\n",
            "|   |   |   |   |--- class: 0\n",
            "|   |--- Days >  39.50\n",
            "|   |   |--- Days <= 53.50\n",
            "|   |   |   |--- CodiceSedeTumore <= 46.50\n",
            "|   |   |   |   |--- CodiceSedeTumore <= 29.50\n",
            "|   |   |   |   |   |--- class: 0\n",
            "|   |   |   |   |--- CodiceSedeTumore >  29.50\n",
            "|   |   |   |   |   |--- class: 0\n",
            "|   |   |   |--- CodiceSedeTumore >  46.50\n",
            "|   |   |   |   |--- class: 0\n",
            "|   |   |--- Days >  53.50\n",
            "|   |   |   |--- classeeta <= 1.50\n",
            "|   |   |   |   |--- CodiceSedeTumore <= 35.00\n",
            "|   |   |   |   |   |--- class: 0\n",
            "|   |   |   |   |--- CodiceSedeTumore >  35.00\n",
            "|   |   |   |   |   |--- class: 0\n",
            "|   |   |   |--- classeeta >  1.50\n",
            "|   |   |   |   |--- class: 0\n",
            "\n"
          ]
        }
      ]
    },
    {
      "cell_type": "markdown",
      "source": [
        "Validation of the classifier"
      ],
      "metadata": {
        "id": "KxY6Uyej6gYM"
      }
    },
    {
      "cell_type": "code",
      "source": [
        "val_score = clf.score(valset, val_cl)\n",
        "\n",
        "print('Validation accuracy: {:.3f}'.format(val_score))"
      ],
      "metadata": {
        "id": "_1Q4CANa6gQ4",
        "outputId": "df2a4919-b4bf-4fbd-f0f2-2c6019387851",
        "colab": {
          "base_uri": "https://localhost:8080/"
        }
      },
      "execution_count": 117,
      "outputs": [
        {
          "output_type": "stream",
          "name": "stdout",
          "text": [
            "Validation accuracy: 0.843\n"
          ]
        }
      ]
    },
    {
      "cell_type": "markdown",
      "source": [
        "Test phase:"
      ],
      "metadata": {
        "id": "fXcHjyO97toN"
      }
    },
    {
      "cell_type": "code",
      "source": [
        "pred = clf.predict(testset)\n",
        "#print('Predicted {} samples: {}'.format(len(pred), pred))\n",
        "#print('GT {} samples: {}'.format(len(test_cl), test_cl))\n",
        "acc_score = accuracy_score(test_cl, pred)\n",
        "\n",
        "print('\\n Final Accuracy: {:.3f} \\n'.format(acc_score))"
      ],
      "metadata": {
        "id": "lQi8fqyi7te2",
        "outputId": "8df224c8-f135-4b80-b2d0-285f6529afbf",
        "colab": {
          "base_uri": "https://localhost:8080/"
        }
      },
      "execution_count": 118,
      "outputs": [
        {
          "output_type": "stream",
          "name": "stdout",
          "text": [
            "\n",
            " Final Accuracy: 0.788 \n",
            "\n"
          ]
        }
      ]
    },
    {
      "cell_type": "code",
      "source": [
        "best_score = 0\n",
        "\n",
        "if acc_score > best_score:\n",
        "  best_alg = clf\n",
        "  best_score =  acc_score\n",
        "  best_pred = pred"
      ],
      "metadata": {
        "id": "_8skJchL9i4C"
      },
      "execution_count": 119,
      "outputs": []
    },
    {
      "cell_type": "markdown",
      "source": [
        "###Further classification\n",
        "\n",
        "Now it's the turn for the creation of the classifier. There are many possibilities and here we are going to try some new others:\n",
        "\n",
        "\n",
        "\n",
        "1.   Support Vector Machines with the following parameters (considering this [source](https://vitalflux.com/svm-rbf-kernel-parameters-code-sample/#:~:text=The%20gamma%20parameter%20defines%20how,high%20values%20meaning%20'close'.)):\n",
        ":\n",
        "*   kernel = rbf: the dimensionality of data is low\n",
        "*   C = 20: it aims to classify all training examples correctly (instead of simpler decision functions)\n",
        "*   gamma = 0.1: to guarantee sufficient influence of training set without bringing to over-fitting\n",
        "\n",
        "\n",
        "---\n",
        "\n",
        "\n",
        "2.   Random forest with the following parameters\n",
        "(considering this [source](https://scikit-learn.org/stable/modules/generated/sklearn.ensemble.RandomForestClassifier.html))\n",
        "*   n_estimators: 200 to improve sufficiently the performances without bringing overfitting\n",
        "*    \n",
        ": 4 has been verified to be the lest dimension of the data to be considered a node as a leaf\n",
        "*   (removed) min_samples_split: 10 has been verified to be the lest dimension of the data to be split\n",
        "\n",
        "\n",
        "---\n",
        "3.   AdaBoost with the following parameters (considering this [source](https://scikit-learn.org/stable/modules/generated/sklearn.ensemble.AdaBoostClassifier.html))\n",
        "*   n_estimators: 100 is the best trade off between simplification and over-fitting\n",
        "*   learning_rate: 1 appears to be the right contribution of each classifier\n",
        "\n",
        "\n",
        "\n",
        "\n",
        "\n"
      ],
      "metadata": {
        "id": "USWO5RfTczt5"
      }
    },
    {
      "cell_type": "code",
      "source": [
        "clf_list = [\n",
        "    svm.SVC(gamma=0.1, C=20, kernel='rbf'),\n",
        "    RandomForestClassifier(n_estimators=200, min_samples_leaf=4),\n",
        "    AdaBoostClassifier(n_estimators=100, learning_rate=0.5)\n",
        "]\n",
        "\n",
        "for x in clf_list:\n",
        "  x.fit(trainset, train_cl)\n",
        "  print('Classifier: {}'.format(x))\n",
        "\n",
        "  val_score = x.score(valset, val_cl)\n",
        "  print('Validation accuracy: {:.3f}'.format(val_score))\n",
        "\n",
        "  pred = x.predict(testset)\n",
        "  acc_score = accuracy_score(test_cl, pred)\n",
        "  print('\\nFinal Accuracy: {:.3f} \\n'.format(acc_score))\n",
        "\n",
        "  if acc_score > best_score:\n",
        "    best_alg = x\n",
        "    best_score =  acc_score\n",
        "    best_pred = pred\n",
        "\n",
        "print(\"{} is the the best classifier with the score of {}\".format(best_alg, best_score))"
      ],
      "metadata": {
        "id": "jfXf9oiieD9Z",
        "outputId": "c9e4288c-cee0-4207-d115-8e3bf2e2857b",
        "colab": {
          "base_uri": "https://localhost:8080/"
        }
      },
      "execution_count": 120,
      "outputs": [
        {
          "output_type": "stream",
          "name": "stdout",
          "text": [
            "Classifier: SVC(C=20, gamma=0.1)\n",
            "Validation accuracy: 0.831\n",
            "\n",
            "Final Accuracy: 0.797 \n",
            "\n",
            "Classifier: RandomForestClassifier(min_samples_leaf=4, n_estimators=200)\n",
            "Validation accuracy: 0.843\n",
            "\n",
            "Final Accuracy: 0.781 \n",
            "\n",
            "Classifier: AdaBoostClassifier(learning_rate=0.5, n_estimators=100)\n",
            "Validation accuracy: 0.855\n",
            "\n",
            "Final Accuracy: 0.783 \n",
            "\n",
            "SVC(C=20, gamma=0.1) is the the best classifier with the score of 0.7973372781065089\n"
          ]
        }
      ]
    },
    {
      "cell_type": "markdown",
      "source": [
        "### Confusion matrix\n",
        "\n",
        "The confusion matrix is a simple way to evaluate the accuracy of a classification and to further understand the performance on the trained model by defining how many values have been classified as:\n",
        "*   True positive (TP)\n",
        "*   False positive (FP)\n",
        "*   True negative (TN)\n",
        "*   False negative (FN)"
      ],
      "metadata": {
        "id": "dsI3is2J3nYu"
      }
    },
    {
      "cell_type": "code",
      "source": [
        "matrix = confusion_matrix(test_cl, pred)\n",
        "print(\"TP: {}\\nFP: {}\\nTN: {}\\nFN: {}\\n\".format(matrix[0][0], matrix[1][0], matrix[1][1], matrix[0][1]))\n",
        "print(matrix)"
      ],
      "metadata": {
        "colab": {
          "base_uri": "https://localhost:8080/"
        },
        "id": "wqwgw50w3nR5",
        "outputId": "4697b36c-32f4-4e5c-d2eb-e2a0c28ba1fb"
      },
      "execution_count": 121,
      "outputs": [
        {
          "output_type": "stream",
          "name": "stdout",
          "text": [
            "TP: 273\n",
            "FP: 17\n",
            "TN: 256\n",
            "FN: 130\n",
            "\n",
            "[[273 130]\n",
            " [ 17 256]]\n"
          ]
        }
      ]
    },
    {
      "cell_type": "markdown",
      "source": [
        "# Conclusion: compare the results\n",
        "\n",
        "Now is fundamental to undertsand \"**if the analysis done have brought benefits at the initial condition**\".\n",
        "\n",
        "So, we are going to compare the initial percentage of failures with the failures of classification with the best classifiers arose in this work."
      ],
      "metadata": {
        "id": "FVuKQs630u37"
      }
    },
    {
      "cell_type": "code",
      "source": [
        "original_failed = not_ready_therapies(original_df)\n",
        "qty_original_correct = len(original_df) - len(original_failed)\n",
        "ptg_init = qty_original_correct/len(original_df)*100\n",
        "print(\"Percentage of correct classified in the initial condition (just after deleting noise, missing values and duplicated values):\\n{}%\".format(ptg_init))\n",
        "\n",
        "print(\"Percentage of correct classification of the best ML algorithm ({}): \\n{}%\".format(best_alg, best_score*100))"
      ],
      "metadata": {
        "colab": {
          "base_uri": "https://localhost:8080/"
        },
        "id": "YEgrvwES0uva",
        "outputId": "c78f4d90-9871-45dc-8193-ff83b8ba56ac"
      },
      "execution_count": 122,
      "outputs": [
        {
          "output_type": "stream",
          "name": "stdout",
          "text": [
            "Percentage of correct classified in the initial condition (just after deleting noise, missing values and duplicated values):\n",
            "44.52014218009479%\n",
            "Percentage of correct classification of the best ML algorithm (SVC(C=20, gamma=0.1)): \n",
            "79.73372781065089%\n"
          ]
        }
      ]
    }
  ]
}